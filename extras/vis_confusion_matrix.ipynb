{
 "cells": [
  {
   "cell_type": "code",
   "execution_count": 1,
   "metadata": {},
   "outputs": [],
   "source": [
    "import os\n",
    "import sys\n",
    "\n",
    "import sklearn\n",
    "\n",
    "import numpy as np\n",
    "import pandas as pd\n",
    "\n",
    "import seaborn as sns"
   ]
  },
  {
   "cell_type": "code",
   "execution_count": 2,
   "metadata": {},
   "outputs": [
    {
     "data": {
      "text/html": [
       "<script>requirejs.config({paths: { 'plotly': ['https://cdn.plot.ly/plotly-latest.min']},});if(!window.Plotly) {{require(['plotly'],function(plotly) {window.Plotly=plotly;});}}</script>"
      ],
      "text/vnd.plotly.v1+html": [
       "<script>requirejs.config({paths: { 'plotly': ['https://cdn.plot.ly/plotly-latest.min']},});if(!window.Plotly) {{require(['plotly'],function(plotly) {window.Plotly=plotly;});}}</script>"
      ]
     },
     "metadata": {},
     "output_type": "display_data"
    }
   ],
   "source": [
    "import plotly\n",
    "from plotly import graph_objs as go\n",
    "from plotly.offline import init_notebook_mode, iplot\n",
    "\n",
    "init_notebook_mode(connected=True)"
   ]
  },
  {
   "cell_type": "code",
   "execution_count": 3,
   "metadata": {},
   "outputs": [],
   "source": [
    "from skimage import io"
   ]
  },
  {
   "cell_type": "code",
   "execution_count": 4,
   "metadata": {},
   "outputs": [],
   "source": [
    "%matplotlib inline"
   ]
  },
  {
   "cell_type": "code",
   "execution_count": 5,
   "metadata": {},
   "outputs": [],
   "source": [
    "__cwd__ = os.getcwd()"
   ]
  },
  {
   "cell_type": "code",
   "execution_count": 6,
   "metadata": {},
   "outputs": [
    {
     "name": "stdout",
     "output_type": "stream",
     "text": [
      "Found 2000 images belonging to 10 classes.\n",
      "Found 2000 images belonging to 26 classes.\n",
      "Found 2000 images belonging to 26 classes.\n"
     ]
    }
   ],
   "source": [
    "# create datasets\n",
    "from intect.dataset import Dataset\n",
    "\n",
    "NUMBER_DATA_PATH = 'dataset/num-dataset/augmented_images/'\n",
    "LC_DATA_PATH = 'dataset/lowercase-dataset/augmented_images/'\n",
    "UC_DATA_PATH = 'dataset/uppercase-dataset/augmented_images/'\n",
    "\n",
    "\n",
    "num_dataset = Dataset.from_directory(directory=NUMBER_DATA_PATH)\n",
    "lc_dataset = Dataset.from_directory(directory=LC_DATA_PATH)\n",
    "uc_dataset = Dataset.from_directory(directory=UC_DATA_PATH)"
   ]
  },
  {
   "cell_type": "code",
   "execution_count": 7,
   "metadata": {
    "scrolled": false
   },
   "outputs": [
    {
     "name": "stdout",
     "output_type": "stream",
     "text": [
      "INFO:tensorflow:Using config: {'_model_dir': '.model_cache/numbers,lr=0.005,bs=32,conv=2,fcl=1/', '_tf_random_seed': None, '_save_summary_steps': 100, '_save_checkpoints_steps': None, '_save_checkpoints_secs': 600, '_session_config': None, '_keep_checkpoint_max': 5, '_keep_checkpoint_every_n_hours': 10000, '_log_step_count_steps': 100, '_train_distribute': None, '_service': None, '_cluster_spec': <tensorflow.python.training.server_lib.ClusterSpec object at 0x7fc8addc1080>, '_task_type': 'worker', '_task_id': 0, '_global_id_in_cluster': 0, '_master': '', '_evaluation_master': '', '_is_chief': True, '_num_ps_replicas': 0, '_num_worker_replicas': 1}\n",
      "INFO:tensorflow:Using config: {'_model_dir': '.model_cache/lowercase,lr=0.005,bs=100,conv=2,fcl=1/', '_tf_random_seed': None, '_save_summary_steps': 100, '_save_checkpoints_steps': None, '_save_checkpoints_secs': 600, '_session_config': None, '_keep_checkpoint_max': 5, '_keep_checkpoint_every_n_hours': 10000, '_log_step_count_steps': 100, '_train_distribute': None, '_service': None, '_cluster_spec': <tensorflow.python.training.server_lib.ClusterSpec object at 0x7fc8addc5780>, '_task_type': 'worker', '_task_id': 0, '_global_id_in_cluster': 0, '_master': '', '_evaluation_master': '', '_is_chief': True, '_num_ps_replicas': 0, '_num_worker_replicas': 1}\n",
      "INFO:tensorflow:Using config: {'_model_dir': '.model_cache/uppercase,lr=0.005,bs=100,conv=2,fcl=1/', '_tf_random_seed': None, '_save_summary_steps': 100, '_save_checkpoints_steps': None, '_save_checkpoints_secs': 600, '_session_config': None, '_keep_checkpoint_max': 5, '_keep_checkpoint_every_n_hours': 10000, '_log_step_count_steps': 100, '_train_distribute': None, '_service': None, '_cluster_spec': <tensorflow.python.training.server_lib.ClusterSpec object at 0x7fc8addb1978>, '_task_type': 'worker', '_task_id': 0, '_global_id_in_cluster': 0, '_master': '', '_evaluation_master': '', '_is_chief': True, '_num_ps_replicas': 0, '_num_worker_replicas': 1}\n"
     ]
    }
   ],
   "source": [
    "# restore estimators\n",
    "from intect.estimator import Estimator\n",
    "\n",
    "NUM_ESTIMATOR_CACHE = '.model_cache/numbers,lr=0.005,bs=32,conv=2,fcl=1/'\n",
    "NUM_ESTIMATOR_ARCHITECTURE = 'dataset/num-dataset/num-architecture.yaml'\n",
    "\n",
    "LC_ESTIMATOR_CACHE = '.model_cache/lowercase,lr=0.005,bs=100,conv=2,fcl=1/'\n",
    "LC_ESTIMATOR_ARCHITECTURE = 'dataset/lowercase-dataset/lowercase-architecture.yaml'\n",
    "\n",
    "UC_ESTIMATOR_CACHE = '.model_cache/uppercase,lr=0.005,bs=100,conv=2,fcl=1/'\n",
    "UC_ESTIMATOR_ARCHITECTURE = 'dataset/uppercase-dataset/uppercase-architecture.yaml'\n",
    "\n",
    "\n",
    "num_estimator = Estimator(\n",
    "    model_architecture=NUM_ESTIMATOR_ARCHITECTURE,\n",
    "    model_dir=NUM_ESTIMATOR_CACHE\n",
    ")\n",
    "lc_estimator = Estimator(\n",
    "    model_architecture=LC_ESTIMATOR_ARCHITECTURE,\n",
    "    model_dir=LC_ESTIMATOR_CACHE\n",
    ")\n",
    "uc_estimator = Estimator(\n",
    "    model_architecture=UC_ESTIMATOR_ARCHITECTURE,\n",
    "    model_dir=UC_ESTIMATOR_CACHE\n",
    ")"
   ]
  },
  {
   "cell_type": "code",
   "execution_count": 8,
   "metadata": {},
   "outputs": [
    {
     "name": "stdout",
     "output_type": "stream",
     "text": [
      "INFO:tensorflow:Calling model_fn.\n",
      "INFO:tensorflow:Done calling model_fn.\n",
      "INFO:tensorflow:Graph was finalized.\n",
      "INFO:tensorflow:Restoring parameters from .model_cache/numbers,lr=0.005,bs=32,conv=2,fcl=1/model.ckpt-1135\n",
      "INFO:tensorflow:Running local_init_op.\n",
      "INFO:tensorflow:Done running local_init_op.\n"
     ]
    }
   ],
   "source": [
    "# make predictions - numbers\n",
    "num_pred = list(num_estimator.predict(images=num_dataset))"
   ]
  },
  {
   "cell_type": "code",
   "execution_count": 9,
   "metadata": {},
   "outputs": [
    {
     "name": "stdout",
     "output_type": "stream",
     "text": [
      "INFO:tensorflow:Calling model_fn.\n",
      "INFO:tensorflow:Done calling model_fn.\n",
      "INFO:tensorflow:Graph was finalized.\n",
      "INFO:tensorflow:Restoring parameters from .model_cache/lowercase,lr=0.005,bs=100,conv=2,fcl=1/model.ckpt-1323\n",
      "INFO:tensorflow:Running local_init_op.\n",
      "INFO:tensorflow:Done running local_init_op.\n"
     ]
    }
   ],
   "source": [
    "# make predictions - lowercase\n",
    "lc_pred = list(lc_estimator.predict(images=lc_dataset))"
   ]
  },
  {
   "cell_type": "code",
   "execution_count": 10,
   "metadata": {},
   "outputs": [
    {
     "name": "stdout",
     "output_type": "stream",
     "text": [
      "INFO:tensorflow:Calling model_fn.\n",
      "INFO:tensorflow:Done calling model_fn.\n",
      "INFO:tensorflow:Graph was finalized.\n",
      "INFO:tensorflow:Restoring parameters from .model_cache/uppercase,lr=0.005,bs=100,conv=2,fcl=1/model.ckpt-1323\n",
      "INFO:tensorflow:Running local_init_op.\n",
      "INFO:tensorflow:Done running local_init_op.\n"
     ]
    }
   ],
   "source": [
    "# make predictions - lowercase\n",
    "uc_pred = list(uc_estimator.predict(images=uc_dataset))"
   ]
  },
  {
   "cell_type": "code",
   "execution_count": 11,
   "metadata": {},
   "outputs": [],
   "source": [
    "# confusion matrices - numbers\n",
    "n_classes = len(num_dataset.classes)\n",
    "num_confusion_matrix = np.zeros((n_classes, n_classes), dtype=np.float16)\n",
    "\n",
    "for pred, label in zip(num_pred, np.argmax(num_dataset.labels, axis=1)):\n",
    "    pred_id = int(pred['cls_id'])\n",
    "    num_confusion_matrix[pred_id, label] += 1\n",
    "    \n",
    "# confusion matrices - lowercase\n",
    "n_classes = len(lc_dataset.classes)\n",
    "lc_confusion_matrix = np.zeros((n_classes, n_classes), dtype=np.float16)\n",
    "\n",
    "for pred, label in zip(lc_pred, np.argmax(lc_dataset.labels, axis=1)):\n",
    "    pred_id = int(pred['cls_id'])\n",
    "    lc_confusion_matrix[pred_id, label] += 1\n",
    "    \n",
    "# confusion matrices - uppercase\n",
    "n_classes = len(uc_dataset.classes)\n",
    "uc_confusion_matrix = np.zeros((n_classes, n_classes), dtype=np.float16)\n",
    "\n",
    "for pred, label in zip(uc_pred, np.argmax(uc_dataset.labels, axis=1)):\n",
    "    pred_id = int(pred['cls_id'])\n",
    "    uc_confusion_matrix[pred_id, label] += 1"
   ]
  },
  {
   "cell_type": "code",
   "execution_count": 12,
   "metadata": {},
   "outputs": [],
   "source": [
    "# normalize confusion matrices\n",
    "for confusion_matrix in [num_confusion_matrix, lc_confusion_matrix, uc_confusion_matrix]:\n",
    "    for axis in range(confusion_matrix.shape[1]):\n",
    "        confusion_matrix[:, axis] /= np.sum(confusion_matrix[:, axis])"
   ]
  },
  {
   "cell_type": "code",
   "execution_count": 13,
   "metadata": {},
   "outputs": [],
   "source": [
    "def plot_confusion_matrix_sns(data, labels, **kwargs):\n",
    "    \"\"\"Visualize confusion matrix as a heat map.\"\"\"\n",
    "    col_map = kwargs.pop('cmap', sns.light_palette('navy', n_colors=5, as_cmap=False))\n",
    "        \n",
    "    sns.heatmap(\n",
    "        vmin=0.0,\n",
    "        vmax=1.0,\n",
    "        data=data,\n",
    "        cmap=col_map,\n",
    "        xticklabels=labels,\n",
    "        yticklabels=labels,\n",
    "        linewidths=kwargs.pop('linewidths', 0.75),\n",
    "        annot=kwargs.pop('annot', False),\n",
    "        **kwargs\n",
    "    )"
   ]
  },
  {
   "cell_type": "code",
   "execution_count": 14,
   "metadata": {},
   "outputs": [
    {
     "name": "stderr",
     "output_type": "stream",
     "text": [
      "/home/macermak/code/thesis/intect/env/lib64/python3.6/site-packages/matplotlib/axes/_axes.py:6462: UserWarning:\n",
      "\n",
      "The 'normed' kwarg is deprecated, and has been replaced by the 'density' kwarg.\n",
      "\n"
     ]
    },
    {
     "data": {
      "text/plain": [
       "<matplotlib.axes._subplots.AxesSubplot at 0x7fc8addb32e8>"
      ]
     },
     "execution_count": 14,
     "metadata": {},
     "output_type": "execute_result"
    },
    {
     "data": {
      "image/png": "[encoded data removed]",
      "text/plain": [
       "<Figure size 432x288 with 1 Axes>"
      ]
     },
     "metadata": {},
     "output_type": "display_data"
    }
   ],
   "source": [
    "sns.distplot(num_confusion_matrix.flatten(), kde=True)"
   ]
  },
  {
   "cell_type": "code",
   "execution_count": 15,
   "metadata": {},
   "outputs": [
    {
     "name": "stderr",
     "output_type": "stream",
     "text": [
      "/home/macermak/code/thesis/intect/env/lib64/python3.6/site-packages/matplotlib/axes/_axes.py:6462: UserWarning:\n",
      "\n",
      "The 'normed' kwarg is deprecated, and has been replaced by the 'density' kwarg.\n",
      "\n"
     ]
    },
    {
     "data": {
      "text/plain": [
       "<seaborn.axisgrid.JointGrid at 0x7fc89c6dfda0>"
      ]
     },
     "execution_count": 15,
     "metadata": {},
     "output_type": "execute_result"
    },
    {
     "data": {
      "image/png": "[encoded data removed]",
      "text/plain": [
       "<Figure size 432x432 with 3 Axes>"
      ]
     },
     "metadata": {},
     "output_type": "display_data"
    }
   ],
   "source": [
    "x = np.array([num_confusion_matrix[i, :] for i in range(num_confusion_matrix.shape[0])])\n",
    "y = np.array([num_confusion_matrix[:, j] for j in range(num_confusion_matrix.shape[1])])\n",
    "\n",
    "sns.jointplot(x, y)"
   ]
  },
  {
   "cell_type": "code",
   "execution_count": 16,
   "metadata": {},
   "outputs": [],
   "source": [
    "from matplotlib.colors import LinearSegmentedColormap"
   ]
  },
  {
   "cell_type": "code",
   "execution_count": 17,
   "metadata": {},
   "outputs": [
    {
     "data": {
      "image/png": "[encoded data removed]",
      "text/plain": [
       "<Figure size 720x72 with 1 Axes>"
      ]
     },
     "metadata": {},
     "output_type": "display_data"
    }
   ],
   "source": [
    "sns.palplot(sns.light_palette('navy', n_colors=10, as_cmap=False))"
   ]
  },
  {
   "cell_type": "code",
   "execution_count": 18,
   "metadata": {},
   "outputs": [],
   "source": [
    "num_labels = sorted(\n",
    "    [chr(int(val)) for val in num_dataset.classes.values()]\n",
    ")\n",
    "\n",
    "lc_labels = sorted(\n",
    "    [chr(int(val)) for val in lc_dataset.classes.values()]\n",
    ")\n",
    "\n",
    "uc_labels = sorted(\n",
    "    [chr(int(val)) for val in uc_dataset.classes.values()]\n",
    ")"
   ]
  },
  {
   "cell_type": "code",
   "execution_count": 19,
   "metadata": {},
   "outputs": [],
   "source": [
    "# visualize confusion matrices - numbers\n",
    "boundaries = [0.0, 0.05, 0.1, 0.25, 0.5, 0.75, 0.9, 1.0]\n",
    "\n",
    "hex_colors = sns.light_palette('navy', n_colors=len(boundaries) * 2 + 2, as_cmap=False).as_hex()\n",
    "hex_colors = [hex_colors[i] for i in range(0, len(hex_colors), 2)]\n",
    "\n",
    "colors=list(zip(boundaries, hex_colors))\n",
    "\n",
    "custom_color_map = LinearSegmentedColormap.from_list(\n",
    "    name='custom_navy',\n",
    "    colors=colors,\n",
    ")"
   ]
  },
  {
   "cell_type": "code",
   "execution_count": 20,
   "metadata": {},
   "outputs": [],
   "source": [
    "# plotly"
   ]
  },
  {
   "cell_type": "code",
   "execution_count": 21,
   "metadata": {},
   "outputs": [],
   "source": [
    "from plotly import figure_factory"
   ]
  },
  {
   "cell_type": "code",
   "execution_count": 22,
   "metadata": {},
   "outputs": [],
   "source": [
    "idx = np.ndindex(num_confusion_matrix.shape)"
   ]
  },
  {
   "cell_type": "code",
   "execution_count": 23,
   "metadata": {},
   "outputs": [],
   "source": [
    "def plot_confusion_matrix(data, labels, title=None):\n",
    "    annotations = np.empty(data.shape).astype(np.unicode_)\n",
    "    \n",
    "    for idx in np.ndindex(data.shape):\n",
    "        val = data[idx]\n",
    "        annotations[idx] = [\"\", \"{:.2f}\".format(val)][val != 0.0]\n",
    "\n",
    "    fig = figure_factory.create_annotated_heatmap(\n",
    "        z=data,\n",
    "        x=labels,\n",
    "        y=labels,\n",
    "        annotation_text=annotations.tolist(),\n",
    "        colorscale=colors,\n",
    "        xgap=1.25,\n",
    "        ygap=1.25,\n",
    "        showscale=True,\n",
    "        colorbar={\n",
    "            'tickmode': 'array',\n",
    "        },\n",
    "    )\n",
    "    \n",
    "    if title:\n",
    "        fig.layout.title = title\n",
    "    \n",
    "    fig.layout.xaxis.title = \"Predicted values\"\n",
    "    fig.layout.xaxis.side = \"bottom\"\n",
    "    \n",
    "    fig.layout.yaxis.anchor = \"bottom\"\n",
    "    fig.layout.yaxis.title = \"True values\"\n",
    "    \n",
    "    iplot(fig, show_link=False)"
   ]
  },
  {
   "cell_type": "code",
   "execution_count": 24,
   "metadata": {},
   "outputs": [
    {
     "name": "stderr",
     "output_type": "stream",
     "text": [
      "/home/macermak/code/thesis/intect/env/lib64/python3.6/site-packages/ipykernel_launcher.py:6: DeprecationWarning:\n",
      "\n",
      "In future, it will be an error for 'np.bool_' scalars to be interpreted as an index\n",
      "\n"
     ]
    },
    {
     "data": {
      "application/vnd.plotly.v1+json": {
       "data": [
        {
         "colorbar": {
          "tickmode": "array"
         },
         "colorscale": [
          [
           0,
           "#e5e5ff"
          ],
          [
           0.05,
           "#cacaf0"
          ],
          [
           0.1,
           "#b0b0e1"
          ],
          [
           0.25,
           "#9494d2"
          ],
          [
           0.5,
           "#7a7ac3"
          ],
          [
           0.75,
           "#5e5eb4"
          ],
          [
           0.9,
           "#4444a5"
          ],
          [
           1,
           "#282896"
          ]
         ],
         "showscale": true,
         "type": "heatmap",
         "x": [
          "0",
          "1",
          "2",
          "3",
          "4",
          "5",
          "6",
          "7",
          "8",
          "9"
         ],
         "xgap": 1.25,
         "y": [
          "0",
          "1",
          "2",
          "3",
          "4",
          "5",
          "6",
          "7",
          "8",
          "9"
         ],
         "ygap": 1.25,
         "z": [
          [
           0.71484375,
           0.03570556640625,
           0,
           0.005077362060546875,
           0.004901885986328125,
           0,
           0.0094757080078125,
           0.00478363037109375,
           0,
           0.0160369873046875
          ],
          [
           0.10498046875,
           0.8212890625,
           0.024993896484375,
           0.0253753662109375,
           0.00980377197265625,
           0.0445556640625,
           0.0758056640625,
           0.052642822265625,
           0.041229248046875,
           0.0267333984375
          ],
          [
           0.040008544921875,
           0.045928955078125,
           0.89990234375,
           0.045684814453125,
           0.0343017578125,
           0.03466796875,
           0.0094757080078125,
           0.0095672607421875,
           0.05670166015625,
           0.0106964111328125
          ],
          [
           0.0149993896484375,
           0.0204010009765625,
           0.005001068115234375,
           0.83251953125,
           0.004901885986328125,
           0.0445556640625,
           0.0094757080078125,
           0.0095672607421875,
           0.01030731201171875,
           0.032073974609375
          ],
          [
           0.0149993896484375,
           0.0204010009765625,
           0.029998779296875,
           0.01015472412109375,
           0.88720703125,
           0.019805908203125,
           0.04266357421875,
           0.00478363037109375,
           0.051544189453125,
           0.0106964111328125
          ],
          [
           0,
           0.005100250244140625,
           0.01000213623046875,
           0.0355224609375,
           0,
           0.787109375,
           0.0236968994140625,
           0.019134521484375,
           0.01030731201171875,
           0.0160369873046875
          ],
          [
           0.029998779296875,
           0.0204010009765625,
           0,
           0,
           0.00980377197265625,
           0.0099029541015625,
           0.7490234375,
           0.0095672607421875,
           0.01030731201171875,
           0.0106964111328125
          ],
          [
           0.01000213623046875,
           0.01020050048828125,
           0,
           0.015228271484375,
           0,
           0.019805908203125,
           0,
           0.88525390625,
           0.01546478271484375,
           0.0160369873046875
          ],
          [
           0.005001068115234375,
           0.005100250244140625,
           0.0149993896484375,
           0.005077362060546875,
           0.024505615234375,
           0,
           0.018951416015625,
           0,
           0.7626953125,
           0.0267333984375
          ],
          [
           0.06500244140625,
           0.0153045654296875,
           0.0149993896484375,
           0.0253753662109375,
           0.024505615234375,
           0.03961181640625,
           0.061614990234375,
           0.00478363037109375,
           0.041229248046875,
           0.833984375
          ]
         ]
        }
       ],
       "layout": {
        "annotations": [
         {
          "font": {
           "color": "#FFFFFF"
          },
          "showarrow": false,
          "text": "0.71",
          "x": "0",
          "xref": "x1",
          "y": "0",
          "yref": "y1"
         },
         {
          "font": {
           "color": "#000000"
          },
          "showarrow": false,
          "text": "0.04",
          "x": "1",
          "xref": "x1",
          "y": "0",
          "yref": "y1"
         },
         {
          "font": {
           "color": "#000000"
          },
          "showarrow": false,
          "text": "",
          "x": "2",
          "xref": "x1",
          "y": "0",
          "yref": "y1"
         },
         {
          "font": {
           "color": "#000000"
          },
          "showarrow": false,
          "text": "0.01",
          "x": "3",
          "xref": "x1",
          "y": "0",
          "yref": "y1"
         },
         {
          "font": {
           "color": "#000000"
          },
          "showarrow": false,
          "text": "0.00",
          "x": "4",
          "xref": "x1",
          "y": "0",
          "yref": "y1"
         },
         {
          "font": {
           "color": "#000000"
          },
          "showarrow": false,
          "text": "",
          "x": "5",
          "xref": "x1",
          "y": "0",
          "yref": "y1"
         },
         {
          "font": {
           "color": "#000000"
          },
          "showarrow": false,
          "text": "0.01",
          "x": "6",
          "xref": "x1",
          "y": "0",
          "yref": "y1"
         },
         {
          "font": {
           "color": "#000000"
          },
          "showarrow": false,
          "text": "0.00",
          "x": "7",
          "xref": "x1",
          "y": "0",
          "yref": "y1"
         },
         {
          "font": {
           "color": "#000000"
          },
          "showarrow": false,
          "text": "",
          "x": "8",
          "xref": "x1",
          "y": "0",
          "yref": "y1"
         },
         {
          "font": {
           "color": "#000000"
          },
          "showarrow": false,
          "text": "0.02",
          "x": "9",
          "xref": "x1",
          "y": "0",
          "yref": "y1"
         },
         {
          "font": {
           "color": "#000000"
          },
          "showarrow": false,
          "text": "0.10",
          "x": "0",
          "xref": "x1",
          "y": "1",
          "yref": "y1"
         },
         {
          "font": {
           "color": "#FFFFFF"
          },
          "showarrow": false,
          "text": "0.82",
          "x": "1",
          "xref": "x1",
          "y": "1",
          "yref": "y1"
         },
         {
          "font": {
           "color": "#000000"
          },
          "showarrow": false,
          "text": "0.02",
          "x": "2",
          "xref": "x1",
          "y": "1",
          "yref": "y1"
         },
         {
          "font": {
           "color": "#000000"
          },
          "showarrow": false,
          "text": "0.03",
          "x": "3",
          "xref": "x1",
          "y": "1",
          "yref": "y1"
         },
         {
          "font": {
           "color": "#000000"
          },
          "showarrow": false,
          "text": "0.01",
          "x": "4",
          "xref": "x1",
          "y": "1",
          "yref": "y1"
         },
         {
          "font": {
           "color": "#000000"
          },
          "showarrow": false,
          "text": "0.04",
          "x": "5",
          "xref": "x1",
          "y": "1",
          "yref": "y1"
         },
         {
          "font": {
           "color": "#000000"
          },
          "showarrow": false,
          "text": "0.08",
          "x": "6",
          "xref": "x1",
          "y": "1",
          "yref": "y1"
         },
         {
          "font": {
           "color": "#000000"
          },
          "showarrow": false,
          "text": "0.05",
          "x": "7",
          "xref": "x1",
          "y": "1",
          "yref": "y1"
         },
         {
          "font": {
           "color": "#000000"
          },
          "showarrow": false,
          "text": "0.04",
          "x": "8",
          "xref": "x1",
          "y": "1",
          "yref": "y1"
         },
         {
          "font": {
           "color": "#000000"
          },
          "showarrow": false,
          "text": "0.03",
          "x": "9",
          "xref": "x1",
          "y": "1",
          "yref": "y1"
         },
         {
          "font": {
           "color": "#000000"
          },
          "showarrow": false,
          "text": "0.04",
          "x": "0",
          "xref": "x1",
          "y": "2",
          "yref": "y1"
         },
         {
          "font": {
           "color": "#000000"
          },
          "showarrow": false,
          "text": "0.05",
          "x": "1",
          "xref": "x1",
          "y": "2",
          "yref": "y1"
         },
         {
          "font": {
           "color": "#FFFFFF"
          },
          "showarrow": false,
          "text": "0.90",
          "x": "2",
          "xref": "x1",
          "y": "2",
          "yref": "y1"
         },
         {
          "font": {
           "color": "#000000"
          },
          "showarrow": false,
          "text": "0.05",
          "x": "3",
          "xref": "x1",
          "y": "2",
          "yref": "y1"
         },
         {
          "font": {
           "color": "#000000"
          },
          "showarrow": false,
          "text": "0.03",
          "x": "4",
          "xref": "x1",
          "y": "2",
          "yref": "y1"
         },
         {
          "font": {
           "color": "#000000"
          },
          "showarrow": false,
          "text": "0.03",
          "x": "5",
          "xref": "x1",
          "y": "2",
          "yref": "y1"
         },
         {
          "font": {
           "color": "#000000"
          },
          "showarrow": false,
          "text": "0.01",
          "x": "6",
          "xref": "x1",
          "y": "2",
          "yref": "y1"
         },
         {
          "font": {
           "color": "#000000"
          },
          "showarrow": false,
          "text": "0.01",
          "x": "7",
          "xref": "x1",
          "y": "2",
          "yref": "y1"
         },
         {
          "font": {
           "color": "#000000"
          },
          "showarrow": false,
          "text": "0.06",
          "x": "8",
          "xref": "x1",
          "y": "2",
          "yref": "y1"
         },
         {
          "font": {
           "color": "#000000"
          },
          "showarrow": false,
          "text": "0.01",
          "x": "9",
          "xref": "x1",
          "y": "2",
          "yref": "y1"
         },
         {
          "font": {
           "color": "#000000"
          },
          "showarrow": false,
          "text": "0.01",
          "x": "0",
          "xref": "x1",
          "y": "3",
          "yref": "y1"
         },
         {
          "font": {
           "color": "#000000"
          },
          "showarrow": false,
          "text": "0.02",
          "x": "1",
          "xref": "x1",
          "y": "3",
          "yref": "y1"
         },
         {
          "font": {
           "color": "#000000"
          },
          "showarrow": false,
          "text": "0.01",
          "x": "2",
          "xref": "x1",
          "y": "3",
          "yref": "y1"
         },
         {
          "font": {
           "color": "#FFFFFF"
          },
          "showarrow": false,
          "text": "0.83",
          "x": "3",
          "xref": "x1",
          "y": "3",
          "yref": "y1"
         },
         {
          "font": {
           "color": "#000000"
          },
          "showarrow": false,
          "text": "0.00",
          "x": "4",
          "xref": "x1",
          "y": "3",
          "yref": "y1"
         },
         {
          "font": {
           "color": "#000000"
          },
          "showarrow": false,
          "text": "0.04",
          "x": "5",
          "xref": "x1",
          "y": "3",
          "yref": "y1"
         },
         {
          "font": {
           "color": "#000000"
          },
          "showarrow": false,
          "text": "0.01",
          "x": "6",
          "xref": "x1",
          "y": "3",
          "yref": "y1"
         },
         {
          "font": {
           "color": "#000000"
          },
          "showarrow": false,
          "text": "0.01",
          "x": "7",
          "xref": "x1",
          "y": "3",
          "yref": "y1"
         },
         {
          "font": {
           "color": "#000000"
          },
          "showarrow": false,
          "text": "0.01",
          "x": "8",
          "xref": "x1",
          "y": "3",
          "yref": "y1"
         },
         {
          "font": {
           "color": "#000000"
          },
          "showarrow": false,
          "text": "0.03",
          "x": "9",
          "xref": "x1",
          "y": "3",
          "yref": "y1"
         },
         {
          "font": {
           "color": "#000000"
          },
          "showarrow": false,
          "text": "0.01",
          "x": "0",
          "xref": "x1",
          "y": "4",
          "yref": "y1"
         },
         {
          "font": {
           "color": "#000000"
          },
          "showarrow": false,
          "text": "0.02",
          "x": "1",
          "xref": "x1",
          "y": "4",
          "yref": "y1"
         },
         {
          "font": {
           "color": "#000000"
          },
          "showarrow": false,
          "text": "0.03",
          "x": "2",
          "xref": "x1",
          "y": "4",
          "yref": "y1"
         },
         {
          "font": {
           "color": "#000000"
          },
          "showarrow": false,
          "text": "0.01",
          "x": "3",
          "xref": "x1",
          "y": "4",
          "yref": "y1"
         },
         {
          "font": {
           "color": "#FFFFFF"
          },
          "showarrow": false,
          "text": "0.89",
          "x": "4",
          "xref": "x1",
          "y": "4",
          "yref": "y1"
         },
         {
          "font": {
           "color": "#000000"
          },
          "showarrow": false,
          "text": "0.02",
          "x": "5",
          "xref": "x1",
          "y": "4",
          "yref": "y1"
         },
         {
          "font": {
           "color": "#000000"
          },
          "showarrow": false,
          "text": "0.04",
          "x": "6",
          "xref": "x1",
          "y": "4",
          "yref": "y1"
         },
         {
          "font": {
           "color": "#000000"
          },
          "showarrow": false,
          "text": "0.00",
          "x": "7",
          "xref": "x1",
          "y": "4",
          "yref": "y1"
         },
         {
          "font": {
           "color": "#000000"
          },
          "showarrow": false,
          "text": "0.05",
          "x": "8",
          "xref": "x1",
          "y": "4",
          "yref": "y1"
         },
         {
          "font": {
           "color": "#000000"
          },
          "showarrow": false,
          "text": "0.01",
          "x": "9",
          "xref": "x1",
          "y": "4",
          "yref": "y1"
         },
         {
          "font": {
           "color": "#000000"
          },
          "showarrow": false,
          "text": "",
          "x": "0",
          "xref": "x1",
          "y": "5",
          "yref": "y1"
         },
         {
          "font": {
           "color": "#000000"
          },
          "showarrow": false,
          "text": "0.01",
          "x": "1",
          "xref": "x1",
          "y": "5",
          "yref": "y1"
         },
         {
          "font": {
           "color": "#000000"
          },
          "showarrow": false,
          "text": "0.01",
          "x": "2",
          "xref": "x1",
          "y": "5",
          "yref": "y1"
         },
         {
          "font": {
           "color": "#000000"
          },
          "showarrow": false,
          "text": "0.04",
          "x": "3",
          "xref": "x1",
          "y": "5",
          "yref": "y1"
         },
         {
          "font": {
           "color": "#000000"
          },
          "showarrow": false,
          "text": "",
          "x": "4",
          "xref": "x1",
          "y": "5",
          "yref": "y1"
         },
         {
          "font": {
           "color": "#FFFFFF"
          },
          "showarrow": false,
          "text": "0.79",
          "x": "5",
          "xref": "x1",
          "y": "5",
          "yref": "y1"
         },
         {
          "font": {
           "color": "#000000"
          },
          "showarrow": false,
          "text": "0.02",
          "x": "6",
          "xref": "x1",
          "y": "5",
          "yref": "y1"
         },
         {
          "font": {
           "color": "#000000"
          },
          "showarrow": false,
          "text": "0.02",
          "x": "7",
          "xref": "x1",
          "y": "5",
          "yref": "y1"
         },
         {
          "font": {
           "color": "#000000"
          },
          "showarrow": false,
          "text": "0.01",
          "x": "8",
          "xref": "x1",
          "y": "5",
          "yref": "y1"
         },
         {
          "font": {
           "color": "#000000"
          },
          "showarrow": false,
          "text": "0.02",
          "x": "9",
          "xref": "x1",
          "y": "5",
          "yref": "y1"
         },
         {
          "font": {
           "color": "#000000"
          },
          "showarrow": false,
          "text": "0.03",
          "x": "0",
          "xref": "x1",
          "y": "6",
          "yref": "y1"
         },
         {
          "font": {
           "color": "#000000"
          },
          "showarrow": false,
          "text": "0.02",
          "x": "1",
          "xref": "x1",
          "y": "6",
          "yref": "y1"
         },
         {
          "font": {
           "color": "#000000"
          },
          "showarrow": false,
          "text": "",
          "x": "2",
          "xref": "x1",
          "y": "6",
          "yref": "y1"
         },
         {
          "font": {
           "color": "#000000"
          },
          "showarrow": false,
          "text": "",
          "x": "3",
          "xref": "x1",
          "y": "6",
          "yref": "y1"
         },
         {
          "font": {
           "color": "#000000"
          },
          "showarrow": false,
          "text": "0.01",
          "x": "4",
          "xref": "x1",
          "y": "6",
          "yref": "y1"
         },
         {
          "font": {
           "color": "#000000"
          },
          "showarrow": false,
          "text": "0.01",
          "x": "5",
          "xref": "x1",
          "y": "6",
          "yref": "y1"
         },
         {
          "font": {
           "color": "#FFFFFF"
          },
          "showarrow": false,
          "text": "0.75",
          "x": "6",
          "xref": "x1",
          "y": "6",
          "yref": "y1"
         },
         {
          "font": {
           "color": "#000000"
          },
          "showarrow": false,
          "text": "0.01",
          "x": "7",
          "xref": "x1",
          "y": "6",
          "yref": "y1"
         },
         {
          "font": {
           "color": "#000000"
          },
          "showarrow": false,
          "text": "0.01",
          "x": "8",
          "xref": "x1",
          "y": "6",
          "yref": "y1"
         },
         {
          "font": {
           "color": "#000000"
          },
          "showarrow": false,
          "text": "0.01",
          "x": "9",
          "xref": "x1",
          "y": "6",
          "yref": "y1"
         },
         {
          "font": {
           "color": "#000000"
          },
          "showarrow": false,
          "text": "0.01",
          "x": "0",
          "xref": "x1",
          "y": "7",
          "yref": "y1"
         },
         {
          "font": {
           "color": "#000000"
          },
          "showarrow": false,
          "text": "0.01",
          "x": "1",
          "xref": "x1",
          "y": "7",
          "yref": "y1"
         },
         {
          "font": {
           "color": "#000000"
          },
          "showarrow": false,
          "text": "",
          "x": "2",
          "xref": "x1",
          "y": "7",
          "yref": "y1"
         },
         {
          "font": {
           "color": "#000000"
          },
          "showarrow": false,
          "text": "0.02",
          "x": "3",
          "xref": "x1",
          "y": "7",
          "yref": "y1"
         },
         {
          "font": {
           "color": "#000000"
          },
          "showarrow": false,
          "text": "",
          "x": "4",
          "xref": "x1",
          "y": "7",
          "yref": "y1"
         },
         {
          "font": {
           "color": "#000000"
          },
          "showarrow": false,
          "text": "0.02",
          "x": "5",
          "xref": "x1",
          "y": "7",
          "yref": "y1"
         },
         {
          "font": {
           "color": "#000000"
          },
          "showarrow": false,
          "text": "",
          "x": "6",
          "xref": "x1",
          "y": "7",
          "yref": "y1"
         },
         {
          "font": {
           "color": "#FFFFFF"
          },
          "showarrow": false,
          "text": "0.89",
          "x": "7",
          "xref": "x1",
          "y": "7",
          "yref": "y1"
         },
         {
          "font": {
           "color": "#000000"
          },
          "showarrow": false,
          "text": "0.02",
          "x": "8",
          "xref": "x1",
          "y": "7",
          "yref": "y1"
         },
         {
          "font": {
           "color": "#000000"
          },
          "showarrow": false,
          "text": "0.02",
          "x": "9",
          "xref": "x1",
          "y": "7",
          "yref": "y1"
         },
         {
          "font": {
           "color": "#000000"
          },
          "showarrow": false,
          "text": "0.01",
          "x": "0",
          "xref": "x1",
          "y": "8",
          "yref": "y1"
         },
         {
          "font": {
           "color": "#000000"
          },
          "showarrow": false,
          "text": "0.01",
          "x": "1",
          "xref": "x1",
          "y": "8",
          "yref": "y1"
         },
         {
          "font": {
           "color": "#000000"
          },
          "showarrow": false,
          "text": "0.01",
          "x": "2",
          "xref": "x1",
          "y": "8",
          "yref": "y1"
         },
         {
          "font": {
           "color": "#000000"
          },
          "showarrow": false,
          "text": "0.01",
          "x": "3",
          "xref": "x1",
          "y": "8",
          "yref": "y1"
         },
         {
          "font": {
           "color": "#000000"
          },
          "showarrow": false,
          "text": "0.02",
          "x": "4",
          "xref": "x1",
          "y": "8",
          "yref": "y1"
         },
         {
          "font": {
           "color": "#000000"
          },
          "showarrow": false,
          "text": "",
          "x": "5",
          "xref": "x1",
          "y": "8",
          "yref": "y1"
         },
         {
          "font": {
           "color": "#000000"
          },
          "showarrow": false,
          "text": "0.02",
          "x": "6",
          "xref": "x1",
          "y": "8",
          "yref": "y1"
         },
         {
          "font": {
           "color": "#000000"
          },
          "showarrow": false,
          "text": "",
          "x": "7",
          "xref": "x1",
          "y": "8",
          "yref": "y1"
         },
         {
          "font": {
           "color": "#FFFFFF"
          },
          "showarrow": false,
          "text": "0.76",
          "x": "8",
          "xref": "x1",
          "y": "8",
          "yref": "y1"
         },
         {
          "font": {
           "color": "#000000"
          },
          "showarrow": false,
          "text": "0.03",
          "x": "9",
          "xref": "x1",
          "y": "8",
          "yref": "y1"
         },
         {
          "font": {
           "color": "#000000"
          },
          "showarrow": false,
          "text": "0.07",
          "x": "0",
          "xref": "x1",
          "y": "9",
          "yref": "y1"
         },
         {
          "font": {
           "color": "#000000"
          },
          "showarrow": false,
          "text": "0.02",
          "x": "1",
          "xref": "x1",
          "y": "9",
          "yref": "y1"
         },
         {
          "font": {
           "color": "#000000"
          },
          "showarrow": false,
          "text": "0.01",
          "x": "2",
          "xref": "x1",
          "y": "9",
          "yref": "y1"
         },
         {
          "font": {
           "color": "#000000"
          },
          "showarrow": false,
          "text": "0.03",
          "x": "3",
          "xref": "x1",
          "y": "9",
          "yref": "y1"
         },
         {
          "font": {
           "color": "#000000"
          },
          "showarrow": false,
          "text": "0.02",
          "x": "4",
          "xref": "x1",
          "y": "9",
          "yref": "y1"
         },
         {
          "font": {
           "color": "#000000"
          },
          "showarrow": false,
          "text": "0.04",
          "x": "5",
          "xref": "x1",
          "y": "9",
          "yref": "y1"
         },
         {
          "font": {
           "color": "#000000"
          },
          "showarrow": false,
          "text": "0.06",
          "x": "6",
          "xref": "x1",
          "y": "9",
          "yref": "y1"
         },
         {
          "font": {
           "color": "#000000"
          },
          "showarrow": false,
          "text": "0.00",
          "x": "7",
          "xref": "x1",
          "y": "9",
          "yref": "y1"
         },
         {
          "font": {
           "color": "#000000"
          },
          "showarrow": false,
          "text": "0.04",
          "x": "8",
          "xref": "x1",
          "y": "9",
          "yref": "y1"
         },
         {
          "font": {
           "color": "#FFFFFF"
          },
          "showarrow": false,
          "text": "0.83",
          "x": "9",
          "xref": "x1",
          "y": "9",
          "yref": "y1"
         }
        ],
        "title": "Confusion Matrix of Number NN",
        "xaxis": {
         "dtick": 1,
         "gridcolor": "rgb(0, 0, 0)",
         "side": "bottom",
         "ticks": "",
         "title": "Predicted values"
        },
        "yaxis": {
         "anchor": "bottom",
         "dtick": 1,
         "ticks": "",
         "ticksuffix": "  ",
         "title": "True values"
        }
       }
      },
      "text/html": [
       "<div id=\"38ca0bcb-06da-46d3-894a-9889498d7c5e\" style=\"height: 525px; width: 100%;\" class=\"plotly-graph-div\"></div><script type=\"text/javascript\">require([\"plotly\"], function(Plotly) { window.PLOTLYENV=window.PLOTLYENV || {};window.PLOTLYENV.BASE_URL=\"https://plot.ly\";Plotly.newPlot(\"38ca0bcb-06da-46d3-894a-9889498d7c5e\", [{\"type\": \"heatmap\", \"z\": [[0.71484375, 0.03570556640625, 0.0, 0.005077362060546875, 0.004901885986328125, 0.0, 0.0094757080078125, 0.00478363037109375, 0.0, 0.0160369873046875], [0.10498046875, 0.8212890625, 0.024993896484375, 0.0253753662109375, 0.00980377197265625, 0.0445556640625, 0.0758056640625, 0.052642822265625, 0.041229248046875, 0.0267333984375], [0.040008544921875, 0.045928955078125, 0.89990234375, 0.045684814453125, 0.0343017578125, 0.03466796875, 0.0094757080078125, 0.0095672607421875, 0.05670166015625, 0.0106964111328125], [0.0149993896484375, 0.0204010009765625, 0.005001068115234375, 0.83251953125, 0.004901885986328125, 0.0445556640625, 0.0094757080078125, 0.0095672607421875, 0.01030731201171875, 0.032073974609375], [0.0149993896484375, 0.0204010009765625, 0.029998779296875, 0.01015472412109375, 0.88720703125, 0.019805908203125, 0.04266357421875, 0.00478363037109375, 0.051544189453125, 0.0106964111328125], [0.0, 0.005100250244140625, 0.01000213623046875, 0.0355224609375, 0.0, 0.787109375, 0.0236968994140625, 0.019134521484375, 0.01030731201171875, 0.0160369873046875], [0.029998779296875, 0.0204010009765625, 0.0, 0.0, 0.00980377197265625, 0.0099029541015625, 0.7490234375, 0.0095672607421875, 0.01030731201171875, 0.0106964111328125], [0.01000213623046875, 0.01020050048828125, 0.0, 0.015228271484375, 0.0, 0.019805908203125, 0.0, 0.88525390625, 0.01546478271484375, 0.0160369873046875], [0.005001068115234375, 0.005100250244140625, 0.0149993896484375, 0.005077362060546875, 0.024505615234375, 0.0, 0.018951416015625, 0.0, 0.7626953125, 0.0267333984375], [0.06500244140625, 0.0153045654296875, 0.0149993896484375, 0.0253753662109375, 0.024505615234375, 0.03961181640625, 0.061614990234375, 0.00478363037109375, 0.041229248046875, 0.833984375]], \"x\": [\"0\", \"1\", \"2\", \"3\", \"4\", \"5\", \"6\", \"7\", \"8\", \"9\"], \"y\": [\"0\", \"1\", \"2\", \"3\", \"4\", \"5\", \"6\", \"7\", \"8\", \"9\"], \"colorscale\": [[0.0, \"#e5e5ff\"], [0.05, \"#cacaf0\"], [0.1, \"#b0b0e1\"], [0.25, \"#9494d2\"], [0.5, \"#7a7ac3\"], [0.75, \"#5e5eb4\"], [0.9, \"#4444a5\"], [1.0, \"#282896\"]], \"showscale\": true, \"xgap\": 1.25, \"ygap\": 1.25, \"colorbar\": {\"tickmode\": \"array\"}}], {\"annotations\": [{\"text\": \"0.71\", \"x\": \"0\", \"y\": \"0\", \"xref\": \"x1\", \"yref\": \"y1\", \"font\": {\"color\": \"#FFFFFF\"}, \"showarrow\": false}, {\"text\": \"0.04\", \"x\": \"1\", \"y\": \"0\", \"xref\": \"x1\", \"yref\": \"y1\", \"font\": {\"color\": \"#000000\"}, \"showarrow\": false}, {\"text\": \"\", \"x\": \"2\", \"y\": \"0\", \"xref\": \"x1\", \"yref\": \"y1\", \"font\": {\"color\": \"#000000\"}, \"showarrow\": false}, {\"text\": \"0.01\", \"x\": \"3\", \"y\": \"0\", \"xref\": \"x1\", \"yref\": \"y1\", \"font\": {\"color\": \"#000000\"}, \"showarrow\": false}, {\"text\": \"0.00\", \"x\": \"4\", \"y\": \"0\", \"xref\": \"x1\", \"yref\": \"y1\", \"font\": {\"color\": \"#000000\"}, \"showarrow\": false}, {\"text\": \"\", \"x\": \"5\", \"y\": \"0\", \"xref\": \"x1\", \"yref\": \"y1\", \"font\": {\"color\": \"#000000\"}, \"showarrow\": false}, {\"text\": \"0.01\", \"x\": \"6\", \"y\": \"0\", \"xref\": \"x1\", \"yref\": \"y1\", \"font\": {\"color\": \"#000000\"}, \"showarrow\": false}, {\"text\": \"0.00\", \"x\": \"7\", \"y\": \"0\", \"xref\": \"x1\", \"yref\": \"y1\", \"font\": {\"color\": \"#000000\"}, \"showarrow\": false}, {\"text\": \"\", \"x\": \"8\", \"y\": \"0\", \"xref\": \"x1\", \"yref\": \"y1\", \"font\": {\"color\": \"#000000\"}, \"showarrow\": false}, {\"text\": \"0.02\", \"x\": \"9\", \"y\": \"0\", \"xref\": \"x1\", \"yref\": \"y1\", \"font\": {\"color\": \"#000000\"}, \"showarrow\": false}, {\"text\": \"0.10\", \"x\": \"0\", \"y\": \"1\", \"xref\": \"x1\", \"yref\": \"y1\", \"font\": {\"color\": \"#000000\"}, \"showarrow\": false}, {\"text\": \"0.82\", \"x\": \"1\", \"y\": \"1\", \"xref\": \"x1\", \"yref\": \"y1\", \"font\": {\"color\": \"#FFFFFF\"}, \"showarrow\": false}, {\"text\": \"0.02\", \"x\": \"2\", \"y\": \"1\", \"xref\": \"x1\", \"yref\": \"y1\", \"font\": {\"color\": \"#000000\"}, \"showarrow\": false}, {\"text\": \"0.03\", \"x\": \"3\", \"y\": \"1\", \"xref\": \"x1\", \"yref\": \"y1\", \"font\": {\"color\": \"#000000\"}, \"showarrow\": false}, {\"text\": \"0.01\", \"x\": \"4\", \"y\": \"1\", \"xref\": \"x1\", \"yref\": \"y1\", \"font\": {\"color\": \"#000000\"}, \"showarrow\": false}, {\"text\": \"0.04\", \"x\": \"5\", \"y\": \"1\", \"xref\": \"x1\", \"yref\": \"y1\", \"font\": {\"color\": \"#000000\"}, \"showarrow\": false}, {\"text\": \"0.08\", \"x\": \"6\", \"y\": \"1\", \"xref\": \"x1\", \"yref\": \"y1\", \"font\": {\"color\": \"#000000\"}, \"showarrow\": false}, {\"text\": \"0.05\", \"x\": \"7\", \"y\": \"1\", \"xref\": \"x1\", \"yref\": \"y1\", \"font\": {\"color\": \"#000000\"}, \"showarrow\": false}, {\"text\": \"0.04\", \"x\": \"8\", \"y\": \"1\", \"xref\": \"x1\", \"yref\": \"y1\", \"font\": {\"color\": \"#000000\"}, \"showarrow\": false}, {\"text\": \"0.03\", \"x\": \"9\", \"y\": \"1\", \"xref\": \"x1\", \"yref\": \"y1\", \"font\": {\"color\": \"#000000\"}, \"showarrow\": false}, {\"text\": \"0.04\", \"x\": \"0\", \"y\": \"2\", \"xref\": \"x1\", \"yref\": \"y1\", \"font\": {\"color\": \"#000000\"}, \"showarrow\": false}, {\"text\": \"0.05\", \"x\": \"1\", \"y\": \"2\", \"xref\": \"x1\", \"yref\": \"y1\", \"font\": {\"color\": \"#000000\"}, \"showarrow\": false}, {\"text\": \"0.90\", \"x\": \"2\", \"y\": \"2\", \"xref\": \"x1\", \"yref\": \"y1\", \"font\": {\"color\": \"#FFFFFF\"}, \"showarrow\": false}, {\"text\": \"0.05\", \"x\": \"3\", \"y\": \"2\", \"xref\": \"x1\", \"yref\": \"y1\", \"font\": {\"color\": \"#000000\"}, \"showarrow\": false}, {\"text\": \"0.03\", \"x\": \"4\", \"y\": \"2\", \"xref\": \"x1\", \"yref\": \"y1\", \"font\": {\"color\": \"#000000\"}, \"showarrow\": false}, {\"text\": \"0.03\", \"x\": \"5\", \"y\": \"2\", \"xref\": \"x1\", \"yref\": \"y1\", \"font\": {\"color\": \"#000000\"}, \"showarrow\": false}, {\"text\": \"0.01\", \"x\": \"6\", \"y\": \"2\", \"xref\": \"x1\", \"yref\": \"y1\", \"font\": {\"color\": \"#000000\"}, \"showarrow\": false}, {\"text\": \"0.01\", \"x\": \"7\", \"y\": \"2\", \"xref\": \"x1\", \"yref\": \"y1\", \"font\": {\"color\": \"#000000\"}, \"showarrow\": false}, {\"text\": \"0.06\", \"x\": \"8\", \"y\": \"2\", \"xref\": \"x1\", \"yref\": \"y1\", \"font\": {\"color\": \"#000000\"}, \"showarrow\": false}, {\"text\": \"0.01\", \"x\": \"9\", \"y\": \"2\", \"xref\": \"x1\", \"yref\": \"y1\", \"font\": {\"color\": \"#000000\"}, \"showarrow\": false}, {\"text\": \"0.01\", \"x\": \"0\", \"y\": \"3\", \"xref\": \"x1\", \"yref\": \"y1\", \"font\": {\"color\": \"#000000\"}, \"showarrow\": false}, {\"text\": \"0.02\", \"x\": \"1\", \"y\": \"3\", \"xref\": \"x1\", \"yref\": \"y1\", \"font\": {\"color\": \"#000000\"}, \"showarrow\": false}, {\"text\": \"0.01\", \"x\": \"2\", \"y\": \"3\", \"xref\": \"x1\", \"yref\": \"y1\", \"font\": {\"color\": \"#000000\"}, \"showarrow\": false}, {\"text\": \"0.83\", \"x\": \"3\", \"y\": \"3\", \"xref\": \"x1\", \"yref\": \"y1\", \"font\": {\"color\": \"#FFFFFF\"}, \"showarrow\": false}, {\"text\": \"0.00\", \"x\": \"4\", \"y\": \"3\", \"xref\": \"x1\", \"yref\": \"y1\", \"font\": {\"color\": \"#000000\"}, \"showarrow\": false}, {\"text\": \"0.04\", \"x\": \"5\", \"y\": \"3\", \"xref\": \"x1\", \"yref\": \"y1\", \"font\": {\"color\": \"#000000\"}, \"showarrow\": false}, {\"text\": \"0.01\", \"x\": \"6\", \"y\": \"3\", \"xref\": \"x1\", \"yref\": \"y1\", \"font\": {\"color\": \"#000000\"}, \"showarrow\": false}, {\"text\": \"0.01\", \"x\": \"7\", \"y\": \"3\", \"xref\": \"x1\", \"yref\": \"y1\", \"font\": {\"color\": \"#000000\"}, \"showarrow\": false}, {\"text\": \"0.01\", \"x\": \"8\", \"y\": \"3\", \"xref\": \"x1\", \"yref\": \"y1\", \"font\": {\"color\": \"#000000\"}, \"showarrow\": false}, {\"text\": \"0.03\", \"x\": \"9\", \"y\": \"3\", \"xref\": \"x1\", \"yref\": \"y1\", \"font\": {\"color\": \"#000000\"}, \"showarrow\": false}, {\"text\": \"0.01\", \"x\": \"0\", \"y\": \"4\", \"xref\": \"x1\", \"yref\": \"y1\", \"font\": {\"color\": \"#000000\"}, \"showarrow\": false}, {\"text\": \"0.02\", \"x\": \"1\", \"y\": \"4\", \"xref\": \"x1\", \"yref\": \"y1\", \"font\": {\"color\": \"#000000\"}, \"showarrow\": false}, {\"text\": \"0.03\", \"x\": \"2\", \"y\": \"4\", \"xref\": \"x1\", \"yref\": \"y1\", \"font\": {\"color\": \"#000000\"}, \"showarrow\": false}, {\"text\": \"0.01\", \"x\": \"3\", \"y\": \"4\", \"xref\": \"x1\", \"yref\": \"y1\", \"font\": {\"color\": \"#000000\"}, \"showarrow\": false}, {\"text\": \"0.89\", \"x\": \"4\", \"y\": \"4\", \"xref\": \"x1\", \"yref\": \"y1\", \"font\": {\"color\": \"#FFFFFF\"}, \"showarrow\": false}, {\"text\": \"0.02\", \"x\": \"5\", \"y\": \"4\", \"xref\": \"x1\", \"yref\": \"y1\", \"font\": {\"color\": \"#000000\"}, \"showarrow\": false}, {\"text\": \"0.04\", \"x\": \"6\", \"y\": \"4\", \"xref\": \"x1\", \"yref\": \"y1\", \"font\": {\"color\": \"#000000\"}, \"showarrow\": false}, {\"text\": \"0.00\", \"x\": \"7\", \"y\": \"4\", \"xref\": \"x1\", \"yref\": \"y1\", \"font\": {\"color\": \"#000000\"}, \"showarrow\": false}, {\"text\": \"0.05\", \"x\": \"8\", \"y\": \"4\", \"xref\": \"x1\", \"yref\": \"y1\", \"font\": {\"color\": \"#000000\"}, \"showarrow\": false}, {\"text\": \"0.01\", \"x\": \"9\", \"y\": \"4\", \"xref\": \"x1\", \"yref\": \"y1\", \"font\": {\"color\": \"#000000\"}, \"showarrow\": false}, {\"text\": \"\", \"x\": \"0\", \"y\": \"5\", \"xref\": \"x1\", \"yref\": \"y1\", \"font\": {\"color\": \"#000000\"}, \"showarrow\": false}, {\"text\": \"0.01\", \"x\": \"1\", \"y\": \"5\", \"xref\": \"x1\", \"yref\": \"y1\", \"font\": {\"color\": \"#000000\"}, \"showarrow\": false}, {\"text\": \"0.01\", \"x\": \"2\", \"y\": \"5\", \"xref\": \"x1\", \"yref\": \"y1\", \"font\": {\"color\": \"#000000\"}, \"showarrow\": false}, {\"text\": \"0.04\", \"x\": \"3\", \"y\": \"5\", \"xref\": \"x1\", \"yref\": \"y1\", \"font\": {\"color\": \"#000000\"}, \"showarrow\": false}, {\"text\": \"\", \"x\": \"4\", \"y\": \"5\", \"xref\": \"x1\", \"yref\": \"y1\", \"font\": {\"color\": \"#000000\"}, \"showarrow\": false}, {\"text\": \"0.79\", \"x\": \"5\", \"y\": \"5\", \"xref\": \"x1\", \"yref\": \"y1\", \"font\": {\"color\": \"#FFFFFF\"}, \"showarrow\": false}, {\"text\": \"0.02\", \"x\": \"6\", \"y\": \"5\", \"xref\": \"x1\", \"yref\": \"y1\", \"font\": {\"color\": \"#000000\"}, \"showarrow\": false}, {\"text\": \"0.02\", \"x\": \"7\", \"y\": \"5\", \"xref\": \"x1\", \"yref\": \"y1\", \"font\": {\"color\": \"#000000\"}, \"showarrow\": false}, {\"text\": \"0.01\", \"x\": \"8\", \"y\": \"5\", \"xref\": \"x1\", \"yref\": \"y1\", \"font\": {\"color\": \"#000000\"}, \"showarrow\": false}, {\"text\": \"0.02\", \"x\": \"9\", \"y\": \"5\", \"xref\": \"x1\", \"yref\": \"y1\", \"font\": {\"color\": \"#000000\"}, \"showarrow\": false}, {\"text\": \"0.03\", \"x\": \"0\", \"y\": \"6\", \"xref\": \"x1\", \"yref\": \"y1\", \"font\": {\"color\": \"#000000\"}, \"showarrow\": false}, {\"text\": \"0.02\", \"x\": \"1\", \"y\": \"6\", \"xref\": \"x1\", \"yref\": \"y1\", \"font\": {\"color\": \"#000000\"}, \"showarrow\": false}, {\"text\": \"\", \"x\": \"2\", \"y\": \"6\", \"xref\": \"x1\", \"yref\": \"y1\", \"font\": {\"color\": \"#000000\"}, \"showarrow\": false}, {\"text\": \"\", \"x\": \"3\", \"y\": \"6\", \"xref\": \"x1\", \"yref\": \"y1\", \"font\": {\"color\": \"#000000\"}, \"showarrow\": false}, {\"text\": \"0.01\", \"x\": \"4\", \"y\": \"6\", \"xref\": \"x1\", \"yref\": \"y1\", \"font\": {\"color\": \"#000000\"}, \"showarrow\": false}, {\"text\": \"0.01\", \"x\": \"5\", \"y\": \"6\", \"xref\": \"x1\", \"yref\": \"y1\", \"font\": {\"color\": \"#000000\"}, \"showarrow\": false}, {\"text\": \"0.75\", \"x\": \"6\", \"y\": \"6\", \"xref\": \"x1\", \"yref\": \"y1\", \"font\": {\"color\": \"#FFFFFF\"}, \"showarrow\": false}, {\"text\": \"0.01\", \"x\": \"7\", \"y\": \"6\", \"xref\": \"x1\", \"yref\": \"y1\", \"font\": {\"color\": \"#000000\"}, \"showarrow\": false}, {\"text\": \"0.01\", \"x\": \"8\", \"y\": \"6\", \"xref\": \"x1\", \"yref\": \"y1\", \"font\": {\"color\": \"#000000\"}, \"showarrow\": false}, {\"text\": \"0.01\", \"x\": \"9\", \"y\": \"6\", \"xref\": \"x1\", \"yref\": \"y1\", \"font\": {\"color\": \"#000000\"}, \"showarrow\": false}, {\"text\": \"0.01\", \"x\": \"0\", \"y\": \"7\", \"xref\": \"x1\", \"yref\": \"y1\", \"font\": {\"color\": \"#000000\"}, \"showarrow\": false}, {\"text\": \"0.01\", \"x\": \"1\", \"y\": \"7\", \"xref\": \"x1\", \"yref\": \"y1\", \"font\": {\"color\": \"#000000\"}, \"showarrow\": false}, {\"text\": \"\", \"x\": \"2\", \"y\": \"7\", \"xref\": \"x1\", \"yref\": \"y1\", \"font\": {\"color\": \"#000000\"}, \"showarrow\": false}, {\"text\": \"0.02\", \"x\": \"3\", \"y\": \"7\", \"xref\": \"x1\", \"yref\": \"y1\", \"font\": {\"color\": \"#000000\"}, \"showarrow\": false}, {\"text\": \"\", \"x\": \"4\", \"y\": \"7\", \"xref\": \"x1\", \"yref\": \"y1\", \"font\": {\"color\": \"#000000\"}, \"showarrow\": false}, {\"text\": \"0.02\", \"x\": \"5\", \"y\": \"7\", \"xref\": \"x1\", \"yref\": \"y1\", \"font\": {\"color\": \"#000000\"}, \"showarrow\": false}, {\"text\": \"\", \"x\": \"6\", \"y\": \"7\", \"xref\": \"x1\", \"yref\": \"y1\", \"font\": {\"color\": \"#000000\"}, \"showarrow\": false}, {\"text\": \"0.89\", \"x\": \"7\", \"y\": \"7\", \"xref\": \"x1\", \"yref\": \"y1\", \"font\": {\"color\": \"#FFFFFF\"}, \"showarrow\": false}, {\"text\": \"0.02\", \"x\": \"8\", \"y\": \"7\", \"xref\": \"x1\", \"yref\": \"y1\", \"font\": {\"color\": \"#000000\"}, \"showarrow\": false}, {\"text\": \"0.02\", \"x\": \"9\", \"y\": \"7\", \"xref\": \"x1\", \"yref\": \"y1\", \"font\": {\"color\": \"#000000\"}, \"showarrow\": false}, {\"text\": \"0.01\", \"x\": \"0\", \"y\": \"8\", \"xref\": \"x1\", \"yref\": \"y1\", \"font\": {\"color\": \"#000000\"}, \"showarrow\": false}, {\"text\": \"0.01\", \"x\": \"1\", \"y\": \"8\", \"xref\": \"x1\", \"yref\": \"y1\", \"font\": {\"color\": \"#000000\"}, \"showarrow\": false}, {\"text\": \"0.01\", \"x\": \"2\", \"y\": \"8\", \"xref\": \"x1\", \"yref\": \"y1\", \"font\": {\"color\": \"#000000\"}, \"showarrow\": false}, {\"text\": \"0.01\", \"x\": \"3\", \"y\": \"8\", \"xref\": \"x1\", \"yref\": \"y1\", \"font\": {\"color\": \"#000000\"}, \"showarrow\": false}, {\"text\": \"0.02\", \"x\": \"4\", \"y\": \"8\", \"xref\": \"x1\", \"yref\": \"y1\", \"font\": {\"color\": \"#000000\"}, \"showarrow\": false}, {\"text\": \"\", \"x\": \"5\", \"y\": \"8\", \"xref\": \"x1\", \"yref\": \"y1\", \"font\": {\"color\": \"#000000\"}, \"showarrow\": false}, {\"text\": \"0.02\", \"x\": \"6\", \"y\": \"8\", \"xref\": \"x1\", \"yref\": \"y1\", \"font\": {\"color\": \"#000000\"}, \"showarrow\": false}, {\"text\": \"\", \"x\": \"7\", \"y\": \"8\", \"xref\": \"x1\", \"yref\": \"y1\", \"font\": {\"color\": \"#000000\"}, \"showarrow\": false}, {\"text\": \"0.76\", \"x\": \"8\", \"y\": \"8\", \"xref\": \"x1\", \"yref\": \"y1\", \"font\": {\"color\": \"#FFFFFF\"}, \"showarrow\": false}, {\"text\": \"0.03\", \"x\": \"9\", \"y\": \"8\", \"xref\": \"x1\", \"yref\": \"y1\", \"font\": {\"color\": \"#000000\"}, \"showarrow\": false}, {\"text\": \"0.07\", \"x\": \"0\", \"y\": \"9\", \"xref\": \"x1\", \"yref\": \"y1\", \"font\": {\"color\": \"#000000\"}, \"showarrow\": false}, {\"text\": \"0.02\", \"x\": \"1\", \"y\": \"9\", \"xref\": \"x1\", \"yref\": \"y1\", \"font\": {\"color\": \"#000000\"}, \"showarrow\": false}, {\"text\": \"0.01\", \"x\": \"2\", \"y\": \"9\", \"xref\": \"x1\", \"yref\": \"y1\", \"font\": {\"color\": \"#000000\"}, \"showarrow\": false}, {\"text\": \"0.03\", \"x\": \"3\", \"y\": \"9\", \"xref\": \"x1\", \"yref\": \"y1\", \"font\": {\"color\": \"#000000\"}, \"showarrow\": false}, {\"text\": \"0.02\", \"x\": \"4\", \"y\": \"9\", \"xref\": \"x1\", \"yref\": \"y1\", \"font\": {\"color\": \"#000000\"}, \"showarrow\": false}, {\"text\": \"0.04\", \"x\": \"5\", \"y\": \"9\", \"xref\": \"x1\", \"yref\": \"y1\", \"font\": {\"color\": \"#000000\"}, \"showarrow\": false}, {\"text\": \"0.06\", \"x\": \"6\", \"y\": \"9\", \"xref\": \"x1\", \"yref\": \"y1\", \"font\": {\"color\": \"#000000\"}, \"showarrow\": false}, {\"text\": \"0.00\", \"x\": \"7\", \"y\": \"9\", \"xref\": \"x1\", \"yref\": \"y1\", \"font\": {\"color\": \"#000000\"}, \"showarrow\": false}, {\"text\": \"0.04\", \"x\": \"8\", \"y\": \"9\", \"xref\": \"x1\", \"yref\": \"y1\", \"font\": {\"color\": \"#000000\"}, \"showarrow\": false}, {\"text\": \"0.83\", \"x\": \"9\", \"y\": \"9\", \"xref\": \"x1\", \"yref\": \"y1\", \"font\": {\"color\": \"#FFFFFF\"}, \"showarrow\": false}], \"xaxis\": {\"ticks\": \"\", \"dtick\": 1, \"side\": \"bottom\", \"gridcolor\": \"rgb(0, 0, 0)\", \"title\": \"Predicted values\"}, \"yaxis\": {\"ticks\": \"\", \"dtick\": 1, \"ticksuffix\": \"  \", \"anchor\": \"bottom\", \"title\": \"True values\"}, \"title\": \"Confusion Matrix of Number NN\"}, {\"showLink\": false, \"linkText\": \"Export to plot.ly\"})});</script>"
      ],
      "text/vnd.plotly.v1+html": [
       "<div id=\"38ca0bcb-06da-46d3-894a-9889498d7c5e\" style=\"height: 525px; width: 100%;\" class=\"plotly-graph-div\"></div><script type=\"text/javascript\">require([\"plotly\"], function(Plotly) { window.PLOTLYENV=window.PLOTLYENV || {};window.PLOTLYENV.BASE_URL=\"https://plot.ly\";Plotly.newPlot(\"38ca0bcb-06da-46d3-894a-9889498d7c5e\", [{\"type\": \"heatmap\", \"z\": [[0.71484375, 0.03570556640625, 0.0, 0.005077362060546875, 0.004901885986328125, 0.0, 0.0094757080078125, 0.00478363037109375, 0.0, 0.0160369873046875], [0.10498046875, 0.8212890625, 0.024993896484375, 0.0253753662109375, 0.00980377197265625, 0.0445556640625, 0.0758056640625, 0.052642822265625, 0.041229248046875, 0.0267333984375], [0.040008544921875, 0.045928955078125, 0.89990234375, 0.045684814453125, 0.0343017578125, 0.03466796875, 0.0094757080078125, 0.0095672607421875, 0.05670166015625, 0.0106964111328125], [0.0149993896484375, 0.0204010009765625, 0.005001068115234375, 0.83251953125, 0.004901885986328125, 0.0445556640625, 0.0094757080078125, 0.0095672607421875, 0.01030731201171875, 0.032073974609375], [0.0149993896484375, 0.0204010009765625, 0.029998779296875, 0.01015472412109375, 0.88720703125, 0.019805908203125, 0.04266357421875, 0.00478363037109375, 0.051544189453125, 0.0106964111328125], [0.0, 0.005100250244140625, 0.01000213623046875, 0.0355224609375, 0.0, 0.787109375, 0.0236968994140625, 0.019134521484375, 0.01030731201171875, 0.0160369873046875], [0.029998779296875, 0.0204010009765625, 0.0, 0.0, 0.00980377197265625, 0.0099029541015625, 0.7490234375, 0.0095672607421875, 0.01030731201171875, 0.0106964111328125], [0.01000213623046875, 0.01020050048828125, 0.0, 0.015228271484375, 0.0, 0.019805908203125, 0.0, 0.88525390625, 0.01546478271484375, 0.0160369873046875], [0.005001068115234375, 0.005100250244140625, 0.0149993896484375, 0.005077362060546875, 0.024505615234375, 0.0, 0.018951416015625, 0.0, 0.7626953125, 0.0267333984375], [0.06500244140625, 0.0153045654296875, 0.0149993896484375, 0.0253753662109375, 0.024505615234375, 0.03961181640625, 0.061614990234375, 0.00478363037109375, 0.041229248046875, 0.833984375]], \"x\": [\"0\", \"1\", \"2\", \"3\", \"4\", \"5\", \"6\", \"7\", \"8\", \"9\"], \"y\": [\"0\", \"1\", \"2\", \"3\", \"4\", \"5\", \"6\", \"7\", \"8\", \"9\"], \"colorscale\": [[0.0, \"#e5e5ff\"], [0.05, \"#cacaf0\"], [0.1, \"#b0b0e1\"], [0.25, \"#9494d2\"], [0.5, \"#7a7ac3\"], [0.75, \"#5e5eb4\"], [0.9, \"#4444a5\"], [1.0, \"#282896\"]], \"showscale\": true, \"xgap\": 1.25, \"ygap\": 1.25, \"colorbar\": {\"tickmode\": \"array\"}}], {\"annotations\": [{\"text\": \"0.71\", \"x\": \"0\", \"y\": \"0\", \"xref\": \"x1\", \"yref\": \"y1\", \"font\": {\"color\": \"#FFFFFF\"}, \"showarrow\": false}, {\"text\": \"0.04\", \"x\": \"1\", \"y\": \"0\", \"xref\": \"x1\", \"yref\": \"y1\", \"font\": {\"color\": \"#000000\"}, \"showarrow\": false}, {\"text\": \"\", \"x\": \"2\", \"y\": \"0\", \"xref\": \"x1\", \"yref\": \"y1\", \"font\": {\"color\": \"#000000\"}, \"showarrow\": false}, {\"text\": \"0.01\", \"x\": \"3\", \"y\": \"0\", \"xref\": \"x1\", \"yref\": \"y1\", \"font\": {\"color\": \"#000000\"}, \"showarrow\": false}, {\"text\": \"0.00\", \"x\": \"4\", \"y\": \"0\", \"xref\": \"x1\", \"yref\": \"y1\", \"font\": {\"color\": \"#000000\"}, \"showarrow\": false}, {\"text\": \"\", \"x\": \"5\", \"y\": \"0\", \"xref\": \"x1\", \"yref\": \"y1\", \"font\": {\"color\": \"#000000\"}, \"showarrow\": false}, {\"text\": \"0.01\", \"x\": \"6\", \"y\": \"0\", \"xref\": \"x1\", \"yref\": \"y1\", \"font\": {\"color\": \"#000000\"}, \"showarrow\": false}, {\"text\": \"0.00\", \"x\": \"7\", \"y\": \"0\", \"xref\": \"x1\", \"yref\": \"y1\", \"font\": {\"color\": \"#000000\"}, \"showarrow\": false}, {\"text\": \"\", \"x\": \"8\", \"y\": \"0\", \"xref\": \"x1\", \"yref\": \"y1\", \"font\": {\"color\": \"#000000\"}, \"showarrow\": false}, {\"text\": \"0.02\", \"x\": \"9\", \"y\": \"0\", \"xref\": \"x1\", \"yref\": \"y1\", \"font\": {\"color\": \"#000000\"}, \"showarrow\": false}, {\"text\": \"0.10\", \"x\": \"0\", \"y\": \"1\", \"xref\": \"x1\", \"yref\": \"y1\", \"font\": {\"color\": \"#000000\"}, \"showarrow\": false}, {\"text\": \"0.82\", \"x\": \"1\", \"y\": \"1\", \"xref\": \"x1\", \"yref\": \"y1\", \"font\": {\"color\": \"#FFFFFF\"}, \"showarrow\": false}, {\"text\": \"0.02\", \"x\": \"2\", \"y\": \"1\", \"xref\": \"x1\", \"yref\": \"y1\", \"font\": {\"color\": \"#000000\"}, \"showarrow\": false}, {\"text\": \"0.03\", \"x\": \"3\", \"y\": \"1\", \"xref\": \"x1\", \"yref\": \"y1\", \"font\": {\"color\": \"#000000\"}, \"showarrow\": false}, {\"text\": \"0.01\", \"x\": \"4\", \"y\": \"1\", \"xref\": \"x1\", \"yref\": \"y1\", \"font\": {\"color\": \"#000000\"}, \"showarrow\": false}, {\"text\": \"0.04\", \"x\": \"5\", \"y\": \"1\", \"xref\": \"x1\", \"yref\": \"y1\", \"font\": {\"color\": \"#000000\"}, \"showarrow\": false}, {\"text\": \"0.08\", \"x\": \"6\", \"y\": \"1\", \"xref\": \"x1\", \"yref\": \"y1\", \"font\": {\"color\": \"#000000\"}, \"showarrow\": false}, {\"text\": \"0.05\", \"x\": \"7\", \"y\": \"1\", \"xref\": \"x1\", \"yref\": \"y1\", \"font\": {\"color\": \"#000000\"}, \"showarrow\": false}, {\"text\": \"0.04\", \"x\": \"8\", \"y\": \"1\", \"xref\": \"x1\", \"yref\": \"y1\", \"font\": {\"color\": \"#000000\"}, \"showarrow\": false}, {\"text\": \"0.03\", \"x\": \"9\", \"y\": \"1\", \"xref\": \"x1\", \"yref\": \"y1\", \"font\": {\"color\": \"#000000\"}, \"showarrow\": false}, {\"text\": \"0.04\", \"x\": \"0\", \"y\": \"2\", \"xref\": \"x1\", \"yref\": \"y1\", \"font\": {\"color\": \"#000000\"}, \"showarrow\": false}, {\"text\": \"0.05\", \"x\": \"1\", \"y\": \"2\", \"xref\": \"x1\", \"yref\": \"y1\", \"font\": {\"color\": \"#000000\"}, \"showarrow\": false}, {\"text\": \"0.90\", \"x\": \"2\", \"y\": \"2\", \"xref\": \"x1\", \"yref\": \"y1\", \"font\": {\"color\": \"#FFFFFF\"}, \"showarrow\": false}, {\"text\": \"0.05\", \"x\": \"3\", \"y\": \"2\", \"xref\": \"x1\", \"yref\": \"y1\", \"font\": {\"color\": \"#000000\"}, \"showarrow\": false}, {\"text\": \"0.03\", \"x\": \"4\", \"y\": \"2\", \"xref\": \"x1\", \"yref\": \"y1\", \"font\": {\"color\": \"#000000\"}, \"showarrow\": false}, {\"text\": \"0.03\", \"x\": \"5\", \"y\": \"2\", \"xref\": \"x1\", \"yref\": \"y1\", \"font\": {\"color\": \"#000000\"}, \"showarrow\": false}, {\"text\": \"0.01\", \"x\": \"6\", \"y\": \"2\", \"xref\": \"x1\", \"yref\": \"y1\", \"font\": {\"color\": \"#000000\"}, \"showarrow\": false}, {\"text\": \"0.01\", \"x\": \"7\", \"y\": \"2\", \"xref\": \"x1\", \"yref\": \"y1\", \"font\": {\"color\": \"#000000\"}, \"showarrow\": false}, {\"text\": \"0.06\", \"x\": \"8\", \"y\": \"2\", \"xref\": \"x1\", \"yref\": \"y1\", \"font\": {\"color\": \"#000000\"}, \"showarrow\": false}, {\"text\": \"0.01\", \"x\": \"9\", \"y\": \"2\", \"xref\": \"x1\", \"yref\": \"y1\", \"font\": {\"color\": \"#000000\"}, \"showarrow\": false}, {\"text\": \"0.01\", \"x\": \"0\", \"y\": \"3\", \"xref\": \"x1\", \"yref\": \"y1\", \"font\": {\"color\": \"#000000\"}, \"showarrow\": false}, {\"text\": \"0.02\", \"x\": \"1\", \"y\": \"3\", \"xref\": \"x1\", \"yref\": \"y1\", \"font\": {\"color\": \"#000000\"}, \"showarrow\": false}, {\"text\": \"0.01\", \"x\": \"2\", \"y\": \"3\", \"xref\": \"x1\", \"yref\": \"y1\", \"font\": {\"color\": \"#000000\"}, \"showarrow\": false}, {\"text\": \"0.83\", \"x\": \"3\", \"y\": \"3\", \"xref\": \"x1\", \"yref\": \"y1\", \"font\": {\"color\": \"#FFFFFF\"}, \"showarrow\": false}, {\"text\": \"0.00\", \"x\": \"4\", \"y\": \"3\", \"xref\": \"x1\", \"yref\": \"y1\", \"font\": {\"color\": \"#000000\"}, \"showarrow\": false}, {\"text\": \"0.04\", \"x\": \"5\", \"y\": \"3\", \"xref\": \"x1\", \"yref\": \"y1\", \"font\": {\"color\": \"#000000\"}, \"showarrow\": false}, {\"text\": \"0.01\", \"x\": \"6\", \"y\": \"3\", \"xref\": \"x1\", \"yref\": \"y1\", \"font\": {\"color\": \"#000000\"}, \"showarrow\": false}, {\"text\": \"0.01\", \"x\": \"7\", \"y\": \"3\", \"xref\": \"x1\", \"yref\": \"y1\", \"font\": {\"color\": \"#000000\"}, \"showarrow\": false}, {\"text\": \"0.01\", \"x\": \"8\", \"y\": \"3\", \"xref\": \"x1\", \"yref\": \"y1\", \"font\": {\"color\": \"#000000\"}, \"showarrow\": false}, {\"text\": \"0.03\", \"x\": \"9\", \"y\": \"3\", \"xref\": \"x1\", \"yref\": \"y1\", \"font\": {\"color\": \"#000000\"}, \"showarrow\": false}, {\"text\": \"0.01\", \"x\": \"0\", \"y\": \"4\", \"xref\": \"x1\", \"yref\": \"y1\", \"font\": {\"color\": \"#000000\"}, \"showarrow\": false}, {\"text\": \"0.02\", \"x\": \"1\", \"y\": \"4\", \"xref\": \"x1\", \"yref\": \"y1\", \"font\": {\"color\": \"#000000\"}, \"showarrow\": false}, {\"text\": \"0.03\", \"x\": \"2\", \"y\": \"4\", \"xref\": \"x1\", \"yref\": \"y1\", \"font\": {\"color\": \"#000000\"}, \"showarrow\": false}, {\"text\": \"0.01\", \"x\": \"3\", \"y\": \"4\", \"xref\": \"x1\", \"yref\": \"y1\", \"font\": {\"color\": \"#000000\"}, \"showarrow\": false}, {\"text\": \"0.89\", \"x\": \"4\", \"y\": \"4\", \"xref\": \"x1\", \"yref\": \"y1\", \"font\": {\"color\": \"#FFFFFF\"}, \"showarrow\": false}, {\"text\": \"0.02\", \"x\": \"5\", \"y\": \"4\", \"xref\": \"x1\", \"yref\": \"y1\", \"font\": {\"color\": \"#000000\"}, \"showarrow\": false}, {\"text\": \"0.04\", \"x\": \"6\", \"y\": \"4\", \"xref\": \"x1\", \"yref\": \"y1\", \"font\": {\"color\": \"#000000\"}, \"showarrow\": false}, {\"text\": \"0.00\", \"x\": \"7\", \"y\": \"4\", \"xref\": \"x1\", \"yref\": \"y1\", \"font\": {\"color\": \"#000000\"}, \"showarrow\": false}, {\"text\": \"0.05\", \"x\": \"8\", \"y\": \"4\", \"xref\": \"x1\", \"yref\": \"y1\", \"font\": {\"color\": \"#000000\"}, \"showarrow\": false}, {\"text\": \"0.01\", \"x\": \"9\", \"y\": \"4\", \"xref\": \"x1\", \"yref\": \"y1\", \"font\": {\"color\": \"#000000\"}, \"showarrow\": false}, {\"text\": \"\", \"x\": \"0\", \"y\": \"5\", \"xref\": \"x1\", \"yref\": \"y1\", \"font\": {\"color\": \"#000000\"}, \"showarrow\": false}, {\"text\": \"0.01\", \"x\": \"1\", \"y\": \"5\", \"xref\": \"x1\", \"yref\": \"y1\", \"font\": {\"color\": \"#000000\"}, \"showarrow\": false}, {\"text\": \"0.01\", \"x\": \"2\", \"y\": \"5\", \"xref\": \"x1\", \"yref\": \"y1\", \"font\": {\"color\": \"#000000\"}, \"showarrow\": false}, {\"text\": \"0.04\", \"x\": \"3\", \"y\": \"5\", \"xref\": \"x1\", \"yref\": \"y1\", \"font\": {\"color\": \"#000000\"}, \"showarrow\": false}, {\"text\": \"\", \"x\": \"4\", \"y\": \"5\", \"xref\": \"x1\", \"yref\": \"y1\", \"font\": {\"color\": \"#000000\"}, \"showarrow\": false}, {\"text\": \"0.79\", \"x\": \"5\", \"y\": \"5\", \"xref\": \"x1\", \"yref\": \"y1\", \"font\": {\"color\": \"#FFFFFF\"}, \"showarrow\": false}, {\"text\": \"0.02\", \"x\": \"6\", \"y\": \"5\", \"xref\": \"x1\", \"yref\": \"y1\", \"font\": {\"color\": \"#000000\"}, \"showarrow\": false}, {\"text\": \"0.02\", \"x\": \"7\", \"y\": \"5\", \"xref\": \"x1\", \"yref\": \"y1\", \"font\": {\"color\": \"#000000\"}, \"showarrow\": false}, {\"text\": \"0.01\", \"x\": \"8\", \"y\": \"5\", \"xref\": \"x1\", \"yref\": \"y1\", \"font\": {\"color\": \"#000000\"}, \"showarrow\": false}, {\"text\": \"0.02\", \"x\": \"9\", \"y\": \"5\", \"xref\": \"x1\", \"yref\": \"y1\", \"font\": {\"color\": \"#000000\"}, \"showarrow\": false}, {\"text\": \"0.03\", \"x\": \"0\", \"y\": \"6\", \"xref\": \"x1\", \"yref\": \"y1\", \"font\": {\"color\": \"#000000\"}, \"showarrow\": false}, {\"text\": \"0.02\", \"x\": \"1\", \"y\": \"6\", \"xref\": \"x1\", \"yref\": \"y1\", \"font\": {\"color\": \"#000000\"}, \"showarrow\": false}, {\"text\": \"\", \"x\": \"2\", \"y\": \"6\", \"xref\": \"x1\", \"yref\": \"y1\", \"font\": {\"color\": \"#000000\"}, \"showarrow\": false}, {\"text\": \"\", \"x\": \"3\", \"y\": \"6\", \"xref\": \"x1\", \"yref\": \"y1\", \"font\": {\"color\": \"#000000\"}, \"showarrow\": false}, {\"text\": \"0.01\", \"x\": \"4\", \"y\": \"6\", \"xref\": \"x1\", \"yref\": \"y1\", \"font\": {\"color\": \"#000000\"}, \"showarrow\": false}, {\"text\": \"0.01\", \"x\": \"5\", \"y\": \"6\", \"xref\": \"x1\", \"yref\": \"y1\", \"font\": {\"color\": \"#000000\"}, \"showarrow\": false}, {\"text\": \"0.75\", \"x\": \"6\", \"y\": \"6\", \"xref\": \"x1\", \"yref\": \"y1\", \"font\": {\"color\": \"#FFFFFF\"}, \"showarrow\": false}, {\"text\": \"0.01\", \"x\": \"7\", \"y\": \"6\", \"xref\": \"x1\", \"yref\": \"y1\", \"font\": {\"color\": \"#000000\"}, \"showarrow\": false}, {\"text\": \"0.01\", \"x\": \"8\", \"y\": \"6\", \"xref\": \"x1\", \"yref\": \"y1\", \"font\": {\"color\": \"#000000\"}, \"showarrow\": false}, {\"text\": \"0.01\", \"x\": \"9\", \"y\": \"6\", \"xref\": \"x1\", \"yref\": \"y1\", \"font\": {\"color\": \"#000000\"}, \"showarrow\": false}, {\"text\": \"0.01\", \"x\": \"0\", \"y\": \"7\", \"xref\": \"x1\", \"yref\": \"y1\", \"font\": {\"color\": \"#000000\"}, \"showarrow\": false}, {\"text\": \"0.01\", \"x\": \"1\", \"y\": \"7\", \"xref\": \"x1\", \"yref\": \"y1\", \"font\": {\"color\": \"#000000\"}, \"showarrow\": false}, {\"text\": \"\", \"x\": \"2\", \"y\": \"7\", \"xref\": \"x1\", \"yref\": \"y1\", \"font\": {\"color\": \"#000000\"}, \"showarrow\": false}, {\"text\": \"0.02\", \"x\": \"3\", \"y\": \"7\", \"xref\": \"x1\", \"yref\": \"y1\", \"font\": {\"color\": \"#000000\"}, \"showarrow\": false}, {\"text\": \"\", \"x\": \"4\", \"y\": \"7\", \"xref\": \"x1\", \"yref\": \"y1\", \"font\": {\"color\": \"#000000\"}, \"showarrow\": false}, {\"text\": \"0.02\", \"x\": \"5\", \"y\": \"7\", \"xref\": \"x1\", \"yref\": \"y1\", \"font\": {\"color\": \"#000000\"}, \"showarrow\": false}, {\"text\": \"\", \"x\": \"6\", \"y\": \"7\", \"xref\": \"x1\", \"yref\": \"y1\", \"font\": {\"color\": \"#000000\"}, \"showarrow\": false}, {\"text\": \"0.89\", \"x\": \"7\", \"y\": \"7\", \"xref\": \"x1\", \"yref\": \"y1\", \"font\": {\"color\": \"#FFFFFF\"}, \"showarrow\": false}, {\"text\": \"0.02\", \"x\": \"8\", \"y\": \"7\", \"xref\": \"x1\", \"yref\": \"y1\", \"font\": {\"color\": \"#000000\"}, \"showarrow\": false}, {\"text\": \"0.02\", \"x\": \"9\", \"y\": \"7\", \"xref\": \"x1\", \"yref\": \"y1\", \"font\": {\"color\": \"#000000\"}, \"showarrow\": false}, {\"text\": \"0.01\", \"x\": \"0\", \"y\": \"8\", \"xref\": \"x1\", \"yref\": \"y1\", \"font\": {\"color\": \"#000000\"}, \"showarrow\": false}, {\"text\": \"0.01\", \"x\": \"1\", \"y\": \"8\", \"xref\": \"x1\", \"yref\": \"y1\", \"font\": {\"color\": \"#000000\"}, \"showarrow\": false}, {\"text\": \"0.01\", \"x\": \"2\", \"y\": \"8\", \"xref\": \"x1\", \"yref\": \"y1\", \"font\": {\"color\": \"#000000\"}, \"showarrow\": false}, {\"text\": \"0.01\", \"x\": \"3\", \"y\": \"8\", \"xref\": \"x1\", \"yref\": \"y1\", \"font\": {\"color\": \"#000000\"}, \"showarrow\": false}, {\"text\": \"0.02\", \"x\": \"4\", \"y\": \"8\", \"xref\": \"x1\", \"yref\": \"y1\", \"font\": {\"color\": \"#000000\"}, \"showarrow\": false}, {\"text\": \"\", \"x\": \"5\", \"y\": \"8\", \"xref\": \"x1\", \"yref\": \"y1\", \"font\": {\"color\": \"#000000\"}, \"showarrow\": false}, {\"text\": \"0.02\", \"x\": \"6\", \"y\": \"8\", \"xref\": \"x1\", \"yref\": \"y1\", \"font\": {\"color\": \"#000000\"}, \"showarrow\": false}, {\"text\": \"\", \"x\": \"7\", \"y\": \"8\", \"xref\": \"x1\", \"yref\": \"y1\", \"font\": {\"color\": \"#000000\"}, \"showarrow\": false}, {\"text\": \"0.76\", \"x\": \"8\", \"y\": \"8\", \"xref\": \"x1\", \"yref\": \"y1\", \"font\": {\"color\": \"#FFFFFF\"}, \"showarrow\": false}, {\"text\": \"0.03\", \"x\": \"9\", \"y\": \"8\", \"xref\": \"x1\", \"yref\": \"y1\", \"font\": {\"color\": \"#000000\"}, \"showarrow\": false}, {\"text\": \"0.07\", \"x\": \"0\", \"y\": \"9\", \"xref\": \"x1\", \"yref\": \"y1\", \"font\": {\"color\": \"#000000\"}, \"showarrow\": false}, {\"text\": \"0.02\", \"x\": \"1\", \"y\": \"9\", \"xref\": \"x1\", \"yref\": \"y1\", \"font\": {\"color\": \"#000000\"}, \"showarrow\": false}, {\"text\": \"0.01\", \"x\": \"2\", \"y\": \"9\", \"xref\": \"x1\", \"yref\": \"y1\", \"font\": {\"color\": \"#000000\"}, \"showarrow\": false}, {\"text\": \"0.03\", \"x\": \"3\", \"y\": \"9\", \"xref\": \"x1\", \"yref\": \"y1\", \"font\": {\"color\": \"#000000\"}, \"showarrow\": false}, {\"text\": \"0.02\", \"x\": \"4\", \"y\": \"9\", \"xref\": \"x1\", \"yref\": \"y1\", \"font\": {\"color\": \"#000000\"}, \"showarrow\": false}, {\"text\": \"0.04\", \"x\": \"5\", \"y\": \"9\", \"xref\": \"x1\", \"yref\": \"y1\", \"font\": {\"color\": \"#000000\"}, \"showarrow\": false}, {\"text\": \"0.06\", \"x\": \"6\", \"y\": \"9\", \"xref\": \"x1\", \"yref\": \"y1\", \"font\": {\"color\": \"#000000\"}, \"showarrow\": false}, {\"text\": \"0.00\", \"x\": \"7\", \"y\": \"9\", \"xref\": \"x1\", \"yref\": \"y1\", \"font\": {\"color\": \"#000000\"}, \"showarrow\": false}, {\"text\": \"0.04\", \"x\": \"8\", \"y\": \"9\", \"xref\": \"x1\", \"yref\": \"y1\", \"font\": {\"color\": \"#000000\"}, \"showarrow\": false}, {\"text\": \"0.83\", \"x\": \"9\", \"y\": \"9\", \"xref\": \"x1\", \"yref\": \"y1\", \"font\": {\"color\": \"#FFFFFF\"}, \"showarrow\": false}], \"xaxis\": {\"ticks\": \"\", \"dtick\": 1, \"side\": \"bottom\", \"gridcolor\": \"rgb(0, 0, 0)\", \"title\": \"Predicted values\"}, \"yaxis\": {\"ticks\": \"\", \"dtick\": 1, \"ticksuffix\": \"  \", \"anchor\": \"bottom\", \"title\": \"True values\"}, \"title\": \"Confusion Matrix of Number NN\"}, {\"showLink\": false, \"linkText\": \"Export to plot.ly\"})});</script>"
      ]
     },
     "metadata": {},
     "output_type": "display_data"
    }
   ],
   "source": [
    "plot_confusion_matrix(num_confusion_matrix, num_labels, title='Confusion Matrix of Number NN')"
   ]
  },
  {
   "cell_type": "code",
   "execution_count": 25,
   "metadata": {},
   "outputs": [],
   "source": [
    "from plotly import tools"
   ]
  },
  {
   "cell_type": "code",
   "execution_count": 26,
   "metadata": {},
   "outputs": [
    {
     "name": "stderr",
     "output_type": "stream",
     "text": [
      "/home/macermak/code/thesis/intect/env/lib64/python3.6/site-packages/ipykernel_launcher.py:6: DeprecationWarning:\n",
      "\n",
      "In future, it will be an error for 'np.bool_' scalars to be interpreted as an index\n",
      "\n"
     ]
    },
    {
     "data": {
      "application/vnd.plotly.v1+json": {
       "data": [
        {
         "colorbar": {
          "tickmode": "array"
         },
         "colorscale": [
          [
           0,
           "#e5e5ff"
          ],
          [
           0.05,
           "#cacaf0"
          ],
          [
           0.1,
           "#b0b0e1"
          ],
          [
           0.25,
           "#9494d2"
          ],
          [
           0.5,
           "#7a7ac3"
          ],
          [
           0.75,
           "#5e5eb4"
          ],
          [
           0.9,
           "#4444a5"
          ],
          [
           1,
           "#282896"
          ]
         ],
         "showscale": true,
         "type": "heatmap",
         "x": [
          "n",
          "o",
          "p",
          "q",
          "r",
          "s",
          "t",
          "u",
          "v",
          "w",
          "x",
          "y",
          "z"
         ],
         "xgap": 1.25,
         "y": [
          "n",
          "o",
          "p",
          "q",
          "r",
          "s",
          "t",
          "u",
          "v",
          "w",
          "x",
          "y",
          "z"
         ],
         "ygap": 1.25,
         "z": [
          [
           0.814453125,
           0.01149749755859375,
           0.01265716552734375,
           0,
           0.01265716552734375,
           0.0555419921875,
           0,
           0,
           0.016387939453125,
           0.015869140625,
           0.033721923828125,
           0,
           0.014495849609375
          ],
          [
           0,
           0.609375,
           0,
           0.014495849609375,
           0,
           0,
           0,
           0.036590576171875,
           0,
           0,
           0,
           0,
           0
          ],
          [
           0.0142822265625,
           0.01149749755859375,
           0.7216796875,
           0,
           0,
           0,
           0,
           0,
           0,
           0,
           0,
           0,
           0.02899169921875
          ],
          [
           0,
           0.0229949951171875,
           0,
           0.69580078125,
           0,
           0,
           0,
           0.0121917724609375,
           0,
           0,
           0,
           0.03448486328125,
           0.02899169921875
          ],
          [
           0,
           0,
           0.01265716552734375,
           0.02899169921875,
           0.607421875,
           0,
           0,
           0.0121917724609375,
           0.016387939453125,
           0.03173828125,
           0,
           0,
           0
          ],
          [
           0.0142822265625,
           0.045989990234375,
           0.01265716552734375,
           0,
           0.01265716552734375,
           0.75,
           0.0270233154296875,
           0,
           0.0491943359375,
           0,
           0,
           0,
           0
          ],
          [
           0,
           0,
           0,
           0.014495849609375,
           0.11395263671875,
           0.0555419921875,
           0.9052734375,
           0.0121917724609375,
           0.016387939453125,
           0,
           0.0224761962890625,
           0,
           0.02899169921875
          ],
          [
           0.0142822265625,
           0.01149749755859375,
           0.01265716552734375,
           0,
           0.01265716552734375,
           0,
           0,
           0.70751953125,
           0,
           0,
           0.01123809814453125,
           0,
           0.014495849609375
          ],
          [
           0,
           0.03448486328125,
           0.075927734375,
           0,
           0.0379638671875,
           0.08331298828125,
           0.0270233154296875,
           0.0121917724609375,
           0.81982421875,
           0,
           0.01123809814453125,
           0.01149749755859375,
           0
          ],
          [
           0,
           0.01149749755859375,
           0,
           0.014495849609375,
           0.01265716552734375,
           0,
           0,
           0,
           0,
           0.71435546875,
           0,
           0,
           0.014495849609375
          ],
          [
           0.0142822265625,
           0,
           0,
           0,
           0,
           0,
           0,
           0.0121917724609375,
           0,
           0.047607421875,
           0.7529296875,
           0.01149749755859375,
           0.02899169921875
          ],
          [
           0,
           0.01149749755859375,
           0,
           0.014495849609375,
           0,
           0,
           0,
           0,
           0,
           0,
           0.033721923828125,
           0.73583984375,
           0.014495849609375
          ],
          [
           0.0428466796875,
           0.01149749755859375,
           0,
           0.02899169921875,
           0,
           0,
           0,
           0,
           0,
           0,
           0,
           0.01149749755859375,
           0.78271484375
          ]
         ]
        }
       ],
       "layout": {
        "annotations": [
         {
          "font": {
           "color": "#FFFFFF"
          },
          "showarrow": false,
          "text": "0.81",
          "x": "n",
          "xref": "x1",
          "y": "n",
          "yref": "y1"
         },
         {
          "font": {
           "color": "#000000"
          },
          "showarrow": false,
          "text": "0.01",
          "x": "o",
          "xref": "x1",
          "y": "n",
          "yref": "y1"
         },
         {
          "font": {
           "color": "#000000"
          },
          "showarrow": false,
          "text": "0.01",
          "x": "p",
          "xref": "x1",
          "y": "n",
          "yref": "y1"
         },
         {
          "font": {
           "color": "#000000"
          },
          "showarrow": false,
          "text": "",
          "x": "q",
          "xref": "x1",
          "y": "n",
          "yref": "y1"
         },
         {
          "font": {
           "color": "#000000"
          },
          "showarrow": false,
          "text": "0.01",
          "x": "r",
          "xref": "x1",
          "y": "n",
          "yref": "y1"
         },
         {
          "font": {
           "color": "#000000"
          },
          "showarrow": false,
          "text": "0.06",
          "x": "s",
          "xref": "x1",
          "y": "n",
          "yref": "y1"
         },
         {
          "font": {
           "color": "#000000"
          },
          "showarrow": false,
          "text": "",
          "x": "t",
          "xref": "x1",
          "y": "n",
          "yref": "y1"
         },
         {
          "font": {
           "color": "#000000"
          },
          "showarrow": false,
          "text": "",
          "x": "u",
          "xref": "x1",
          "y": "n",
          "yref": "y1"
         },
         {
          "font": {
           "color": "#000000"
          },
          "showarrow": false,
          "text": "0.02",
          "x": "v",
          "xref": "x1",
          "y": "n",
          "yref": "y1"
         },
         {
          "font": {
           "color": "#000000"
          },
          "showarrow": false,
          "text": "0.02",
          "x": "w",
          "xref": "x1",
          "y": "n",
          "yref": "y1"
         },
         {
          "font": {
           "color": "#000000"
          },
          "showarrow": false,
          "text": "0.03",
          "x": "x",
          "xref": "x1",
          "y": "n",
          "yref": "y1"
         },
         {
          "font": {
           "color": "#000000"
          },
          "showarrow": false,
          "text": "",
          "x": "y",
          "xref": "x1",
          "y": "n",
          "yref": "y1"
         },
         {
          "font": {
           "color": "#000000"
          },
          "showarrow": false,
          "text": "0.01",
          "x": "z",
          "xref": "x1",
          "y": "n",
          "yref": "y1"
         },
         {
          "font": {
           "color": "#000000"
          },
          "showarrow": false,
          "text": "",
          "x": "n",
          "xref": "x1",
          "y": "o",
          "yref": "y1"
         },
         {
          "font": {
           "color": "#FFFFFF"
          },
          "showarrow": false,
          "text": "0.61",
          "x": "o",
          "xref": "x1",
          "y": "o",
          "yref": "y1"
         },
         {
          "font": {
           "color": "#000000"
          },
          "showarrow": false,
          "text": "",
          "x": "p",
          "xref": "x1",
          "y": "o",
          "yref": "y1"
         },
         {
          "font": {
           "color": "#000000"
          },
          "showarrow": false,
          "text": "0.01",
          "x": "q",
          "xref": "x1",
          "y": "o",
          "yref": "y1"
         },
         {
          "font": {
           "color": "#000000"
          },
          "showarrow": false,
          "text": "",
          "x": "r",
          "xref": "x1",
          "y": "o",
          "yref": "y1"
         },
         {
          "font": {
           "color": "#000000"
          },
          "showarrow": false,
          "text": "",
          "x": "s",
          "xref": "x1",
          "y": "o",
          "yref": "y1"
         },
         {
          "font": {
           "color": "#000000"
          },
          "showarrow": false,
          "text": "",
          "x": "t",
          "xref": "x1",
          "y": "o",
          "yref": "y1"
         },
         {
          "font": {
           "color": "#000000"
          },
          "showarrow": false,
          "text": "0.04",
          "x": "u",
          "xref": "x1",
          "y": "o",
          "yref": "y1"
         },
         {
          "font": {
           "color": "#000000"
          },
          "showarrow": false,
          "text": "",
          "x": "v",
          "xref": "x1",
          "y": "o",
          "yref": "y1"
         },
         {
          "font": {
           "color": "#000000"
          },
          "showarrow": false,
          "text": "",
          "x": "w",
          "xref": "x1",
          "y": "o",
          "yref": "y1"
         },
         {
          "font": {
           "color": "#000000"
          },
          "showarrow": false,
          "text": "",
          "x": "x",
          "xref": "x1",
          "y": "o",
          "yref": "y1"
         },
         {
          "font": {
           "color": "#000000"
          },
          "showarrow": false,
          "text": "",
          "x": "y",
          "xref": "x1",
          "y": "o",
          "yref": "y1"
         },
         {
          "font": {
           "color": "#000000"
          },
          "showarrow": false,
          "text": "",
          "x": "z",
          "xref": "x1",
          "y": "o",
          "yref": "y1"
         },
         {
          "font": {
           "color": "#000000"
          },
          "showarrow": false,
          "text": "0.01",
          "x": "n",
          "xref": "x1",
          "y": "p",
          "yref": "y1"
         },
         {
          "font": {
           "color": "#000000"
          },
          "showarrow": false,
          "text": "0.01",
          "x": "o",
          "xref": "x1",
          "y": "p",
          "yref": "y1"
         },
         {
          "font": {
           "color": "#FFFFFF"
          },
          "showarrow": false,
          "text": "0.72",
          "x": "p",
          "xref": "x1",
          "y": "p",
          "yref": "y1"
         },
         {
          "font": {
           "color": "#000000"
          },
          "showarrow": false,
          "text": "",
          "x": "q",
          "xref": "x1",
          "y": "p",
          "yref": "y1"
         },
         {
          "font": {
           "color": "#000000"
          },
          "showarrow": false,
          "text": "",
          "x": "r",
          "xref": "x1",
          "y": "p",
          "yref": "y1"
         },
         {
          "font": {
           "color": "#000000"
          },
          "showarrow": false,
          "text": "",
          "x": "s",
          "xref": "x1",
          "y": "p",
          "yref": "y1"
         },
         {
          "font": {
           "color": "#000000"
          },
          "showarrow": false,
          "text": "",
          "x": "t",
          "xref": "x1",
          "y": "p",
          "yref": "y1"
         },
         {
          "font": {
           "color": "#000000"
          },
          "showarrow": false,
          "text": "",
          "x": "u",
          "xref": "x1",
          "y": "p",
          "yref": "y1"
         },
         {
          "font": {
           "color": "#000000"
          },
          "showarrow": false,
          "text": "",
          "x": "v",
          "xref": "x1",
          "y": "p",
          "yref": "y1"
         },
         {
          "font": {
           "color": "#000000"
          },
          "showarrow": false,
          "text": "",
          "x": "w",
          "xref": "x1",
          "y": "p",
          "yref": "y1"
         },
         {
          "font": {
           "color": "#000000"
          },
          "showarrow": false,
          "text": "",
          "x": "x",
          "xref": "x1",
          "y": "p",
          "yref": "y1"
         },
         {
          "font": {
           "color": "#000000"
          },
          "showarrow": false,
          "text": "",
          "x": "y",
          "xref": "x1",
          "y": "p",
          "yref": "y1"
         },
         {
          "font": {
           "color": "#000000"
          },
          "showarrow": false,
          "text": "0.03",
          "x": "z",
          "xref": "x1",
          "y": "p",
          "yref": "y1"
         },
         {
          "font": {
           "color": "#000000"
          },
          "showarrow": false,
          "text": "",
          "x": "n",
          "xref": "x1",
          "y": "q",
          "yref": "y1"
         },
         {
          "font": {
           "color": "#000000"
          },
          "showarrow": false,
          "text": "0.02",
          "x": "o",
          "xref": "x1",
          "y": "q",
          "yref": "y1"
         },
         {
          "font": {
           "color": "#000000"
          },
          "showarrow": false,
          "text": "",
          "x": "p",
          "xref": "x1",
          "y": "q",
          "yref": "y1"
         },
         {
          "font": {
           "color": "#FFFFFF"
          },
          "showarrow": false,
          "text": "0.70",
          "x": "q",
          "xref": "x1",
          "y": "q",
          "yref": "y1"
         },
         {
          "font": {
           "color": "#000000"
          },
          "showarrow": false,
          "text": "",
          "x": "r",
          "xref": "x1",
          "y": "q",
          "yref": "y1"
         },
         {
          "font": {
           "color": "#000000"
          },
          "showarrow": false,
          "text": "",
          "x": "s",
          "xref": "x1",
          "y": "q",
          "yref": "y1"
         },
         {
          "font": {
           "color": "#000000"
          },
          "showarrow": false,
          "text": "",
          "x": "t",
          "xref": "x1",
          "y": "q",
          "yref": "y1"
         },
         {
          "font": {
           "color": "#000000"
          },
          "showarrow": false,
          "text": "0.01",
          "x": "u",
          "xref": "x1",
          "y": "q",
          "yref": "y1"
         },
         {
          "font": {
           "color": "#000000"
          },
          "showarrow": false,
          "text": "",
          "x": "v",
          "xref": "x1",
          "y": "q",
          "yref": "y1"
         },
         {
          "font": {
           "color": "#000000"
          },
          "showarrow": false,
          "text": "",
          "x": "w",
          "xref": "x1",
          "y": "q",
          "yref": "y1"
         },
         {
          "font": {
           "color": "#000000"
          },
          "showarrow": false,
          "text": "",
          "x": "x",
          "xref": "x1",
          "y": "q",
          "yref": "y1"
         },
         {
          "font": {
           "color": "#000000"
          },
          "showarrow": false,
          "text": "0.03",
          "x": "y",
          "xref": "x1",
          "y": "q",
          "yref": "y1"
         },
         {
          "font": {
           "color": "#000000"
          },
          "showarrow": false,
          "text": "0.03",
          "x": "z",
          "xref": "x1",
          "y": "q",
          "yref": "y1"
         },
         {
          "font": {
           "color": "#000000"
          },
          "showarrow": false,
          "text": "",
          "x": "n",
          "xref": "x1",
          "y": "r",
          "yref": "y1"
         },
         {
          "font": {
           "color": "#000000"
          },
          "showarrow": false,
          "text": "",
          "x": "o",
          "xref": "x1",
          "y": "r",
          "yref": "y1"
         },
         {
          "font": {
           "color": "#000000"
          },
          "showarrow": false,
          "text": "0.01",
          "x": "p",
          "xref": "x1",
          "y": "r",
          "yref": "y1"
         },
         {
          "font": {
           "color": "#000000"
          },
          "showarrow": false,
          "text": "0.03",
          "x": "q",
          "xref": "x1",
          "y": "r",
          "yref": "y1"
         },
         {
          "font": {
           "color": "#FFFFFF"
          },
          "showarrow": false,
          "text": "0.61",
          "x": "r",
          "xref": "x1",
          "y": "r",
          "yref": "y1"
         },
         {
          "font": {
           "color": "#000000"
          },
          "showarrow": false,
          "text": "",
          "x": "s",
          "xref": "x1",
          "y": "r",
          "yref": "y1"
         },
         {
          "font": {
           "color": "#000000"
          },
          "showarrow": false,
          "text": "",
          "x": "t",
          "xref": "x1",
          "y": "r",
          "yref": "y1"
         },
         {
          "font": {
           "color": "#000000"
          },
          "showarrow": false,
          "text": "0.01",
          "x": "u",
          "xref": "x1",
          "y": "r",
          "yref": "y1"
         },
         {
          "font": {
           "color": "#000000"
          },
          "showarrow": false,
          "text": "0.02",
          "x": "v",
          "xref": "x1",
          "y": "r",
          "yref": "y1"
         },
         {
          "font": {
           "color": "#000000"
          },
          "showarrow": false,
          "text": "0.03",
          "x": "w",
          "xref": "x1",
          "y": "r",
          "yref": "y1"
         },
         {
          "font": {
           "color": "#000000"
          },
          "showarrow": false,
          "text": "",
          "x": "x",
          "xref": "x1",
          "y": "r",
          "yref": "y1"
         },
         {
          "font": {
           "color": "#000000"
          },
          "showarrow": false,
          "text": "",
          "x": "y",
          "xref": "x1",
          "y": "r",
          "yref": "y1"
         },
         {
          "font": {
           "color": "#000000"
          },
          "showarrow": false,
          "text": "",
          "x": "z",
          "xref": "x1",
          "y": "r",
          "yref": "y1"
         },
         {
          "font": {
           "color": "#000000"
          },
          "showarrow": false,
          "text": "0.01",
          "x": "n",
          "xref": "x1",
          "y": "s",
          "yref": "y1"
         },
         {
          "font": {
           "color": "#000000"
          },
          "showarrow": false,
          "text": "0.05",
          "x": "o",
          "xref": "x1",
          "y": "s",
          "yref": "y1"
         },
         {
          "font": {
           "color": "#000000"
          },
          "showarrow": false,
          "text": "0.01",
          "x": "p",
          "xref": "x1",
          "y": "s",
          "yref": "y1"
         },
         {
          "font": {
           "color": "#000000"
          },
          "showarrow": false,
          "text": "",
          "x": "q",
          "xref": "x1",
          "y": "s",
          "yref": "y1"
         },
         {
          "font": {
           "color": "#000000"
          },
          "showarrow": false,
          "text": "0.01",
          "x": "r",
          "xref": "x1",
          "y": "s",
          "yref": "y1"
         },
         {
          "font": {
           "color": "#FFFFFF"
          },
          "showarrow": false,
          "text": "0.75",
          "x": "s",
          "xref": "x1",
          "y": "s",
          "yref": "y1"
         },
         {
          "font": {
           "color": "#000000"
          },
          "showarrow": false,
          "text": "0.03",
          "x": "t",
          "xref": "x1",
          "y": "s",
          "yref": "y1"
         },
         {
          "font": {
           "color": "#000000"
          },
          "showarrow": false,
          "text": "",
          "x": "u",
          "xref": "x1",
          "y": "s",
          "yref": "y1"
         },
         {
          "font": {
           "color": "#000000"
          },
          "showarrow": false,
          "text": "0.05",
          "x": "v",
          "xref": "x1",
          "y": "s",
          "yref": "y1"
         },
         {
          "font": {
           "color": "#000000"
          },
          "showarrow": false,
          "text": "",
          "x": "w",
          "xref": "x1",
          "y": "s",
          "yref": "y1"
         },
         {
          "font": {
           "color": "#000000"
          },
          "showarrow": false,
          "text": "",
          "x": "x",
          "xref": "x1",
          "y": "s",
          "yref": "y1"
         },
         {
          "font": {
           "color": "#000000"
          },
          "showarrow": false,
          "text": "",
          "x": "y",
          "xref": "x1",
          "y": "s",
          "yref": "y1"
         },
         {
          "font": {
           "color": "#000000"
          },
          "showarrow": false,
          "text": "",
          "x": "z",
          "xref": "x1",
          "y": "s",
          "yref": "y1"
         },
         {
          "font": {
           "color": "#000000"
          },
          "showarrow": false,
          "text": "",
          "x": "n",
          "xref": "x1",
          "y": "t",
          "yref": "y1"
         },
         {
          "font": {
           "color": "#000000"
          },
          "showarrow": false,
          "text": "",
          "x": "o",
          "xref": "x1",
          "y": "t",
          "yref": "y1"
         },
         {
          "font": {
           "color": "#000000"
          },
          "showarrow": false,
          "text": "",
          "x": "p",
          "xref": "x1",
          "y": "t",
          "yref": "y1"
         },
         {
          "font": {
           "color": "#000000"
          },
          "showarrow": false,
          "text": "0.01",
          "x": "q",
          "xref": "x1",
          "y": "t",
          "yref": "y1"
         },
         {
          "font": {
           "color": "#000000"
          },
          "showarrow": false,
          "text": "0.11",
          "x": "r",
          "xref": "x1",
          "y": "t",
          "yref": "y1"
         },
         {
          "font": {
           "color": "#000000"
          },
          "showarrow": false,
          "text": "0.06",
          "x": "s",
          "xref": "x1",
          "y": "t",
          "yref": "y1"
         },
         {
          "font": {
           "color": "#FFFFFF"
          },
          "showarrow": false,
          "text": "0.91",
          "x": "t",
          "xref": "x1",
          "y": "t",
          "yref": "y1"
         },
         {
          "font": {
           "color": "#000000"
          },
          "showarrow": false,
          "text": "0.01",
          "x": "u",
          "xref": "x1",
          "y": "t",
          "yref": "y1"
         },
         {
          "font": {
           "color": "#000000"
          },
          "showarrow": false,
          "text": "0.02",
          "x": "v",
          "xref": "x1",
          "y": "t",
          "yref": "y1"
         },
         {
          "font": {
           "color": "#000000"
          },
          "showarrow": false,
          "text": "",
          "x": "w",
          "xref": "x1",
          "y": "t",
          "yref": "y1"
         },
         {
          "font": {
           "color": "#000000"
          },
          "showarrow": false,
          "text": "0.02",
          "x": "x",
          "xref": "x1",
          "y": "t",
          "yref": "y1"
         },
         {
          "font": {
           "color": "#000000"
          },
          "showarrow": false,
          "text": "",
          "x": "y",
          "xref": "x1",
          "y": "t",
          "yref": "y1"
         },
         {
          "font": {
           "color": "#000000"
          },
          "showarrow": false,
          "text": "0.03",
          "x": "z",
          "xref": "x1",
          "y": "t",
          "yref": "y1"
         },
         {
          "font": {
           "color": "#000000"
          },
          "showarrow": false,
          "text": "0.01",
          "x": "n",
          "xref": "x1",
          "y": "u",
          "yref": "y1"
         },
         {
          "font": {
           "color": "#000000"
          },
          "showarrow": false,
          "text": "0.01",
          "x": "o",
          "xref": "x1",
          "y": "u",
          "yref": "y1"
         },
         {
          "font": {
           "color": "#000000"
          },
          "showarrow": false,
          "text": "0.01",
          "x": "p",
          "xref": "x1",
          "y": "u",
          "yref": "y1"
         },
         {
          "font": {
           "color": "#000000"
          },
          "showarrow": false,
          "text": "",
          "x": "q",
          "xref": "x1",
          "y": "u",
          "yref": "y1"
         },
         {
          "font": {
           "color": "#000000"
          },
          "showarrow": false,
          "text": "0.01",
          "x": "r",
          "xref": "x1",
          "y": "u",
          "yref": "y1"
         },
         {
          "font": {
           "color": "#000000"
          },
          "showarrow": false,
          "text": "",
          "x": "s",
          "xref": "x1",
          "y": "u",
          "yref": "y1"
         },
         {
          "font": {
           "color": "#000000"
          },
          "showarrow": false,
          "text": "",
          "x": "t",
          "xref": "x1",
          "y": "u",
          "yref": "y1"
         },
         {
          "font": {
           "color": "#FFFFFF"
          },
          "showarrow": false,
          "text": "0.71",
          "x": "u",
          "xref": "x1",
          "y": "u",
          "yref": "y1"
         },
         {
          "font": {
           "color": "#000000"
          },
          "showarrow": false,
          "text": "",
          "x": "v",
          "xref": "x1",
          "y": "u",
          "yref": "y1"
         },
         {
          "font": {
           "color": "#000000"
          },
          "showarrow": false,
          "text": "",
          "x": "w",
          "xref": "x1",
          "y": "u",
          "yref": "y1"
         },
         {
          "font": {
           "color": "#000000"
          },
          "showarrow": false,
          "text": "0.01",
          "x": "x",
          "xref": "x1",
          "y": "u",
          "yref": "y1"
         },
         {
          "font": {
           "color": "#000000"
          },
          "showarrow": false,
          "text": "",
          "x": "y",
          "xref": "x1",
          "y": "u",
          "yref": "y1"
         },
         {
          "font": {
           "color": "#000000"
          },
          "showarrow": false,
          "text": "0.01",
          "x": "z",
          "xref": "x1",
          "y": "u",
          "yref": "y1"
         },
         {
          "font": {
           "color": "#000000"
          },
          "showarrow": false,
          "text": "",
          "x": "n",
          "xref": "x1",
          "y": "v",
          "yref": "y1"
         },
         {
          "font": {
           "color": "#000000"
          },
          "showarrow": false,
          "text": "0.03",
          "x": "o",
          "xref": "x1",
          "y": "v",
          "yref": "y1"
         },
         {
          "font": {
           "color": "#000000"
          },
          "showarrow": false,
          "text": "0.08",
          "x": "p",
          "xref": "x1",
          "y": "v",
          "yref": "y1"
         },
         {
          "font": {
           "color": "#000000"
          },
          "showarrow": false,
          "text": "",
          "x": "q",
          "xref": "x1",
          "y": "v",
          "yref": "y1"
         },
         {
          "font": {
           "color": "#000000"
          },
          "showarrow": false,
          "text": "0.04",
          "x": "r",
          "xref": "x1",
          "y": "v",
          "yref": "y1"
         },
         {
          "font": {
           "color": "#000000"
          },
          "showarrow": false,
          "text": "0.08",
          "x": "s",
          "xref": "x1",
          "y": "v",
          "yref": "y1"
         },
         {
          "font": {
           "color": "#000000"
          },
          "showarrow": false,
          "text": "0.03",
          "x": "t",
          "xref": "x1",
          "y": "v",
          "yref": "y1"
         },
         {
          "font": {
           "color": "#000000"
          },
          "showarrow": false,
          "text": "0.01",
          "x": "u",
          "xref": "x1",
          "y": "v",
          "yref": "y1"
         },
         {
          "font": {
           "color": "#FFFFFF"
          },
          "showarrow": false,
          "text": "0.82",
          "x": "v",
          "xref": "x1",
          "y": "v",
          "yref": "y1"
         },
         {
          "font": {
           "color": "#000000"
          },
          "showarrow": false,
          "text": "",
          "x": "w",
          "xref": "x1",
          "y": "v",
          "yref": "y1"
         },
         {
          "font": {
           "color": "#000000"
          },
          "showarrow": false,
          "text": "0.01",
          "x": "x",
          "xref": "x1",
          "y": "v",
          "yref": "y1"
         },
         {
          "font": {
           "color": "#000000"
          },
          "showarrow": false,
          "text": "0.01",
          "x": "y",
          "xref": "x1",
          "y": "v",
          "yref": "y1"
         },
         {
          "font": {
           "color": "#000000"
          },
          "showarrow": false,
          "text": "",
          "x": "z",
          "xref": "x1",
          "y": "v",
          "yref": "y1"
         },
         {
          "font": {
           "color": "#000000"
          },
          "showarrow": false,
          "text": "",
          "x": "n",
          "xref": "x1",
          "y": "w",
          "yref": "y1"
         },
         {
          "font": {
           "color": "#000000"
          },
          "showarrow": false,
          "text": "0.01",
          "x": "o",
          "xref": "x1",
          "y": "w",
          "yref": "y1"
         },
         {
          "font": {
           "color": "#000000"
          },
          "showarrow": false,
          "text": "",
          "x": "p",
          "xref": "x1",
          "y": "w",
          "yref": "y1"
         },
         {
          "font": {
           "color": "#000000"
          },
          "showarrow": false,
          "text": "0.01",
          "x": "q",
          "xref": "x1",
          "y": "w",
          "yref": "y1"
         },
         {
          "font": {
           "color": "#000000"
          },
          "showarrow": false,
          "text": "0.01",
          "x": "r",
          "xref": "x1",
          "y": "w",
          "yref": "y1"
         },
         {
          "font": {
           "color": "#000000"
          },
          "showarrow": false,
          "text": "",
          "x": "s",
          "xref": "x1",
          "y": "w",
          "yref": "y1"
         },
         {
          "font": {
           "color": "#000000"
          },
          "showarrow": false,
          "text": "",
          "x": "t",
          "xref": "x1",
          "y": "w",
          "yref": "y1"
         },
         {
          "font": {
           "color": "#000000"
          },
          "showarrow": false,
          "text": "",
          "x": "u",
          "xref": "x1",
          "y": "w",
          "yref": "y1"
         },
         {
          "font": {
           "color": "#000000"
          },
          "showarrow": false,
          "text": "",
          "x": "v",
          "xref": "x1",
          "y": "w",
          "yref": "y1"
         },
         {
          "font": {
           "color": "#FFFFFF"
          },
          "showarrow": false,
          "text": "0.71",
          "x": "w",
          "xref": "x1",
          "y": "w",
          "yref": "y1"
         },
         {
          "font": {
           "color": "#000000"
          },
          "showarrow": false,
          "text": "",
          "x": "x",
          "xref": "x1",
          "y": "w",
          "yref": "y1"
         },
         {
          "font": {
           "color": "#000000"
          },
          "showarrow": false,
          "text": "",
          "x": "y",
          "xref": "x1",
          "y": "w",
          "yref": "y1"
         },
         {
          "font": {
           "color": "#000000"
          },
          "showarrow": false,
          "text": "0.01",
          "x": "z",
          "xref": "x1",
          "y": "w",
          "yref": "y1"
         },
         {
          "font": {
           "color": "#000000"
          },
          "showarrow": false,
          "text": "0.01",
          "x": "n",
          "xref": "x1",
          "y": "x",
          "yref": "y1"
         },
         {
          "font": {
           "color": "#000000"
          },
          "showarrow": false,
          "text": "",
          "x": "o",
          "xref": "x1",
          "y": "x",
          "yref": "y1"
         },
         {
          "font": {
           "color": "#000000"
          },
          "showarrow": false,
          "text": "",
          "x": "p",
          "xref": "x1",
          "y": "x",
          "yref": "y1"
         },
         {
          "font": {
           "color": "#000000"
          },
          "showarrow": false,
          "text": "",
          "x": "q",
          "xref": "x1",
          "y": "x",
          "yref": "y1"
         },
         {
          "font": {
           "color": "#000000"
          },
          "showarrow": false,
          "text": "",
          "x": "r",
          "xref": "x1",
          "y": "x",
          "yref": "y1"
         },
         {
          "font": {
           "color": "#000000"
          },
          "showarrow": false,
          "text": "",
          "x": "s",
          "xref": "x1",
          "y": "x",
          "yref": "y1"
         },
         {
          "font": {
           "color": "#000000"
          },
          "showarrow": false,
          "text": "",
          "x": "t",
          "xref": "x1",
          "y": "x",
          "yref": "y1"
         },
         {
          "font": {
           "color": "#000000"
          },
          "showarrow": false,
          "text": "0.01",
          "x": "u",
          "xref": "x1",
          "y": "x",
          "yref": "y1"
         },
         {
          "font": {
           "color": "#000000"
          },
          "showarrow": false,
          "text": "",
          "x": "v",
          "xref": "x1",
          "y": "x",
          "yref": "y1"
         },
         {
          "font": {
           "color": "#000000"
          },
          "showarrow": false,
          "text": "0.05",
          "x": "w",
          "xref": "x1",
          "y": "x",
          "yref": "y1"
         },
         {
          "font": {
           "color": "#FFFFFF"
          },
          "showarrow": false,
          "text": "0.75",
          "x": "x",
          "xref": "x1",
          "y": "x",
          "yref": "y1"
         },
         {
          "font": {
           "color": "#000000"
          },
          "showarrow": false,
          "text": "0.01",
          "x": "y",
          "xref": "x1",
          "y": "x",
          "yref": "y1"
         },
         {
          "font": {
           "color": "#000000"
          },
          "showarrow": false,
          "text": "0.03",
          "x": "z",
          "xref": "x1",
          "y": "x",
          "yref": "y1"
         },
         {
          "font": {
           "color": "#000000"
          },
          "showarrow": false,
          "text": "",
          "x": "n",
          "xref": "x1",
          "y": "y",
          "yref": "y1"
         },
         {
          "font": {
           "color": "#000000"
          },
          "showarrow": false,
          "text": "0.01",
          "x": "o",
          "xref": "x1",
          "y": "y",
          "yref": "y1"
         },
         {
          "font": {
           "color": "#000000"
          },
          "showarrow": false,
          "text": "",
          "x": "p",
          "xref": "x1",
          "y": "y",
          "yref": "y1"
         },
         {
          "font": {
           "color": "#000000"
          },
          "showarrow": false,
          "text": "0.01",
          "x": "q",
          "xref": "x1",
          "y": "y",
          "yref": "y1"
         },
         {
          "font": {
           "color": "#000000"
          },
          "showarrow": false,
          "text": "",
          "x": "r",
          "xref": "x1",
          "y": "y",
          "yref": "y1"
         },
         {
          "font": {
           "color": "#000000"
          },
          "showarrow": false,
          "text": "",
          "x": "s",
          "xref": "x1",
          "y": "y",
          "yref": "y1"
         },
         {
          "font": {
           "color": "#000000"
          },
          "showarrow": false,
          "text": "",
          "x": "t",
          "xref": "x1",
          "y": "y",
          "yref": "y1"
         },
         {
          "font": {
           "color": "#000000"
          },
          "showarrow": false,
          "text": "",
          "x": "u",
          "xref": "x1",
          "y": "y",
          "yref": "y1"
         },
         {
          "font": {
           "color": "#000000"
          },
          "showarrow": false,
          "text": "",
          "x": "v",
          "xref": "x1",
          "y": "y",
          "yref": "y1"
         },
         {
          "font": {
           "color": "#000000"
          },
          "showarrow": false,
          "text": "",
          "x": "w",
          "xref": "x1",
          "y": "y",
          "yref": "y1"
         },
         {
          "font": {
           "color": "#000000"
          },
          "showarrow": false,
          "text": "0.03",
          "x": "x",
          "xref": "x1",
          "y": "y",
          "yref": "y1"
         },
         {
          "font": {
           "color": "#FFFFFF"
          },
          "showarrow": false,
          "text": "0.74",
          "x": "y",
          "xref": "x1",
          "y": "y",
          "yref": "y1"
         },
         {
          "font": {
           "color": "#000000"
          },
          "showarrow": false,
          "text": "0.01",
          "x": "z",
          "xref": "x1",
          "y": "y",
          "yref": "y1"
         },
         {
          "font": {
           "color": "#000000"
          },
          "showarrow": false,
          "text": "0.04",
          "x": "n",
          "xref": "x1",
          "y": "z",
          "yref": "y1"
         },
         {
          "font": {
           "color": "#000000"
          },
          "showarrow": false,
          "text": "0.01",
          "x": "o",
          "xref": "x1",
          "y": "z",
          "yref": "y1"
         },
         {
          "font": {
           "color": "#000000"
          },
          "showarrow": false,
          "text": "",
          "x": "p",
          "xref": "x1",
          "y": "z",
          "yref": "y1"
         },
         {
          "font": {
           "color": "#000000"
          },
          "showarrow": false,
          "text": "0.03",
          "x": "q",
          "xref": "x1",
          "y": "z",
          "yref": "y1"
         },
         {
          "font": {
           "color": "#000000"
          },
          "showarrow": false,
          "text": "",
          "x": "r",
          "xref": "x1",
          "y": "z",
          "yref": "y1"
         },
         {
          "font": {
           "color": "#000000"
          },
          "showarrow": false,
          "text": "",
          "x": "s",
          "xref": "x1",
          "y": "z",
          "yref": "y1"
         },
         {
          "font": {
           "color": "#000000"
          },
          "showarrow": false,
          "text": "",
          "x": "t",
          "xref": "x1",
          "y": "z",
          "yref": "y1"
         },
         {
          "font": {
           "color": "#000000"
          },
          "showarrow": false,
          "text": "",
          "x": "u",
          "xref": "x1",
          "y": "z",
          "yref": "y1"
         },
         {
          "font": {
           "color": "#000000"
          },
          "showarrow": false,
          "text": "",
          "x": "v",
          "xref": "x1",
          "y": "z",
          "yref": "y1"
         },
         {
          "font": {
           "color": "#000000"
          },
          "showarrow": false,
          "text": "",
          "x": "w",
          "xref": "x1",
          "y": "z",
          "yref": "y1"
         },
         {
          "font": {
           "color": "#000000"
          },
          "showarrow": false,
          "text": "",
          "x": "x",
          "xref": "x1",
          "y": "z",
          "yref": "y1"
         },
         {
          "font": {
           "color": "#000000"
          },
          "showarrow": false,
          "text": "0.01",
          "x": "y",
          "xref": "x1",
          "y": "z",
          "yref": "y1"
         },
         {
          "font": {
           "color": "#FFFFFF"
          },
          "showarrow": false,
          "text": "0.78",
          "x": "z",
          "xref": "x1",
          "y": "z",
          "yref": "y1"
         }
        ],
        "title": "Confusion Matrix of Lowercase NN",
        "xaxis": {
         "dtick": 1,
         "gridcolor": "rgb(0, 0, 0)",
         "side": "bottom",
         "ticks": "",
         "title": "Predicted values"
        },
        "yaxis": {
         "anchor": "bottom",
         "dtick": 1,
         "ticks": "",
         "ticksuffix": "  ",
         "title": "True values"
        }
       }
      },
      "text/html": [
       "<div id=\"f6f8d5fe-23f4-4ef6-8680-b55158eebbb9\" style=\"height: 525px; width: 100%;\" class=\"plotly-graph-div\"></div><script type=\"text/javascript\">require([\"plotly\"], function(Plotly) { window.PLOTLYENV=window.PLOTLYENV || {};window.PLOTLYENV.BASE_URL=\"https://plot.ly\";Plotly.newPlot(\"f6f8d5fe-23f4-4ef6-8680-b55158eebbb9\", [{\"type\": \"heatmap\", \"z\": [[0.814453125, 0.01149749755859375, 0.01265716552734375, 0.0, 0.01265716552734375, 0.0555419921875, 0.0, 0.0, 0.016387939453125, 0.015869140625, 0.033721923828125, 0.0, 0.014495849609375], [0.0, 0.609375, 0.0, 0.014495849609375, 0.0, 0.0, 0.0, 0.036590576171875, 0.0, 0.0, 0.0, 0.0, 0.0], [0.0142822265625, 0.01149749755859375, 0.7216796875, 0.0, 0.0, 0.0, 0.0, 0.0, 0.0, 0.0, 0.0, 0.0, 0.02899169921875], [0.0, 0.0229949951171875, 0.0, 0.69580078125, 0.0, 0.0, 0.0, 0.0121917724609375, 0.0, 0.0, 0.0, 0.03448486328125, 0.02899169921875], [0.0, 0.0, 0.01265716552734375, 0.02899169921875, 0.607421875, 0.0, 0.0, 0.0121917724609375, 0.016387939453125, 0.03173828125, 0.0, 0.0, 0.0], [0.0142822265625, 0.045989990234375, 0.01265716552734375, 0.0, 0.01265716552734375, 0.75, 0.0270233154296875, 0.0, 0.0491943359375, 0.0, 0.0, 0.0, 0.0], [0.0, 0.0, 0.0, 0.014495849609375, 0.11395263671875, 0.0555419921875, 0.9052734375, 0.0121917724609375, 0.016387939453125, 0.0, 0.0224761962890625, 0.0, 0.02899169921875], [0.0142822265625, 0.01149749755859375, 0.01265716552734375, 0.0, 0.01265716552734375, 0.0, 0.0, 0.70751953125, 0.0, 0.0, 0.01123809814453125, 0.0, 0.014495849609375], [0.0, 0.03448486328125, 0.075927734375, 0.0, 0.0379638671875, 0.08331298828125, 0.0270233154296875, 0.0121917724609375, 0.81982421875, 0.0, 0.01123809814453125, 0.01149749755859375, 0.0], [0.0, 0.01149749755859375, 0.0, 0.014495849609375, 0.01265716552734375, 0.0, 0.0, 0.0, 0.0, 0.71435546875, 0.0, 0.0, 0.014495849609375], [0.0142822265625, 0.0, 0.0, 0.0, 0.0, 0.0, 0.0, 0.0121917724609375, 0.0, 0.047607421875, 0.7529296875, 0.01149749755859375, 0.02899169921875], [0.0, 0.01149749755859375, 0.0, 0.014495849609375, 0.0, 0.0, 0.0, 0.0, 0.0, 0.0, 0.033721923828125, 0.73583984375, 0.014495849609375], [0.0428466796875, 0.01149749755859375, 0.0, 0.02899169921875, 0.0, 0.0, 0.0, 0.0, 0.0, 0.0, 0.0, 0.01149749755859375, 0.78271484375]], \"x\": [\"n\", \"o\", \"p\", \"q\", \"r\", \"s\", \"t\", \"u\", \"v\", \"w\", \"x\", \"y\", \"z\"], \"y\": [\"n\", \"o\", \"p\", \"q\", \"r\", \"s\", \"t\", \"u\", \"v\", \"w\", \"x\", \"y\", \"z\"], \"colorscale\": [[0.0, \"#e5e5ff\"], [0.05, \"#cacaf0\"], [0.1, \"#b0b0e1\"], [0.25, \"#9494d2\"], [0.5, \"#7a7ac3\"], [0.75, \"#5e5eb4\"], [0.9, \"#4444a5\"], [1.0, \"#282896\"]], \"showscale\": true, \"xgap\": 1.25, \"ygap\": 1.25, \"colorbar\": {\"tickmode\": \"array\"}}], {\"annotations\": [{\"text\": \"0.81\", \"x\": \"n\", \"y\": \"n\", \"xref\": \"x1\", \"yref\": \"y1\", \"font\": {\"color\": \"#FFFFFF\"}, \"showarrow\": false}, {\"text\": \"0.01\", \"x\": \"o\", \"y\": \"n\", \"xref\": \"x1\", \"yref\": \"y1\", \"font\": {\"color\": \"#000000\"}, \"showarrow\": false}, {\"text\": \"0.01\", \"x\": \"p\", \"y\": \"n\", \"xref\": \"x1\", \"yref\": \"y1\", \"font\": {\"color\": \"#000000\"}, \"showarrow\": false}, {\"text\": \"\", \"x\": \"q\", \"y\": \"n\", \"xref\": \"x1\", \"yref\": \"y1\", \"font\": {\"color\": \"#000000\"}, \"showarrow\": false}, {\"text\": \"0.01\", \"x\": \"r\", \"y\": \"n\", \"xref\": \"x1\", \"yref\": \"y1\", \"font\": {\"color\": \"#000000\"}, \"showarrow\": false}, {\"text\": \"0.06\", \"x\": \"s\", \"y\": \"n\", \"xref\": \"x1\", \"yref\": \"y1\", \"font\": {\"color\": \"#000000\"}, \"showarrow\": false}, {\"text\": \"\", \"x\": \"t\", \"y\": \"n\", \"xref\": \"x1\", \"yref\": \"y1\", \"font\": {\"color\": \"#000000\"}, \"showarrow\": false}, {\"text\": \"\", \"x\": \"u\", \"y\": \"n\", \"xref\": \"x1\", \"yref\": \"y1\", \"font\": {\"color\": \"#000000\"}, \"showarrow\": false}, {\"text\": \"0.02\", \"x\": \"v\", \"y\": \"n\", \"xref\": \"x1\", \"yref\": \"y1\", \"font\": {\"color\": \"#000000\"}, \"showarrow\": false}, {\"text\": \"0.02\", \"x\": \"w\", \"y\": \"n\", \"xref\": \"x1\", \"yref\": \"y1\", \"font\": {\"color\": \"#000000\"}, \"showarrow\": false}, {\"text\": \"0.03\", \"x\": \"x\", \"y\": \"n\", \"xref\": \"x1\", \"yref\": \"y1\", \"font\": {\"color\": \"#000000\"}, \"showarrow\": false}, {\"text\": \"\", \"x\": \"y\", \"y\": \"n\", \"xref\": \"x1\", \"yref\": \"y1\", \"font\": {\"color\": \"#000000\"}, \"showarrow\": false}, {\"text\": \"0.01\", \"x\": \"z\", \"y\": \"n\", \"xref\": \"x1\", \"yref\": \"y1\", \"font\": {\"color\": \"#000000\"}, \"showarrow\": false}, {\"text\": \"\", \"x\": \"n\", \"y\": \"o\", \"xref\": \"x1\", \"yref\": \"y1\", \"font\": {\"color\": \"#000000\"}, \"showarrow\": false}, {\"text\": \"0.61\", \"x\": \"o\", \"y\": \"o\", \"xref\": \"x1\", \"yref\": \"y1\", \"font\": {\"color\": \"#FFFFFF\"}, \"showarrow\": false}, {\"text\": \"\", \"x\": \"p\", \"y\": \"o\", \"xref\": \"x1\", \"yref\": \"y1\", \"font\": {\"color\": \"#000000\"}, \"showarrow\": false}, {\"text\": \"0.01\", \"x\": \"q\", \"y\": \"o\", \"xref\": \"x1\", \"yref\": \"y1\", \"font\": {\"color\": \"#000000\"}, \"showarrow\": false}, {\"text\": \"\", \"x\": \"r\", \"y\": \"o\", \"xref\": \"x1\", \"yref\": \"y1\", \"font\": {\"color\": \"#000000\"}, \"showarrow\": false}, {\"text\": \"\", \"x\": \"s\", \"y\": \"o\", \"xref\": \"x1\", \"yref\": \"y1\", \"font\": {\"color\": \"#000000\"}, \"showarrow\": false}, {\"text\": \"\", \"x\": \"t\", \"y\": \"o\", \"xref\": \"x1\", \"yref\": \"y1\", \"font\": {\"color\": \"#000000\"}, \"showarrow\": false}, {\"text\": \"0.04\", \"x\": \"u\", \"y\": \"o\", \"xref\": \"x1\", \"yref\": \"y1\", \"font\": {\"color\": \"#000000\"}, \"showarrow\": false}, {\"text\": \"\", \"x\": \"v\", \"y\": \"o\", \"xref\": \"x1\", \"yref\": \"y1\", \"font\": {\"color\": \"#000000\"}, \"showarrow\": false}, {\"text\": \"\", \"x\": \"w\", \"y\": \"o\", \"xref\": \"x1\", \"yref\": \"y1\", \"font\": {\"color\": \"#000000\"}, \"showarrow\": false}, {\"text\": \"\", \"x\": \"x\", \"y\": \"o\", \"xref\": \"x1\", \"yref\": \"y1\", \"font\": {\"color\": \"#000000\"}, \"showarrow\": false}, {\"text\": \"\", \"x\": \"y\", \"y\": \"o\", \"xref\": \"x1\", \"yref\": \"y1\", \"font\": {\"color\": \"#000000\"}, \"showarrow\": false}, {\"text\": \"\", \"x\": \"z\", \"y\": \"o\", \"xref\": \"x1\", \"yref\": \"y1\", \"font\": {\"color\": \"#000000\"}, \"showarrow\": false}, {\"text\": \"0.01\", \"x\": \"n\", \"y\": \"p\", \"xref\": \"x1\", \"yref\": \"y1\", \"font\": {\"color\": \"#000000\"}, \"showarrow\": false}, {\"text\": \"0.01\", \"x\": \"o\", \"y\": \"p\", \"xref\": \"x1\", \"yref\": \"y1\", \"font\": {\"color\": \"#000000\"}, \"showarrow\": false}, {\"text\": \"0.72\", \"x\": \"p\", \"y\": \"p\", \"xref\": \"x1\", \"yref\": \"y1\", \"font\": {\"color\": \"#FFFFFF\"}, \"showarrow\": false}, {\"text\": \"\", \"x\": \"q\", \"y\": \"p\", \"xref\": \"x1\", \"yref\": \"y1\", \"font\": {\"color\": \"#000000\"}, \"showarrow\": false}, {\"text\": \"\", \"x\": \"r\", \"y\": \"p\", \"xref\": \"x1\", \"yref\": \"y1\", \"font\": {\"color\": \"#000000\"}, \"showarrow\": false}, {\"text\": \"\", \"x\": \"s\", \"y\": \"p\", \"xref\": \"x1\", \"yref\": \"y1\", \"font\": {\"color\": \"#000000\"}, \"showarrow\": false}, {\"text\": \"\", \"x\": \"t\", \"y\": \"p\", \"xref\": \"x1\", \"yref\": \"y1\", \"font\": {\"color\": \"#000000\"}, \"showarrow\": false}, {\"text\": \"\", \"x\": \"u\", \"y\": \"p\", \"xref\": \"x1\", \"yref\": \"y1\", \"font\": {\"color\": \"#000000\"}, \"showarrow\": false}, {\"text\": \"\", \"x\": \"v\", \"y\": \"p\", \"xref\": \"x1\", \"yref\": \"y1\", \"font\": {\"color\": \"#000000\"}, \"showarrow\": false}, {\"text\": \"\", \"x\": \"w\", \"y\": \"p\", \"xref\": \"x1\", \"yref\": \"y1\", \"font\": {\"color\": \"#000000\"}, \"showarrow\": false}, {\"text\": \"\", \"x\": \"x\", \"y\": \"p\", \"xref\": \"x1\", \"yref\": \"y1\", \"font\": {\"color\": \"#000000\"}, \"showarrow\": false}, {\"text\": \"\", \"x\": \"y\", \"y\": \"p\", \"xref\": \"x1\", \"yref\": \"y1\", \"font\": {\"color\": \"#000000\"}, \"showarrow\": false}, {\"text\": \"0.03\", \"x\": \"z\", \"y\": \"p\", \"xref\": \"x1\", \"yref\": \"y1\", \"font\": {\"color\": \"#000000\"}, \"showarrow\": false}, {\"text\": \"\", \"x\": \"n\", \"y\": \"q\", \"xref\": \"x1\", \"yref\": \"y1\", \"font\": {\"color\": \"#000000\"}, \"showarrow\": false}, {\"text\": \"0.02\", \"x\": \"o\", \"y\": \"q\", \"xref\": \"x1\", \"yref\": \"y1\", \"font\": {\"color\": \"#000000\"}, \"showarrow\": false}, {\"text\": \"\", \"x\": \"p\", \"y\": \"q\", \"xref\": \"x1\", \"yref\": \"y1\", \"font\": {\"color\": \"#000000\"}, \"showarrow\": false}, {\"text\": \"0.70\", \"x\": \"q\", \"y\": \"q\", \"xref\": \"x1\", \"yref\": \"y1\", \"font\": {\"color\": \"#FFFFFF\"}, \"showarrow\": false}, {\"text\": \"\", \"x\": \"r\", \"y\": \"q\", \"xref\": \"x1\", \"yref\": \"y1\", \"font\": {\"color\": \"#000000\"}, \"showarrow\": false}, {\"text\": \"\", \"x\": \"s\", \"y\": \"q\", \"xref\": \"x1\", \"yref\": \"y1\", \"font\": {\"color\": \"#000000\"}, \"showarrow\": false}, {\"text\": \"\", \"x\": \"t\", \"y\": \"q\", \"xref\": \"x1\", \"yref\": \"y1\", \"font\": {\"color\": \"#000000\"}, \"showarrow\": false}, {\"text\": \"0.01\", \"x\": \"u\", \"y\": \"q\", \"xref\": \"x1\", \"yref\": \"y1\", \"font\": {\"color\": \"#000000\"}, \"showarrow\": false}, {\"text\": \"\", \"x\": \"v\", \"y\": \"q\", \"xref\": \"x1\", \"yref\": \"y1\", \"font\": {\"color\": \"#000000\"}, \"showarrow\": false}, {\"text\": \"\", \"x\": \"w\", \"y\": \"q\", \"xref\": \"x1\", \"yref\": \"y1\", \"font\": {\"color\": \"#000000\"}, \"showarrow\": false}, {\"text\": \"\", \"x\": \"x\", \"y\": \"q\", \"xref\": \"x1\", \"yref\": \"y1\", \"font\": {\"color\": \"#000000\"}, \"showarrow\": false}, {\"text\": \"0.03\", \"x\": \"y\", \"y\": \"q\", \"xref\": \"x1\", \"yref\": \"y1\", \"font\": {\"color\": \"#000000\"}, \"showarrow\": false}, {\"text\": \"0.03\", \"x\": \"z\", \"y\": \"q\", \"xref\": \"x1\", \"yref\": \"y1\", \"font\": {\"color\": \"#000000\"}, \"showarrow\": false}, {\"text\": \"\", \"x\": \"n\", \"y\": \"r\", \"xref\": \"x1\", \"yref\": \"y1\", \"font\": {\"color\": \"#000000\"}, \"showarrow\": false}, {\"text\": \"\", \"x\": \"o\", \"y\": \"r\", \"xref\": \"x1\", \"yref\": \"y1\", \"font\": {\"color\": \"#000000\"}, \"showarrow\": false}, {\"text\": \"0.01\", \"x\": \"p\", \"y\": \"r\", \"xref\": \"x1\", \"yref\": \"y1\", \"font\": {\"color\": \"#000000\"}, \"showarrow\": false}, {\"text\": \"0.03\", \"x\": \"q\", \"y\": \"r\", \"xref\": \"x1\", \"yref\": \"y1\", \"font\": {\"color\": \"#000000\"}, \"showarrow\": false}, {\"text\": \"0.61\", \"x\": \"r\", \"y\": \"r\", \"xref\": \"x1\", \"yref\": \"y1\", \"font\": {\"color\": \"#FFFFFF\"}, \"showarrow\": false}, {\"text\": \"\", \"x\": \"s\", \"y\": \"r\", \"xref\": \"x1\", \"yref\": \"y1\", \"font\": {\"color\": \"#000000\"}, \"showarrow\": false}, {\"text\": \"\", \"x\": \"t\", \"y\": \"r\", \"xref\": \"x1\", \"yref\": \"y1\", \"font\": {\"color\": \"#000000\"}, \"showarrow\": false}, {\"text\": \"0.01\", \"x\": \"u\", \"y\": \"r\", \"xref\": \"x1\", \"yref\": \"y1\", \"font\": {\"color\": \"#000000\"}, \"showarrow\": false}, {\"text\": \"0.02\", \"x\": \"v\", \"y\": \"r\", \"xref\": \"x1\", \"yref\": \"y1\", \"font\": {\"color\": \"#000000\"}, \"showarrow\": false}, {\"text\": \"0.03\", \"x\": \"w\", \"y\": \"r\", \"xref\": \"x1\", \"yref\": \"y1\", \"font\": {\"color\": \"#000000\"}, \"showarrow\": false}, {\"text\": \"\", \"x\": \"x\", \"y\": \"r\", \"xref\": \"x1\", \"yref\": \"y1\", \"font\": {\"color\": \"#000000\"}, \"showarrow\": false}, {\"text\": \"\", \"x\": \"y\", \"y\": \"r\", \"xref\": \"x1\", \"yref\": \"y1\", \"font\": {\"color\": \"#000000\"}, \"showarrow\": false}, {\"text\": \"\", \"x\": \"z\", \"y\": \"r\", \"xref\": \"x1\", \"yref\": \"y1\", \"font\": {\"color\": \"#000000\"}, \"showarrow\": false}, {\"text\": \"0.01\", \"x\": \"n\", \"y\": \"s\", \"xref\": \"x1\", \"yref\": \"y1\", \"font\": {\"color\": \"#000000\"}, \"showarrow\": false}, {\"text\": \"0.05\", \"x\": \"o\", \"y\": \"s\", \"xref\": \"x1\", \"yref\": \"y1\", \"font\": {\"color\": \"#000000\"}, \"showarrow\": false}, {\"text\": \"0.01\", \"x\": \"p\", \"y\": \"s\", \"xref\": \"x1\", \"yref\": \"y1\", \"font\": {\"color\": \"#000000\"}, \"showarrow\": false}, {\"text\": \"\", \"x\": \"q\", \"y\": \"s\", \"xref\": \"x1\", \"yref\": \"y1\", \"font\": {\"color\": \"#000000\"}, \"showarrow\": false}, {\"text\": \"0.01\", \"x\": \"r\", \"y\": \"s\", \"xref\": \"x1\", \"yref\": \"y1\", \"font\": {\"color\": \"#000000\"}, \"showarrow\": false}, {\"text\": \"0.75\", \"x\": \"s\", \"y\": \"s\", \"xref\": \"x1\", \"yref\": \"y1\", \"font\": {\"color\": \"#FFFFFF\"}, \"showarrow\": false}, {\"text\": \"0.03\", \"x\": \"t\", \"y\": \"s\", \"xref\": \"x1\", \"yref\": \"y1\", \"font\": {\"color\": \"#000000\"}, \"showarrow\": false}, {\"text\": \"\", \"x\": \"u\", \"y\": \"s\", \"xref\": \"x1\", \"yref\": \"y1\", \"font\": {\"color\": \"#000000\"}, \"showarrow\": false}, {\"text\": \"0.05\", \"x\": \"v\", \"y\": \"s\", \"xref\": \"x1\", \"yref\": \"y1\", \"font\": {\"color\": \"#000000\"}, \"showarrow\": false}, {\"text\": \"\", \"x\": \"w\", \"y\": \"s\", \"xref\": \"x1\", \"yref\": \"y1\", \"font\": {\"color\": \"#000000\"}, \"showarrow\": false}, {\"text\": \"\", \"x\": \"x\", \"y\": \"s\", \"xref\": \"x1\", \"yref\": \"y1\", \"font\": {\"color\": \"#000000\"}, \"showarrow\": false}, {\"text\": \"\", \"x\": \"y\", \"y\": \"s\", \"xref\": \"x1\", \"yref\": \"y1\", \"font\": {\"color\": \"#000000\"}, \"showarrow\": false}, {\"text\": \"\", \"x\": \"z\", \"y\": \"s\", \"xref\": \"x1\", \"yref\": \"y1\", \"font\": {\"color\": \"#000000\"}, \"showarrow\": false}, {\"text\": \"\", \"x\": \"n\", \"y\": \"t\", \"xref\": \"x1\", \"yref\": \"y1\", \"font\": {\"color\": \"#000000\"}, \"showarrow\": false}, {\"text\": \"\", \"x\": \"o\", \"y\": \"t\", \"xref\": \"x1\", \"yref\": \"y1\", \"font\": {\"color\": \"#000000\"}, \"showarrow\": false}, {\"text\": \"\", \"x\": \"p\", \"y\": \"t\", \"xref\": \"x1\", \"yref\": \"y1\", \"font\": {\"color\": \"#000000\"}, \"showarrow\": false}, {\"text\": \"0.01\", \"x\": \"q\", \"y\": \"t\", \"xref\": \"x1\", \"yref\": \"y1\", \"font\": {\"color\": \"#000000\"}, \"showarrow\": false}, {\"text\": \"0.11\", \"x\": \"r\", \"y\": \"t\", \"xref\": \"x1\", \"yref\": \"y1\", \"font\": {\"color\": \"#000000\"}, \"showarrow\": false}, {\"text\": \"0.06\", \"x\": \"s\", \"y\": \"t\", \"xref\": \"x1\", \"yref\": \"y1\", \"font\": {\"color\": \"#000000\"}, \"showarrow\": false}, {\"text\": \"0.91\", \"x\": \"t\", \"y\": \"t\", \"xref\": \"x1\", \"yref\": \"y1\", \"font\": {\"color\": \"#FFFFFF\"}, \"showarrow\": false}, {\"text\": \"0.01\", \"x\": \"u\", \"y\": \"t\", \"xref\": \"x1\", \"yref\": \"y1\", \"font\": {\"color\": \"#000000\"}, \"showarrow\": false}, {\"text\": \"0.02\", \"x\": \"v\", \"y\": \"t\", \"xref\": \"x1\", \"yref\": \"y1\", \"font\": {\"color\": \"#000000\"}, \"showarrow\": false}, {\"text\": \"\", \"x\": \"w\", \"y\": \"t\", \"xref\": \"x1\", \"yref\": \"y1\", \"font\": {\"color\": \"#000000\"}, \"showarrow\": false}, {\"text\": \"0.02\", \"x\": \"x\", \"y\": \"t\", \"xref\": \"x1\", \"yref\": \"y1\", \"font\": {\"color\": \"#000000\"}, \"showarrow\": false}, {\"text\": \"\", \"x\": \"y\", \"y\": \"t\", \"xref\": \"x1\", \"yref\": \"y1\", \"font\": {\"color\": \"#000000\"}, \"showarrow\": false}, {\"text\": \"0.03\", \"x\": \"z\", \"y\": \"t\", \"xref\": \"x1\", \"yref\": \"y1\", \"font\": {\"color\": \"#000000\"}, \"showarrow\": false}, {\"text\": \"0.01\", \"x\": \"n\", \"y\": \"u\", \"xref\": \"x1\", \"yref\": \"y1\", \"font\": {\"color\": \"#000000\"}, \"showarrow\": false}, {\"text\": \"0.01\", \"x\": \"o\", \"y\": \"u\", \"xref\": \"x1\", \"yref\": \"y1\", \"font\": {\"color\": \"#000000\"}, \"showarrow\": false}, {\"text\": \"0.01\", \"x\": \"p\", \"y\": \"u\", \"xref\": \"x1\", \"yref\": \"y1\", \"font\": {\"color\": \"#000000\"}, \"showarrow\": false}, {\"text\": \"\", \"x\": \"q\", \"y\": \"u\", \"xref\": \"x1\", \"yref\": \"y1\", \"font\": {\"color\": \"#000000\"}, \"showarrow\": false}, {\"text\": \"0.01\", \"x\": \"r\", \"y\": \"u\", \"xref\": \"x1\", \"yref\": \"y1\", \"font\": {\"color\": \"#000000\"}, \"showarrow\": false}, {\"text\": \"\", \"x\": \"s\", \"y\": \"u\", \"xref\": \"x1\", \"yref\": \"y1\", \"font\": {\"color\": \"#000000\"}, \"showarrow\": false}, {\"text\": \"\", \"x\": \"t\", \"y\": \"u\", \"xref\": \"x1\", \"yref\": \"y1\", \"font\": {\"color\": \"#000000\"}, \"showarrow\": false}, {\"text\": \"0.71\", \"x\": \"u\", \"y\": \"u\", \"xref\": \"x1\", \"yref\": \"y1\", \"font\": {\"color\": \"#FFFFFF\"}, \"showarrow\": false}, {\"text\": \"\", \"x\": \"v\", \"y\": \"u\", \"xref\": \"x1\", \"yref\": \"y1\", \"font\": {\"color\": \"#000000\"}, \"showarrow\": false}, {\"text\": \"\", \"x\": \"w\", \"y\": \"u\", \"xref\": \"x1\", \"yref\": \"y1\", \"font\": {\"color\": \"#000000\"}, \"showarrow\": false}, {\"text\": \"0.01\", \"x\": \"x\", \"y\": \"u\", \"xref\": \"x1\", \"yref\": \"y1\", \"font\": {\"color\": \"#000000\"}, \"showarrow\": false}, {\"text\": \"\", \"x\": \"y\", \"y\": \"u\", \"xref\": \"x1\", \"yref\": \"y1\", \"font\": {\"color\": \"#000000\"}, \"showarrow\": false}, {\"text\": \"0.01\", \"x\": \"z\", \"y\": \"u\", \"xref\": \"x1\", \"yref\": \"y1\", \"font\": {\"color\": \"#000000\"}, \"showarrow\": false}, {\"text\": \"\", \"x\": \"n\", \"y\": \"v\", \"xref\": \"x1\", \"yref\": \"y1\", \"font\": {\"color\": \"#000000\"}, \"showarrow\": false}, {\"text\": \"0.03\", \"x\": \"o\", \"y\": \"v\", \"xref\": \"x1\", \"yref\": \"y1\", \"font\": {\"color\": \"#000000\"}, \"showarrow\": false}, {\"text\": \"0.08\", \"x\": \"p\", \"y\": \"v\", \"xref\": \"x1\", \"yref\": \"y1\", \"font\": {\"color\": \"#000000\"}, \"showarrow\": false}, {\"text\": \"\", \"x\": \"q\", \"y\": \"v\", \"xref\": \"x1\", \"yref\": \"y1\", \"font\": {\"color\": \"#000000\"}, \"showarrow\": false}, {\"text\": \"0.04\", \"x\": \"r\", \"y\": \"v\", \"xref\": \"x1\", \"yref\": \"y1\", \"font\": {\"color\": \"#000000\"}, \"showarrow\": false}, {\"text\": \"0.08\", \"x\": \"s\", \"y\": \"v\", \"xref\": \"x1\", \"yref\": \"y1\", \"font\": {\"color\": \"#000000\"}, \"showarrow\": false}, {\"text\": \"0.03\", \"x\": \"t\", \"y\": \"v\", \"xref\": \"x1\", \"yref\": \"y1\", \"font\": {\"color\": \"#000000\"}, \"showarrow\": false}, {\"text\": \"0.01\", \"x\": \"u\", \"y\": \"v\", \"xref\": \"x1\", \"yref\": \"y1\", \"font\": {\"color\": \"#000000\"}, \"showarrow\": false}, {\"text\": \"0.82\", \"x\": \"v\", \"y\": \"v\", \"xref\": \"x1\", \"yref\": \"y1\", \"font\": {\"color\": \"#FFFFFF\"}, \"showarrow\": false}, {\"text\": \"\", \"x\": \"w\", \"y\": \"v\", \"xref\": \"x1\", \"yref\": \"y1\", \"font\": {\"color\": \"#000000\"}, \"showarrow\": false}, {\"text\": \"0.01\", \"x\": \"x\", \"y\": \"v\", \"xref\": \"x1\", \"yref\": \"y1\", \"font\": {\"color\": \"#000000\"}, \"showarrow\": false}, {\"text\": \"0.01\", \"x\": \"y\", \"y\": \"v\", \"xref\": \"x1\", \"yref\": \"y1\", \"font\": {\"color\": \"#000000\"}, \"showarrow\": false}, {\"text\": \"\", \"x\": \"z\", \"y\": \"v\", \"xref\": \"x1\", \"yref\": \"y1\", \"font\": {\"color\": \"#000000\"}, \"showarrow\": false}, {\"text\": \"\", \"x\": \"n\", \"y\": \"w\", \"xref\": \"x1\", \"yref\": \"y1\", \"font\": {\"color\": \"#000000\"}, \"showarrow\": false}, {\"text\": \"0.01\", \"x\": \"o\", \"y\": \"w\", \"xref\": \"x1\", \"yref\": \"y1\", \"font\": {\"color\": \"#000000\"}, \"showarrow\": false}, {\"text\": \"\", \"x\": \"p\", \"y\": \"w\", \"xref\": \"x1\", \"yref\": \"y1\", \"font\": {\"color\": \"#000000\"}, \"showarrow\": false}, {\"text\": \"0.01\", \"x\": \"q\", \"y\": \"w\", \"xref\": \"x1\", \"yref\": \"y1\", \"font\": {\"color\": \"#000000\"}, \"showarrow\": false}, {\"text\": \"0.01\", \"x\": \"r\", \"y\": \"w\", \"xref\": \"x1\", \"yref\": \"y1\", \"font\": {\"color\": \"#000000\"}, \"showarrow\": false}, {\"text\": \"\", \"x\": \"s\", \"y\": \"w\", \"xref\": \"x1\", \"yref\": \"y1\", \"font\": {\"color\": \"#000000\"}, \"showarrow\": false}, {\"text\": \"\", \"x\": \"t\", \"y\": \"w\", \"xref\": \"x1\", \"yref\": \"y1\", \"font\": {\"color\": \"#000000\"}, \"showarrow\": false}, {\"text\": \"\", \"x\": \"u\", \"y\": \"w\", \"xref\": \"x1\", \"yref\": \"y1\", \"font\": {\"color\": \"#000000\"}, \"showarrow\": false}, {\"text\": \"\", \"x\": \"v\", \"y\": \"w\", \"xref\": \"x1\", \"yref\": \"y1\", \"font\": {\"color\": \"#000000\"}, \"showarrow\": false}, {\"text\": \"0.71\", \"x\": \"w\", \"y\": \"w\", \"xref\": \"x1\", \"yref\": \"y1\", \"font\": {\"color\": \"#FFFFFF\"}, \"showarrow\": false}, {\"text\": \"\", \"x\": \"x\", \"y\": \"w\", \"xref\": \"x1\", \"yref\": \"y1\", \"font\": {\"color\": \"#000000\"}, \"showarrow\": false}, {\"text\": \"\", \"x\": \"y\", \"y\": \"w\", \"xref\": \"x1\", \"yref\": \"y1\", \"font\": {\"color\": \"#000000\"}, \"showarrow\": false}, {\"text\": \"0.01\", \"x\": \"z\", \"y\": \"w\", \"xref\": \"x1\", \"yref\": \"y1\", \"font\": {\"color\": \"#000000\"}, \"showarrow\": false}, {\"text\": \"0.01\", \"x\": \"n\", \"y\": \"x\", \"xref\": \"x1\", \"yref\": \"y1\", \"font\": {\"color\": \"#000000\"}, \"showarrow\": false}, {\"text\": \"\", \"x\": \"o\", \"y\": \"x\", \"xref\": \"x1\", \"yref\": \"y1\", \"font\": {\"color\": \"#000000\"}, \"showarrow\": false}, {\"text\": \"\", \"x\": \"p\", \"y\": \"x\", \"xref\": \"x1\", \"yref\": \"y1\", \"font\": {\"color\": \"#000000\"}, \"showarrow\": false}, {\"text\": \"\", \"x\": \"q\", \"y\": \"x\", \"xref\": \"x1\", \"yref\": \"y1\", \"font\": {\"color\": \"#000000\"}, \"showarrow\": false}, {\"text\": \"\", \"x\": \"r\", \"y\": \"x\", \"xref\": \"x1\", \"yref\": \"y1\", \"font\": {\"color\": \"#000000\"}, \"showarrow\": false}, {\"text\": \"\", \"x\": \"s\", \"y\": \"x\", \"xref\": \"x1\", \"yref\": \"y1\", \"font\": {\"color\": \"#000000\"}, \"showarrow\": false}, {\"text\": \"\", \"x\": \"t\", \"y\": \"x\", \"xref\": \"x1\", \"yref\": \"y1\", \"font\": {\"color\": \"#000000\"}, \"showarrow\": false}, {\"text\": \"0.01\", \"x\": \"u\", \"y\": \"x\", \"xref\": \"x1\", \"yref\": \"y1\", \"font\": {\"color\": \"#000000\"}, \"showarrow\": false}, {\"text\": \"\", \"x\": \"v\", \"y\": \"x\", \"xref\": \"x1\", \"yref\": \"y1\", \"font\": {\"color\": \"#000000\"}, \"showarrow\": false}, {\"text\": \"0.05\", \"x\": \"w\", \"y\": \"x\", \"xref\": \"x1\", \"yref\": \"y1\", \"font\": {\"color\": \"#000000\"}, \"showarrow\": false}, {\"text\": \"0.75\", \"x\": \"x\", \"y\": \"x\", \"xref\": \"x1\", \"yref\": \"y1\", \"font\": {\"color\": \"#FFFFFF\"}, \"showarrow\": false}, {\"text\": \"0.01\", \"x\": \"y\", \"y\": \"x\", \"xref\": \"x1\", \"yref\": \"y1\", \"font\": {\"color\": \"#000000\"}, \"showarrow\": false}, {\"text\": \"0.03\", \"x\": \"z\", \"y\": \"x\", \"xref\": \"x1\", \"yref\": \"y1\", \"font\": {\"color\": \"#000000\"}, \"showarrow\": false}, {\"text\": \"\", \"x\": \"n\", \"y\": \"y\", \"xref\": \"x1\", \"yref\": \"y1\", \"font\": {\"color\": \"#000000\"}, \"showarrow\": false}, {\"text\": \"0.01\", \"x\": \"o\", \"y\": \"y\", \"xref\": \"x1\", \"yref\": \"y1\", \"font\": {\"color\": \"#000000\"}, \"showarrow\": false}, {\"text\": \"\", \"x\": \"p\", \"y\": \"y\", \"xref\": \"x1\", \"yref\": \"y1\", \"font\": {\"color\": \"#000000\"}, \"showarrow\": false}, {\"text\": \"0.01\", \"x\": \"q\", \"y\": \"y\", \"xref\": \"x1\", \"yref\": \"y1\", \"font\": {\"color\": \"#000000\"}, \"showarrow\": false}, {\"text\": \"\", \"x\": \"r\", \"y\": \"y\", \"xref\": \"x1\", \"yref\": \"y1\", \"font\": {\"color\": \"#000000\"}, \"showarrow\": false}, {\"text\": \"\", \"x\": \"s\", \"y\": \"y\", \"xref\": \"x1\", \"yref\": \"y1\", \"font\": {\"color\": \"#000000\"}, \"showarrow\": false}, {\"text\": \"\", \"x\": \"t\", \"y\": \"y\", \"xref\": \"x1\", \"yref\": \"y1\", \"font\": {\"color\": \"#000000\"}, \"showarrow\": false}, {\"text\": \"\", \"x\": \"u\", \"y\": \"y\", \"xref\": \"x1\", \"yref\": \"y1\", \"font\": {\"color\": \"#000000\"}, \"showarrow\": false}, {\"text\": \"\", \"x\": \"v\", \"y\": \"y\", \"xref\": \"x1\", \"yref\": \"y1\", \"font\": {\"color\": \"#000000\"}, \"showarrow\": false}, {\"text\": \"\", \"x\": \"w\", \"y\": \"y\", \"xref\": \"x1\", \"yref\": \"y1\", \"font\": {\"color\": \"#000000\"}, \"showarrow\": false}, {\"text\": \"0.03\", \"x\": \"x\", \"y\": \"y\", \"xref\": \"x1\", \"yref\": \"y1\", \"font\": {\"color\": \"#000000\"}, \"showarrow\": false}, {\"text\": \"0.74\", \"x\": \"y\", \"y\": \"y\", \"xref\": \"x1\", \"yref\": \"y1\", \"font\": {\"color\": \"#FFFFFF\"}, \"showarrow\": false}, {\"text\": \"0.01\", \"x\": \"z\", \"y\": \"y\", \"xref\": \"x1\", \"yref\": \"y1\", \"font\": {\"color\": \"#000000\"}, \"showarrow\": false}, {\"text\": \"0.04\", \"x\": \"n\", \"y\": \"z\", \"xref\": \"x1\", \"yref\": \"y1\", \"font\": {\"color\": \"#000000\"}, \"showarrow\": false}, {\"text\": \"0.01\", \"x\": \"o\", \"y\": \"z\", \"xref\": \"x1\", \"yref\": \"y1\", \"font\": {\"color\": \"#000000\"}, \"showarrow\": false}, {\"text\": \"\", \"x\": \"p\", \"y\": \"z\", \"xref\": \"x1\", \"yref\": \"y1\", \"font\": {\"color\": \"#000000\"}, \"showarrow\": false}, {\"text\": \"0.03\", \"x\": \"q\", \"y\": \"z\", \"xref\": \"x1\", \"yref\": \"y1\", \"font\": {\"color\": \"#000000\"}, \"showarrow\": false}, {\"text\": \"\", \"x\": \"r\", \"y\": \"z\", \"xref\": \"x1\", \"yref\": \"y1\", \"font\": {\"color\": \"#000000\"}, \"showarrow\": false}, {\"text\": \"\", \"x\": \"s\", \"y\": \"z\", \"xref\": \"x1\", \"yref\": \"y1\", \"font\": {\"color\": \"#000000\"}, \"showarrow\": false}, {\"text\": \"\", \"x\": \"t\", \"y\": \"z\", \"xref\": \"x1\", \"yref\": \"y1\", \"font\": {\"color\": \"#000000\"}, \"showarrow\": false}, {\"text\": \"\", \"x\": \"u\", \"y\": \"z\", \"xref\": \"x1\", \"yref\": \"y1\", \"font\": {\"color\": \"#000000\"}, \"showarrow\": false}, {\"text\": \"\", \"x\": \"v\", \"y\": \"z\", \"xref\": \"x1\", \"yref\": \"y1\", \"font\": {\"color\": \"#000000\"}, \"showarrow\": false}, {\"text\": \"\", \"x\": \"w\", \"y\": \"z\", \"xref\": \"x1\", \"yref\": \"y1\", \"font\": {\"color\": \"#000000\"}, \"showarrow\": false}, {\"text\": \"\", \"x\": \"x\", \"y\": \"z\", \"xref\": \"x1\", \"yref\": \"y1\", \"font\": {\"color\": \"#000000\"}, \"showarrow\": false}, {\"text\": \"0.01\", \"x\": \"y\", \"y\": \"z\", \"xref\": \"x1\", \"yref\": \"y1\", \"font\": {\"color\": \"#000000\"}, \"showarrow\": false}, {\"text\": \"0.78\", \"x\": \"z\", \"y\": \"z\", \"xref\": \"x1\", \"yref\": \"y1\", \"font\": {\"color\": \"#FFFFFF\"}, \"showarrow\": false}], \"xaxis\": {\"ticks\": \"\", \"dtick\": 1, \"side\": \"bottom\", \"gridcolor\": \"rgb(0, 0, 0)\", \"title\": \"Predicted values\"}, \"yaxis\": {\"ticks\": \"\", \"dtick\": 1, \"ticksuffix\": \"  \", \"anchor\": \"bottom\", \"title\": \"True values\"}, \"title\": \"Confusion Matrix of Lowercase NN\"}, {\"showLink\": false, \"linkText\": \"Export to plot.ly\"})});</script>"
      ],
      "text/vnd.plotly.v1+html": [
       "<div id=\"f6f8d5fe-23f4-4ef6-8680-b55158eebbb9\" style=\"height: 525px; width: 100%;\" class=\"plotly-graph-div\"></div><script type=\"text/javascript\">require([\"plotly\"], function(Plotly) { window.PLOTLYENV=window.PLOTLYENV || {};window.PLOTLYENV.BASE_URL=\"https://plot.ly\";Plotly.newPlot(\"f6f8d5fe-23f4-4ef6-8680-b55158eebbb9\", [{\"type\": \"heatmap\", \"z\": [[0.814453125, 0.01149749755859375, 0.01265716552734375, 0.0, 0.01265716552734375, 0.0555419921875, 0.0, 0.0, 0.016387939453125, 0.015869140625, 0.033721923828125, 0.0, 0.014495849609375], [0.0, 0.609375, 0.0, 0.014495849609375, 0.0, 0.0, 0.0, 0.036590576171875, 0.0, 0.0, 0.0, 0.0, 0.0], [0.0142822265625, 0.01149749755859375, 0.7216796875, 0.0, 0.0, 0.0, 0.0, 0.0, 0.0, 0.0, 0.0, 0.0, 0.02899169921875], [0.0, 0.0229949951171875, 0.0, 0.69580078125, 0.0, 0.0, 0.0, 0.0121917724609375, 0.0, 0.0, 0.0, 0.03448486328125, 0.02899169921875], [0.0, 0.0, 0.01265716552734375, 0.02899169921875, 0.607421875, 0.0, 0.0, 0.0121917724609375, 0.016387939453125, 0.03173828125, 0.0, 0.0, 0.0], [0.0142822265625, 0.045989990234375, 0.01265716552734375, 0.0, 0.01265716552734375, 0.75, 0.0270233154296875, 0.0, 0.0491943359375, 0.0, 0.0, 0.0, 0.0], [0.0, 0.0, 0.0, 0.014495849609375, 0.11395263671875, 0.0555419921875, 0.9052734375, 0.0121917724609375, 0.016387939453125, 0.0, 0.0224761962890625, 0.0, 0.02899169921875], [0.0142822265625, 0.01149749755859375, 0.01265716552734375, 0.0, 0.01265716552734375, 0.0, 0.0, 0.70751953125, 0.0, 0.0, 0.01123809814453125, 0.0, 0.014495849609375], [0.0, 0.03448486328125, 0.075927734375, 0.0, 0.0379638671875, 0.08331298828125, 0.0270233154296875, 0.0121917724609375, 0.81982421875, 0.0, 0.01123809814453125, 0.01149749755859375, 0.0], [0.0, 0.01149749755859375, 0.0, 0.014495849609375, 0.01265716552734375, 0.0, 0.0, 0.0, 0.0, 0.71435546875, 0.0, 0.0, 0.014495849609375], [0.0142822265625, 0.0, 0.0, 0.0, 0.0, 0.0, 0.0, 0.0121917724609375, 0.0, 0.047607421875, 0.7529296875, 0.01149749755859375, 0.02899169921875], [0.0, 0.01149749755859375, 0.0, 0.014495849609375, 0.0, 0.0, 0.0, 0.0, 0.0, 0.0, 0.033721923828125, 0.73583984375, 0.014495849609375], [0.0428466796875, 0.01149749755859375, 0.0, 0.02899169921875, 0.0, 0.0, 0.0, 0.0, 0.0, 0.0, 0.0, 0.01149749755859375, 0.78271484375]], \"x\": [\"n\", \"o\", \"p\", \"q\", \"r\", \"s\", \"t\", \"u\", \"v\", \"w\", \"x\", \"y\", \"z\"], \"y\": [\"n\", \"o\", \"p\", \"q\", \"r\", \"s\", \"t\", \"u\", \"v\", \"w\", \"x\", \"y\", \"z\"], \"colorscale\": [[0.0, \"#e5e5ff\"], [0.05, \"#cacaf0\"], [0.1, \"#b0b0e1\"], [0.25, \"#9494d2\"], [0.5, \"#7a7ac3\"], [0.75, \"#5e5eb4\"], [0.9, \"#4444a5\"], [1.0, \"#282896\"]], \"showscale\": true, \"xgap\": 1.25, \"ygap\": 1.25, \"colorbar\": {\"tickmode\": \"array\"}}], {\"annotations\": [{\"text\": \"0.81\", \"x\": \"n\", \"y\": \"n\", \"xref\": \"x1\", \"yref\": \"y1\", \"font\": {\"color\": \"#FFFFFF\"}, \"showarrow\": false}, {\"text\": \"0.01\", \"x\": \"o\", \"y\": \"n\", \"xref\": \"x1\", \"yref\": \"y1\", \"font\": {\"color\": \"#000000\"}, \"showarrow\": false}, {\"text\": \"0.01\", \"x\": \"p\", \"y\": \"n\", \"xref\": \"x1\", \"yref\": \"y1\", \"font\": {\"color\": \"#000000\"}, \"showarrow\": false}, {\"text\": \"\", \"x\": \"q\", \"y\": \"n\", \"xref\": \"x1\", \"yref\": \"y1\", \"font\": {\"color\": \"#000000\"}, \"showarrow\": false}, {\"text\": \"0.01\", \"x\": \"r\", \"y\": \"n\", \"xref\": \"x1\", \"yref\": \"y1\", \"font\": {\"color\": \"#000000\"}, \"showarrow\": false}, {\"text\": \"0.06\", \"x\": \"s\", \"y\": \"n\", \"xref\": \"x1\", \"yref\": \"y1\", \"font\": {\"color\": \"#000000\"}, \"showarrow\": false}, {\"text\": \"\", \"x\": \"t\", \"y\": \"n\", \"xref\": \"x1\", \"yref\": \"y1\", \"font\": {\"color\": \"#000000\"}, \"showarrow\": false}, {\"text\": \"\", \"x\": \"u\", \"y\": \"n\", \"xref\": \"x1\", \"yref\": \"y1\", \"font\": {\"color\": \"#000000\"}, \"showarrow\": false}, {\"text\": \"0.02\", \"x\": \"v\", \"y\": \"n\", \"xref\": \"x1\", \"yref\": \"y1\", \"font\": {\"color\": \"#000000\"}, \"showarrow\": false}, {\"text\": \"0.02\", \"x\": \"w\", \"y\": \"n\", \"xref\": \"x1\", \"yref\": \"y1\", \"font\": {\"color\": \"#000000\"}, \"showarrow\": false}, {\"text\": \"0.03\", \"x\": \"x\", \"y\": \"n\", \"xref\": \"x1\", \"yref\": \"y1\", \"font\": {\"color\": \"#000000\"}, \"showarrow\": false}, {\"text\": \"\", \"x\": \"y\", \"y\": \"n\", \"xref\": \"x1\", \"yref\": \"y1\", \"font\": {\"color\": \"#000000\"}, \"showarrow\": false}, {\"text\": \"0.01\", \"x\": \"z\", \"y\": \"n\", \"xref\": \"x1\", \"yref\": \"y1\", \"font\": {\"color\": \"#000000\"}, \"showarrow\": false}, {\"text\": \"\", \"x\": \"n\", \"y\": \"o\", \"xref\": \"x1\", \"yref\": \"y1\", \"font\": {\"color\": \"#000000\"}, \"showarrow\": false}, {\"text\": \"0.61\", \"x\": \"o\", \"y\": \"o\", \"xref\": \"x1\", \"yref\": \"y1\", \"font\": {\"color\": \"#FFFFFF\"}, \"showarrow\": false}, {\"text\": \"\", \"x\": \"p\", \"y\": \"o\", \"xref\": \"x1\", \"yref\": \"y1\", \"font\": {\"color\": \"#000000\"}, \"showarrow\": false}, {\"text\": \"0.01\", \"x\": \"q\", \"y\": \"o\", \"xref\": \"x1\", \"yref\": \"y1\", \"font\": {\"color\": \"#000000\"}, \"showarrow\": false}, {\"text\": \"\", \"x\": \"r\", \"y\": \"o\", \"xref\": \"x1\", \"yref\": \"y1\", \"font\": {\"color\": \"#000000\"}, \"showarrow\": false}, {\"text\": \"\", \"x\": \"s\", \"y\": \"o\", \"xref\": \"x1\", \"yref\": \"y1\", \"font\": {\"color\": \"#000000\"}, \"showarrow\": false}, {\"text\": \"\", \"x\": \"t\", \"y\": \"o\", \"xref\": \"x1\", \"yref\": \"y1\", \"font\": {\"color\": \"#000000\"}, \"showarrow\": false}, {\"text\": \"0.04\", \"x\": \"u\", \"y\": \"o\", \"xref\": \"x1\", \"yref\": \"y1\", \"font\": {\"color\": \"#000000\"}, \"showarrow\": false}, {\"text\": \"\", \"x\": \"v\", \"y\": \"o\", \"xref\": \"x1\", \"yref\": \"y1\", \"font\": {\"color\": \"#000000\"}, \"showarrow\": false}, {\"text\": \"\", \"x\": \"w\", \"y\": \"o\", \"xref\": \"x1\", \"yref\": \"y1\", \"font\": {\"color\": \"#000000\"}, \"showarrow\": false}, {\"text\": \"\", \"x\": \"x\", \"y\": \"o\", \"xref\": \"x1\", \"yref\": \"y1\", \"font\": {\"color\": \"#000000\"}, \"showarrow\": false}, {\"text\": \"\", \"x\": \"y\", \"y\": \"o\", \"xref\": \"x1\", \"yref\": \"y1\", \"font\": {\"color\": \"#000000\"}, \"showarrow\": false}, {\"text\": \"\", \"x\": \"z\", \"y\": \"o\", \"xref\": \"x1\", \"yref\": \"y1\", \"font\": {\"color\": \"#000000\"}, \"showarrow\": false}, {\"text\": \"0.01\", \"x\": \"n\", \"y\": \"p\", \"xref\": \"x1\", \"yref\": \"y1\", \"font\": {\"color\": \"#000000\"}, \"showarrow\": false}, {\"text\": \"0.01\", \"x\": \"o\", \"y\": \"p\", \"xref\": \"x1\", \"yref\": \"y1\", \"font\": {\"color\": \"#000000\"}, \"showarrow\": false}, {\"text\": \"0.72\", \"x\": \"p\", \"y\": \"p\", \"xref\": \"x1\", \"yref\": \"y1\", \"font\": {\"color\": \"#FFFFFF\"}, \"showarrow\": false}, {\"text\": \"\", \"x\": \"q\", \"y\": \"p\", \"xref\": \"x1\", \"yref\": \"y1\", \"font\": {\"color\": \"#000000\"}, \"showarrow\": false}, {\"text\": \"\", \"x\": \"r\", \"y\": \"p\", \"xref\": \"x1\", \"yref\": \"y1\", \"font\": {\"color\": \"#000000\"}, \"showarrow\": false}, {\"text\": \"\", \"x\": \"s\", \"y\": \"p\", \"xref\": \"x1\", \"yref\": \"y1\", \"font\": {\"color\": \"#000000\"}, \"showarrow\": false}, {\"text\": \"\", \"x\": \"t\", \"y\": \"p\", \"xref\": \"x1\", \"yref\": \"y1\", \"font\": {\"color\": \"#000000\"}, \"showarrow\": false}, {\"text\": \"\", \"x\": \"u\", \"y\": \"p\", \"xref\": \"x1\", \"yref\": \"y1\", \"font\": {\"color\": \"#000000\"}, \"showarrow\": false}, {\"text\": \"\", \"x\": \"v\", \"y\": \"p\", \"xref\": \"x1\", \"yref\": \"y1\", \"font\": {\"color\": \"#000000\"}, \"showarrow\": false}, {\"text\": \"\", \"x\": \"w\", \"y\": \"p\", \"xref\": \"x1\", \"yref\": \"y1\", \"font\": {\"color\": \"#000000\"}, \"showarrow\": false}, {\"text\": \"\", \"x\": \"x\", \"y\": \"p\", \"xref\": \"x1\", \"yref\": \"y1\", \"font\": {\"color\": \"#000000\"}, \"showarrow\": false}, {\"text\": \"\", \"x\": \"y\", \"y\": \"p\", \"xref\": \"x1\", \"yref\": \"y1\", \"font\": {\"color\": \"#000000\"}, \"showarrow\": false}, {\"text\": \"0.03\", \"x\": \"z\", \"y\": \"p\", \"xref\": \"x1\", \"yref\": \"y1\", \"font\": {\"color\": \"#000000\"}, \"showarrow\": false}, {\"text\": \"\", \"x\": \"n\", \"y\": \"q\", \"xref\": \"x1\", \"yref\": \"y1\", \"font\": {\"color\": \"#000000\"}, \"showarrow\": false}, {\"text\": \"0.02\", \"x\": \"o\", \"y\": \"q\", \"xref\": \"x1\", \"yref\": \"y1\", \"font\": {\"color\": \"#000000\"}, \"showarrow\": false}, {\"text\": \"\", \"x\": \"p\", \"y\": \"q\", \"xref\": \"x1\", \"yref\": \"y1\", \"font\": {\"color\": \"#000000\"}, \"showarrow\": false}, {\"text\": \"0.70\", \"x\": \"q\", \"y\": \"q\", \"xref\": \"x1\", \"yref\": \"y1\", \"font\": {\"color\": \"#FFFFFF\"}, \"showarrow\": false}, {\"text\": \"\", \"x\": \"r\", \"y\": \"q\", \"xref\": \"x1\", \"yref\": \"y1\", \"font\": {\"color\": \"#000000\"}, \"showarrow\": false}, {\"text\": \"\", \"x\": \"s\", \"y\": \"q\", \"xref\": \"x1\", \"yref\": \"y1\", \"font\": {\"color\": \"#000000\"}, \"showarrow\": false}, {\"text\": \"\", \"x\": \"t\", \"y\": \"q\", \"xref\": \"x1\", \"yref\": \"y1\", \"font\": {\"color\": \"#000000\"}, \"showarrow\": false}, {\"text\": \"0.01\", \"x\": \"u\", \"y\": \"q\", \"xref\": \"x1\", \"yref\": \"y1\", \"font\": {\"color\": \"#000000\"}, \"showarrow\": false}, {\"text\": \"\", \"x\": \"v\", \"y\": \"q\", \"xref\": \"x1\", \"yref\": \"y1\", \"font\": {\"color\": \"#000000\"}, \"showarrow\": false}, {\"text\": \"\", \"x\": \"w\", \"y\": \"q\", \"xref\": \"x1\", \"yref\": \"y1\", \"font\": {\"color\": \"#000000\"}, \"showarrow\": false}, {\"text\": \"\", \"x\": \"x\", \"y\": \"q\", \"xref\": \"x1\", \"yref\": \"y1\", \"font\": {\"color\": \"#000000\"}, \"showarrow\": false}, {\"text\": \"0.03\", \"x\": \"y\", \"y\": \"q\", \"xref\": \"x1\", \"yref\": \"y1\", \"font\": {\"color\": \"#000000\"}, \"showarrow\": false}, {\"text\": \"0.03\", \"x\": \"z\", \"y\": \"q\", \"xref\": \"x1\", \"yref\": \"y1\", \"font\": {\"color\": \"#000000\"}, \"showarrow\": false}, {\"text\": \"\", \"x\": \"n\", \"y\": \"r\", \"xref\": \"x1\", \"yref\": \"y1\", \"font\": {\"color\": \"#000000\"}, \"showarrow\": false}, {\"text\": \"\", \"x\": \"o\", \"y\": \"r\", \"xref\": \"x1\", \"yref\": \"y1\", \"font\": {\"color\": \"#000000\"}, \"showarrow\": false}, {\"text\": \"0.01\", \"x\": \"p\", \"y\": \"r\", \"xref\": \"x1\", \"yref\": \"y1\", \"font\": {\"color\": \"#000000\"}, \"showarrow\": false}, {\"text\": \"0.03\", \"x\": \"q\", \"y\": \"r\", \"xref\": \"x1\", \"yref\": \"y1\", \"font\": {\"color\": \"#000000\"}, \"showarrow\": false}, {\"text\": \"0.61\", \"x\": \"r\", \"y\": \"r\", \"xref\": \"x1\", \"yref\": \"y1\", \"font\": {\"color\": \"#FFFFFF\"}, \"showarrow\": false}, {\"text\": \"\", \"x\": \"s\", \"y\": \"r\", \"xref\": \"x1\", \"yref\": \"y1\", \"font\": {\"color\": \"#000000\"}, \"showarrow\": false}, {\"text\": \"\", \"x\": \"t\", \"y\": \"r\", \"xref\": \"x1\", \"yref\": \"y1\", \"font\": {\"color\": \"#000000\"}, \"showarrow\": false}, {\"text\": \"0.01\", \"x\": \"u\", \"y\": \"r\", \"xref\": \"x1\", \"yref\": \"y1\", \"font\": {\"color\": \"#000000\"}, \"showarrow\": false}, {\"text\": \"0.02\", \"x\": \"v\", \"y\": \"r\", \"xref\": \"x1\", \"yref\": \"y1\", \"font\": {\"color\": \"#000000\"}, \"showarrow\": false}, {\"text\": \"0.03\", \"x\": \"w\", \"y\": \"r\", \"xref\": \"x1\", \"yref\": \"y1\", \"font\": {\"color\": \"#000000\"}, \"showarrow\": false}, {\"text\": \"\", \"x\": \"x\", \"y\": \"r\", \"xref\": \"x1\", \"yref\": \"y1\", \"font\": {\"color\": \"#000000\"}, \"showarrow\": false}, {\"text\": \"\", \"x\": \"y\", \"y\": \"r\", \"xref\": \"x1\", \"yref\": \"y1\", \"font\": {\"color\": \"#000000\"}, \"showarrow\": false}, {\"text\": \"\", \"x\": \"z\", \"y\": \"r\", \"xref\": \"x1\", \"yref\": \"y1\", \"font\": {\"color\": \"#000000\"}, \"showarrow\": false}, {\"text\": \"0.01\", \"x\": \"n\", \"y\": \"s\", \"xref\": \"x1\", \"yref\": \"y1\", \"font\": {\"color\": \"#000000\"}, \"showarrow\": false}, {\"text\": \"0.05\", \"x\": \"o\", \"y\": \"s\", \"xref\": \"x1\", \"yref\": \"y1\", \"font\": {\"color\": \"#000000\"}, \"showarrow\": false}, {\"text\": \"0.01\", \"x\": \"p\", \"y\": \"s\", \"xref\": \"x1\", \"yref\": \"y1\", \"font\": {\"color\": \"#000000\"}, \"showarrow\": false}, {\"text\": \"\", \"x\": \"q\", \"y\": \"s\", \"xref\": \"x1\", \"yref\": \"y1\", \"font\": {\"color\": \"#000000\"}, \"showarrow\": false}, {\"text\": \"0.01\", \"x\": \"r\", \"y\": \"s\", \"xref\": \"x1\", \"yref\": \"y1\", \"font\": {\"color\": \"#000000\"}, \"showarrow\": false}, {\"text\": \"0.75\", \"x\": \"s\", \"y\": \"s\", \"xref\": \"x1\", \"yref\": \"y1\", \"font\": {\"color\": \"#FFFFFF\"}, \"showarrow\": false}, {\"text\": \"0.03\", \"x\": \"t\", \"y\": \"s\", \"xref\": \"x1\", \"yref\": \"y1\", \"font\": {\"color\": \"#000000\"}, \"showarrow\": false}, {\"text\": \"\", \"x\": \"u\", \"y\": \"s\", \"xref\": \"x1\", \"yref\": \"y1\", \"font\": {\"color\": \"#000000\"}, \"showarrow\": false}, {\"text\": \"0.05\", \"x\": \"v\", \"y\": \"s\", \"xref\": \"x1\", \"yref\": \"y1\", \"font\": {\"color\": \"#000000\"}, \"showarrow\": false}, {\"text\": \"\", \"x\": \"w\", \"y\": \"s\", \"xref\": \"x1\", \"yref\": \"y1\", \"font\": {\"color\": \"#000000\"}, \"showarrow\": false}, {\"text\": \"\", \"x\": \"x\", \"y\": \"s\", \"xref\": \"x1\", \"yref\": \"y1\", \"font\": {\"color\": \"#000000\"}, \"showarrow\": false}, {\"text\": \"\", \"x\": \"y\", \"y\": \"s\", \"xref\": \"x1\", \"yref\": \"y1\", \"font\": {\"color\": \"#000000\"}, \"showarrow\": false}, {\"text\": \"\", \"x\": \"z\", \"y\": \"s\", \"xref\": \"x1\", \"yref\": \"y1\", \"font\": {\"color\": \"#000000\"}, \"showarrow\": false}, {\"text\": \"\", \"x\": \"n\", \"y\": \"t\", \"xref\": \"x1\", \"yref\": \"y1\", \"font\": {\"color\": \"#000000\"}, \"showarrow\": false}, {\"text\": \"\", \"x\": \"o\", \"y\": \"t\", \"xref\": \"x1\", \"yref\": \"y1\", \"font\": {\"color\": \"#000000\"}, \"showarrow\": false}, {\"text\": \"\", \"x\": \"p\", \"y\": \"t\", \"xref\": \"x1\", \"yref\": \"y1\", \"font\": {\"color\": \"#000000\"}, \"showarrow\": false}, {\"text\": \"0.01\", \"x\": \"q\", \"y\": \"t\", \"xref\": \"x1\", \"yref\": \"y1\", \"font\": {\"color\": \"#000000\"}, \"showarrow\": false}, {\"text\": \"0.11\", \"x\": \"r\", \"y\": \"t\", \"xref\": \"x1\", \"yref\": \"y1\", \"font\": {\"color\": \"#000000\"}, \"showarrow\": false}, {\"text\": \"0.06\", \"x\": \"s\", \"y\": \"t\", \"xref\": \"x1\", \"yref\": \"y1\", \"font\": {\"color\": \"#000000\"}, \"showarrow\": false}, {\"text\": \"0.91\", \"x\": \"t\", \"y\": \"t\", \"xref\": \"x1\", \"yref\": \"y1\", \"font\": {\"color\": \"#FFFFFF\"}, \"showarrow\": false}, {\"text\": \"0.01\", \"x\": \"u\", \"y\": \"t\", \"xref\": \"x1\", \"yref\": \"y1\", \"font\": {\"color\": \"#000000\"}, \"showarrow\": false}, {\"text\": \"0.02\", \"x\": \"v\", \"y\": \"t\", \"xref\": \"x1\", \"yref\": \"y1\", \"font\": {\"color\": \"#000000\"}, \"showarrow\": false}, {\"text\": \"\", \"x\": \"w\", \"y\": \"t\", \"xref\": \"x1\", \"yref\": \"y1\", \"font\": {\"color\": \"#000000\"}, \"showarrow\": false}, {\"text\": \"0.02\", \"x\": \"x\", \"y\": \"t\", \"xref\": \"x1\", \"yref\": \"y1\", \"font\": {\"color\": \"#000000\"}, \"showarrow\": false}, {\"text\": \"\", \"x\": \"y\", \"y\": \"t\", \"xref\": \"x1\", \"yref\": \"y1\", \"font\": {\"color\": \"#000000\"}, \"showarrow\": false}, {\"text\": \"0.03\", \"x\": \"z\", \"y\": \"t\", \"xref\": \"x1\", \"yref\": \"y1\", \"font\": {\"color\": \"#000000\"}, \"showarrow\": false}, {\"text\": \"0.01\", \"x\": \"n\", \"y\": \"u\", \"xref\": \"x1\", \"yref\": \"y1\", \"font\": {\"color\": \"#000000\"}, \"showarrow\": false}, {\"text\": \"0.01\", \"x\": \"o\", \"y\": \"u\", \"xref\": \"x1\", \"yref\": \"y1\", \"font\": {\"color\": \"#000000\"}, \"showarrow\": false}, {\"text\": \"0.01\", \"x\": \"p\", \"y\": \"u\", \"xref\": \"x1\", \"yref\": \"y1\", \"font\": {\"color\": \"#000000\"}, \"showarrow\": false}, {\"text\": \"\", \"x\": \"q\", \"y\": \"u\", \"xref\": \"x1\", \"yref\": \"y1\", \"font\": {\"color\": \"#000000\"}, \"showarrow\": false}, {\"text\": \"0.01\", \"x\": \"r\", \"y\": \"u\", \"xref\": \"x1\", \"yref\": \"y1\", \"font\": {\"color\": \"#000000\"}, \"showarrow\": false}, {\"text\": \"\", \"x\": \"s\", \"y\": \"u\", \"xref\": \"x1\", \"yref\": \"y1\", \"font\": {\"color\": \"#000000\"}, \"showarrow\": false}, {\"text\": \"\", \"x\": \"t\", \"y\": \"u\", \"xref\": \"x1\", \"yref\": \"y1\", \"font\": {\"color\": \"#000000\"}, \"showarrow\": false}, {\"text\": \"0.71\", \"x\": \"u\", \"y\": \"u\", \"xref\": \"x1\", \"yref\": \"y1\", \"font\": {\"color\": \"#FFFFFF\"}, \"showarrow\": false}, {\"text\": \"\", \"x\": \"v\", \"y\": \"u\", \"xref\": \"x1\", \"yref\": \"y1\", \"font\": {\"color\": \"#000000\"}, \"showarrow\": false}, {\"text\": \"\", \"x\": \"w\", \"y\": \"u\", \"xref\": \"x1\", \"yref\": \"y1\", \"font\": {\"color\": \"#000000\"}, \"showarrow\": false}, {\"text\": \"0.01\", \"x\": \"x\", \"y\": \"u\", \"xref\": \"x1\", \"yref\": \"y1\", \"font\": {\"color\": \"#000000\"}, \"showarrow\": false}, {\"text\": \"\", \"x\": \"y\", \"y\": \"u\", \"xref\": \"x1\", \"yref\": \"y1\", \"font\": {\"color\": \"#000000\"}, \"showarrow\": false}, {\"text\": \"0.01\", \"x\": \"z\", \"y\": \"u\", \"xref\": \"x1\", \"yref\": \"y1\", \"font\": {\"color\": \"#000000\"}, \"showarrow\": false}, {\"text\": \"\", \"x\": \"n\", \"y\": \"v\", \"xref\": \"x1\", \"yref\": \"y1\", \"font\": {\"color\": \"#000000\"}, \"showarrow\": false}, {\"text\": \"0.03\", \"x\": \"o\", \"y\": \"v\", \"xref\": \"x1\", \"yref\": \"y1\", \"font\": {\"color\": \"#000000\"}, \"showarrow\": false}, {\"text\": \"0.08\", \"x\": \"p\", \"y\": \"v\", \"xref\": \"x1\", \"yref\": \"y1\", \"font\": {\"color\": \"#000000\"}, \"showarrow\": false}, {\"text\": \"\", \"x\": \"q\", \"y\": \"v\", \"xref\": \"x1\", \"yref\": \"y1\", \"font\": {\"color\": \"#000000\"}, \"showarrow\": false}, {\"text\": \"0.04\", \"x\": \"r\", \"y\": \"v\", \"xref\": \"x1\", \"yref\": \"y1\", \"font\": {\"color\": \"#000000\"}, \"showarrow\": false}, {\"text\": \"0.08\", \"x\": \"s\", \"y\": \"v\", \"xref\": \"x1\", \"yref\": \"y1\", \"font\": {\"color\": \"#000000\"}, \"showarrow\": false}, {\"text\": \"0.03\", \"x\": \"t\", \"y\": \"v\", \"xref\": \"x1\", \"yref\": \"y1\", \"font\": {\"color\": \"#000000\"}, \"showarrow\": false}, {\"text\": \"0.01\", \"x\": \"u\", \"y\": \"v\", \"xref\": \"x1\", \"yref\": \"y1\", \"font\": {\"color\": \"#000000\"}, \"showarrow\": false}, {\"text\": \"0.82\", \"x\": \"v\", \"y\": \"v\", \"xref\": \"x1\", \"yref\": \"y1\", \"font\": {\"color\": \"#FFFFFF\"}, \"showarrow\": false}, {\"text\": \"\", \"x\": \"w\", \"y\": \"v\", \"xref\": \"x1\", \"yref\": \"y1\", \"font\": {\"color\": \"#000000\"}, \"showarrow\": false}, {\"text\": \"0.01\", \"x\": \"x\", \"y\": \"v\", \"xref\": \"x1\", \"yref\": \"y1\", \"font\": {\"color\": \"#000000\"}, \"showarrow\": false}, {\"text\": \"0.01\", \"x\": \"y\", \"y\": \"v\", \"xref\": \"x1\", \"yref\": \"y1\", \"font\": {\"color\": \"#000000\"}, \"showarrow\": false}, {\"text\": \"\", \"x\": \"z\", \"y\": \"v\", \"xref\": \"x1\", \"yref\": \"y1\", \"font\": {\"color\": \"#000000\"}, \"showarrow\": false}, {\"text\": \"\", \"x\": \"n\", \"y\": \"w\", \"xref\": \"x1\", \"yref\": \"y1\", \"font\": {\"color\": \"#000000\"}, \"showarrow\": false}, {\"text\": \"0.01\", \"x\": \"o\", \"y\": \"w\", \"xref\": \"x1\", \"yref\": \"y1\", \"font\": {\"color\": \"#000000\"}, \"showarrow\": false}, {\"text\": \"\", \"x\": \"p\", \"y\": \"w\", \"xref\": \"x1\", \"yref\": \"y1\", \"font\": {\"color\": \"#000000\"}, \"showarrow\": false}, {\"text\": \"0.01\", \"x\": \"q\", \"y\": \"w\", \"xref\": \"x1\", \"yref\": \"y1\", \"font\": {\"color\": \"#000000\"}, \"showarrow\": false}, {\"text\": \"0.01\", \"x\": \"r\", \"y\": \"w\", \"xref\": \"x1\", \"yref\": \"y1\", \"font\": {\"color\": \"#000000\"}, \"showarrow\": false}, {\"text\": \"\", \"x\": \"s\", \"y\": \"w\", \"xref\": \"x1\", \"yref\": \"y1\", \"font\": {\"color\": \"#000000\"}, \"showarrow\": false}, {\"text\": \"\", \"x\": \"t\", \"y\": \"w\", \"xref\": \"x1\", \"yref\": \"y1\", \"font\": {\"color\": \"#000000\"}, \"showarrow\": false}, {\"text\": \"\", \"x\": \"u\", \"y\": \"w\", \"xref\": \"x1\", \"yref\": \"y1\", \"font\": {\"color\": \"#000000\"}, \"showarrow\": false}, {\"text\": \"\", \"x\": \"v\", \"y\": \"w\", \"xref\": \"x1\", \"yref\": \"y1\", \"font\": {\"color\": \"#000000\"}, \"showarrow\": false}, {\"text\": \"0.71\", \"x\": \"w\", \"y\": \"w\", \"xref\": \"x1\", \"yref\": \"y1\", \"font\": {\"color\": \"#FFFFFF\"}, \"showarrow\": false}, {\"text\": \"\", \"x\": \"x\", \"y\": \"w\", \"xref\": \"x1\", \"yref\": \"y1\", \"font\": {\"color\": \"#000000\"}, \"showarrow\": false}, {\"text\": \"\", \"x\": \"y\", \"y\": \"w\", \"xref\": \"x1\", \"yref\": \"y1\", \"font\": {\"color\": \"#000000\"}, \"showarrow\": false}, {\"text\": \"0.01\", \"x\": \"z\", \"y\": \"w\", \"xref\": \"x1\", \"yref\": \"y1\", \"font\": {\"color\": \"#000000\"}, \"showarrow\": false}, {\"text\": \"0.01\", \"x\": \"n\", \"y\": \"x\", \"xref\": \"x1\", \"yref\": \"y1\", \"font\": {\"color\": \"#000000\"}, \"showarrow\": false}, {\"text\": \"\", \"x\": \"o\", \"y\": \"x\", \"xref\": \"x1\", \"yref\": \"y1\", \"font\": {\"color\": \"#000000\"}, \"showarrow\": false}, {\"text\": \"\", \"x\": \"p\", \"y\": \"x\", \"xref\": \"x1\", \"yref\": \"y1\", \"font\": {\"color\": \"#000000\"}, \"showarrow\": false}, {\"text\": \"\", \"x\": \"q\", \"y\": \"x\", \"xref\": \"x1\", \"yref\": \"y1\", \"font\": {\"color\": \"#000000\"}, \"showarrow\": false}, {\"text\": \"\", \"x\": \"r\", \"y\": \"x\", \"xref\": \"x1\", \"yref\": \"y1\", \"font\": {\"color\": \"#000000\"}, \"showarrow\": false}, {\"text\": \"\", \"x\": \"s\", \"y\": \"x\", \"xref\": \"x1\", \"yref\": \"y1\", \"font\": {\"color\": \"#000000\"}, \"showarrow\": false}, {\"text\": \"\", \"x\": \"t\", \"y\": \"x\", \"xref\": \"x1\", \"yref\": \"y1\", \"font\": {\"color\": \"#000000\"}, \"showarrow\": false}, {\"text\": \"0.01\", \"x\": \"u\", \"y\": \"x\", \"xref\": \"x1\", \"yref\": \"y1\", \"font\": {\"color\": \"#000000\"}, \"showarrow\": false}, {\"text\": \"\", \"x\": \"v\", \"y\": \"x\", \"xref\": \"x1\", \"yref\": \"y1\", \"font\": {\"color\": \"#000000\"}, \"showarrow\": false}, {\"text\": \"0.05\", \"x\": \"w\", \"y\": \"x\", \"xref\": \"x1\", \"yref\": \"y1\", \"font\": {\"color\": \"#000000\"}, \"showarrow\": false}, {\"text\": \"0.75\", \"x\": \"x\", \"y\": \"x\", \"xref\": \"x1\", \"yref\": \"y1\", \"font\": {\"color\": \"#FFFFFF\"}, \"showarrow\": false}, {\"text\": \"0.01\", \"x\": \"y\", \"y\": \"x\", \"xref\": \"x1\", \"yref\": \"y1\", \"font\": {\"color\": \"#000000\"}, \"showarrow\": false}, {\"text\": \"0.03\", \"x\": \"z\", \"y\": \"x\", \"xref\": \"x1\", \"yref\": \"y1\", \"font\": {\"color\": \"#000000\"}, \"showarrow\": false}, {\"text\": \"\", \"x\": \"n\", \"y\": \"y\", \"xref\": \"x1\", \"yref\": \"y1\", \"font\": {\"color\": \"#000000\"}, \"showarrow\": false}, {\"text\": \"0.01\", \"x\": \"o\", \"y\": \"y\", \"xref\": \"x1\", \"yref\": \"y1\", \"font\": {\"color\": \"#000000\"}, \"showarrow\": false}, {\"text\": \"\", \"x\": \"p\", \"y\": \"y\", \"xref\": \"x1\", \"yref\": \"y1\", \"font\": {\"color\": \"#000000\"}, \"showarrow\": false}, {\"text\": \"0.01\", \"x\": \"q\", \"y\": \"y\", \"xref\": \"x1\", \"yref\": \"y1\", \"font\": {\"color\": \"#000000\"}, \"showarrow\": false}, {\"text\": \"\", \"x\": \"r\", \"y\": \"y\", \"xref\": \"x1\", \"yref\": \"y1\", \"font\": {\"color\": \"#000000\"}, \"showarrow\": false}, {\"text\": \"\", \"x\": \"s\", \"y\": \"y\", \"xref\": \"x1\", \"yref\": \"y1\", \"font\": {\"color\": \"#000000\"}, \"showarrow\": false}, {\"text\": \"\", \"x\": \"t\", \"y\": \"y\", \"xref\": \"x1\", \"yref\": \"y1\", \"font\": {\"color\": \"#000000\"}, \"showarrow\": false}, {\"text\": \"\", \"x\": \"u\", \"y\": \"y\", \"xref\": \"x1\", \"yref\": \"y1\", \"font\": {\"color\": \"#000000\"}, \"showarrow\": false}, {\"text\": \"\", \"x\": \"v\", \"y\": \"y\", \"xref\": \"x1\", \"yref\": \"y1\", \"font\": {\"color\": \"#000000\"}, \"showarrow\": false}, {\"text\": \"\", \"x\": \"w\", \"y\": \"y\", \"xref\": \"x1\", \"yref\": \"y1\", \"font\": {\"color\": \"#000000\"}, \"showarrow\": false}, {\"text\": \"0.03\", \"x\": \"x\", \"y\": \"y\", \"xref\": \"x1\", \"yref\": \"y1\", \"font\": {\"color\": \"#000000\"}, \"showarrow\": false}, {\"text\": \"0.74\", \"x\": \"y\", \"y\": \"y\", \"xref\": \"x1\", \"yref\": \"y1\", \"font\": {\"color\": \"#FFFFFF\"}, \"showarrow\": false}, {\"text\": \"0.01\", \"x\": \"z\", \"y\": \"y\", \"xref\": \"x1\", \"yref\": \"y1\", \"font\": {\"color\": \"#000000\"}, \"showarrow\": false}, {\"text\": \"0.04\", \"x\": \"n\", \"y\": \"z\", \"xref\": \"x1\", \"yref\": \"y1\", \"font\": {\"color\": \"#000000\"}, \"showarrow\": false}, {\"text\": \"0.01\", \"x\": \"o\", \"y\": \"z\", \"xref\": \"x1\", \"yref\": \"y1\", \"font\": {\"color\": \"#000000\"}, \"showarrow\": false}, {\"text\": \"\", \"x\": \"p\", \"y\": \"z\", \"xref\": \"x1\", \"yref\": \"y1\", \"font\": {\"color\": \"#000000\"}, \"showarrow\": false}, {\"text\": \"0.03\", \"x\": \"q\", \"y\": \"z\", \"xref\": \"x1\", \"yref\": \"y1\", \"font\": {\"color\": \"#000000\"}, \"showarrow\": false}, {\"text\": \"\", \"x\": \"r\", \"y\": \"z\", \"xref\": \"x1\", \"yref\": \"y1\", \"font\": {\"color\": \"#000000\"}, \"showarrow\": false}, {\"text\": \"\", \"x\": \"s\", \"y\": \"z\", \"xref\": \"x1\", \"yref\": \"y1\", \"font\": {\"color\": \"#000000\"}, \"showarrow\": false}, {\"text\": \"\", \"x\": \"t\", \"y\": \"z\", \"xref\": \"x1\", \"yref\": \"y1\", \"font\": {\"color\": \"#000000\"}, \"showarrow\": false}, {\"text\": \"\", \"x\": \"u\", \"y\": \"z\", \"xref\": \"x1\", \"yref\": \"y1\", \"font\": {\"color\": \"#000000\"}, \"showarrow\": false}, {\"text\": \"\", \"x\": \"v\", \"y\": \"z\", \"xref\": \"x1\", \"yref\": \"y1\", \"font\": {\"color\": \"#000000\"}, \"showarrow\": false}, {\"text\": \"\", \"x\": \"w\", \"y\": \"z\", \"xref\": \"x1\", \"yref\": \"y1\", \"font\": {\"color\": \"#000000\"}, \"showarrow\": false}, {\"text\": \"\", \"x\": \"x\", \"y\": \"z\", \"xref\": \"x1\", \"yref\": \"y1\", \"font\": {\"color\": \"#000000\"}, \"showarrow\": false}, {\"text\": \"0.01\", \"x\": \"y\", \"y\": \"z\", \"xref\": \"x1\", \"yref\": \"y1\", \"font\": {\"color\": \"#000000\"}, \"showarrow\": false}, {\"text\": \"0.78\", \"x\": \"z\", \"y\": \"z\", \"xref\": \"x1\", \"yref\": \"y1\", \"font\": {\"color\": \"#FFFFFF\"}, \"showarrow\": false}], \"xaxis\": {\"ticks\": \"\", \"dtick\": 1, \"side\": \"bottom\", \"gridcolor\": \"rgb(0, 0, 0)\", \"title\": \"Predicted values\"}, \"yaxis\": {\"ticks\": \"\", \"dtick\": 1, \"ticksuffix\": \"  \", \"anchor\": \"bottom\", \"title\": \"True values\"}, \"title\": \"Confusion Matrix of Lowercase NN\"}, {\"showLink\": false, \"linkText\": \"Export to plot.ly\"})});</script>"
      ]
     },
     "metadata": {},
     "output_type": "display_data"
    },
    {
     "data": {
      "application/vnd.plotly.v1+json": {
       "data": [
        {
         "colorbar": {
          "tickmode": "array"
         },
         "colorscale": [
          [
           0,
           "#e5e5ff"
          ],
          [
           0.05,
           "#cacaf0"
          ],
          [
           0.1,
           "#b0b0e1"
          ],
          [
           0.25,
           "#9494d2"
          ],
          [
           0.5,
           "#7a7ac3"
          ],
          [
           0.75,
           "#5e5eb4"
          ],
          [
           0.9,
           "#4444a5"
          ],
          [
           1,
           "#282896"
          ]
         ],
         "showscale": true,
         "type": "heatmap",
         "x": [
          "a",
          "b",
          "c",
          "d",
          "e",
          "f",
          "g",
          "h",
          "i",
          "j",
          "k",
          "l",
          "m"
         ],
         "xgap": 1.25,
         "y": [
          "a",
          "b",
          "c",
          "d",
          "e",
          "f",
          "g",
          "h",
          "i",
          "j",
          "k",
          "l",
          "m"
         ],
         "ygap": 1.25,
         "z": [
          [
           0.66259765625,
           0.0169525146484375,
           0,
           0.023529052734375,
           0,
           0.010986328125,
           0,
           0,
           0.045989990234375,
           0,
           0,
           0.0124969482421875,
           0
          ],
          [
           0,
           0.576171875,
           0.02740478515625,
           0,
           0,
           0,
           0,
           0,
           0,
           0,
           0,
           0.0124969482421875,
           0
          ],
          [
           0.0124969482421875,
           0.033905029296875,
           0.75341796875,
           0,
           0.01204681396484375,
           0.010986328125,
           0.01470947265625,
           0.0117645263671875,
           0,
           0,
           0,
           0,
           0
          ],
          [
           0,
           0.033905029296875,
           0,
           0.7646484375,
           0,
           0,
           0,
           0.0117645263671875,
           0,
           0,
           0,
           0.0124969482421875,
           0.02197265625
          ],
          [
           0,
           0,
           0,
           0,
           0.77099609375,
           0.010986328125,
           0,
           0.023529052734375,
           0.03448486328125,
           0.041656494140625,
           0.0615234375,
           0.0124969482421875,
           0
          ],
          [
           0.024993896484375,
           0,
           0.041107177734375,
           0,
           0.0240936279296875,
           0.7470703125,
           0.01470947265625,
           0,
           0.03448486328125,
           0,
           0.03076171875,
           0,
           0
          ],
          [
           0.04998779296875,
           0,
           0,
           0.0117645263671875,
           0.0240936279296875,
           0.0439453125,
           0.7939453125,
           0.0117645263671875,
           0.01149749755859375,
           0,
           0,
           0,
           0
          ],
          [
           0,
           0.05084228515625,
           0,
           0.0117645263671875,
           0.0240936279296875,
           0.02197265625,
           0.01470947265625,
           0.8115234375,
           0.03448486328125,
           0,
           0,
           0.0124969482421875,
           0
          ],
          [
           0.024993896484375,
           0,
           0,
           0.0117645263671875,
           0,
           0.02197265625,
           0,
           0.0117645263671875,
           0.66650390625,
           0,
           0,
           0.0124969482421875,
           0
          ],
          [
           0.0124969482421875,
           0.033905029296875,
           0,
           0,
           0.048187255859375,
           0,
           0,
           0,
           0,
           0.8193359375,
           0.169189453125,
           0.0625,
           0.032958984375
          ],
          [
           0.0124969482421875,
           0,
           0.013702392578125,
           0,
           0.0361328125,
           0.010986328125,
           0.04412841796875,
           0,
           0.03448486328125,
           0.02777099609375,
           0.615234375,
           0,
           0
          ],
          [
           0,
           0.0169525146484375,
           0,
           0.0117645263671875,
           0,
           0,
           0,
           0,
           0,
           0,
           0,
           0.625,
           0.010986328125
          ],
          [
           0,
           0.0169525146484375,
           0.013702392578125,
           0.0117645263671875,
           0.0361328125,
           0.032958984375,
           0.01470947265625,
           0.0117645263671875,
           0.0229949951171875,
           0.013885498046875,
           0.03076171875,
           0.037506103515625,
           0.80224609375
          ]
         ]
        }
       ],
       "layout": {
        "annotations": [
         {
          "font": {
           "color": "#FFFFFF"
          },
          "showarrow": false,
          "text": "0.66",
          "x": "a",
          "xref": "x1",
          "y": "a",
          "yref": "y1"
         },
         {
          "font": {
           "color": "#000000"
          },
          "showarrow": false,
          "text": "0.02",
          "x": "b",
          "xref": "x1",
          "y": "a",
          "yref": "y1"
         },
         {
          "font": {
           "color": "#000000"
          },
          "showarrow": false,
          "text": "",
          "x": "c",
          "xref": "x1",
          "y": "a",
          "yref": "y1"
         },
         {
          "font": {
           "color": "#000000"
          },
          "showarrow": false,
          "text": "0.02",
          "x": "d",
          "xref": "x1",
          "y": "a",
          "yref": "y1"
         },
         {
          "font": {
           "color": "#000000"
          },
          "showarrow": false,
          "text": "",
          "x": "e",
          "xref": "x1",
          "y": "a",
          "yref": "y1"
         },
         {
          "font": {
           "color": "#000000"
          },
          "showarrow": false,
          "text": "0.01",
          "x": "f",
          "xref": "x1",
          "y": "a",
          "yref": "y1"
         },
         {
          "font": {
           "color": "#000000"
          },
          "showarrow": false,
          "text": "",
          "x": "g",
          "xref": "x1",
          "y": "a",
          "yref": "y1"
         },
         {
          "font": {
           "color": "#000000"
          },
          "showarrow": false,
          "text": "",
          "x": "h",
          "xref": "x1",
          "y": "a",
          "yref": "y1"
         },
         {
          "font": {
           "color": "#000000"
          },
          "showarrow": false,
          "text": "0.05",
          "x": "i",
          "xref": "x1",
          "y": "a",
          "yref": "y1"
         },
         {
          "font": {
           "color": "#000000"
          },
          "showarrow": false,
          "text": "",
          "x": "j",
          "xref": "x1",
          "y": "a",
          "yref": "y1"
         },
         {
          "font": {
           "color": "#000000"
          },
          "showarrow": false,
          "text": "",
          "x": "k",
          "xref": "x1",
          "y": "a",
          "yref": "y1"
         },
         {
          "font": {
           "color": "#000000"
          },
          "showarrow": false,
          "text": "0.01",
          "x": "l",
          "xref": "x1",
          "y": "a",
          "yref": "y1"
         },
         {
          "font": {
           "color": "#000000"
          },
          "showarrow": false,
          "text": "",
          "x": "m",
          "xref": "x1",
          "y": "a",
          "yref": "y1"
         },
         {
          "font": {
           "color": "#000000"
          },
          "showarrow": false,
          "text": "",
          "x": "a",
          "xref": "x1",
          "y": "b",
          "yref": "y1"
         },
         {
          "font": {
           "color": "#FFFFFF"
          },
          "showarrow": false,
          "text": "0.58",
          "x": "b",
          "xref": "x1",
          "y": "b",
          "yref": "y1"
         },
         {
          "font": {
           "color": "#000000"
          },
          "showarrow": false,
          "text": "0.03",
          "x": "c",
          "xref": "x1",
          "y": "b",
          "yref": "y1"
         },
         {
          "font": {
           "color": "#000000"
          },
          "showarrow": false,
          "text": "",
          "x": "d",
          "xref": "x1",
          "y": "b",
          "yref": "y1"
         },
         {
          "font": {
           "color": "#000000"
          },
          "showarrow": false,
          "text": "",
          "x": "e",
          "xref": "x1",
          "y": "b",
          "yref": "y1"
         },
         {
          "font": {
           "color": "#000000"
          },
          "showarrow": false,
          "text": "",
          "x": "f",
          "xref": "x1",
          "y": "b",
          "yref": "y1"
         },
         {
          "font": {
           "color": "#000000"
          },
          "showarrow": false,
          "text": "",
          "x": "g",
          "xref": "x1",
          "y": "b",
          "yref": "y1"
         },
         {
          "font": {
           "color": "#000000"
          },
          "showarrow": false,
          "text": "",
          "x": "h",
          "xref": "x1",
          "y": "b",
          "yref": "y1"
         },
         {
          "font": {
           "color": "#000000"
          },
          "showarrow": false,
          "text": "",
          "x": "i",
          "xref": "x1",
          "y": "b",
          "yref": "y1"
         },
         {
          "font": {
           "color": "#000000"
          },
          "showarrow": false,
          "text": "",
          "x": "j",
          "xref": "x1",
          "y": "b",
          "yref": "y1"
         },
         {
          "font": {
           "color": "#000000"
          },
          "showarrow": false,
          "text": "",
          "x": "k",
          "xref": "x1",
          "y": "b",
          "yref": "y1"
         },
         {
          "font": {
           "color": "#000000"
          },
          "showarrow": false,
          "text": "0.01",
          "x": "l",
          "xref": "x1",
          "y": "b",
          "yref": "y1"
         },
         {
          "font": {
           "color": "#000000"
          },
          "showarrow": false,
          "text": "",
          "x": "m",
          "xref": "x1",
          "y": "b",
          "yref": "y1"
         },
         {
          "font": {
           "color": "#000000"
          },
          "showarrow": false,
          "text": "0.01",
          "x": "a",
          "xref": "x1",
          "y": "c",
          "yref": "y1"
         },
         {
          "font": {
           "color": "#000000"
          },
          "showarrow": false,
          "text": "0.03",
          "x": "b",
          "xref": "x1",
          "y": "c",
          "yref": "y1"
         },
         {
          "font": {
           "color": "#FFFFFF"
          },
          "showarrow": false,
          "text": "0.75",
          "x": "c",
          "xref": "x1",
          "y": "c",
          "yref": "y1"
         },
         {
          "font": {
           "color": "#000000"
          },
          "showarrow": false,
          "text": "",
          "x": "d",
          "xref": "x1",
          "y": "c",
          "yref": "y1"
         },
         {
          "font": {
           "color": "#000000"
          },
          "showarrow": false,
          "text": "0.01",
          "x": "e",
          "xref": "x1",
          "y": "c",
          "yref": "y1"
         },
         {
          "font": {
           "color": "#000000"
          },
          "showarrow": false,
          "text": "0.01",
          "x": "f",
          "xref": "x1",
          "y": "c",
          "yref": "y1"
         },
         {
          "font": {
           "color": "#000000"
          },
          "showarrow": false,
          "text": "0.01",
          "x": "g",
          "xref": "x1",
          "y": "c",
          "yref": "y1"
         },
         {
          "font": {
           "color": "#000000"
          },
          "showarrow": false,
          "text": "0.01",
          "x": "h",
          "xref": "x1",
          "y": "c",
          "yref": "y1"
         },
         {
          "font": {
           "color": "#000000"
          },
          "showarrow": false,
          "text": "",
          "x": "i",
          "xref": "x1",
          "y": "c",
          "yref": "y1"
         },
         {
          "font": {
           "color": "#000000"
          },
          "showarrow": false,
          "text": "",
          "x": "j",
          "xref": "x1",
          "y": "c",
          "yref": "y1"
         },
         {
          "font": {
           "color": "#000000"
          },
          "showarrow": false,
          "text": "",
          "x": "k",
          "xref": "x1",
          "y": "c",
          "yref": "y1"
         },
         {
          "font": {
           "color": "#000000"
          },
          "showarrow": false,
          "text": "",
          "x": "l",
          "xref": "x1",
          "y": "c",
          "yref": "y1"
         },
         {
          "font": {
           "color": "#000000"
          },
          "showarrow": false,
          "text": "",
          "x": "m",
          "xref": "x1",
          "y": "c",
          "yref": "y1"
         },
         {
          "font": {
           "color": "#000000"
          },
          "showarrow": false,
          "text": "",
          "x": "a",
          "xref": "x1",
          "y": "d",
          "yref": "y1"
         },
         {
          "font": {
           "color": "#000000"
          },
          "showarrow": false,
          "text": "0.03",
          "x": "b",
          "xref": "x1",
          "y": "d",
          "yref": "y1"
         },
         {
          "font": {
           "color": "#000000"
          },
          "showarrow": false,
          "text": "",
          "x": "c",
          "xref": "x1",
          "y": "d",
          "yref": "y1"
         },
         {
          "font": {
           "color": "#FFFFFF"
          },
          "showarrow": false,
          "text": "0.76",
          "x": "d",
          "xref": "x1",
          "y": "d",
          "yref": "y1"
         },
         {
          "font": {
           "color": "#000000"
          },
          "showarrow": false,
          "text": "",
          "x": "e",
          "xref": "x1",
          "y": "d",
          "yref": "y1"
         },
         {
          "font": {
           "color": "#000000"
          },
          "showarrow": false,
          "text": "",
          "x": "f",
          "xref": "x1",
          "y": "d",
          "yref": "y1"
         },
         {
          "font": {
           "color": "#000000"
          },
          "showarrow": false,
          "text": "",
          "x": "g",
          "xref": "x1",
          "y": "d",
          "yref": "y1"
         },
         {
          "font": {
           "color": "#000000"
          },
          "showarrow": false,
          "text": "0.01",
          "x": "h",
          "xref": "x1",
          "y": "d",
          "yref": "y1"
         },
         {
          "font": {
           "color": "#000000"
          },
          "showarrow": false,
          "text": "",
          "x": "i",
          "xref": "x1",
          "y": "d",
          "yref": "y1"
         },
         {
          "font": {
           "color": "#000000"
          },
          "showarrow": false,
          "text": "",
          "x": "j",
          "xref": "x1",
          "y": "d",
          "yref": "y1"
         },
         {
          "font": {
           "color": "#000000"
          },
          "showarrow": false,
          "text": "",
          "x": "k",
          "xref": "x1",
          "y": "d",
          "yref": "y1"
         },
         {
          "font": {
           "color": "#000000"
          },
          "showarrow": false,
          "text": "0.01",
          "x": "l",
          "xref": "x1",
          "y": "d",
          "yref": "y1"
         },
         {
          "font": {
           "color": "#000000"
          },
          "showarrow": false,
          "text": "0.02",
          "x": "m",
          "xref": "x1",
          "y": "d",
          "yref": "y1"
         },
         {
          "font": {
           "color": "#000000"
          },
          "showarrow": false,
          "text": "",
          "x": "a",
          "xref": "x1",
          "y": "e",
          "yref": "y1"
         },
         {
          "font": {
           "color": "#000000"
          },
          "showarrow": false,
          "text": "",
          "x": "b",
          "xref": "x1",
          "y": "e",
          "yref": "y1"
         },
         {
          "font": {
           "color": "#000000"
          },
          "showarrow": false,
          "text": "",
          "x": "c",
          "xref": "x1",
          "y": "e",
          "yref": "y1"
         },
         {
          "font": {
           "color": "#000000"
          },
          "showarrow": false,
          "text": "",
          "x": "d",
          "xref": "x1",
          "y": "e",
          "yref": "y1"
         },
         {
          "font": {
           "color": "#FFFFFF"
          },
          "showarrow": false,
          "text": "0.77",
          "x": "e",
          "xref": "x1",
          "y": "e",
          "yref": "y1"
         },
         {
          "font": {
           "color": "#000000"
          },
          "showarrow": false,
          "text": "0.01",
          "x": "f",
          "xref": "x1",
          "y": "e",
          "yref": "y1"
         },
         {
          "font": {
           "color": "#000000"
          },
          "showarrow": false,
          "text": "",
          "x": "g",
          "xref": "x1",
          "y": "e",
          "yref": "y1"
         },
         {
          "font": {
           "color": "#000000"
          },
          "showarrow": false,
          "text": "0.02",
          "x": "h",
          "xref": "x1",
          "y": "e",
          "yref": "y1"
         },
         {
          "font": {
           "color": "#000000"
          },
          "showarrow": false,
          "text": "0.03",
          "x": "i",
          "xref": "x1",
          "y": "e",
          "yref": "y1"
         },
         {
          "font": {
           "color": "#000000"
          },
          "showarrow": false,
          "text": "0.04",
          "x": "j",
          "xref": "x1",
          "y": "e",
          "yref": "y1"
         },
         {
          "font": {
           "color": "#000000"
          },
          "showarrow": false,
          "text": "0.06",
          "x": "k",
          "xref": "x1",
          "y": "e",
          "yref": "y1"
         },
         {
          "font": {
           "color": "#000000"
          },
          "showarrow": false,
          "text": "0.01",
          "x": "l",
          "xref": "x1",
          "y": "e",
          "yref": "y1"
         },
         {
          "font": {
           "color": "#000000"
          },
          "showarrow": false,
          "text": "",
          "x": "m",
          "xref": "x1",
          "y": "e",
          "yref": "y1"
         },
         {
          "font": {
           "color": "#000000"
          },
          "showarrow": false,
          "text": "0.02",
          "x": "a",
          "xref": "x1",
          "y": "f",
          "yref": "y1"
         },
         {
          "font": {
           "color": "#000000"
          },
          "showarrow": false,
          "text": "",
          "x": "b",
          "xref": "x1",
          "y": "f",
          "yref": "y1"
         },
         {
          "font": {
           "color": "#000000"
          },
          "showarrow": false,
          "text": "0.04",
          "x": "c",
          "xref": "x1",
          "y": "f",
          "yref": "y1"
         },
         {
          "font": {
           "color": "#000000"
          },
          "showarrow": false,
          "text": "",
          "x": "d",
          "xref": "x1",
          "y": "f",
          "yref": "y1"
         },
         {
          "font": {
           "color": "#000000"
          },
          "showarrow": false,
          "text": "0.02",
          "x": "e",
          "xref": "x1",
          "y": "f",
          "yref": "y1"
         },
         {
          "font": {
           "color": "#FFFFFF"
          },
          "showarrow": false,
          "text": "0.75",
          "x": "f",
          "xref": "x1",
          "y": "f",
          "yref": "y1"
         },
         {
          "font": {
           "color": "#000000"
          },
          "showarrow": false,
          "text": "0.01",
          "x": "g",
          "xref": "x1",
          "y": "f",
          "yref": "y1"
         },
         {
          "font": {
           "color": "#000000"
          },
          "showarrow": false,
          "text": "",
          "x": "h",
          "xref": "x1",
          "y": "f",
          "yref": "y1"
         },
         {
          "font": {
           "color": "#000000"
          },
          "showarrow": false,
          "text": "0.03",
          "x": "i",
          "xref": "x1",
          "y": "f",
          "yref": "y1"
         },
         {
          "font": {
           "color": "#000000"
          },
          "showarrow": false,
          "text": "",
          "x": "j",
          "xref": "x1",
          "y": "f",
          "yref": "y1"
         },
         {
          "font": {
           "color": "#000000"
          },
          "showarrow": false,
          "text": "0.03",
          "x": "k",
          "xref": "x1",
          "y": "f",
          "yref": "y1"
         },
         {
          "font": {
           "color": "#000000"
          },
          "showarrow": false,
          "text": "",
          "x": "l",
          "xref": "x1",
          "y": "f",
          "yref": "y1"
         },
         {
          "font": {
           "color": "#000000"
          },
          "showarrow": false,
          "text": "",
          "x": "m",
          "xref": "x1",
          "y": "f",
          "yref": "y1"
         },
         {
          "font": {
           "color": "#000000"
          },
          "showarrow": false,
          "text": "0.05",
          "x": "a",
          "xref": "x1",
          "y": "g",
          "yref": "y1"
         },
         {
          "font": {
           "color": "#000000"
          },
          "showarrow": false,
          "text": "",
          "x": "b",
          "xref": "x1",
          "y": "g",
          "yref": "y1"
         },
         {
          "font": {
           "color": "#000000"
          },
          "showarrow": false,
          "text": "",
          "x": "c",
          "xref": "x1",
          "y": "g",
          "yref": "y1"
         },
         {
          "font": {
           "color": "#000000"
          },
          "showarrow": false,
          "text": "0.01",
          "x": "d",
          "xref": "x1",
          "y": "g",
          "yref": "y1"
         },
         {
          "font": {
           "color": "#000000"
          },
          "showarrow": false,
          "text": "0.02",
          "x": "e",
          "xref": "x1",
          "y": "g",
          "yref": "y1"
         },
         {
          "font": {
           "color": "#000000"
          },
          "showarrow": false,
          "text": "0.04",
          "x": "f",
          "xref": "x1",
          "y": "g",
          "yref": "y1"
         },
         {
          "font": {
           "color": "#FFFFFF"
          },
          "showarrow": false,
          "text": "0.79",
          "x": "g",
          "xref": "x1",
          "y": "g",
          "yref": "y1"
         },
         {
          "font": {
           "color": "#000000"
          },
          "showarrow": false,
          "text": "0.01",
          "x": "h",
          "xref": "x1",
          "y": "g",
          "yref": "y1"
         },
         {
          "font": {
           "color": "#000000"
          },
          "showarrow": false,
          "text": "0.01",
          "x": "i",
          "xref": "x1",
          "y": "g",
          "yref": "y1"
         },
         {
          "font": {
           "color": "#000000"
          },
          "showarrow": false,
          "text": "",
          "x": "j",
          "xref": "x1",
          "y": "g",
          "yref": "y1"
         },
         {
          "font": {
           "color": "#000000"
          },
          "showarrow": false,
          "text": "",
          "x": "k",
          "xref": "x1",
          "y": "g",
          "yref": "y1"
         },
         {
          "font": {
           "color": "#000000"
          },
          "showarrow": false,
          "text": "",
          "x": "l",
          "xref": "x1",
          "y": "g",
          "yref": "y1"
         },
         {
          "font": {
           "color": "#000000"
          },
          "showarrow": false,
          "text": "",
          "x": "m",
          "xref": "x1",
          "y": "g",
          "yref": "y1"
         },
         {
          "font": {
           "color": "#000000"
          },
          "showarrow": false,
          "text": "",
          "x": "a",
          "xref": "x1",
          "y": "h",
          "yref": "y1"
         },
         {
          "font": {
           "color": "#000000"
          },
          "showarrow": false,
          "text": "0.05",
          "x": "b",
          "xref": "x1",
          "y": "h",
          "yref": "y1"
         },
         {
          "font": {
           "color": "#000000"
          },
          "showarrow": false,
          "text": "",
          "x": "c",
          "xref": "x1",
          "y": "h",
          "yref": "y1"
         },
         {
          "font": {
           "color": "#000000"
          },
          "showarrow": false,
          "text": "0.01",
          "x": "d",
          "xref": "x1",
          "y": "h",
          "yref": "y1"
         },
         {
          "font": {
           "color": "#000000"
          },
          "showarrow": false,
          "text": "0.02",
          "x": "e",
          "xref": "x1",
          "y": "h",
          "yref": "y1"
         },
         {
          "font": {
           "color": "#000000"
          },
          "showarrow": false,
          "text": "0.02",
          "x": "f",
          "xref": "x1",
          "y": "h",
          "yref": "y1"
         },
         {
          "font": {
           "color": "#000000"
          },
          "showarrow": false,
          "text": "0.01",
          "x": "g",
          "xref": "x1",
          "y": "h",
          "yref": "y1"
         },
         {
          "font": {
           "color": "#FFFFFF"
          },
          "showarrow": false,
          "text": "0.81",
          "x": "h",
          "xref": "x1",
          "y": "h",
          "yref": "y1"
         },
         {
          "font": {
           "color": "#000000"
          },
          "showarrow": false,
          "text": "0.03",
          "x": "i",
          "xref": "x1",
          "y": "h",
          "yref": "y1"
         },
         {
          "font": {
           "color": "#000000"
          },
          "showarrow": false,
          "text": "",
          "x": "j",
          "xref": "x1",
          "y": "h",
          "yref": "y1"
         },
         {
          "font": {
           "color": "#000000"
          },
          "showarrow": false,
          "text": "",
          "x": "k",
          "xref": "x1",
          "y": "h",
          "yref": "y1"
         },
         {
          "font": {
           "color": "#000000"
          },
          "showarrow": false,
          "text": "0.01",
          "x": "l",
          "xref": "x1",
          "y": "h",
          "yref": "y1"
         },
         {
          "font": {
           "color": "#000000"
          },
          "showarrow": false,
          "text": "",
          "x": "m",
          "xref": "x1",
          "y": "h",
          "yref": "y1"
         },
         {
          "font": {
           "color": "#000000"
          },
          "showarrow": false,
          "text": "0.02",
          "x": "a",
          "xref": "x1",
          "y": "i",
          "yref": "y1"
         },
         {
          "font": {
           "color": "#000000"
          },
          "showarrow": false,
          "text": "",
          "x": "b",
          "xref": "x1",
          "y": "i",
          "yref": "y1"
         },
         {
          "font": {
           "color": "#000000"
          },
          "showarrow": false,
          "text": "",
          "x": "c",
          "xref": "x1",
          "y": "i",
          "yref": "y1"
         },
         {
          "font": {
           "color": "#000000"
          },
          "showarrow": false,
          "text": "0.01",
          "x": "d",
          "xref": "x1",
          "y": "i",
          "yref": "y1"
         },
         {
          "font": {
           "color": "#000000"
          },
          "showarrow": false,
          "text": "",
          "x": "e",
          "xref": "x1",
          "y": "i",
          "yref": "y1"
         },
         {
          "font": {
           "color": "#000000"
          },
          "showarrow": false,
          "text": "0.02",
          "x": "f",
          "xref": "x1",
          "y": "i",
          "yref": "y1"
         },
         {
          "font": {
           "color": "#000000"
          },
          "showarrow": false,
          "text": "",
          "x": "g",
          "xref": "x1",
          "y": "i",
          "yref": "y1"
         },
         {
          "font": {
           "color": "#000000"
          },
          "showarrow": false,
          "text": "0.01",
          "x": "h",
          "xref": "x1",
          "y": "i",
          "yref": "y1"
         },
         {
          "font": {
           "color": "#FFFFFF"
          },
          "showarrow": false,
          "text": "0.67",
          "x": "i",
          "xref": "x1",
          "y": "i",
          "yref": "y1"
         },
         {
          "font": {
           "color": "#000000"
          },
          "showarrow": false,
          "text": "",
          "x": "j",
          "xref": "x1",
          "y": "i",
          "yref": "y1"
         },
         {
          "font": {
           "color": "#000000"
          },
          "showarrow": false,
          "text": "",
          "x": "k",
          "xref": "x1",
          "y": "i",
          "yref": "y1"
         },
         {
          "font": {
           "color": "#000000"
          },
          "showarrow": false,
          "text": "0.01",
          "x": "l",
          "xref": "x1",
          "y": "i",
          "yref": "y1"
         },
         {
          "font": {
           "color": "#000000"
          },
          "showarrow": false,
          "text": "",
          "x": "m",
          "xref": "x1",
          "y": "i",
          "yref": "y1"
         },
         {
          "font": {
           "color": "#000000"
          },
          "showarrow": false,
          "text": "0.01",
          "x": "a",
          "xref": "x1",
          "y": "j",
          "yref": "y1"
         },
         {
          "font": {
           "color": "#000000"
          },
          "showarrow": false,
          "text": "0.03",
          "x": "b",
          "xref": "x1",
          "y": "j",
          "yref": "y1"
         },
         {
          "font": {
           "color": "#000000"
          },
          "showarrow": false,
          "text": "",
          "x": "c",
          "xref": "x1",
          "y": "j",
          "yref": "y1"
         },
         {
          "font": {
           "color": "#000000"
          },
          "showarrow": false,
          "text": "",
          "x": "d",
          "xref": "x1",
          "y": "j",
          "yref": "y1"
         },
         {
          "font": {
           "color": "#000000"
          },
          "showarrow": false,
          "text": "0.05",
          "x": "e",
          "xref": "x1",
          "y": "j",
          "yref": "y1"
         },
         {
          "font": {
           "color": "#000000"
          },
          "showarrow": false,
          "text": "",
          "x": "f",
          "xref": "x1",
          "y": "j",
          "yref": "y1"
         },
         {
          "font": {
           "color": "#000000"
          },
          "showarrow": false,
          "text": "",
          "x": "g",
          "xref": "x1",
          "y": "j",
          "yref": "y1"
         },
         {
          "font": {
           "color": "#000000"
          },
          "showarrow": false,
          "text": "",
          "x": "h",
          "xref": "x1",
          "y": "j",
          "yref": "y1"
         },
         {
          "font": {
           "color": "#000000"
          },
          "showarrow": false,
          "text": "",
          "x": "i",
          "xref": "x1",
          "y": "j",
          "yref": "y1"
         },
         {
          "font": {
           "color": "#FFFFFF"
          },
          "showarrow": false,
          "text": "0.82",
          "x": "j",
          "xref": "x1",
          "y": "j",
          "yref": "y1"
         },
         {
          "font": {
           "color": "#000000"
          },
          "showarrow": false,
          "text": "0.17",
          "x": "k",
          "xref": "x1",
          "y": "j",
          "yref": "y1"
         },
         {
          "font": {
           "color": "#000000"
          },
          "showarrow": false,
          "text": "0.06",
          "x": "l",
          "xref": "x1",
          "y": "j",
          "yref": "y1"
         },
         {
          "font": {
           "color": "#000000"
          },
          "showarrow": false,
          "text": "0.03",
          "x": "m",
          "xref": "x1",
          "y": "j",
          "yref": "y1"
         },
         {
          "font": {
           "color": "#000000"
          },
          "showarrow": false,
          "text": "0.01",
          "x": "a",
          "xref": "x1",
          "y": "k",
          "yref": "y1"
         },
         {
          "font": {
           "color": "#000000"
          },
          "showarrow": false,
          "text": "",
          "x": "b",
          "xref": "x1",
          "y": "k",
          "yref": "y1"
         },
         {
          "font": {
           "color": "#000000"
          },
          "showarrow": false,
          "text": "0.01",
          "x": "c",
          "xref": "x1",
          "y": "k",
          "yref": "y1"
         },
         {
          "font": {
           "color": "#000000"
          },
          "showarrow": false,
          "text": "",
          "x": "d",
          "xref": "x1",
          "y": "k",
          "yref": "y1"
         },
         {
          "font": {
           "color": "#000000"
          },
          "showarrow": false,
          "text": "0.04",
          "x": "e",
          "xref": "x1",
          "y": "k",
          "yref": "y1"
         },
         {
          "font": {
           "color": "#000000"
          },
          "showarrow": false,
          "text": "0.01",
          "x": "f",
          "xref": "x1",
          "y": "k",
          "yref": "y1"
         },
         {
          "font": {
           "color": "#000000"
          },
          "showarrow": false,
          "text": "0.04",
          "x": "g",
          "xref": "x1",
          "y": "k",
          "yref": "y1"
         },
         {
          "font": {
           "color": "#000000"
          },
          "showarrow": false,
          "text": "",
          "x": "h",
          "xref": "x1",
          "y": "k",
          "yref": "y1"
         },
         {
          "font": {
           "color": "#000000"
          },
          "showarrow": false,
          "text": "0.03",
          "x": "i",
          "xref": "x1",
          "y": "k",
          "yref": "y1"
         },
         {
          "font": {
           "color": "#000000"
          },
          "showarrow": false,
          "text": "0.03",
          "x": "j",
          "xref": "x1",
          "y": "k",
          "yref": "y1"
         },
         {
          "font": {
           "color": "#FFFFFF"
          },
          "showarrow": false,
          "text": "0.62",
          "x": "k",
          "xref": "x1",
          "y": "k",
          "yref": "y1"
         },
         {
          "font": {
           "color": "#000000"
          },
          "showarrow": false,
          "text": "",
          "x": "l",
          "xref": "x1",
          "y": "k",
          "yref": "y1"
         },
         {
          "font": {
           "color": "#000000"
          },
          "showarrow": false,
          "text": "",
          "x": "m",
          "xref": "x1",
          "y": "k",
          "yref": "y1"
         },
         {
          "font": {
           "color": "#000000"
          },
          "showarrow": false,
          "text": "",
          "x": "a",
          "xref": "x1",
          "y": "l",
          "yref": "y1"
         },
         {
          "font": {
           "color": "#000000"
          },
          "showarrow": false,
          "text": "0.02",
          "x": "b",
          "xref": "x1",
          "y": "l",
          "yref": "y1"
         },
         {
          "font": {
           "color": "#000000"
          },
          "showarrow": false,
          "text": "",
          "x": "c",
          "xref": "x1",
          "y": "l",
          "yref": "y1"
         },
         {
          "font": {
           "color": "#000000"
          },
          "showarrow": false,
          "text": "0.01",
          "x": "d",
          "xref": "x1",
          "y": "l",
          "yref": "y1"
         },
         {
          "font": {
           "color": "#000000"
          },
          "showarrow": false,
          "text": "",
          "x": "e",
          "xref": "x1",
          "y": "l",
          "yref": "y1"
         },
         {
          "font": {
           "color": "#000000"
          },
          "showarrow": false,
          "text": "",
          "x": "f",
          "xref": "x1",
          "y": "l",
          "yref": "y1"
         },
         {
          "font": {
           "color": "#000000"
          },
          "showarrow": false,
          "text": "",
          "x": "g",
          "xref": "x1",
          "y": "l",
          "yref": "y1"
         },
         {
          "font": {
           "color": "#000000"
          },
          "showarrow": false,
          "text": "",
          "x": "h",
          "xref": "x1",
          "y": "l",
          "yref": "y1"
         },
         {
          "font": {
           "color": "#000000"
          },
          "showarrow": false,
          "text": "",
          "x": "i",
          "xref": "x1",
          "y": "l",
          "yref": "y1"
         },
         {
          "font": {
           "color": "#000000"
          },
          "showarrow": false,
          "text": "",
          "x": "j",
          "xref": "x1",
          "y": "l",
          "yref": "y1"
         },
         {
          "font": {
           "color": "#000000"
          },
          "showarrow": false,
          "text": "",
          "x": "k",
          "xref": "x1",
          "y": "l",
          "yref": "y1"
         },
         {
          "font": {
           "color": "#FFFFFF"
          },
          "showarrow": false,
          "text": "0.62",
          "x": "l",
          "xref": "x1",
          "y": "l",
          "yref": "y1"
         },
         {
          "font": {
           "color": "#000000"
          },
          "showarrow": false,
          "text": "0.01",
          "x": "m",
          "xref": "x1",
          "y": "l",
          "yref": "y1"
         },
         {
          "font": {
           "color": "#000000"
          },
          "showarrow": false,
          "text": "",
          "x": "a",
          "xref": "x1",
          "y": "m",
          "yref": "y1"
         },
         {
          "font": {
           "color": "#000000"
          },
          "showarrow": false,
          "text": "0.02",
          "x": "b",
          "xref": "x1",
          "y": "m",
          "yref": "y1"
         },
         {
          "font": {
           "color": "#000000"
          },
          "showarrow": false,
          "text": "0.01",
          "x": "c",
          "xref": "x1",
          "y": "m",
          "yref": "y1"
         },
         {
          "font": {
           "color": "#000000"
          },
          "showarrow": false,
          "text": "0.01",
          "x": "d",
          "xref": "x1",
          "y": "m",
          "yref": "y1"
         },
         {
          "font": {
           "color": "#000000"
          },
          "showarrow": false,
          "text": "0.04",
          "x": "e",
          "xref": "x1",
          "y": "m",
          "yref": "y1"
         },
         {
          "font": {
           "color": "#000000"
          },
          "showarrow": false,
          "text": "0.03",
          "x": "f",
          "xref": "x1",
          "y": "m",
          "yref": "y1"
         },
         {
          "font": {
           "color": "#000000"
          },
          "showarrow": false,
          "text": "0.01",
          "x": "g",
          "xref": "x1",
          "y": "m",
          "yref": "y1"
         },
         {
          "font": {
           "color": "#000000"
          },
          "showarrow": false,
          "text": "0.01",
          "x": "h",
          "xref": "x1",
          "y": "m",
          "yref": "y1"
         },
         {
          "font": {
           "color": "#000000"
          },
          "showarrow": false,
          "text": "0.02",
          "x": "i",
          "xref": "x1",
          "y": "m",
          "yref": "y1"
         },
         {
          "font": {
           "color": "#000000"
          },
          "showarrow": false,
          "text": "0.01",
          "x": "j",
          "xref": "x1",
          "y": "m",
          "yref": "y1"
         },
         {
          "font": {
           "color": "#000000"
          },
          "showarrow": false,
          "text": "0.03",
          "x": "k",
          "xref": "x1",
          "y": "m",
          "yref": "y1"
         },
         {
          "font": {
           "color": "#000000"
          },
          "showarrow": false,
          "text": "0.04",
          "x": "l",
          "xref": "x1",
          "y": "m",
          "yref": "y1"
         },
         {
          "font": {
           "color": "#FFFFFF"
          },
          "showarrow": false,
          "text": "0.80",
          "x": "m",
          "xref": "x1",
          "y": "m",
          "yref": "y1"
         }
        ],
        "xaxis": {
         "dtick": 1,
         "gridcolor": "rgb(0, 0, 0)",
         "side": "bottom",
         "ticks": "",
         "title": "Predicted values"
        },
        "yaxis": {
         "anchor": "bottom",
         "dtick": 1,
         "ticks": "",
         "ticksuffix": "  ",
         "title": "True values"
        }
       }
      },
      "text/html": [
       "<div id=\"0aea6bde-3360-422e-b2c8-36b880f4c7e2\" style=\"height: 525px; width: 100%;\" class=\"plotly-graph-div\"></div><script type=\"text/javascript\">require([\"plotly\"], function(Plotly) { window.PLOTLYENV=window.PLOTLYENV || {};window.PLOTLYENV.BASE_URL=\"https://plot.ly\";Plotly.newPlot(\"0aea6bde-3360-422e-b2c8-36b880f4c7e2\", [{\"type\": \"heatmap\", \"z\": [[0.66259765625, 0.0169525146484375, 0.0, 0.023529052734375, 0.0, 0.010986328125, 0.0, 0.0, 0.045989990234375, 0.0, 0.0, 0.0124969482421875, 0.0], [0.0, 0.576171875, 0.02740478515625, 0.0, 0.0, 0.0, 0.0, 0.0, 0.0, 0.0, 0.0, 0.0124969482421875, 0.0], [0.0124969482421875, 0.033905029296875, 0.75341796875, 0.0, 0.01204681396484375, 0.010986328125, 0.01470947265625, 0.0117645263671875, 0.0, 0.0, 0.0, 0.0, 0.0], [0.0, 0.033905029296875, 0.0, 0.7646484375, 0.0, 0.0, 0.0, 0.0117645263671875, 0.0, 0.0, 0.0, 0.0124969482421875, 0.02197265625], [0.0, 0.0, 0.0, 0.0, 0.77099609375, 0.010986328125, 0.0, 0.023529052734375, 0.03448486328125, 0.041656494140625, 0.0615234375, 0.0124969482421875, 0.0], [0.024993896484375, 0.0, 0.041107177734375, 0.0, 0.0240936279296875, 0.7470703125, 0.01470947265625, 0.0, 0.03448486328125, 0.0, 0.03076171875, 0.0, 0.0], [0.04998779296875, 0.0, 0.0, 0.0117645263671875, 0.0240936279296875, 0.0439453125, 0.7939453125, 0.0117645263671875, 0.01149749755859375, 0.0, 0.0, 0.0, 0.0], [0.0, 0.05084228515625, 0.0, 0.0117645263671875, 0.0240936279296875, 0.02197265625, 0.01470947265625, 0.8115234375, 0.03448486328125, 0.0, 0.0, 0.0124969482421875, 0.0], [0.024993896484375, 0.0, 0.0, 0.0117645263671875, 0.0, 0.02197265625, 0.0, 0.0117645263671875, 0.66650390625, 0.0, 0.0, 0.0124969482421875, 0.0], [0.0124969482421875, 0.033905029296875, 0.0, 0.0, 0.048187255859375, 0.0, 0.0, 0.0, 0.0, 0.8193359375, 0.169189453125, 0.0625, 0.032958984375], [0.0124969482421875, 0.0, 0.013702392578125, 0.0, 0.0361328125, 0.010986328125, 0.04412841796875, 0.0, 0.03448486328125, 0.02777099609375, 0.615234375, 0.0, 0.0], [0.0, 0.0169525146484375, 0.0, 0.0117645263671875, 0.0, 0.0, 0.0, 0.0, 0.0, 0.0, 0.0, 0.625, 0.010986328125], [0.0, 0.0169525146484375, 0.013702392578125, 0.0117645263671875, 0.0361328125, 0.032958984375, 0.01470947265625, 0.0117645263671875, 0.0229949951171875, 0.013885498046875, 0.03076171875, 0.037506103515625, 0.80224609375]], \"x\": [\"a\", \"b\", \"c\", \"d\", \"e\", \"f\", \"g\", \"h\", \"i\", \"j\", \"k\", \"l\", \"m\"], \"y\": [\"a\", \"b\", \"c\", \"d\", \"e\", \"f\", \"g\", \"h\", \"i\", \"j\", \"k\", \"l\", \"m\"], \"colorscale\": [[0.0, \"#e5e5ff\"], [0.05, \"#cacaf0\"], [0.1, \"#b0b0e1\"], [0.25, \"#9494d2\"], [0.5, \"#7a7ac3\"], [0.75, \"#5e5eb4\"], [0.9, \"#4444a5\"], [1.0, \"#282896\"]], \"showscale\": true, \"xgap\": 1.25, \"ygap\": 1.25, \"colorbar\": {\"tickmode\": \"array\"}}], {\"annotations\": [{\"text\": \"0.66\", \"x\": \"a\", \"y\": \"a\", \"xref\": \"x1\", \"yref\": \"y1\", \"font\": {\"color\": \"#FFFFFF\"}, \"showarrow\": false}, {\"text\": \"0.02\", \"x\": \"b\", \"y\": \"a\", \"xref\": \"x1\", \"yref\": \"y1\", \"font\": {\"color\": \"#000000\"}, \"showarrow\": false}, {\"text\": \"\", \"x\": \"c\", \"y\": \"a\", \"xref\": \"x1\", \"yref\": \"y1\", \"font\": {\"color\": \"#000000\"}, \"showarrow\": false}, {\"text\": \"0.02\", \"x\": \"d\", \"y\": \"a\", \"xref\": \"x1\", \"yref\": \"y1\", \"font\": {\"color\": \"#000000\"}, \"showarrow\": false}, {\"text\": \"\", \"x\": \"e\", \"y\": \"a\", \"xref\": \"x1\", \"yref\": \"y1\", \"font\": {\"color\": \"#000000\"}, \"showarrow\": false}, {\"text\": \"0.01\", \"x\": \"f\", \"y\": \"a\", \"xref\": \"x1\", \"yref\": \"y1\", \"font\": {\"color\": \"#000000\"}, \"showarrow\": false}, {\"text\": \"\", \"x\": \"g\", \"y\": \"a\", \"xref\": \"x1\", \"yref\": \"y1\", \"font\": {\"color\": \"#000000\"}, \"showarrow\": false}, {\"text\": \"\", \"x\": \"h\", \"y\": \"a\", \"xref\": \"x1\", \"yref\": \"y1\", \"font\": {\"color\": \"#000000\"}, \"showarrow\": false}, {\"text\": \"0.05\", \"x\": \"i\", \"y\": \"a\", \"xref\": \"x1\", \"yref\": \"y1\", \"font\": {\"color\": \"#000000\"}, \"showarrow\": false}, {\"text\": \"\", \"x\": \"j\", \"y\": \"a\", \"xref\": \"x1\", \"yref\": \"y1\", \"font\": {\"color\": \"#000000\"}, \"showarrow\": false}, {\"text\": \"\", \"x\": \"k\", \"y\": \"a\", \"xref\": \"x1\", \"yref\": \"y1\", \"font\": {\"color\": \"#000000\"}, \"showarrow\": false}, {\"text\": \"0.01\", \"x\": \"l\", \"y\": \"a\", \"xref\": \"x1\", \"yref\": \"y1\", \"font\": {\"color\": \"#000000\"}, \"showarrow\": false}, {\"text\": \"\", \"x\": \"m\", \"y\": \"a\", \"xref\": \"x1\", \"yref\": \"y1\", \"font\": {\"color\": \"#000000\"}, \"showarrow\": false}, {\"text\": \"\", \"x\": \"a\", \"y\": \"b\", \"xref\": \"x1\", \"yref\": \"y1\", \"font\": {\"color\": \"#000000\"}, \"showarrow\": false}, {\"text\": \"0.58\", \"x\": \"b\", \"y\": \"b\", \"xref\": \"x1\", \"yref\": \"y1\", \"font\": {\"color\": \"#FFFFFF\"}, \"showarrow\": false}, {\"text\": \"0.03\", \"x\": \"c\", \"y\": \"b\", \"xref\": \"x1\", \"yref\": \"y1\", \"font\": {\"color\": \"#000000\"}, \"showarrow\": false}, {\"text\": \"\", \"x\": \"d\", \"y\": \"b\", \"xref\": \"x1\", \"yref\": \"y1\", \"font\": {\"color\": \"#000000\"}, \"showarrow\": false}, {\"text\": \"\", \"x\": \"e\", \"y\": \"b\", \"xref\": \"x1\", \"yref\": \"y1\", \"font\": {\"color\": \"#000000\"}, \"showarrow\": false}, {\"text\": \"\", \"x\": \"f\", \"y\": \"b\", \"xref\": \"x1\", \"yref\": \"y1\", \"font\": {\"color\": \"#000000\"}, \"showarrow\": false}, {\"text\": \"\", \"x\": \"g\", \"y\": \"b\", \"xref\": \"x1\", \"yref\": \"y1\", \"font\": {\"color\": \"#000000\"}, \"showarrow\": false}, {\"text\": \"\", \"x\": \"h\", \"y\": \"b\", \"xref\": \"x1\", \"yref\": \"y1\", \"font\": {\"color\": \"#000000\"}, \"showarrow\": false}, {\"text\": \"\", \"x\": \"i\", \"y\": \"b\", \"xref\": \"x1\", \"yref\": \"y1\", \"font\": {\"color\": \"#000000\"}, \"showarrow\": false}, {\"text\": \"\", \"x\": \"j\", \"y\": \"b\", \"xref\": \"x1\", \"yref\": \"y1\", \"font\": {\"color\": \"#000000\"}, \"showarrow\": false}, {\"text\": \"\", \"x\": \"k\", \"y\": \"b\", \"xref\": \"x1\", \"yref\": \"y1\", \"font\": {\"color\": \"#000000\"}, \"showarrow\": false}, {\"text\": \"0.01\", \"x\": \"l\", \"y\": \"b\", \"xref\": \"x1\", \"yref\": \"y1\", \"font\": {\"color\": \"#000000\"}, \"showarrow\": false}, {\"text\": \"\", \"x\": \"m\", \"y\": \"b\", \"xref\": \"x1\", \"yref\": \"y1\", \"font\": {\"color\": \"#000000\"}, \"showarrow\": false}, {\"text\": \"0.01\", \"x\": \"a\", \"y\": \"c\", \"xref\": \"x1\", \"yref\": \"y1\", \"font\": {\"color\": \"#000000\"}, \"showarrow\": false}, {\"text\": \"0.03\", \"x\": \"b\", \"y\": \"c\", \"xref\": \"x1\", \"yref\": \"y1\", \"font\": {\"color\": \"#000000\"}, \"showarrow\": false}, {\"text\": \"0.75\", \"x\": \"c\", \"y\": \"c\", \"xref\": \"x1\", \"yref\": \"y1\", \"font\": {\"color\": \"#FFFFFF\"}, \"showarrow\": false}, {\"text\": \"\", \"x\": \"d\", \"y\": \"c\", \"xref\": \"x1\", \"yref\": \"y1\", \"font\": {\"color\": \"#000000\"}, \"showarrow\": false}, {\"text\": \"0.01\", \"x\": \"e\", \"y\": \"c\", \"xref\": \"x1\", \"yref\": \"y1\", \"font\": {\"color\": \"#000000\"}, \"showarrow\": false}, {\"text\": \"0.01\", \"x\": \"f\", \"y\": \"c\", \"xref\": \"x1\", \"yref\": \"y1\", \"font\": {\"color\": \"#000000\"}, \"showarrow\": false}, {\"text\": \"0.01\", \"x\": \"g\", \"y\": \"c\", \"xref\": \"x1\", \"yref\": \"y1\", \"font\": {\"color\": \"#000000\"}, \"showarrow\": false}, {\"text\": \"0.01\", \"x\": \"h\", \"y\": \"c\", \"xref\": \"x1\", \"yref\": \"y1\", \"font\": {\"color\": \"#000000\"}, \"showarrow\": false}, {\"text\": \"\", \"x\": \"i\", \"y\": \"c\", \"xref\": \"x1\", \"yref\": \"y1\", \"font\": {\"color\": \"#000000\"}, \"showarrow\": false}, {\"text\": \"\", \"x\": \"j\", \"y\": \"c\", \"xref\": \"x1\", \"yref\": \"y1\", \"font\": {\"color\": \"#000000\"}, \"showarrow\": false}, {\"text\": \"\", \"x\": \"k\", \"y\": \"c\", \"xref\": \"x1\", \"yref\": \"y1\", \"font\": {\"color\": \"#000000\"}, \"showarrow\": false}, {\"text\": \"\", \"x\": \"l\", \"y\": \"c\", \"xref\": \"x1\", \"yref\": \"y1\", \"font\": {\"color\": \"#000000\"}, \"showarrow\": false}, {\"text\": \"\", \"x\": \"m\", \"y\": \"c\", \"xref\": \"x1\", \"yref\": \"y1\", \"font\": {\"color\": \"#000000\"}, \"showarrow\": false}, {\"text\": \"\", \"x\": \"a\", \"y\": \"d\", \"xref\": \"x1\", \"yref\": \"y1\", \"font\": {\"color\": \"#000000\"}, \"showarrow\": false}, {\"text\": \"0.03\", \"x\": \"b\", \"y\": \"d\", \"xref\": \"x1\", \"yref\": \"y1\", \"font\": {\"color\": \"#000000\"}, \"showarrow\": false}, {\"text\": \"\", \"x\": \"c\", \"y\": \"d\", \"xref\": \"x1\", \"yref\": \"y1\", \"font\": {\"color\": \"#000000\"}, \"showarrow\": false}, {\"text\": \"0.76\", \"x\": \"d\", \"y\": \"d\", \"xref\": \"x1\", \"yref\": \"y1\", \"font\": {\"color\": \"#FFFFFF\"}, \"showarrow\": false}, {\"text\": \"\", \"x\": \"e\", \"y\": \"d\", \"xref\": \"x1\", \"yref\": \"y1\", \"font\": {\"color\": \"#000000\"}, \"showarrow\": false}, {\"text\": \"\", \"x\": \"f\", \"y\": \"d\", \"xref\": \"x1\", \"yref\": \"y1\", \"font\": {\"color\": \"#000000\"}, \"showarrow\": false}, {\"text\": \"\", \"x\": \"g\", \"y\": \"d\", \"xref\": \"x1\", \"yref\": \"y1\", \"font\": {\"color\": \"#000000\"}, \"showarrow\": false}, {\"text\": \"0.01\", \"x\": \"h\", \"y\": \"d\", \"xref\": \"x1\", \"yref\": \"y1\", \"font\": {\"color\": \"#000000\"}, \"showarrow\": false}, {\"text\": \"\", \"x\": \"i\", \"y\": \"d\", \"xref\": \"x1\", \"yref\": \"y1\", \"font\": {\"color\": \"#000000\"}, \"showarrow\": false}, {\"text\": \"\", \"x\": \"j\", \"y\": \"d\", \"xref\": \"x1\", \"yref\": \"y1\", \"font\": {\"color\": \"#000000\"}, \"showarrow\": false}, {\"text\": \"\", \"x\": \"k\", \"y\": \"d\", \"xref\": \"x1\", \"yref\": \"y1\", \"font\": {\"color\": \"#000000\"}, \"showarrow\": false}, {\"text\": \"0.01\", \"x\": \"l\", \"y\": \"d\", \"xref\": \"x1\", \"yref\": \"y1\", \"font\": {\"color\": \"#000000\"}, \"showarrow\": false}, {\"text\": \"0.02\", \"x\": \"m\", \"y\": \"d\", \"xref\": \"x1\", \"yref\": \"y1\", \"font\": {\"color\": \"#000000\"}, \"showarrow\": false}, {\"text\": \"\", \"x\": \"a\", \"y\": \"e\", \"xref\": \"x1\", \"yref\": \"y1\", \"font\": {\"color\": \"#000000\"}, \"showarrow\": false}, {\"text\": \"\", \"x\": \"b\", \"y\": \"e\", \"xref\": \"x1\", \"yref\": \"y1\", \"font\": {\"color\": \"#000000\"}, \"showarrow\": false}, {\"text\": \"\", \"x\": \"c\", \"y\": \"e\", \"xref\": \"x1\", \"yref\": \"y1\", \"font\": {\"color\": \"#000000\"}, \"showarrow\": false}, {\"text\": \"\", \"x\": \"d\", \"y\": \"e\", \"xref\": \"x1\", \"yref\": \"y1\", \"font\": {\"color\": \"#000000\"}, \"showarrow\": false}, {\"text\": \"0.77\", \"x\": \"e\", \"y\": \"e\", \"xref\": \"x1\", \"yref\": \"y1\", \"font\": {\"color\": \"#FFFFFF\"}, \"showarrow\": false}, {\"text\": \"0.01\", \"x\": \"f\", \"y\": \"e\", \"xref\": \"x1\", \"yref\": \"y1\", \"font\": {\"color\": \"#000000\"}, \"showarrow\": false}, {\"text\": \"\", \"x\": \"g\", \"y\": \"e\", \"xref\": \"x1\", \"yref\": \"y1\", \"font\": {\"color\": \"#000000\"}, \"showarrow\": false}, {\"text\": \"0.02\", \"x\": \"h\", \"y\": \"e\", \"xref\": \"x1\", \"yref\": \"y1\", \"font\": {\"color\": \"#000000\"}, \"showarrow\": false}, {\"text\": \"0.03\", \"x\": \"i\", \"y\": \"e\", \"xref\": \"x1\", \"yref\": \"y1\", \"font\": {\"color\": \"#000000\"}, \"showarrow\": false}, {\"text\": \"0.04\", \"x\": \"j\", \"y\": \"e\", \"xref\": \"x1\", \"yref\": \"y1\", \"font\": {\"color\": \"#000000\"}, \"showarrow\": false}, {\"text\": \"0.06\", \"x\": \"k\", \"y\": \"e\", \"xref\": \"x1\", \"yref\": \"y1\", \"font\": {\"color\": \"#000000\"}, \"showarrow\": false}, {\"text\": \"0.01\", \"x\": \"l\", \"y\": \"e\", \"xref\": \"x1\", \"yref\": \"y1\", \"font\": {\"color\": \"#000000\"}, \"showarrow\": false}, {\"text\": \"\", \"x\": \"m\", \"y\": \"e\", \"xref\": \"x1\", \"yref\": \"y1\", \"font\": {\"color\": \"#000000\"}, \"showarrow\": false}, {\"text\": \"0.02\", \"x\": \"a\", \"y\": \"f\", \"xref\": \"x1\", \"yref\": \"y1\", \"font\": {\"color\": \"#000000\"}, \"showarrow\": false}, {\"text\": \"\", \"x\": \"b\", \"y\": \"f\", \"xref\": \"x1\", \"yref\": \"y1\", \"font\": {\"color\": \"#000000\"}, \"showarrow\": false}, {\"text\": \"0.04\", \"x\": \"c\", \"y\": \"f\", \"xref\": \"x1\", \"yref\": \"y1\", \"font\": {\"color\": \"#000000\"}, \"showarrow\": false}, {\"text\": \"\", \"x\": \"d\", \"y\": \"f\", \"xref\": \"x1\", \"yref\": \"y1\", \"font\": {\"color\": \"#000000\"}, \"showarrow\": false}, {\"text\": \"0.02\", \"x\": \"e\", \"y\": \"f\", \"xref\": \"x1\", \"yref\": \"y1\", \"font\": {\"color\": \"#000000\"}, \"showarrow\": false}, {\"text\": \"0.75\", \"x\": \"f\", \"y\": \"f\", \"xref\": \"x1\", \"yref\": \"y1\", \"font\": {\"color\": \"#FFFFFF\"}, \"showarrow\": false}, {\"text\": \"0.01\", \"x\": \"g\", \"y\": \"f\", \"xref\": \"x1\", \"yref\": \"y1\", \"font\": {\"color\": \"#000000\"}, \"showarrow\": false}, {\"text\": \"\", \"x\": \"h\", \"y\": \"f\", \"xref\": \"x1\", \"yref\": \"y1\", \"font\": {\"color\": \"#000000\"}, \"showarrow\": false}, {\"text\": \"0.03\", \"x\": \"i\", \"y\": \"f\", \"xref\": \"x1\", \"yref\": \"y1\", \"font\": {\"color\": \"#000000\"}, \"showarrow\": false}, {\"text\": \"\", \"x\": \"j\", \"y\": \"f\", \"xref\": \"x1\", \"yref\": \"y1\", \"font\": {\"color\": \"#000000\"}, \"showarrow\": false}, {\"text\": \"0.03\", \"x\": \"k\", \"y\": \"f\", \"xref\": \"x1\", \"yref\": \"y1\", \"font\": {\"color\": \"#000000\"}, \"showarrow\": false}, {\"text\": \"\", \"x\": \"l\", \"y\": \"f\", \"xref\": \"x1\", \"yref\": \"y1\", \"font\": {\"color\": \"#000000\"}, \"showarrow\": false}, {\"text\": \"\", \"x\": \"m\", \"y\": \"f\", \"xref\": \"x1\", \"yref\": \"y1\", \"font\": {\"color\": \"#000000\"}, \"showarrow\": false}, {\"text\": \"0.05\", \"x\": \"a\", \"y\": \"g\", \"xref\": \"x1\", \"yref\": \"y1\", \"font\": {\"color\": \"#000000\"}, \"showarrow\": false}, {\"text\": \"\", \"x\": \"b\", \"y\": \"g\", \"xref\": \"x1\", \"yref\": \"y1\", \"font\": {\"color\": \"#000000\"}, \"showarrow\": false}, {\"text\": \"\", \"x\": \"c\", \"y\": \"g\", \"xref\": \"x1\", \"yref\": \"y1\", \"font\": {\"color\": \"#000000\"}, \"showarrow\": false}, {\"text\": \"0.01\", \"x\": \"d\", \"y\": \"g\", \"xref\": \"x1\", \"yref\": \"y1\", \"font\": {\"color\": \"#000000\"}, \"showarrow\": false}, {\"text\": \"0.02\", \"x\": \"e\", \"y\": \"g\", \"xref\": \"x1\", \"yref\": \"y1\", \"font\": {\"color\": \"#000000\"}, \"showarrow\": false}, {\"text\": \"0.04\", \"x\": \"f\", \"y\": \"g\", \"xref\": \"x1\", \"yref\": \"y1\", \"font\": {\"color\": \"#000000\"}, \"showarrow\": false}, {\"text\": \"0.79\", \"x\": \"g\", \"y\": \"g\", \"xref\": \"x1\", \"yref\": \"y1\", \"font\": {\"color\": \"#FFFFFF\"}, \"showarrow\": false}, {\"text\": \"0.01\", \"x\": \"h\", \"y\": \"g\", \"xref\": \"x1\", \"yref\": \"y1\", \"font\": {\"color\": \"#000000\"}, \"showarrow\": false}, {\"text\": \"0.01\", \"x\": \"i\", \"y\": \"g\", \"xref\": \"x1\", \"yref\": \"y1\", \"font\": {\"color\": \"#000000\"}, \"showarrow\": false}, {\"text\": \"\", \"x\": \"j\", \"y\": \"g\", \"xref\": \"x1\", \"yref\": \"y1\", \"font\": {\"color\": \"#000000\"}, \"showarrow\": false}, {\"text\": \"\", \"x\": \"k\", \"y\": \"g\", \"xref\": \"x1\", \"yref\": \"y1\", \"font\": {\"color\": \"#000000\"}, \"showarrow\": false}, {\"text\": \"\", \"x\": \"l\", \"y\": \"g\", \"xref\": \"x1\", \"yref\": \"y1\", \"font\": {\"color\": \"#000000\"}, \"showarrow\": false}, {\"text\": \"\", \"x\": \"m\", \"y\": \"g\", \"xref\": \"x1\", \"yref\": \"y1\", \"font\": {\"color\": \"#000000\"}, \"showarrow\": false}, {\"text\": \"\", \"x\": \"a\", \"y\": \"h\", \"xref\": \"x1\", \"yref\": \"y1\", \"font\": {\"color\": \"#000000\"}, \"showarrow\": false}, {\"text\": \"0.05\", \"x\": \"b\", \"y\": \"h\", \"xref\": \"x1\", \"yref\": \"y1\", \"font\": {\"color\": \"#000000\"}, \"showarrow\": false}, {\"text\": \"\", \"x\": \"c\", \"y\": \"h\", \"xref\": \"x1\", \"yref\": \"y1\", \"font\": {\"color\": \"#000000\"}, \"showarrow\": false}, {\"text\": \"0.01\", \"x\": \"d\", \"y\": \"h\", \"xref\": \"x1\", \"yref\": \"y1\", \"font\": {\"color\": \"#000000\"}, \"showarrow\": false}, {\"text\": \"0.02\", \"x\": \"e\", \"y\": \"h\", \"xref\": \"x1\", \"yref\": \"y1\", \"font\": {\"color\": \"#000000\"}, \"showarrow\": false}, {\"text\": \"0.02\", \"x\": \"f\", \"y\": \"h\", \"xref\": \"x1\", \"yref\": \"y1\", \"font\": {\"color\": \"#000000\"}, \"showarrow\": false}, {\"text\": \"0.01\", \"x\": \"g\", \"y\": \"h\", \"xref\": \"x1\", \"yref\": \"y1\", \"font\": {\"color\": \"#000000\"}, \"showarrow\": false}, {\"text\": \"0.81\", \"x\": \"h\", \"y\": \"h\", \"xref\": \"x1\", \"yref\": \"y1\", \"font\": {\"color\": \"#FFFFFF\"}, \"showarrow\": false}, {\"text\": \"0.03\", \"x\": \"i\", \"y\": \"h\", \"xref\": \"x1\", \"yref\": \"y1\", \"font\": {\"color\": \"#000000\"}, \"showarrow\": false}, {\"text\": \"\", \"x\": \"j\", \"y\": \"h\", \"xref\": \"x1\", \"yref\": \"y1\", \"font\": {\"color\": \"#000000\"}, \"showarrow\": false}, {\"text\": \"\", \"x\": \"k\", \"y\": \"h\", \"xref\": \"x1\", \"yref\": \"y1\", \"font\": {\"color\": \"#000000\"}, \"showarrow\": false}, {\"text\": \"0.01\", \"x\": \"l\", \"y\": \"h\", \"xref\": \"x1\", \"yref\": \"y1\", \"font\": {\"color\": \"#000000\"}, \"showarrow\": false}, {\"text\": \"\", \"x\": \"m\", \"y\": \"h\", \"xref\": \"x1\", \"yref\": \"y1\", \"font\": {\"color\": \"#000000\"}, \"showarrow\": false}, {\"text\": \"0.02\", \"x\": \"a\", \"y\": \"i\", \"xref\": \"x1\", \"yref\": \"y1\", \"font\": {\"color\": \"#000000\"}, \"showarrow\": false}, {\"text\": \"\", \"x\": \"b\", \"y\": \"i\", \"xref\": \"x1\", \"yref\": \"y1\", \"font\": {\"color\": \"#000000\"}, \"showarrow\": false}, {\"text\": \"\", \"x\": \"c\", \"y\": \"i\", \"xref\": \"x1\", \"yref\": \"y1\", \"font\": {\"color\": \"#000000\"}, \"showarrow\": false}, {\"text\": \"0.01\", \"x\": \"d\", \"y\": \"i\", \"xref\": \"x1\", \"yref\": \"y1\", \"font\": {\"color\": \"#000000\"}, \"showarrow\": false}, {\"text\": \"\", \"x\": \"e\", \"y\": \"i\", \"xref\": \"x1\", \"yref\": \"y1\", \"font\": {\"color\": \"#000000\"}, \"showarrow\": false}, {\"text\": \"0.02\", \"x\": \"f\", \"y\": \"i\", \"xref\": \"x1\", \"yref\": \"y1\", \"font\": {\"color\": \"#000000\"}, \"showarrow\": false}, {\"text\": \"\", \"x\": \"g\", \"y\": \"i\", \"xref\": \"x1\", \"yref\": \"y1\", \"font\": {\"color\": \"#000000\"}, \"showarrow\": false}, {\"text\": \"0.01\", \"x\": \"h\", \"y\": \"i\", \"xref\": \"x1\", \"yref\": \"y1\", \"font\": {\"color\": \"#000000\"}, \"showarrow\": false}, {\"text\": \"0.67\", \"x\": \"i\", \"y\": \"i\", \"xref\": \"x1\", \"yref\": \"y1\", \"font\": {\"color\": \"#FFFFFF\"}, \"showarrow\": false}, {\"text\": \"\", \"x\": \"j\", \"y\": \"i\", \"xref\": \"x1\", \"yref\": \"y1\", \"font\": {\"color\": \"#000000\"}, \"showarrow\": false}, {\"text\": \"\", \"x\": \"k\", \"y\": \"i\", \"xref\": \"x1\", \"yref\": \"y1\", \"font\": {\"color\": \"#000000\"}, \"showarrow\": false}, {\"text\": \"0.01\", \"x\": \"l\", \"y\": \"i\", \"xref\": \"x1\", \"yref\": \"y1\", \"font\": {\"color\": \"#000000\"}, \"showarrow\": false}, {\"text\": \"\", \"x\": \"m\", \"y\": \"i\", \"xref\": \"x1\", \"yref\": \"y1\", \"font\": {\"color\": \"#000000\"}, \"showarrow\": false}, {\"text\": \"0.01\", \"x\": \"a\", \"y\": \"j\", \"xref\": \"x1\", \"yref\": \"y1\", \"font\": {\"color\": \"#000000\"}, \"showarrow\": false}, {\"text\": \"0.03\", \"x\": \"b\", \"y\": \"j\", \"xref\": \"x1\", \"yref\": \"y1\", \"font\": {\"color\": \"#000000\"}, \"showarrow\": false}, {\"text\": \"\", \"x\": \"c\", \"y\": \"j\", \"xref\": \"x1\", \"yref\": \"y1\", \"font\": {\"color\": \"#000000\"}, \"showarrow\": false}, {\"text\": \"\", \"x\": \"d\", \"y\": \"j\", \"xref\": \"x1\", \"yref\": \"y1\", \"font\": {\"color\": \"#000000\"}, \"showarrow\": false}, {\"text\": \"0.05\", \"x\": \"e\", \"y\": \"j\", \"xref\": \"x1\", \"yref\": \"y1\", \"font\": {\"color\": \"#000000\"}, \"showarrow\": false}, {\"text\": \"\", \"x\": \"f\", \"y\": \"j\", \"xref\": \"x1\", \"yref\": \"y1\", \"font\": {\"color\": \"#000000\"}, \"showarrow\": false}, {\"text\": \"\", \"x\": \"g\", \"y\": \"j\", \"xref\": \"x1\", \"yref\": \"y1\", \"font\": {\"color\": \"#000000\"}, \"showarrow\": false}, {\"text\": \"\", \"x\": \"h\", \"y\": \"j\", \"xref\": \"x1\", \"yref\": \"y1\", \"font\": {\"color\": \"#000000\"}, \"showarrow\": false}, {\"text\": \"\", \"x\": \"i\", \"y\": \"j\", \"xref\": \"x1\", \"yref\": \"y1\", \"font\": {\"color\": \"#000000\"}, \"showarrow\": false}, {\"text\": \"0.82\", \"x\": \"j\", \"y\": \"j\", \"xref\": \"x1\", \"yref\": \"y1\", \"font\": {\"color\": \"#FFFFFF\"}, \"showarrow\": false}, {\"text\": \"0.17\", \"x\": \"k\", \"y\": \"j\", \"xref\": \"x1\", \"yref\": \"y1\", \"font\": {\"color\": \"#000000\"}, \"showarrow\": false}, {\"text\": \"0.06\", \"x\": \"l\", \"y\": \"j\", \"xref\": \"x1\", \"yref\": \"y1\", \"font\": {\"color\": \"#000000\"}, \"showarrow\": false}, {\"text\": \"0.03\", \"x\": \"m\", \"y\": \"j\", \"xref\": \"x1\", \"yref\": \"y1\", \"font\": {\"color\": \"#000000\"}, \"showarrow\": false}, {\"text\": \"0.01\", \"x\": \"a\", \"y\": \"k\", \"xref\": \"x1\", \"yref\": \"y1\", \"font\": {\"color\": \"#000000\"}, \"showarrow\": false}, {\"text\": \"\", \"x\": \"b\", \"y\": \"k\", \"xref\": \"x1\", \"yref\": \"y1\", \"font\": {\"color\": \"#000000\"}, \"showarrow\": false}, {\"text\": \"0.01\", \"x\": \"c\", \"y\": \"k\", \"xref\": \"x1\", \"yref\": \"y1\", \"font\": {\"color\": \"#000000\"}, \"showarrow\": false}, {\"text\": \"\", \"x\": \"d\", \"y\": \"k\", \"xref\": \"x1\", \"yref\": \"y1\", \"font\": {\"color\": \"#000000\"}, \"showarrow\": false}, {\"text\": \"0.04\", \"x\": \"e\", \"y\": \"k\", \"xref\": \"x1\", \"yref\": \"y1\", \"font\": {\"color\": \"#000000\"}, \"showarrow\": false}, {\"text\": \"0.01\", \"x\": \"f\", \"y\": \"k\", \"xref\": \"x1\", \"yref\": \"y1\", \"font\": {\"color\": \"#000000\"}, \"showarrow\": false}, {\"text\": \"0.04\", \"x\": \"g\", \"y\": \"k\", \"xref\": \"x1\", \"yref\": \"y1\", \"font\": {\"color\": \"#000000\"}, \"showarrow\": false}, {\"text\": \"\", \"x\": \"h\", \"y\": \"k\", \"xref\": \"x1\", \"yref\": \"y1\", \"font\": {\"color\": \"#000000\"}, \"showarrow\": false}, {\"text\": \"0.03\", \"x\": \"i\", \"y\": \"k\", \"xref\": \"x1\", \"yref\": \"y1\", \"font\": {\"color\": \"#000000\"}, \"showarrow\": false}, {\"text\": \"0.03\", \"x\": \"j\", \"y\": \"k\", \"xref\": \"x1\", \"yref\": \"y1\", \"font\": {\"color\": \"#000000\"}, \"showarrow\": false}, {\"text\": \"0.62\", \"x\": \"k\", \"y\": \"k\", \"xref\": \"x1\", \"yref\": \"y1\", \"font\": {\"color\": \"#FFFFFF\"}, \"showarrow\": false}, {\"text\": \"\", \"x\": \"l\", \"y\": \"k\", \"xref\": \"x1\", \"yref\": \"y1\", \"font\": {\"color\": \"#000000\"}, \"showarrow\": false}, {\"text\": \"\", \"x\": \"m\", \"y\": \"k\", \"xref\": \"x1\", \"yref\": \"y1\", \"font\": {\"color\": \"#000000\"}, \"showarrow\": false}, {\"text\": \"\", \"x\": \"a\", \"y\": \"l\", \"xref\": \"x1\", \"yref\": \"y1\", \"font\": {\"color\": \"#000000\"}, \"showarrow\": false}, {\"text\": \"0.02\", \"x\": \"b\", \"y\": \"l\", \"xref\": \"x1\", \"yref\": \"y1\", \"font\": {\"color\": \"#000000\"}, \"showarrow\": false}, {\"text\": \"\", \"x\": \"c\", \"y\": \"l\", \"xref\": \"x1\", \"yref\": \"y1\", \"font\": {\"color\": \"#000000\"}, \"showarrow\": false}, {\"text\": \"0.01\", \"x\": \"d\", \"y\": \"l\", \"xref\": \"x1\", \"yref\": \"y1\", \"font\": {\"color\": \"#000000\"}, \"showarrow\": false}, {\"text\": \"\", \"x\": \"e\", \"y\": \"l\", \"xref\": \"x1\", \"yref\": \"y1\", \"font\": {\"color\": \"#000000\"}, \"showarrow\": false}, {\"text\": \"\", \"x\": \"f\", \"y\": \"l\", \"xref\": \"x1\", \"yref\": \"y1\", \"font\": {\"color\": \"#000000\"}, \"showarrow\": false}, {\"text\": \"\", \"x\": \"g\", \"y\": \"l\", \"xref\": \"x1\", \"yref\": \"y1\", \"font\": {\"color\": \"#000000\"}, \"showarrow\": false}, {\"text\": \"\", \"x\": \"h\", \"y\": \"l\", \"xref\": \"x1\", \"yref\": \"y1\", \"font\": {\"color\": \"#000000\"}, \"showarrow\": false}, {\"text\": \"\", \"x\": \"i\", \"y\": \"l\", \"xref\": \"x1\", \"yref\": \"y1\", \"font\": {\"color\": \"#000000\"}, \"showarrow\": false}, {\"text\": \"\", \"x\": \"j\", \"y\": \"l\", \"xref\": \"x1\", \"yref\": \"y1\", \"font\": {\"color\": \"#000000\"}, \"showarrow\": false}, {\"text\": \"\", \"x\": \"k\", \"y\": \"l\", \"xref\": \"x1\", \"yref\": \"y1\", \"font\": {\"color\": \"#000000\"}, \"showarrow\": false}, {\"text\": \"0.62\", \"x\": \"l\", \"y\": \"l\", \"xref\": \"x1\", \"yref\": \"y1\", \"font\": {\"color\": \"#FFFFFF\"}, \"showarrow\": false}, {\"text\": \"0.01\", \"x\": \"m\", \"y\": \"l\", \"xref\": \"x1\", \"yref\": \"y1\", \"font\": {\"color\": \"#000000\"}, \"showarrow\": false}, {\"text\": \"\", \"x\": \"a\", \"y\": \"m\", \"xref\": \"x1\", \"yref\": \"y1\", \"font\": {\"color\": \"#000000\"}, \"showarrow\": false}, {\"text\": \"0.02\", \"x\": \"b\", \"y\": \"m\", \"xref\": \"x1\", \"yref\": \"y1\", \"font\": {\"color\": \"#000000\"}, \"showarrow\": false}, {\"text\": \"0.01\", \"x\": \"c\", \"y\": \"m\", \"xref\": \"x1\", \"yref\": \"y1\", \"font\": {\"color\": \"#000000\"}, \"showarrow\": false}, {\"text\": \"0.01\", \"x\": \"d\", \"y\": \"m\", \"xref\": \"x1\", \"yref\": \"y1\", \"font\": {\"color\": \"#000000\"}, \"showarrow\": false}, {\"text\": \"0.04\", \"x\": \"e\", \"y\": \"m\", \"xref\": \"x1\", \"yref\": \"y1\", \"font\": {\"color\": \"#000000\"}, \"showarrow\": false}, {\"text\": \"0.03\", \"x\": \"f\", \"y\": \"m\", \"xref\": \"x1\", \"yref\": \"y1\", \"font\": {\"color\": \"#000000\"}, \"showarrow\": false}, {\"text\": \"0.01\", \"x\": \"g\", \"y\": \"m\", \"xref\": \"x1\", \"yref\": \"y1\", \"font\": {\"color\": \"#000000\"}, \"showarrow\": false}, {\"text\": \"0.01\", \"x\": \"h\", \"y\": \"m\", \"xref\": \"x1\", \"yref\": \"y1\", \"font\": {\"color\": \"#000000\"}, \"showarrow\": false}, {\"text\": \"0.02\", \"x\": \"i\", \"y\": \"m\", \"xref\": \"x1\", \"yref\": \"y1\", \"font\": {\"color\": \"#000000\"}, \"showarrow\": false}, {\"text\": \"0.01\", \"x\": \"j\", \"y\": \"m\", \"xref\": \"x1\", \"yref\": \"y1\", \"font\": {\"color\": \"#000000\"}, \"showarrow\": false}, {\"text\": \"0.03\", \"x\": \"k\", \"y\": \"m\", \"xref\": \"x1\", \"yref\": \"y1\", \"font\": {\"color\": \"#000000\"}, \"showarrow\": false}, {\"text\": \"0.04\", \"x\": \"l\", \"y\": \"m\", \"xref\": \"x1\", \"yref\": \"y1\", \"font\": {\"color\": \"#000000\"}, \"showarrow\": false}, {\"text\": \"0.80\", \"x\": \"m\", \"y\": \"m\", \"xref\": \"x1\", \"yref\": \"y1\", \"font\": {\"color\": \"#FFFFFF\"}, \"showarrow\": false}], \"xaxis\": {\"ticks\": \"\", \"dtick\": 1, \"side\": \"bottom\", \"gridcolor\": \"rgb(0, 0, 0)\", \"title\": \"Predicted values\"}, \"yaxis\": {\"ticks\": \"\", \"dtick\": 1, \"ticksuffix\": \"  \", \"anchor\": \"bottom\", \"title\": \"True values\"}}, {\"showLink\": false, \"linkText\": \"Export to plot.ly\"})});</script>"
      ],
      "text/vnd.plotly.v1+html": [
       "<div id=\"0aea6bde-3360-422e-b2c8-36b880f4c7e2\" style=\"height: 525px; width: 100%;\" class=\"plotly-graph-div\"></div><script type=\"text/javascript\">require([\"plotly\"], function(Plotly) { window.PLOTLYENV=window.PLOTLYENV || {};window.PLOTLYENV.BASE_URL=\"https://plot.ly\";Plotly.newPlot(\"0aea6bde-3360-422e-b2c8-36b880f4c7e2\", [{\"type\": \"heatmap\", \"z\": [[0.66259765625, 0.0169525146484375, 0.0, 0.023529052734375, 0.0, 0.010986328125, 0.0, 0.0, 0.045989990234375, 0.0, 0.0, 0.0124969482421875, 0.0], [0.0, 0.576171875, 0.02740478515625, 0.0, 0.0, 0.0, 0.0, 0.0, 0.0, 0.0, 0.0, 0.0124969482421875, 0.0], [0.0124969482421875, 0.033905029296875, 0.75341796875, 0.0, 0.01204681396484375, 0.010986328125, 0.01470947265625, 0.0117645263671875, 0.0, 0.0, 0.0, 0.0, 0.0], [0.0, 0.033905029296875, 0.0, 0.7646484375, 0.0, 0.0, 0.0, 0.0117645263671875, 0.0, 0.0, 0.0, 0.0124969482421875, 0.02197265625], [0.0, 0.0, 0.0, 0.0, 0.77099609375, 0.010986328125, 0.0, 0.023529052734375, 0.03448486328125, 0.041656494140625, 0.0615234375, 0.0124969482421875, 0.0], [0.024993896484375, 0.0, 0.041107177734375, 0.0, 0.0240936279296875, 0.7470703125, 0.01470947265625, 0.0, 0.03448486328125, 0.0, 0.03076171875, 0.0, 0.0], [0.04998779296875, 0.0, 0.0, 0.0117645263671875, 0.0240936279296875, 0.0439453125, 0.7939453125, 0.0117645263671875, 0.01149749755859375, 0.0, 0.0, 0.0, 0.0], [0.0, 0.05084228515625, 0.0, 0.0117645263671875, 0.0240936279296875, 0.02197265625, 0.01470947265625, 0.8115234375, 0.03448486328125, 0.0, 0.0, 0.0124969482421875, 0.0], [0.024993896484375, 0.0, 0.0, 0.0117645263671875, 0.0, 0.02197265625, 0.0, 0.0117645263671875, 0.66650390625, 0.0, 0.0, 0.0124969482421875, 0.0], [0.0124969482421875, 0.033905029296875, 0.0, 0.0, 0.048187255859375, 0.0, 0.0, 0.0, 0.0, 0.8193359375, 0.169189453125, 0.0625, 0.032958984375], [0.0124969482421875, 0.0, 0.013702392578125, 0.0, 0.0361328125, 0.010986328125, 0.04412841796875, 0.0, 0.03448486328125, 0.02777099609375, 0.615234375, 0.0, 0.0], [0.0, 0.0169525146484375, 0.0, 0.0117645263671875, 0.0, 0.0, 0.0, 0.0, 0.0, 0.0, 0.0, 0.625, 0.010986328125], [0.0, 0.0169525146484375, 0.013702392578125, 0.0117645263671875, 0.0361328125, 0.032958984375, 0.01470947265625, 0.0117645263671875, 0.0229949951171875, 0.013885498046875, 0.03076171875, 0.037506103515625, 0.80224609375]], \"x\": [\"a\", \"b\", \"c\", \"d\", \"e\", \"f\", \"g\", \"h\", \"i\", \"j\", \"k\", \"l\", \"m\"], \"y\": [\"a\", \"b\", \"c\", \"d\", \"e\", \"f\", \"g\", \"h\", \"i\", \"j\", \"k\", \"l\", \"m\"], \"colorscale\": [[0.0, \"#e5e5ff\"], [0.05, \"#cacaf0\"], [0.1, \"#b0b0e1\"], [0.25, \"#9494d2\"], [0.5, \"#7a7ac3\"], [0.75, \"#5e5eb4\"], [0.9, \"#4444a5\"], [1.0, \"#282896\"]], \"showscale\": true, \"xgap\": 1.25, \"ygap\": 1.25, \"colorbar\": {\"tickmode\": \"array\"}}], {\"annotations\": [{\"text\": \"0.66\", \"x\": \"a\", \"y\": \"a\", \"xref\": \"x1\", \"yref\": \"y1\", \"font\": {\"color\": \"#FFFFFF\"}, \"showarrow\": false}, {\"text\": \"0.02\", \"x\": \"b\", \"y\": \"a\", \"xref\": \"x1\", \"yref\": \"y1\", \"font\": {\"color\": \"#000000\"}, \"showarrow\": false}, {\"text\": \"\", \"x\": \"c\", \"y\": \"a\", \"xref\": \"x1\", \"yref\": \"y1\", \"font\": {\"color\": \"#000000\"}, \"showarrow\": false}, {\"text\": \"0.02\", \"x\": \"d\", \"y\": \"a\", \"xref\": \"x1\", \"yref\": \"y1\", \"font\": {\"color\": \"#000000\"}, \"showarrow\": false}, {\"text\": \"\", \"x\": \"e\", \"y\": \"a\", \"xref\": \"x1\", \"yref\": \"y1\", \"font\": {\"color\": \"#000000\"}, \"showarrow\": false}, {\"text\": \"0.01\", \"x\": \"f\", \"y\": \"a\", \"xref\": \"x1\", \"yref\": \"y1\", \"font\": {\"color\": \"#000000\"}, \"showarrow\": false}, {\"text\": \"\", \"x\": \"g\", \"y\": \"a\", \"xref\": \"x1\", \"yref\": \"y1\", \"font\": {\"color\": \"#000000\"}, \"showarrow\": false}, {\"text\": \"\", \"x\": \"h\", \"y\": \"a\", \"xref\": \"x1\", \"yref\": \"y1\", \"font\": {\"color\": \"#000000\"}, \"showarrow\": false}, {\"text\": \"0.05\", \"x\": \"i\", \"y\": \"a\", \"xref\": \"x1\", \"yref\": \"y1\", \"font\": {\"color\": \"#000000\"}, \"showarrow\": false}, {\"text\": \"\", \"x\": \"j\", \"y\": \"a\", \"xref\": \"x1\", \"yref\": \"y1\", \"font\": {\"color\": \"#000000\"}, \"showarrow\": false}, {\"text\": \"\", \"x\": \"k\", \"y\": \"a\", \"xref\": \"x1\", \"yref\": \"y1\", \"font\": {\"color\": \"#000000\"}, \"showarrow\": false}, {\"text\": \"0.01\", \"x\": \"l\", \"y\": \"a\", \"xref\": \"x1\", \"yref\": \"y1\", \"font\": {\"color\": \"#000000\"}, \"showarrow\": false}, {\"text\": \"\", \"x\": \"m\", \"y\": \"a\", \"xref\": \"x1\", \"yref\": \"y1\", \"font\": {\"color\": \"#000000\"}, \"showarrow\": false}, {\"text\": \"\", \"x\": \"a\", \"y\": \"b\", \"xref\": \"x1\", \"yref\": \"y1\", \"font\": {\"color\": \"#000000\"}, \"showarrow\": false}, {\"text\": \"0.58\", \"x\": \"b\", \"y\": \"b\", \"xref\": \"x1\", \"yref\": \"y1\", \"font\": {\"color\": \"#FFFFFF\"}, \"showarrow\": false}, {\"text\": \"0.03\", \"x\": \"c\", \"y\": \"b\", \"xref\": \"x1\", \"yref\": \"y1\", \"font\": {\"color\": \"#000000\"}, \"showarrow\": false}, {\"text\": \"\", \"x\": \"d\", \"y\": \"b\", \"xref\": \"x1\", \"yref\": \"y1\", \"font\": {\"color\": \"#000000\"}, \"showarrow\": false}, {\"text\": \"\", \"x\": \"e\", \"y\": \"b\", \"xref\": \"x1\", \"yref\": \"y1\", \"font\": {\"color\": \"#000000\"}, \"showarrow\": false}, {\"text\": \"\", \"x\": \"f\", \"y\": \"b\", \"xref\": \"x1\", \"yref\": \"y1\", \"font\": {\"color\": \"#000000\"}, \"showarrow\": false}, {\"text\": \"\", \"x\": \"g\", \"y\": \"b\", \"xref\": \"x1\", \"yref\": \"y1\", \"font\": {\"color\": \"#000000\"}, \"showarrow\": false}, {\"text\": \"\", \"x\": \"h\", \"y\": \"b\", \"xref\": \"x1\", \"yref\": \"y1\", \"font\": {\"color\": \"#000000\"}, \"showarrow\": false}, {\"text\": \"\", \"x\": \"i\", \"y\": \"b\", \"xref\": \"x1\", \"yref\": \"y1\", \"font\": {\"color\": \"#000000\"}, \"showarrow\": false}, {\"text\": \"\", \"x\": \"j\", \"y\": \"b\", \"xref\": \"x1\", \"yref\": \"y1\", \"font\": {\"color\": \"#000000\"}, \"showarrow\": false}, {\"text\": \"\", \"x\": \"k\", \"y\": \"b\", \"xref\": \"x1\", \"yref\": \"y1\", \"font\": {\"color\": \"#000000\"}, \"showarrow\": false}, {\"text\": \"0.01\", \"x\": \"l\", \"y\": \"b\", \"xref\": \"x1\", \"yref\": \"y1\", \"font\": {\"color\": \"#000000\"}, \"showarrow\": false}, {\"text\": \"\", \"x\": \"m\", \"y\": \"b\", \"xref\": \"x1\", \"yref\": \"y1\", \"font\": {\"color\": \"#000000\"}, \"showarrow\": false}, {\"text\": \"0.01\", \"x\": \"a\", \"y\": \"c\", \"xref\": \"x1\", \"yref\": \"y1\", \"font\": {\"color\": \"#000000\"}, \"showarrow\": false}, {\"text\": \"0.03\", \"x\": \"b\", \"y\": \"c\", \"xref\": \"x1\", \"yref\": \"y1\", \"font\": {\"color\": \"#000000\"}, \"showarrow\": false}, {\"text\": \"0.75\", \"x\": \"c\", \"y\": \"c\", \"xref\": \"x1\", \"yref\": \"y1\", \"font\": {\"color\": \"#FFFFFF\"}, \"showarrow\": false}, {\"text\": \"\", \"x\": \"d\", \"y\": \"c\", \"xref\": \"x1\", \"yref\": \"y1\", \"font\": {\"color\": \"#000000\"}, \"showarrow\": false}, {\"text\": \"0.01\", \"x\": \"e\", \"y\": \"c\", \"xref\": \"x1\", \"yref\": \"y1\", \"font\": {\"color\": \"#000000\"}, \"showarrow\": false}, {\"text\": \"0.01\", \"x\": \"f\", \"y\": \"c\", \"xref\": \"x1\", \"yref\": \"y1\", \"font\": {\"color\": \"#000000\"}, \"showarrow\": false}, {\"text\": \"0.01\", \"x\": \"g\", \"y\": \"c\", \"xref\": \"x1\", \"yref\": \"y1\", \"font\": {\"color\": \"#000000\"}, \"showarrow\": false}, {\"text\": \"0.01\", \"x\": \"h\", \"y\": \"c\", \"xref\": \"x1\", \"yref\": \"y1\", \"font\": {\"color\": \"#000000\"}, \"showarrow\": false}, {\"text\": \"\", \"x\": \"i\", \"y\": \"c\", \"xref\": \"x1\", \"yref\": \"y1\", \"font\": {\"color\": \"#000000\"}, \"showarrow\": false}, {\"text\": \"\", \"x\": \"j\", \"y\": \"c\", \"xref\": \"x1\", \"yref\": \"y1\", \"font\": {\"color\": \"#000000\"}, \"showarrow\": false}, {\"text\": \"\", \"x\": \"k\", \"y\": \"c\", \"xref\": \"x1\", \"yref\": \"y1\", \"font\": {\"color\": \"#000000\"}, \"showarrow\": false}, {\"text\": \"\", \"x\": \"l\", \"y\": \"c\", \"xref\": \"x1\", \"yref\": \"y1\", \"font\": {\"color\": \"#000000\"}, \"showarrow\": false}, {\"text\": \"\", \"x\": \"m\", \"y\": \"c\", \"xref\": \"x1\", \"yref\": \"y1\", \"font\": {\"color\": \"#000000\"}, \"showarrow\": false}, {\"text\": \"\", \"x\": \"a\", \"y\": \"d\", \"xref\": \"x1\", \"yref\": \"y1\", \"font\": {\"color\": \"#000000\"}, \"showarrow\": false}, {\"text\": \"0.03\", \"x\": \"b\", \"y\": \"d\", \"xref\": \"x1\", \"yref\": \"y1\", \"font\": {\"color\": \"#000000\"}, \"showarrow\": false}, {\"text\": \"\", \"x\": \"c\", \"y\": \"d\", \"xref\": \"x1\", \"yref\": \"y1\", \"font\": {\"color\": \"#000000\"}, \"showarrow\": false}, {\"text\": \"0.76\", \"x\": \"d\", \"y\": \"d\", \"xref\": \"x1\", \"yref\": \"y1\", \"font\": {\"color\": \"#FFFFFF\"}, \"showarrow\": false}, {\"text\": \"\", \"x\": \"e\", \"y\": \"d\", \"xref\": \"x1\", \"yref\": \"y1\", \"font\": {\"color\": \"#000000\"}, \"showarrow\": false}, {\"text\": \"\", \"x\": \"f\", \"y\": \"d\", \"xref\": \"x1\", \"yref\": \"y1\", \"font\": {\"color\": \"#000000\"}, \"showarrow\": false}, {\"text\": \"\", \"x\": \"g\", \"y\": \"d\", \"xref\": \"x1\", \"yref\": \"y1\", \"font\": {\"color\": \"#000000\"}, \"showarrow\": false}, {\"text\": \"0.01\", \"x\": \"h\", \"y\": \"d\", \"xref\": \"x1\", \"yref\": \"y1\", \"font\": {\"color\": \"#000000\"}, \"showarrow\": false}, {\"text\": \"\", \"x\": \"i\", \"y\": \"d\", \"xref\": \"x1\", \"yref\": \"y1\", \"font\": {\"color\": \"#000000\"}, \"showarrow\": false}, {\"text\": \"\", \"x\": \"j\", \"y\": \"d\", \"xref\": \"x1\", \"yref\": \"y1\", \"font\": {\"color\": \"#000000\"}, \"showarrow\": false}, {\"text\": \"\", \"x\": \"k\", \"y\": \"d\", \"xref\": \"x1\", \"yref\": \"y1\", \"font\": {\"color\": \"#000000\"}, \"showarrow\": false}, {\"text\": \"0.01\", \"x\": \"l\", \"y\": \"d\", \"xref\": \"x1\", \"yref\": \"y1\", \"font\": {\"color\": \"#000000\"}, \"showarrow\": false}, {\"text\": \"0.02\", \"x\": \"m\", \"y\": \"d\", \"xref\": \"x1\", \"yref\": \"y1\", \"font\": {\"color\": \"#000000\"}, \"showarrow\": false}, {\"text\": \"\", \"x\": \"a\", \"y\": \"e\", \"xref\": \"x1\", \"yref\": \"y1\", \"font\": {\"color\": \"#000000\"}, \"showarrow\": false}, {\"text\": \"\", \"x\": \"b\", \"y\": \"e\", \"xref\": \"x1\", \"yref\": \"y1\", \"font\": {\"color\": \"#000000\"}, \"showarrow\": false}, {\"text\": \"\", \"x\": \"c\", \"y\": \"e\", \"xref\": \"x1\", \"yref\": \"y1\", \"font\": {\"color\": \"#000000\"}, \"showarrow\": false}, {\"text\": \"\", \"x\": \"d\", \"y\": \"e\", \"xref\": \"x1\", \"yref\": \"y1\", \"font\": {\"color\": \"#000000\"}, \"showarrow\": false}, {\"text\": \"0.77\", \"x\": \"e\", \"y\": \"e\", \"xref\": \"x1\", \"yref\": \"y1\", \"font\": {\"color\": \"#FFFFFF\"}, \"showarrow\": false}, {\"text\": \"0.01\", \"x\": \"f\", \"y\": \"e\", \"xref\": \"x1\", \"yref\": \"y1\", \"font\": {\"color\": \"#000000\"}, \"showarrow\": false}, {\"text\": \"\", \"x\": \"g\", \"y\": \"e\", \"xref\": \"x1\", \"yref\": \"y1\", \"font\": {\"color\": \"#000000\"}, \"showarrow\": false}, {\"text\": \"0.02\", \"x\": \"h\", \"y\": \"e\", \"xref\": \"x1\", \"yref\": \"y1\", \"font\": {\"color\": \"#000000\"}, \"showarrow\": false}, {\"text\": \"0.03\", \"x\": \"i\", \"y\": \"e\", \"xref\": \"x1\", \"yref\": \"y1\", \"font\": {\"color\": \"#000000\"}, \"showarrow\": false}, {\"text\": \"0.04\", \"x\": \"j\", \"y\": \"e\", \"xref\": \"x1\", \"yref\": \"y1\", \"font\": {\"color\": \"#000000\"}, \"showarrow\": false}, {\"text\": \"0.06\", \"x\": \"k\", \"y\": \"e\", \"xref\": \"x1\", \"yref\": \"y1\", \"font\": {\"color\": \"#000000\"}, \"showarrow\": false}, {\"text\": \"0.01\", \"x\": \"l\", \"y\": \"e\", \"xref\": \"x1\", \"yref\": \"y1\", \"font\": {\"color\": \"#000000\"}, \"showarrow\": false}, {\"text\": \"\", \"x\": \"m\", \"y\": \"e\", \"xref\": \"x1\", \"yref\": \"y1\", \"font\": {\"color\": \"#000000\"}, \"showarrow\": false}, {\"text\": \"0.02\", \"x\": \"a\", \"y\": \"f\", \"xref\": \"x1\", \"yref\": \"y1\", \"font\": {\"color\": \"#000000\"}, \"showarrow\": false}, {\"text\": \"\", \"x\": \"b\", \"y\": \"f\", \"xref\": \"x1\", \"yref\": \"y1\", \"font\": {\"color\": \"#000000\"}, \"showarrow\": false}, {\"text\": \"0.04\", \"x\": \"c\", \"y\": \"f\", \"xref\": \"x1\", \"yref\": \"y1\", \"font\": {\"color\": \"#000000\"}, \"showarrow\": false}, {\"text\": \"\", \"x\": \"d\", \"y\": \"f\", \"xref\": \"x1\", \"yref\": \"y1\", \"font\": {\"color\": \"#000000\"}, \"showarrow\": false}, {\"text\": \"0.02\", \"x\": \"e\", \"y\": \"f\", \"xref\": \"x1\", \"yref\": \"y1\", \"font\": {\"color\": \"#000000\"}, \"showarrow\": false}, {\"text\": \"0.75\", \"x\": \"f\", \"y\": \"f\", \"xref\": \"x1\", \"yref\": \"y1\", \"font\": {\"color\": \"#FFFFFF\"}, \"showarrow\": false}, {\"text\": \"0.01\", \"x\": \"g\", \"y\": \"f\", \"xref\": \"x1\", \"yref\": \"y1\", \"font\": {\"color\": \"#000000\"}, \"showarrow\": false}, {\"text\": \"\", \"x\": \"h\", \"y\": \"f\", \"xref\": \"x1\", \"yref\": \"y1\", \"font\": {\"color\": \"#000000\"}, \"showarrow\": false}, {\"text\": \"0.03\", \"x\": \"i\", \"y\": \"f\", \"xref\": \"x1\", \"yref\": \"y1\", \"font\": {\"color\": \"#000000\"}, \"showarrow\": false}, {\"text\": \"\", \"x\": \"j\", \"y\": \"f\", \"xref\": \"x1\", \"yref\": \"y1\", \"font\": {\"color\": \"#000000\"}, \"showarrow\": false}, {\"text\": \"0.03\", \"x\": \"k\", \"y\": \"f\", \"xref\": \"x1\", \"yref\": \"y1\", \"font\": {\"color\": \"#000000\"}, \"showarrow\": false}, {\"text\": \"\", \"x\": \"l\", \"y\": \"f\", \"xref\": \"x1\", \"yref\": \"y1\", \"font\": {\"color\": \"#000000\"}, \"showarrow\": false}, {\"text\": \"\", \"x\": \"m\", \"y\": \"f\", \"xref\": \"x1\", \"yref\": \"y1\", \"font\": {\"color\": \"#000000\"}, \"showarrow\": false}, {\"text\": \"0.05\", \"x\": \"a\", \"y\": \"g\", \"xref\": \"x1\", \"yref\": \"y1\", \"font\": {\"color\": \"#000000\"}, \"showarrow\": false}, {\"text\": \"\", \"x\": \"b\", \"y\": \"g\", \"xref\": \"x1\", \"yref\": \"y1\", \"font\": {\"color\": \"#000000\"}, \"showarrow\": false}, {\"text\": \"\", \"x\": \"c\", \"y\": \"g\", \"xref\": \"x1\", \"yref\": \"y1\", \"font\": {\"color\": \"#000000\"}, \"showarrow\": false}, {\"text\": \"0.01\", \"x\": \"d\", \"y\": \"g\", \"xref\": \"x1\", \"yref\": \"y1\", \"font\": {\"color\": \"#000000\"}, \"showarrow\": false}, {\"text\": \"0.02\", \"x\": \"e\", \"y\": \"g\", \"xref\": \"x1\", \"yref\": \"y1\", \"font\": {\"color\": \"#000000\"}, \"showarrow\": false}, {\"text\": \"0.04\", \"x\": \"f\", \"y\": \"g\", \"xref\": \"x1\", \"yref\": \"y1\", \"font\": {\"color\": \"#000000\"}, \"showarrow\": false}, {\"text\": \"0.79\", \"x\": \"g\", \"y\": \"g\", \"xref\": \"x1\", \"yref\": \"y1\", \"font\": {\"color\": \"#FFFFFF\"}, \"showarrow\": false}, {\"text\": \"0.01\", \"x\": \"h\", \"y\": \"g\", \"xref\": \"x1\", \"yref\": \"y1\", \"font\": {\"color\": \"#000000\"}, \"showarrow\": false}, {\"text\": \"0.01\", \"x\": \"i\", \"y\": \"g\", \"xref\": \"x1\", \"yref\": \"y1\", \"font\": {\"color\": \"#000000\"}, \"showarrow\": false}, {\"text\": \"\", \"x\": \"j\", \"y\": \"g\", \"xref\": \"x1\", \"yref\": \"y1\", \"font\": {\"color\": \"#000000\"}, \"showarrow\": false}, {\"text\": \"\", \"x\": \"k\", \"y\": \"g\", \"xref\": \"x1\", \"yref\": \"y1\", \"font\": {\"color\": \"#000000\"}, \"showarrow\": false}, {\"text\": \"\", \"x\": \"l\", \"y\": \"g\", \"xref\": \"x1\", \"yref\": \"y1\", \"font\": {\"color\": \"#000000\"}, \"showarrow\": false}, {\"text\": \"\", \"x\": \"m\", \"y\": \"g\", \"xref\": \"x1\", \"yref\": \"y1\", \"font\": {\"color\": \"#000000\"}, \"showarrow\": false}, {\"text\": \"\", \"x\": \"a\", \"y\": \"h\", \"xref\": \"x1\", \"yref\": \"y1\", \"font\": {\"color\": \"#000000\"}, \"showarrow\": false}, {\"text\": \"0.05\", \"x\": \"b\", \"y\": \"h\", \"xref\": \"x1\", \"yref\": \"y1\", \"font\": {\"color\": \"#000000\"}, \"showarrow\": false}, {\"text\": \"\", \"x\": \"c\", \"y\": \"h\", \"xref\": \"x1\", \"yref\": \"y1\", \"font\": {\"color\": \"#000000\"}, \"showarrow\": false}, {\"text\": \"0.01\", \"x\": \"d\", \"y\": \"h\", \"xref\": \"x1\", \"yref\": \"y1\", \"font\": {\"color\": \"#000000\"}, \"showarrow\": false}, {\"text\": \"0.02\", \"x\": \"e\", \"y\": \"h\", \"xref\": \"x1\", \"yref\": \"y1\", \"font\": {\"color\": \"#000000\"}, \"showarrow\": false}, {\"text\": \"0.02\", \"x\": \"f\", \"y\": \"h\", \"xref\": \"x1\", \"yref\": \"y1\", \"font\": {\"color\": \"#000000\"}, \"showarrow\": false}, {\"text\": \"0.01\", \"x\": \"g\", \"y\": \"h\", \"xref\": \"x1\", \"yref\": \"y1\", \"font\": {\"color\": \"#000000\"}, \"showarrow\": false}, {\"text\": \"0.81\", \"x\": \"h\", \"y\": \"h\", \"xref\": \"x1\", \"yref\": \"y1\", \"font\": {\"color\": \"#FFFFFF\"}, \"showarrow\": false}, {\"text\": \"0.03\", \"x\": \"i\", \"y\": \"h\", \"xref\": \"x1\", \"yref\": \"y1\", \"font\": {\"color\": \"#000000\"}, \"showarrow\": false}, {\"text\": \"\", \"x\": \"j\", \"y\": \"h\", \"xref\": \"x1\", \"yref\": \"y1\", \"font\": {\"color\": \"#000000\"}, \"showarrow\": false}, {\"text\": \"\", \"x\": \"k\", \"y\": \"h\", \"xref\": \"x1\", \"yref\": \"y1\", \"font\": {\"color\": \"#000000\"}, \"showarrow\": false}, {\"text\": \"0.01\", \"x\": \"l\", \"y\": \"h\", \"xref\": \"x1\", \"yref\": \"y1\", \"font\": {\"color\": \"#000000\"}, \"showarrow\": false}, {\"text\": \"\", \"x\": \"m\", \"y\": \"h\", \"xref\": \"x1\", \"yref\": \"y1\", \"font\": {\"color\": \"#000000\"}, \"showarrow\": false}, {\"text\": \"0.02\", \"x\": \"a\", \"y\": \"i\", \"xref\": \"x1\", \"yref\": \"y1\", \"font\": {\"color\": \"#000000\"}, \"showarrow\": false}, {\"text\": \"\", \"x\": \"b\", \"y\": \"i\", \"xref\": \"x1\", \"yref\": \"y1\", \"font\": {\"color\": \"#000000\"}, \"showarrow\": false}, {\"text\": \"\", \"x\": \"c\", \"y\": \"i\", \"xref\": \"x1\", \"yref\": \"y1\", \"font\": {\"color\": \"#000000\"}, \"showarrow\": false}, {\"text\": \"0.01\", \"x\": \"d\", \"y\": \"i\", \"xref\": \"x1\", \"yref\": \"y1\", \"font\": {\"color\": \"#000000\"}, \"showarrow\": false}, {\"text\": \"\", \"x\": \"e\", \"y\": \"i\", \"xref\": \"x1\", \"yref\": \"y1\", \"font\": {\"color\": \"#000000\"}, \"showarrow\": false}, {\"text\": \"0.02\", \"x\": \"f\", \"y\": \"i\", \"xref\": \"x1\", \"yref\": \"y1\", \"font\": {\"color\": \"#000000\"}, \"showarrow\": false}, {\"text\": \"\", \"x\": \"g\", \"y\": \"i\", \"xref\": \"x1\", \"yref\": \"y1\", \"font\": {\"color\": \"#000000\"}, \"showarrow\": false}, {\"text\": \"0.01\", \"x\": \"h\", \"y\": \"i\", \"xref\": \"x1\", \"yref\": \"y1\", \"font\": {\"color\": \"#000000\"}, \"showarrow\": false}, {\"text\": \"0.67\", \"x\": \"i\", \"y\": \"i\", \"xref\": \"x1\", \"yref\": \"y1\", \"font\": {\"color\": \"#FFFFFF\"}, \"showarrow\": false}, {\"text\": \"\", \"x\": \"j\", \"y\": \"i\", \"xref\": \"x1\", \"yref\": \"y1\", \"font\": {\"color\": \"#000000\"}, \"showarrow\": false}, {\"text\": \"\", \"x\": \"k\", \"y\": \"i\", \"xref\": \"x1\", \"yref\": \"y1\", \"font\": {\"color\": \"#000000\"}, \"showarrow\": false}, {\"text\": \"0.01\", \"x\": \"l\", \"y\": \"i\", \"xref\": \"x1\", \"yref\": \"y1\", \"font\": {\"color\": \"#000000\"}, \"showarrow\": false}, {\"text\": \"\", \"x\": \"m\", \"y\": \"i\", \"xref\": \"x1\", \"yref\": \"y1\", \"font\": {\"color\": \"#000000\"}, \"showarrow\": false}, {\"text\": \"0.01\", \"x\": \"a\", \"y\": \"j\", \"xref\": \"x1\", \"yref\": \"y1\", \"font\": {\"color\": \"#000000\"}, \"showarrow\": false}, {\"text\": \"0.03\", \"x\": \"b\", \"y\": \"j\", \"xref\": \"x1\", \"yref\": \"y1\", \"font\": {\"color\": \"#000000\"}, \"showarrow\": false}, {\"text\": \"\", \"x\": \"c\", \"y\": \"j\", \"xref\": \"x1\", \"yref\": \"y1\", \"font\": {\"color\": \"#000000\"}, \"showarrow\": false}, {\"text\": \"\", \"x\": \"d\", \"y\": \"j\", \"xref\": \"x1\", \"yref\": \"y1\", \"font\": {\"color\": \"#000000\"}, \"showarrow\": false}, {\"text\": \"0.05\", \"x\": \"e\", \"y\": \"j\", \"xref\": \"x1\", \"yref\": \"y1\", \"font\": {\"color\": \"#000000\"}, \"showarrow\": false}, {\"text\": \"\", \"x\": \"f\", \"y\": \"j\", \"xref\": \"x1\", \"yref\": \"y1\", \"font\": {\"color\": \"#000000\"}, \"showarrow\": false}, {\"text\": \"\", \"x\": \"g\", \"y\": \"j\", \"xref\": \"x1\", \"yref\": \"y1\", \"font\": {\"color\": \"#000000\"}, \"showarrow\": false}, {\"text\": \"\", \"x\": \"h\", \"y\": \"j\", \"xref\": \"x1\", \"yref\": \"y1\", \"font\": {\"color\": \"#000000\"}, \"showarrow\": false}, {\"text\": \"\", \"x\": \"i\", \"y\": \"j\", \"xref\": \"x1\", \"yref\": \"y1\", \"font\": {\"color\": \"#000000\"}, \"showarrow\": false}, {\"text\": \"0.82\", \"x\": \"j\", \"y\": \"j\", \"xref\": \"x1\", \"yref\": \"y1\", \"font\": {\"color\": \"#FFFFFF\"}, \"showarrow\": false}, {\"text\": \"0.17\", \"x\": \"k\", \"y\": \"j\", \"xref\": \"x1\", \"yref\": \"y1\", \"font\": {\"color\": \"#000000\"}, \"showarrow\": false}, {\"text\": \"0.06\", \"x\": \"l\", \"y\": \"j\", \"xref\": \"x1\", \"yref\": \"y1\", \"font\": {\"color\": \"#000000\"}, \"showarrow\": false}, {\"text\": \"0.03\", \"x\": \"m\", \"y\": \"j\", \"xref\": \"x1\", \"yref\": \"y1\", \"font\": {\"color\": \"#000000\"}, \"showarrow\": false}, {\"text\": \"0.01\", \"x\": \"a\", \"y\": \"k\", \"xref\": \"x1\", \"yref\": \"y1\", \"font\": {\"color\": \"#000000\"}, \"showarrow\": false}, {\"text\": \"\", \"x\": \"b\", \"y\": \"k\", \"xref\": \"x1\", \"yref\": \"y1\", \"font\": {\"color\": \"#000000\"}, \"showarrow\": false}, {\"text\": \"0.01\", \"x\": \"c\", \"y\": \"k\", \"xref\": \"x1\", \"yref\": \"y1\", \"font\": {\"color\": \"#000000\"}, \"showarrow\": false}, {\"text\": \"\", \"x\": \"d\", \"y\": \"k\", \"xref\": \"x1\", \"yref\": \"y1\", \"font\": {\"color\": \"#000000\"}, \"showarrow\": false}, {\"text\": \"0.04\", \"x\": \"e\", \"y\": \"k\", \"xref\": \"x1\", \"yref\": \"y1\", \"font\": {\"color\": \"#000000\"}, \"showarrow\": false}, {\"text\": \"0.01\", \"x\": \"f\", \"y\": \"k\", \"xref\": \"x1\", \"yref\": \"y1\", \"font\": {\"color\": \"#000000\"}, \"showarrow\": false}, {\"text\": \"0.04\", \"x\": \"g\", \"y\": \"k\", \"xref\": \"x1\", \"yref\": \"y1\", \"font\": {\"color\": \"#000000\"}, \"showarrow\": false}, {\"text\": \"\", \"x\": \"h\", \"y\": \"k\", \"xref\": \"x1\", \"yref\": \"y1\", \"font\": {\"color\": \"#000000\"}, \"showarrow\": false}, {\"text\": \"0.03\", \"x\": \"i\", \"y\": \"k\", \"xref\": \"x1\", \"yref\": \"y1\", \"font\": {\"color\": \"#000000\"}, \"showarrow\": false}, {\"text\": \"0.03\", \"x\": \"j\", \"y\": \"k\", \"xref\": \"x1\", \"yref\": \"y1\", \"font\": {\"color\": \"#000000\"}, \"showarrow\": false}, {\"text\": \"0.62\", \"x\": \"k\", \"y\": \"k\", \"xref\": \"x1\", \"yref\": \"y1\", \"font\": {\"color\": \"#FFFFFF\"}, \"showarrow\": false}, {\"text\": \"\", \"x\": \"l\", \"y\": \"k\", \"xref\": \"x1\", \"yref\": \"y1\", \"font\": {\"color\": \"#000000\"}, \"showarrow\": false}, {\"text\": \"\", \"x\": \"m\", \"y\": \"k\", \"xref\": \"x1\", \"yref\": \"y1\", \"font\": {\"color\": \"#000000\"}, \"showarrow\": false}, {\"text\": \"\", \"x\": \"a\", \"y\": \"l\", \"xref\": \"x1\", \"yref\": \"y1\", \"font\": {\"color\": \"#000000\"}, \"showarrow\": false}, {\"text\": \"0.02\", \"x\": \"b\", \"y\": \"l\", \"xref\": \"x1\", \"yref\": \"y1\", \"font\": {\"color\": \"#000000\"}, \"showarrow\": false}, {\"text\": \"\", \"x\": \"c\", \"y\": \"l\", \"xref\": \"x1\", \"yref\": \"y1\", \"font\": {\"color\": \"#000000\"}, \"showarrow\": false}, {\"text\": \"0.01\", \"x\": \"d\", \"y\": \"l\", \"xref\": \"x1\", \"yref\": \"y1\", \"font\": {\"color\": \"#000000\"}, \"showarrow\": false}, {\"text\": \"\", \"x\": \"e\", \"y\": \"l\", \"xref\": \"x1\", \"yref\": \"y1\", \"font\": {\"color\": \"#000000\"}, \"showarrow\": false}, {\"text\": \"\", \"x\": \"f\", \"y\": \"l\", \"xref\": \"x1\", \"yref\": \"y1\", \"font\": {\"color\": \"#000000\"}, \"showarrow\": false}, {\"text\": \"\", \"x\": \"g\", \"y\": \"l\", \"xref\": \"x1\", \"yref\": \"y1\", \"font\": {\"color\": \"#000000\"}, \"showarrow\": false}, {\"text\": \"\", \"x\": \"h\", \"y\": \"l\", \"xref\": \"x1\", \"yref\": \"y1\", \"font\": {\"color\": \"#000000\"}, \"showarrow\": false}, {\"text\": \"\", \"x\": \"i\", \"y\": \"l\", \"xref\": \"x1\", \"yref\": \"y1\", \"font\": {\"color\": \"#000000\"}, \"showarrow\": false}, {\"text\": \"\", \"x\": \"j\", \"y\": \"l\", \"xref\": \"x1\", \"yref\": \"y1\", \"font\": {\"color\": \"#000000\"}, \"showarrow\": false}, {\"text\": \"\", \"x\": \"k\", \"y\": \"l\", \"xref\": \"x1\", \"yref\": \"y1\", \"font\": {\"color\": \"#000000\"}, \"showarrow\": false}, {\"text\": \"0.62\", \"x\": \"l\", \"y\": \"l\", \"xref\": \"x1\", \"yref\": \"y1\", \"font\": {\"color\": \"#FFFFFF\"}, \"showarrow\": false}, {\"text\": \"0.01\", \"x\": \"m\", \"y\": \"l\", \"xref\": \"x1\", \"yref\": \"y1\", \"font\": {\"color\": \"#000000\"}, \"showarrow\": false}, {\"text\": \"\", \"x\": \"a\", \"y\": \"m\", \"xref\": \"x1\", \"yref\": \"y1\", \"font\": {\"color\": \"#000000\"}, \"showarrow\": false}, {\"text\": \"0.02\", \"x\": \"b\", \"y\": \"m\", \"xref\": \"x1\", \"yref\": \"y1\", \"font\": {\"color\": \"#000000\"}, \"showarrow\": false}, {\"text\": \"0.01\", \"x\": \"c\", \"y\": \"m\", \"xref\": \"x1\", \"yref\": \"y1\", \"font\": {\"color\": \"#000000\"}, \"showarrow\": false}, {\"text\": \"0.01\", \"x\": \"d\", \"y\": \"m\", \"xref\": \"x1\", \"yref\": \"y1\", \"font\": {\"color\": \"#000000\"}, \"showarrow\": false}, {\"text\": \"0.04\", \"x\": \"e\", \"y\": \"m\", \"xref\": \"x1\", \"yref\": \"y1\", \"font\": {\"color\": \"#000000\"}, \"showarrow\": false}, {\"text\": \"0.03\", \"x\": \"f\", \"y\": \"m\", \"xref\": \"x1\", \"yref\": \"y1\", \"font\": {\"color\": \"#000000\"}, \"showarrow\": false}, {\"text\": \"0.01\", \"x\": \"g\", \"y\": \"m\", \"xref\": \"x1\", \"yref\": \"y1\", \"font\": {\"color\": \"#000000\"}, \"showarrow\": false}, {\"text\": \"0.01\", \"x\": \"h\", \"y\": \"m\", \"xref\": \"x1\", \"yref\": \"y1\", \"font\": {\"color\": \"#000000\"}, \"showarrow\": false}, {\"text\": \"0.02\", \"x\": \"i\", \"y\": \"m\", \"xref\": \"x1\", \"yref\": \"y1\", \"font\": {\"color\": \"#000000\"}, \"showarrow\": false}, {\"text\": \"0.01\", \"x\": \"j\", \"y\": \"m\", \"xref\": \"x1\", \"yref\": \"y1\", \"font\": {\"color\": \"#000000\"}, \"showarrow\": false}, {\"text\": \"0.03\", \"x\": \"k\", \"y\": \"m\", \"xref\": \"x1\", \"yref\": \"y1\", \"font\": {\"color\": \"#000000\"}, \"showarrow\": false}, {\"text\": \"0.04\", \"x\": \"l\", \"y\": \"m\", \"xref\": \"x1\", \"yref\": \"y1\", \"font\": {\"color\": \"#000000\"}, \"showarrow\": false}, {\"text\": \"0.80\", \"x\": \"m\", \"y\": \"m\", \"xref\": \"x1\", \"yref\": \"y1\", \"font\": {\"color\": \"#FFFFFF\"}, \"showarrow\": false}], \"xaxis\": {\"ticks\": \"\", \"dtick\": 1, \"side\": \"bottom\", \"gridcolor\": \"rgb(0, 0, 0)\", \"title\": \"Predicted values\"}, \"yaxis\": {\"ticks\": \"\", \"dtick\": 1, \"ticksuffix\": \"  \", \"anchor\": \"bottom\", \"title\": \"True values\"}}, {\"showLink\": false, \"linkText\": \"Export to plot.ly\"})});</script>"
      ]
     },
     "metadata": {},
     "output_type": "display_data"
    }
   ],
   "source": [
    "plot_confusion_matrix(lc_confusion_matrix[13:, 13:], lc_labels[13:], title='Confusion Matrix of Lowercase NN')\n",
    "plot_confusion_matrix(lc_confusion_matrix[:13, :13], lc_labels[:13])"
   ]
  },
  {
   "cell_type": "code",
   "execution_count": 27,
   "metadata": {},
   "outputs": [
    {
     "name": "stderr",
     "output_type": "stream",
     "text": [
      "/home/macermak/code/thesis/intect/env/lib64/python3.6/site-packages/ipykernel_launcher.py:6: DeprecationWarning:\n",
      "\n",
      "In future, it will be an error for 'np.bool_' scalars to be interpreted as an index\n",
      "\n"
     ]
    },
    {
     "data": {
      "application/vnd.plotly.v1+json": {
       "data": [
        {
         "colorbar": {
          "tickmode": "array"
         },
         "colorscale": [
          [
           0,
           "#e5e5ff"
          ],
          [
           0.05,
           "#cacaf0"
          ],
          [
           0.1,
           "#b0b0e1"
          ],
          [
           0.25,
           "#9494d2"
          ],
          [
           0.5,
           "#7a7ac3"
          ],
          [
           0.75,
           "#5e5eb4"
          ],
          [
           0.9,
           "#4444a5"
          ],
          [
           1,
           "#282896"
          ]
         ],
         "showscale": true,
         "type": "heatmap",
         "x": [
          "N",
          "O",
          "P",
          "Q",
          "R",
          "S",
          "T",
          "U",
          "V",
          "W",
          "X",
          "Y",
          "Z"
         ],
         "xgap": 1.25,
         "y": [
          "N",
          "O",
          "P",
          "Q",
          "R",
          "S",
          "T",
          "U",
          "V",
          "W",
          "X",
          "Y",
          "Z"
         ],
         "ygap": 1.25,
         "z": [
          [
           0.765625,
           0,
           0.013702392578125,
           0,
           0,
           0,
           0.0217437744140625,
           0.03173828125,
           0.011627197265625,
           0.02984619140625,
           0.013336181640625,
           0.041107177734375,
           0
          ],
          [
           0.0123443603515625,
           0.6630859375,
           0,
           0.01316070556640625,
           0,
           0.013336181640625,
           0,
           0.03173828125,
           0,
           0,
           0,
           0.013702392578125,
           0
          ],
          [
           0,
           0.01087188720703125,
           0.82177734375,
           0.01316070556640625,
           0.01470947265625,
           0.013336181640625,
           0.054351806640625,
           0,
           0.02325439453125,
           0,
           0,
           0.0548095703125,
           0
          ],
          [
           0.024688720703125,
           0.141357421875,
           0.013702392578125,
           0.86865234375,
           0,
           0,
           0.01087188720703125,
           0.015869140625,
           0,
           0,
           0,
           0,
           0.08001708984375
          ],
          [
           0,
           0,
           0,
           0.01316070556640625,
           0.83837890625,
           0,
           0,
           0,
           0,
           0,
           0.013336181640625,
           0,
           0
          ],
          [
           0,
           0,
           0,
           0,
           0,
           0.8134765625,
           0,
           0.015869140625,
           0,
           0,
           0,
           0.013702392578125,
           0
          ],
          [
           0,
           0,
           0.0684814453125,
           0,
           0,
           0,
           0.7607421875,
           0,
           0,
           0,
           0,
           0.013702392578125,
           0
          ],
          [
           0,
           0,
           0,
           0,
           0,
           0,
           0,
           0.66650390625,
           0,
           0,
           0.013336181640625,
           0.02740478515625,
           0
          ],
          [
           0.0123443603515625,
           0.01087188720703125,
           0,
           0.01316070556640625,
           0,
           0,
           0.0217437744140625,
           0,
           0.83740234375,
           0.014923095703125,
           0.013336181640625,
           0.02740478515625,
           0
          ],
          [
           0.061737060546875,
           0.01087188720703125,
           0.013702392578125,
           0.0263214111328125,
           0.0294189453125,
           0,
           0.01087188720703125,
           0.079345703125,
           0.06976318359375,
           0.70166015625,
           0,
           0.041107177734375,
           0
          ],
          [
           0,
           0,
           0,
           0,
           0,
           0,
           0,
           0,
           0,
           0,
           0.7333984375,
           0.013702392578125,
           0.013336181640625
          ],
          [
           0.024688720703125,
           0.01087188720703125,
           0,
           0.01316070556640625,
           0.01470947265625,
           0.02667236328125,
           0,
           0,
           0.011627197265625,
           0.014923095703125,
           0,
           0.69873046875,
           0.02667236328125
          ],
          [
           0,
           0,
           0,
           0,
           0,
           0,
           0.0217437744140625,
           0,
           0,
           0,
           0.013336181640625,
           0,
           0.7734375
          ]
         ]
        }
       ],
       "layout": {
        "annotations": [
         {
          "font": {
           "color": "#FFFFFF"
          },
          "showarrow": false,
          "text": "0.77",
          "x": "N",
          "xref": "x1",
          "y": "N",
          "yref": "y1"
         },
         {
          "font": {
           "color": "#000000"
          },
          "showarrow": false,
          "text": "",
          "x": "O",
          "xref": "x1",
          "y": "N",
          "yref": "y1"
         },
         {
          "font": {
           "color": "#000000"
          },
          "showarrow": false,
          "text": "0.01",
          "x": "P",
          "xref": "x1",
          "y": "N",
          "yref": "y1"
         },
         {
          "font": {
           "color": "#000000"
          },
          "showarrow": false,
          "text": "",
          "x": "Q",
          "xref": "x1",
          "y": "N",
          "yref": "y1"
         },
         {
          "font": {
           "color": "#000000"
          },
          "showarrow": false,
          "text": "",
          "x": "R",
          "xref": "x1",
          "y": "N",
          "yref": "y1"
         },
         {
          "font": {
           "color": "#000000"
          },
          "showarrow": false,
          "text": "",
          "x": "S",
          "xref": "x1",
          "y": "N",
          "yref": "y1"
         },
         {
          "font": {
           "color": "#000000"
          },
          "showarrow": false,
          "text": "0.02",
          "x": "T",
          "xref": "x1",
          "y": "N",
          "yref": "y1"
         },
         {
          "font": {
           "color": "#000000"
          },
          "showarrow": false,
          "text": "0.03",
          "x": "U",
          "xref": "x1",
          "y": "N",
          "yref": "y1"
         },
         {
          "font": {
           "color": "#000000"
          },
          "showarrow": false,
          "text": "0.01",
          "x": "V",
          "xref": "x1",
          "y": "N",
          "yref": "y1"
         },
         {
          "font": {
           "color": "#000000"
          },
          "showarrow": false,
          "text": "0.03",
          "x": "W",
          "xref": "x1",
          "y": "N",
          "yref": "y1"
         },
         {
          "font": {
           "color": "#000000"
          },
          "showarrow": false,
          "text": "0.01",
          "x": "X",
          "xref": "x1",
          "y": "N",
          "yref": "y1"
         },
         {
          "font": {
           "color": "#000000"
          },
          "showarrow": false,
          "text": "0.04",
          "x": "Y",
          "xref": "x1",
          "y": "N",
          "yref": "y1"
         },
         {
          "font": {
           "color": "#000000"
          },
          "showarrow": false,
          "text": "",
          "x": "Z",
          "xref": "x1",
          "y": "N",
          "yref": "y1"
         },
         {
          "font": {
           "color": "#000000"
          },
          "showarrow": false,
          "text": "0.01",
          "x": "N",
          "xref": "x1",
          "y": "O",
          "yref": "y1"
         },
         {
          "font": {
           "color": "#FFFFFF"
          },
          "showarrow": false,
          "text": "0.66",
          "x": "O",
          "xref": "x1",
          "y": "O",
          "yref": "y1"
         },
         {
          "font": {
           "color": "#000000"
          },
          "showarrow": false,
          "text": "",
          "x": "P",
          "xref": "x1",
          "y": "O",
          "yref": "y1"
         },
         {
          "font": {
           "color": "#000000"
          },
          "showarrow": false,
          "text": "0.01",
          "x": "Q",
          "xref": "x1",
          "y": "O",
          "yref": "y1"
         },
         {
          "font": {
           "color": "#000000"
          },
          "showarrow": false,
          "text": "",
          "x": "R",
          "xref": "x1",
          "y": "O",
          "yref": "y1"
         },
         {
          "font": {
           "color": "#000000"
          },
          "showarrow": false,
          "text": "0.01",
          "x": "S",
          "xref": "x1",
          "y": "O",
          "yref": "y1"
         },
         {
          "font": {
           "color": "#000000"
          },
          "showarrow": false,
          "text": "",
          "x": "T",
          "xref": "x1",
          "y": "O",
          "yref": "y1"
         },
         {
          "font": {
           "color": "#000000"
          },
          "showarrow": false,
          "text": "0.03",
          "x": "U",
          "xref": "x1",
          "y": "O",
          "yref": "y1"
         },
         {
          "font": {
           "color": "#000000"
          },
          "showarrow": false,
          "text": "",
          "x": "V",
          "xref": "x1",
          "y": "O",
          "yref": "y1"
         },
         {
          "font": {
           "color": "#000000"
          },
          "showarrow": false,
          "text": "",
          "x": "W",
          "xref": "x1",
          "y": "O",
          "yref": "y1"
         },
         {
          "font": {
           "color": "#000000"
          },
          "showarrow": false,
          "text": "",
          "x": "X",
          "xref": "x1",
          "y": "O",
          "yref": "y1"
         },
         {
          "font": {
           "color": "#000000"
          },
          "showarrow": false,
          "text": "0.01",
          "x": "Y",
          "xref": "x1",
          "y": "O",
          "yref": "y1"
         },
         {
          "font": {
           "color": "#000000"
          },
          "showarrow": false,
          "text": "",
          "x": "Z",
          "xref": "x1",
          "y": "O",
          "yref": "y1"
         },
         {
          "font": {
           "color": "#000000"
          },
          "showarrow": false,
          "text": "",
          "x": "N",
          "xref": "x1",
          "y": "P",
          "yref": "y1"
         },
         {
          "font": {
           "color": "#000000"
          },
          "showarrow": false,
          "text": "0.01",
          "x": "O",
          "xref": "x1",
          "y": "P",
          "yref": "y1"
         },
         {
          "font": {
           "color": "#FFFFFF"
          },
          "showarrow": false,
          "text": "0.82",
          "x": "P",
          "xref": "x1",
          "y": "P",
          "yref": "y1"
         },
         {
          "font": {
           "color": "#000000"
          },
          "showarrow": false,
          "text": "0.01",
          "x": "Q",
          "xref": "x1",
          "y": "P",
          "yref": "y1"
         },
         {
          "font": {
           "color": "#000000"
          },
          "showarrow": false,
          "text": "0.01",
          "x": "R",
          "xref": "x1",
          "y": "P",
          "yref": "y1"
         },
         {
          "font": {
           "color": "#000000"
          },
          "showarrow": false,
          "text": "0.01",
          "x": "S",
          "xref": "x1",
          "y": "P",
          "yref": "y1"
         },
         {
          "font": {
           "color": "#000000"
          },
          "showarrow": false,
          "text": "0.05",
          "x": "T",
          "xref": "x1",
          "y": "P",
          "yref": "y1"
         },
         {
          "font": {
           "color": "#000000"
          },
          "showarrow": false,
          "text": "",
          "x": "U",
          "xref": "x1",
          "y": "P",
          "yref": "y1"
         },
         {
          "font": {
           "color": "#000000"
          },
          "showarrow": false,
          "text": "0.02",
          "x": "V",
          "xref": "x1",
          "y": "P",
          "yref": "y1"
         },
         {
          "font": {
           "color": "#000000"
          },
          "showarrow": false,
          "text": "",
          "x": "W",
          "xref": "x1",
          "y": "P",
          "yref": "y1"
         },
         {
          "font": {
           "color": "#000000"
          },
          "showarrow": false,
          "text": "",
          "x": "X",
          "xref": "x1",
          "y": "P",
          "yref": "y1"
         },
         {
          "font": {
           "color": "#000000"
          },
          "showarrow": false,
          "text": "0.05",
          "x": "Y",
          "xref": "x1",
          "y": "P",
          "yref": "y1"
         },
         {
          "font": {
           "color": "#000000"
          },
          "showarrow": false,
          "text": "",
          "x": "Z",
          "xref": "x1",
          "y": "P",
          "yref": "y1"
         },
         {
          "font": {
           "color": "#000000"
          },
          "showarrow": false,
          "text": "0.02",
          "x": "N",
          "xref": "x1",
          "y": "Q",
          "yref": "y1"
         },
         {
          "font": {
           "color": "#000000"
          },
          "showarrow": false,
          "text": "0.14",
          "x": "O",
          "xref": "x1",
          "y": "Q",
          "yref": "y1"
         },
         {
          "font": {
           "color": "#000000"
          },
          "showarrow": false,
          "text": "0.01",
          "x": "P",
          "xref": "x1",
          "y": "Q",
          "yref": "y1"
         },
         {
          "font": {
           "color": "#FFFFFF"
          },
          "showarrow": false,
          "text": "0.87",
          "x": "Q",
          "xref": "x1",
          "y": "Q",
          "yref": "y1"
         },
         {
          "font": {
           "color": "#000000"
          },
          "showarrow": false,
          "text": "",
          "x": "R",
          "xref": "x1",
          "y": "Q",
          "yref": "y1"
         },
         {
          "font": {
           "color": "#000000"
          },
          "showarrow": false,
          "text": "",
          "x": "S",
          "xref": "x1",
          "y": "Q",
          "yref": "y1"
         },
         {
          "font": {
           "color": "#000000"
          },
          "showarrow": false,
          "text": "0.01",
          "x": "T",
          "xref": "x1",
          "y": "Q",
          "yref": "y1"
         },
         {
          "font": {
           "color": "#000000"
          },
          "showarrow": false,
          "text": "0.02",
          "x": "U",
          "xref": "x1",
          "y": "Q",
          "yref": "y1"
         },
         {
          "font": {
           "color": "#000000"
          },
          "showarrow": false,
          "text": "",
          "x": "V",
          "xref": "x1",
          "y": "Q",
          "yref": "y1"
         },
         {
          "font": {
           "color": "#000000"
          },
          "showarrow": false,
          "text": "",
          "x": "W",
          "xref": "x1",
          "y": "Q",
          "yref": "y1"
         },
         {
          "font": {
           "color": "#000000"
          },
          "showarrow": false,
          "text": "",
          "x": "X",
          "xref": "x1",
          "y": "Q",
          "yref": "y1"
         },
         {
          "font": {
           "color": "#000000"
          },
          "showarrow": false,
          "text": "",
          "x": "Y",
          "xref": "x1",
          "y": "Q",
          "yref": "y1"
         },
         {
          "font": {
           "color": "#000000"
          },
          "showarrow": false,
          "text": "0.08",
          "x": "Z",
          "xref": "x1",
          "y": "Q",
          "yref": "y1"
         },
         {
          "font": {
           "color": "#000000"
          },
          "showarrow": false,
          "text": "",
          "x": "N",
          "xref": "x1",
          "y": "R",
          "yref": "y1"
         },
         {
          "font": {
           "color": "#000000"
          },
          "showarrow": false,
          "text": "",
          "x": "O",
          "xref": "x1",
          "y": "R",
          "yref": "y1"
         },
         {
          "font": {
           "color": "#000000"
          },
          "showarrow": false,
          "text": "",
          "x": "P",
          "xref": "x1",
          "y": "R",
          "yref": "y1"
         },
         {
          "font": {
           "color": "#000000"
          },
          "showarrow": false,
          "text": "0.01",
          "x": "Q",
          "xref": "x1",
          "y": "R",
          "yref": "y1"
         },
         {
          "font": {
           "color": "#FFFFFF"
          },
          "showarrow": false,
          "text": "0.84",
          "x": "R",
          "xref": "x1",
          "y": "R",
          "yref": "y1"
         },
         {
          "font": {
           "color": "#000000"
          },
          "showarrow": false,
          "text": "",
          "x": "S",
          "xref": "x1",
          "y": "R",
          "yref": "y1"
         },
         {
          "font": {
           "color": "#000000"
          },
          "showarrow": false,
          "text": "",
          "x": "T",
          "xref": "x1",
          "y": "R",
          "yref": "y1"
         },
         {
          "font": {
           "color": "#000000"
          },
          "showarrow": false,
          "text": "",
          "x": "U",
          "xref": "x1",
          "y": "R",
          "yref": "y1"
         },
         {
          "font": {
           "color": "#000000"
          },
          "showarrow": false,
          "text": "",
          "x": "V",
          "xref": "x1",
          "y": "R",
          "yref": "y1"
         },
         {
          "font": {
           "color": "#000000"
          },
          "showarrow": false,
          "text": "",
          "x": "W",
          "xref": "x1",
          "y": "R",
          "yref": "y1"
         },
         {
          "font": {
           "color": "#000000"
          },
          "showarrow": false,
          "text": "0.01",
          "x": "X",
          "xref": "x1",
          "y": "R",
          "yref": "y1"
         },
         {
          "font": {
           "color": "#000000"
          },
          "showarrow": false,
          "text": "",
          "x": "Y",
          "xref": "x1",
          "y": "R",
          "yref": "y1"
         },
         {
          "font": {
           "color": "#000000"
          },
          "showarrow": false,
          "text": "",
          "x": "Z",
          "xref": "x1",
          "y": "R",
          "yref": "y1"
         },
         {
          "font": {
           "color": "#000000"
          },
          "showarrow": false,
          "text": "",
          "x": "N",
          "xref": "x1",
          "y": "S",
          "yref": "y1"
         },
         {
          "font": {
           "color": "#000000"
          },
          "showarrow": false,
          "text": "",
          "x": "O",
          "xref": "x1",
          "y": "S",
          "yref": "y1"
         },
         {
          "font": {
           "color": "#000000"
          },
          "showarrow": false,
          "text": "",
          "x": "P",
          "xref": "x1",
          "y": "S",
          "yref": "y1"
         },
         {
          "font": {
           "color": "#000000"
          },
          "showarrow": false,
          "text": "",
          "x": "Q",
          "xref": "x1",
          "y": "S",
          "yref": "y1"
         },
         {
          "font": {
           "color": "#000000"
          },
          "showarrow": false,
          "text": "",
          "x": "R",
          "xref": "x1",
          "y": "S",
          "yref": "y1"
         },
         {
          "font": {
           "color": "#FFFFFF"
          },
          "showarrow": false,
          "text": "0.81",
          "x": "S",
          "xref": "x1",
          "y": "S",
          "yref": "y1"
         },
         {
          "font": {
           "color": "#000000"
          },
          "showarrow": false,
          "text": "",
          "x": "T",
          "xref": "x1",
          "y": "S",
          "yref": "y1"
         },
         {
          "font": {
           "color": "#000000"
          },
          "showarrow": false,
          "text": "0.02",
          "x": "U",
          "xref": "x1",
          "y": "S",
          "yref": "y1"
         },
         {
          "font": {
           "color": "#000000"
          },
          "showarrow": false,
          "text": "",
          "x": "V",
          "xref": "x1",
          "y": "S",
          "yref": "y1"
         },
         {
          "font": {
           "color": "#000000"
          },
          "showarrow": false,
          "text": "",
          "x": "W",
          "xref": "x1",
          "y": "S",
          "yref": "y1"
         },
         {
          "font": {
           "color": "#000000"
          },
          "showarrow": false,
          "text": "",
          "x": "X",
          "xref": "x1",
          "y": "S",
          "yref": "y1"
         },
         {
          "font": {
           "color": "#000000"
          },
          "showarrow": false,
          "text": "0.01",
          "x": "Y",
          "xref": "x1",
          "y": "S",
          "yref": "y1"
         },
         {
          "font": {
           "color": "#000000"
          },
          "showarrow": false,
          "text": "",
          "x": "Z",
          "xref": "x1",
          "y": "S",
          "yref": "y1"
         },
         {
          "font": {
           "color": "#000000"
          },
          "showarrow": false,
          "text": "",
          "x": "N",
          "xref": "x1",
          "y": "T",
          "yref": "y1"
         },
         {
          "font": {
           "color": "#000000"
          },
          "showarrow": false,
          "text": "",
          "x": "O",
          "xref": "x1",
          "y": "T",
          "yref": "y1"
         },
         {
          "font": {
           "color": "#000000"
          },
          "showarrow": false,
          "text": "0.07",
          "x": "P",
          "xref": "x1",
          "y": "T",
          "yref": "y1"
         },
         {
          "font": {
           "color": "#000000"
          },
          "showarrow": false,
          "text": "",
          "x": "Q",
          "xref": "x1",
          "y": "T",
          "yref": "y1"
         },
         {
          "font": {
           "color": "#000000"
          },
          "showarrow": false,
          "text": "",
          "x": "R",
          "xref": "x1",
          "y": "T",
          "yref": "y1"
         },
         {
          "font": {
           "color": "#000000"
          },
          "showarrow": false,
          "text": "",
          "x": "S",
          "xref": "x1",
          "y": "T",
          "yref": "y1"
         },
         {
          "font": {
           "color": "#FFFFFF"
          },
          "showarrow": false,
          "text": "0.76",
          "x": "T",
          "xref": "x1",
          "y": "T",
          "yref": "y1"
         },
         {
          "font": {
           "color": "#000000"
          },
          "showarrow": false,
          "text": "",
          "x": "U",
          "xref": "x1",
          "y": "T",
          "yref": "y1"
         },
         {
          "font": {
           "color": "#000000"
          },
          "showarrow": false,
          "text": "",
          "x": "V",
          "xref": "x1",
          "y": "T",
          "yref": "y1"
         },
         {
          "font": {
           "color": "#000000"
          },
          "showarrow": false,
          "text": "",
          "x": "W",
          "xref": "x1",
          "y": "T",
          "yref": "y1"
         },
         {
          "font": {
           "color": "#000000"
          },
          "showarrow": false,
          "text": "",
          "x": "X",
          "xref": "x1",
          "y": "T",
          "yref": "y1"
         },
         {
          "font": {
           "color": "#000000"
          },
          "showarrow": false,
          "text": "0.01",
          "x": "Y",
          "xref": "x1",
          "y": "T",
          "yref": "y1"
         },
         {
          "font": {
           "color": "#000000"
          },
          "showarrow": false,
          "text": "",
          "x": "Z",
          "xref": "x1",
          "y": "T",
          "yref": "y1"
         },
         {
          "font": {
           "color": "#000000"
          },
          "showarrow": false,
          "text": "",
          "x": "N",
          "xref": "x1",
          "y": "U",
          "yref": "y1"
         },
         {
          "font": {
           "color": "#000000"
          },
          "showarrow": false,
          "text": "",
          "x": "O",
          "xref": "x1",
          "y": "U",
          "yref": "y1"
         },
         {
          "font": {
           "color": "#000000"
          },
          "showarrow": false,
          "text": "",
          "x": "P",
          "xref": "x1",
          "y": "U",
          "yref": "y1"
         },
         {
          "font": {
           "color": "#000000"
          },
          "showarrow": false,
          "text": "",
          "x": "Q",
          "xref": "x1",
          "y": "U",
          "yref": "y1"
         },
         {
          "font": {
           "color": "#000000"
          },
          "showarrow": false,
          "text": "",
          "x": "R",
          "xref": "x1",
          "y": "U",
          "yref": "y1"
         },
         {
          "font": {
           "color": "#000000"
          },
          "showarrow": false,
          "text": "",
          "x": "S",
          "xref": "x1",
          "y": "U",
          "yref": "y1"
         },
         {
          "font": {
           "color": "#000000"
          },
          "showarrow": false,
          "text": "",
          "x": "T",
          "xref": "x1",
          "y": "U",
          "yref": "y1"
         },
         {
          "font": {
           "color": "#FFFFFF"
          },
          "showarrow": false,
          "text": "0.67",
          "x": "U",
          "xref": "x1",
          "y": "U",
          "yref": "y1"
         },
         {
          "font": {
           "color": "#000000"
          },
          "showarrow": false,
          "text": "",
          "x": "V",
          "xref": "x1",
          "y": "U",
          "yref": "y1"
         },
         {
          "font": {
           "color": "#000000"
          },
          "showarrow": false,
          "text": "",
          "x": "W",
          "xref": "x1",
          "y": "U",
          "yref": "y1"
         },
         {
          "font": {
           "color": "#000000"
          },
          "showarrow": false,
          "text": "0.01",
          "x": "X",
          "xref": "x1",
          "y": "U",
          "yref": "y1"
         },
         {
          "font": {
           "color": "#000000"
          },
          "showarrow": false,
          "text": "0.03",
          "x": "Y",
          "xref": "x1",
          "y": "U",
          "yref": "y1"
         },
         {
          "font": {
           "color": "#000000"
          },
          "showarrow": false,
          "text": "",
          "x": "Z",
          "xref": "x1",
          "y": "U",
          "yref": "y1"
         },
         {
          "font": {
           "color": "#000000"
          },
          "showarrow": false,
          "text": "0.01",
          "x": "N",
          "xref": "x1",
          "y": "V",
          "yref": "y1"
         },
         {
          "font": {
           "color": "#000000"
          },
          "showarrow": false,
          "text": "0.01",
          "x": "O",
          "xref": "x1",
          "y": "V",
          "yref": "y1"
         },
         {
          "font": {
           "color": "#000000"
          },
          "showarrow": false,
          "text": "",
          "x": "P",
          "xref": "x1",
          "y": "V",
          "yref": "y1"
         },
         {
          "font": {
           "color": "#000000"
          },
          "showarrow": false,
          "text": "0.01",
          "x": "Q",
          "xref": "x1",
          "y": "V",
          "yref": "y1"
         },
         {
          "font": {
           "color": "#000000"
          },
          "showarrow": false,
          "text": "",
          "x": "R",
          "xref": "x1",
          "y": "V",
          "yref": "y1"
         },
         {
          "font": {
           "color": "#000000"
          },
          "showarrow": false,
          "text": "",
          "x": "S",
          "xref": "x1",
          "y": "V",
          "yref": "y1"
         },
         {
          "font": {
           "color": "#000000"
          },
          "showarrow": false,
          "text": "0.02",
          "x": "T",
          "xref": "x1",
          "y": "V",
          "yref": "y1"
         },
         {
          "font": {
           "color": "#000000"
          },
          "showarrow": false,
          "text": "",
          "x": "U",
          "xref": "x1",
          "y": "V",
          "yref": "y1"
         },
         {
          "font": {
           "color": "#FFFFFF"
          },
          "showarrow": false,
          "text": "0.84",
          "x": "V",
          "xref": "x1",
          "y": "V",
          "yref": "y1"
         },
         {
          "font": {
           "color": "#000000"
          },
          "showarrow": false,
          "text": "0.01",
          "x": "W",
          "xref": "x1",
          "y": "V",
          "yref": "y1"
         },
         {
          "font": {
           "color": "#000000"
          },
          "showarrow": false,
          "text": "0.01",
          "x": "X",
          "xref": "x1",
          "y": "V",
          "yref": "y1"
         },
         {
          "font": {
           "color": "#000000"
          },
          "showarrow": false,
          "text": "0.03",
          "x": "Y",
          "xref": "x1",
          "y": "V",
          "yref": "y1"
         },
         {
          "font": {
           "color": "#000000"
          },
          "showarrow": false,
          "text": "",
          "x": "Z",
          "xref": "x1",
          "y": "V",
          "yref": "y1"
         },
         {
          "font": {
           "color": "#000000"
          },
          "showarrow": false,
          "text": "0.06",
          "x": "N",
          "xref": "x1",
          "y": "W",
          "yref": "y1"
         },
         {
          "font": {
           "color": "#000000"
          },
          "showarrow": false,
          "text": "0.01",
          "x": "O",
          "xref": "x1",
          "y": "W",
          "yref": "y1"
         },
         {
          "font": {
           "color": "#000000"
          },
          "showarrow": false,
          "text": "0.01",
          "x": "P",
          "xref": "x1",
          "y": "W",
          "yref": "y1"
         },
         {
          "font": {
           "color": "#000000"
          },
          "showarrow": false,
          "text": "0.03",
          "x": "Q",
          "xref": "x1",
          "y": "W",
          "yref": "y1"
         },
         {
          "font": {
           "color": "#000000"
          },
          "showarrow": false,
          "text": "0.03",
          "x": "R",
          "xref": "x1",
          "y": "W",
          "yref": "y1"
         },
         {
          "font": {
           "color": "#000000"
          },
          "showarrow": false,
          "text": "",
          "x": "S",
          "xref": "x1",
          "y": "W",
          "yref": "y1"
         },
         {
          "font": {
           "color": "#000000"
          },
          "showarrow": false,
          "text": "0.01",
          "x": "T",
          "xref": "x1",
          "y": "W",
          "yref": "y1"
         },
         {
          "font": {
           "color": "#000000"
          },
          "showarrow": false,
          "text": "0.08",
          "x": "U",
          "xref": "x1",
          "y": "W",
          "yref": "y1"
         },
         {
          "font": {
           "color": "#000000"
          },
          "showarrow": false,
          "text": "0.07",
          "x": "V",
          "xref": "x1",
          "y": "W",
          "yref": "y1"
         },
         {
          "font": {
           "color": "#FFFFFF"
          },
          "showarrow": false,
          "text": "0.70",
          "x": "W",
          "xref": "x1",
          "y": "W",
          "yref": "y1"
         },
         {
          "font": {
           "color": "#000000"
          },
          "showarrow": false,
          "text": "",
          "x": "X",
          "xref": "x1",
          "y": "W",
          "yref": "y1"
         },
         {
          "font": {
           "color": "#000000"
          },
          "showarrow": false,
          "text": "0.04",
          "x": "Y",
          "xref": "x1",
          "y": "W",
          "yref": "y1"
         },
         {
          "font": {
           "color": "#000000"
          },
          "showarrow": false,
          "text": "",
          "x": "Z",
          "xref": "x1",
          "y": "W",
          "yref": "y1"
         },
         {
          "font": {
           "color": "#000000"
          },
          "showarrow": false,
          "text": "",
          "x": "N",
          "xref": "x1",
          "y": "X",
          "yref": "y1"
         },
         {
          "font": {
           "color": "#000000"
          },
          "showarrow": false,
          "text": "",
          "x": "O",
          "xref": "x1",
          "y": "X",
          "yref": "y1"
         },
         {
          "font": {
           "color": "#000000"
          },
          "showarrow": false,
          "text": "",
          "x": "P",
          "xref": "x1",
          "y": "X",
          "yref": "y1"
         },
         {
          "font": {
           "color": "#000000"
          },
          "showarrow": false,
          "text": "",
          "x": "Q",
          "xref": "x1",
          "y": "X",
          "yref": "y1"
         },
         {
          "font": {
           "color": "#000000"
          },
          "showarrow": false,
          "text": "",
          "x": "R",
          "xref": "x1",
          "y": "X",
          "yref": "y1"
         },
         {
          "font": {
           "color": "#000000"
          },
          "showarrow": false,
          "text": "",
          "x": "S",
          "xref": "x1",
          "y": "X",
          "yref": "y1"
         },
         {
          "font": {
           "color": "#000000"
          },
          "showarrow": false,
          "text": "",
          "x": "T",
          "xref": "x1",
          "y": "X",
          "yref": "y1"
         },
         {
          "font": {
           "color": "#000000"
          },
          "showarrow": false,
          "text": "",
          "x": "U",
          "xref": "x1",
          "y": "X",
          "yref": "y1"
         },
         {
          "font": {
           "color": "#000000"
          },
          "showarrow": false,
          "text": "",
          "x": "V",
          "xref": "x1",
          "y": "X",
          "yref": "y1"
         },
         {
          "font": {
           "color": "#000000"
          },
          "showarrow": false,
          "text": "",
          "x": "W",
          "xref": "x1",
          "y": "X",
          "yref": "y1"
         },
         {
          "font": {
           "color": "#FFFFFF"
          },
          "showarrow": false,
          "text": "0.73",
          "x": "X",
          "xref": "x1",
          "y": "X",
          "yref": "y1"
         },
         {
          "font": {
           "color": "#000000"
          },
          "showarrow": false,
          "text": "0.01",
          "x": "Y",
          "xref": "x1",
          "y": "X",
          "yref": "y1"
         },
         {
          "font": {
           "color": "#000000"
          },
          "showarrow": false,
          "text": "0.01",
          "x": "Z",
          "xref": "x1",
          "y": "X",
          "yref": "y1"
         },
         {
          "font": {
           "color": "#000000"
          },
          "showarrow": false,
          "text": "0.02",
          "x": "N",
          "xref": "x1",
          "y": "Y",
          "yref": "y1"
         },
         {
          "font": {
           "color": "#000000"
          },
          "showarrow": false,
          "text": "0.01",
          "x": "O",
          "xref": "x1",
          "y": "Y",
          "yref": "y1"
         },
         {
          "font": {
           "color": "#000000"
          },
          "showarrow": false,
          "text": "",
          "x": "P",
          "xref": "x1",
          "y": "Y",
          "yref": "y1"
         },
         {
          "font": {
           "color": "#000000"
          },
          "showarrow": false,
          "text": "0.01",
          "x": "Q",
          "xref": "x1",
          "y": "Y",
          "yref": "y1"
         },
         {
          "font": {
           "color": "#000000"
          },
          "showarrow": false,
          "text": "0.01",
          "x": "R",
          "xref": "x1",
          "y": "Y",
          "yref": "y1"
         },
         {
          "font": {
           "color": "#000000"
          },
          "showarrow": false,
          "text": "0.03",
          "x": "S",
          "xref": "x1",
          "y": "Y",
          "yref": "y1"
         },
         {
          "font": {
           "color": "#000000"
          },
          "showarrow": false,
          "text": "",
          "x": "T",
          "xref": "x1",
          "y": "Y",
          "yref": "y1"
         },
         {
          "font": {
           "color": "#000000"
          },
          "showarrow": false,
          "text": "",
          "x": "U",
          "xref": "x1",
          "y": "Y",
          "yref": "y1"
         },
         {
          "font": {
           "color": "#000000"
          },
          "showarrow": false,
          "text": "0.01",
          "x": "V",
          "xref": "x1",
          "y": "Y",
          "yref": "y1"
         },
         {
          "font": {
           "color": "#000000"
          },
          "showarrow": false,
          "text": "0.01",
          "x": "W",
          "xref": "x1",
          "y": "Y",
          "yref": "y1"
         },
         {
          "font": {
           "color": "#000000"
          },
          "showarrow": false,
          "text": "",
          "x": "X",
          "xref": "x1",
          "y": "Y",
          "yref": "y1"
         },
         {
          "font": {
           "color": "#FFFFFF"
          },
          "showarrow": false,
          "text": "0.70",
          "x": "Y",
          "xref": "x1",
          "y": "Y",
          "yref": "y1"
         },
         {
          "font": {
           "color": "#000000"
          },
          "showarrow": false,
          "text": "0.03",
          "x": "Z",
          "xref": "x1",
          "y": "Y",
          "yref": "y1"
         },
         {
          "font": {
           "color": "#000000"
          },
          "showarrow": false,
          "text": "",
          "x": "N",
          "xref": "x1",
          "y": "Z",
          "yref": "y1"
         },
         {
          "font": {
           "color": "#000000"
          },
          "showarrow": false,
          "text": "",
          "x": "O",
          "xref": "x1",
          "y": "Z",
          "yref": "y1"
         },
         {
          "font": {
           "color": "#000000"
          },
          "showarrow": false,
          "text": "",
          "x": "P",
          "xref": "x1",
          "y": "Z",
          "yref": "y1"
         },
         {
          "font": {
           "color": "#000000"
          },
          "showarrow": false,
          "text": "",
          "x": "Q",
          "xref": "x1",
          "y": "Z",
          "yref": "y1"
         },
         {
          "font": {
           "color": "#000000"
          },
          "showarrow": false,
          "text": "",
          "x": "R",
          "xref": "x1",
          "y": "Z",
          "yref": "y1"
         },
         {
          "font": {
           "color": "#000000"
          },
          "showarrow": false,
          "text": "",
          "x": "S",
          "xref": "x1",
          "y": "Z",
          "yref": "y1"
         },
         {
          "font": {
           "color": "#000000"
          },
          "showarrow": false,
          "text": "0.02",
          "x": "T",
          "xref": "x1",
          "y": "Z",
          "yref": "y1"
         },
         {
          "font": {
           "color": "#000000"
          },
          "showarrow": false,
          "text": "",
          "x": "U",
          "xref": "x1",
          "y": "Z",
          "yref": "y1"
         },
         {
          "font": {
           "color": "#000000"
          },
          "showarrow": false,
          "text": "",
          "x": "V",
          "xref": "x1",
          "y": "Z",
          "yref": "y1"
         },
         {
          "font": {
           "color": "#000000"
          },
          "showarrow": false,
          "text": "",
          "x": "W",
          "xref": "x1",
          "y": "Z",
          "yref": "y1"
         },
         {
          "font": {
           "color": "#000000"
          },
          "showarrow": false,
          "text": "0.01",
          "x": "X",
          "xref": "x1",
          "y": "Z",
          "yref": "y1"
         },
         {
          "font": {
           "color": "#000000"
          },
          "showarrow": false,
          "text": "",
          "x": "Y",
          "xref": "x1",
          "y": "Z",
          "yref": "y1"
         },
         {
          "font": {
           "color": "#FFFFFF"
          },
          "showarrow": false,
          "text": "0.77",
          "x": "Z",
          "xref": "x1",
          "y": "Z",
          "yref": "y1"
         }
        ],
        "title": "Confusion Matrix of Uppercase NN",
        "xaxis": {
         "dtick": 1,
         "gridcolor": "rgb(0, 0, 0)",
         "side": "bottom",
         "ticks": "",
         "title": "Predicted values"
        },
        "yaxis": {
         "anchor": "bottom",
         "dtick": 1,
         "ticks": "",
         "ticksuffix": "  ",
         "title": "True values"
        }
       }
      },
      "text/html": [
       "<div id=\"668a1c8a-9b7d-4f40-a889-b16c5ec7ffe1\" style=\"height: 525px; width: 100%;\" class=\"plotly-graph-div\"></div><script type=\"text/javascript\">require([\"plotly\"], function(Plotly) { window.PLOTLYENV=window.PLOTLYENV || {};window.PLOTLYENV.BASE_URL=\"https://plot.ly\";Plotly.newPlot(\"668a1c8a-9b7d-4f40-a889-b16c5ec7ffe1\", [{\"type\": \"heatmap\", \"z\": [[0.765625, 0.0, 0.013702392578125, 0.0, 0.0, 0.0, 0.0217437744140625, 0.03173828125, 0.011627197265625, 0.02984619140625, 0.013336181640625, 0.041107177734375, 0.0], [0.0123443603515625, 0.6630859375, 0.0, 0.01316070556640625, 0.0, 0.013336181640625, 0.0, 0.03173828125, 0.0, 0.0, 0.0, 0.013702392578125, 0.0], [0.0, 0.01087188720703125, 0.82177734375, 0.01316070556640625, 0.01470947265625, 0.013336181640625, 0.054351806640625, 0.0, 0.02325439453125, 0.0, 0.0, 0.0548095703125, 0.0], [0.024688720703125, 0.141357421875, 0.013702392578125, 0.86865234375, 0.0, 0.0, 0.01087188720703125, 0.015869140625, 0.0, 0.0, 0.0, 0.0, 0.08001708984375], [0.0, 0.0, 0.0, 0.01316070556640625, 0.83837890625, 0.0, 0.0, 0.0, 0.0, 0.0, 0.013336181640625, 0.0, 0.0], [0.0, 0.0, 0.0, 0.0, 0.0, 0.8134765625, 0.0, 0.015869140625, 0.0, 0.0, 0.0, 0.013702392578125, 0.0], [0.0, 0.0, 0.0684814453125, 0.0, 0.0, 0.0, 0.7607421875, 0.0, 0.0, 0.0, 0.0, 0.013702392578125, 0.0], [0.0, 0.0, 0.0, 0.0, 0.0, 0.0, 0.0, 0.66650390625, 0.0, 0.0, 0.013336181640625, 0.02740478515625, 0.0], [0.0123443603515625, 0.01087188720703125, 0.0, 0.01316070556640625, 0.0, 0.0, 0.0217437744140625, 0.0, 0.83740234375, 0.014923095703125, 0.013336181640625, 0.02740478515625, 0.0], [0.061737060546875, 0.01087188720703125, 0.013702392578125, 0.0263214111328125, 0.0294189453125, 0.0, 0.01087188720703125, 0.079345703125, 0.06976318359375, 0.70166015625, 0.0, 0.041107177734375, 0.0], [0.0, 0.0, 0.0, 0.0, 0.0, 0.0, 0.0, 0.0, 0.0, 0.0, 0.7333984375, 0.013702392578125, 0.013336181640625], [0.024688720703125, 0.01087188720703125, 0.0, 0.01316070556640625, 0.01470947265625, 0.02667236328125, 0.0, 0.0, 0.011627197265625, 0.014923095703125, 0.0, 0.69873046875, 0.02667236328125], [0.0, 0.0, 0.0, 0.0, 0.0, 0.0, 0.0217437744140625, 0.0, 0.0, 0.0, 0.013336181640625, 0.0, 0.7734375]], \"x\": [\"N\", \"O\", \"P\", \"Q\", \"R\", \"S\", \"T\", \"U\", \"V\", \"W\", \"X\", \"Y\", \"Z\"], \"y\": [\"N\", \"O\", \"P\", \"Q\", \"R\", \"S\", \"T\", \"U\", \"V\", \"W\", \"X\", \"Y\", \"Z\"], \"colorscale\": [[0.0, \"#e5e5ff\"], [0.05, \"#cacaf0\"], [0.1, \"#b0b0e1\"], [0.25, \"#9494d2\"], [0.5, \"#7a7ac3\"], [0.75, \"#5e5eb4\"], [0.9, \"#4444a5\"], [1.0, \"#282896\"]], \"showscale\": true, \"xgap\": 1.25, \"ygap\": 1.25, \"colorbar\": {\"tickmode\": \"array\"}}], {\"annotations\": [{\"text\": \"0.77\", \"x\": \"N\", \"y\": \"N\", \"xref\": \"x1\", \"yref\": \"y1\", \"font\": {\"color\": \"#FFFFFF\"}, \"showarrow\": false}, {\"text\": \"\", \"x\": \"O\", \"y\": \"N\", \"xref\": \"x1\", \"yref\": \"y1\", \"font\": {\"color\": \"#000000\"}, \"showarrow\": false}, {\"text\": \"0.01\", \"x\": \"P\", \"y\": \"N\", \"xref\": \"x1\", \"yref\": \"y1\", \"font\": {\"color\": \"#000000\"}, \"showarrow\": false}, {\"text\": \"\", \"x\": \"Q\", \"y\": \"N\", \"xref\": \"x1\", \"yref\": \"y1\", \"font\": {\"color\": \"#000000\"}, \"showarrow\": false}, {\"text\": \"\", \"x\": \"R\", \"y\": \"N\", \"xref\": \"x1\", \"yref\": \"y1\", \"font\": {\"color\": \"#000000\"}, \"showarrow\": false}, {\"text\": \"\", \"x\": \"S\", \"y\": \"N\", \"xref\": \"x1\", \"yref\": \"y1\", \"font\": {\"color\": \"#000000\"}, \"showarrow\": false}, {\"text\": \"0.02\", \"x\": \"T\", \"y\": \"N\", \"xref\": \"x1\", \"yref\": \"y1\", \"font\": {\"color\": \"#000000\"}, \"showarrow\": false}, {\"text\": \"0.03\", \"x\": \"U\", \"y\": \"N\", \"xref\": \"x1\", \"yref\": \"y1\", \"font\": {\"color\": \"#000000\"}, \"showarrow\": false}, {\"text\": \"0.01\", \"x\": \"V\", \"y\": \"N\", \"xref\": \"x1\", \"yref\": \"y1\", \"font\": {\"color\": \"#000000\"}, \"showarrow\": false}, {\"text\": \"0.03\", \"x\": \"W\", \"y\": \"N\", \"xref\": \"x1\", \"yref\": \"y1\", \"font\": {\"color\": \"#000000\"}, \"showarrow\": false}, {\"text\": \"0.01\", \"x\": \"X\", \"y\": \"N\", \"xref\": \"x1\", \"yref\": \"y1\", \"font\": {\"color\": \"#000000\"}, \"showarrow\": false}, {\"text\": \"0.04\", \"x\": \"Y\", \"y\": \"N\", \"xref\": \"x1\", \"yref\": \"y1\", \"font\": {\"color\": \"#000000\"}, \"showarrow\": false}, {\"text\": \"\", \"x\": \"Z\", \"y\": \"N\", \"xref\": \"x1\", \"yref\": \"y1\", \"font\": {\"color\": \"#000000\"}, \"showarrow\": false}, {\"text\": \"0.01\", \"x\": \"N\", \"y\": \"O\", \"xref\": \"x1\", \"yref\": \"y1\", \"font\": {\"color\": \"#000000\"}, \"showarrow\": false}, {\"text\": \"0.66\", \"x\": \"O\", \"y\": \"O\", \"xref\": \"x1\", \"yref\": \"y1\", \"font\": {\"color\": \"#FFFFFF\"}, \"showarrow\": false}, {\"text\": \"\", \"x\": \"P\", \"y\": \"O\", \"xref\": \"x1\", \"yref\": \"y1\", \"font\": {\"color\": \"#000000\"}, \"showarrow\": false}, {\"text\": \"0.01\", \"x\": \"Q\", \"y\": \"O\", \"xref\": \"x1\", \"yref\": \"y1\", \"font\": {\"color\": \"#000000\"}, \"showarrow\": false}, {\"text\": \"\", \"x\": \"R\", \"y\": \"O\", \"xref\": \"x1\", \"yref\": \"y1\", \"font\": {\"color\": \"#000000\"}, \"showarrow\": false}, {\"text\": \"0.01\", \"x\": \"S\", \"y\": \"O\", \"xref\": \"x1\", \"yref\": \"y1\", \"font\": {\"color\": \"#000000\"}, \"showarrow\": false}, {\"text\": \"\", \"x\": \"T\", \"y\": \"O\", \"xref\": \"x1\", \"yref\": \"y1\", \"font\": {\"color\": \"#000000\"}, \"showarrow\": false}, {\"text\": \"0.03\", \"x\": \"U\", \"y\": \"O\", \"xref\": \"x1\", \"yref\": \"y1\", \"font\": {\"color\": \"#000000\"}, \"showarrow\": false}, {\"text\": \"\", \"x\": \"V\", \"y\": \"O\", \"xref\": \"x1\", \"yref\": \"y1\", \"font\": {\"color\": \"#000000\"}, \"showarrow\": false}, {\"text\": \"\", \"x\": \"W\", \"y\": \"O\", \"xref\": \"x1\", \"yref\": \"y1\", \"font\": {\"color\": \"#000000\"}, \"showarrow\": false}, {\"text\": \"\", \"x\": \"X\", \"y\": \"O\", \"xref\": \"x1\", \"yref\": \"y1\", \"font\": {\"color\": \"#000000\"}, \"showarrow\": false}, {\"text\": \"0.01\", \"x\": \"Y\", \"y\": \"O\", \"xref\": \"x1\", \"yref\": \"y1\", \"font\": {\"color\": \"#000000\"}, \"showarrow\": false}, {\"text\": \"\", \"x\": \"Z\", \"y\": \"O\", \"xref\": \"x1\", \"yref\": \"y1\", \"font\": {\"color\": \"#000000\"}, \"showarrow\": false}, {\"text\": \"\", \"x\": \"N\", \"y\": \"P\", \"xref\": \"x1\", \"yref\": \"y1\", \"font\": {\"color\": \"#000000\"}, \"showarrow\": false}, {\"text\": \"0.01\", \"x\": \"O\", \"y\": \"P\", \"xref\": \"x1\", \"yref\": \"y1\", \"font\": {\"color\": \"#000000\"}, \"showarrow\": false}, {\"text\": \"0.82\", \"x\": \"P\", \"y\": \"P\", \"xref\": \"x1\", \"yref\": \"y1\", \"font\": {\"color\": \"#FFFFFF\"}, \"showarrow\": false}, {\"text\": \"0.01\", \"x\": \"Q\", \"y\": \"P\", \"xref\": \"x1\", \"yref\": \"y1\", \"font\": {\"color\": \"#000000\"}, \"showarrow\": false}, {\"text\": \"0.01\", \"x\": \"R\", \"y\": \"P\", \"xref\": \"x1\", \"yref\": \"y1\", \"font\": {\"color\": \"#000000\"}, \"showarrow\": false}, {\"text\": \"0.01\", \"x\": \"S\", \"y\": \"P\", \"xref\": \"x1\", \"yref\": \"y1\", \"font\": {\"color\": \"#000000\"}, \"showarrow\": false}, {\"text\": \"0.05\", \"x\": \"T\", \"y\": \"P\", \"xref\": \"x1\", \"yref\": \"y1\", \"font\": {\"color\": \"#000000\"}, \"showarrow\": false}, {\"text\": \"\", \"x\": \"U\", \"y\": \"P\", \"xref\": \"x1\", \"yref\": \"y1\", \"font\": {\"color\": \"#000000\"}, \"showarrow\": false}, {\"text\": \"0.02\", \"x\": \"V\", \"y\": \"P\", \"xref\": \"x1\", \"yref\": \"y1\", \"font\": {\"color\": \"#000000\"}, \"showarrow\": false}, {\"text\": \"\", \"x\": \"W\", \"y\": \"P\", \"xref\": \"x1\", \"yref\": \"y1\", \"font\": {\"color\": \"#000000\"}, \"showarrow\": false}, {\"text\": \"\", \"x\": \"X\", \"y\": \"P\", \"xref\": \"x1\", \"yref\": \"y1\", \"font\": {\"color\": \"#000000\"}, \"showarrow\": false}, {\"text\": \"0.05\", \"x\": \"Y\", \"y\": \"P\", \"xref\": \"x1\", \"yref\": \"y1\", \"font\": {\"color\": \"#000000\"}, \"showarrow\": false}, {\"text\": \"\", \"x\": \"Z\", \"y\": \"P\", \"xref\": \"x1\", \"yref\": \"y1\", \"font\": {\"color\": \"#000000\"}, \"showarrow\": false}, {\"text\": \"0.02\", \"x\": \"N\", \"y\": \"Q\", \"xref\": \"x1\", \"yref\": \"y1\", \"font\": {\"color\": \"#000000\"}, \"showarrow\": false}, {\"text\": \"0.14\", \"x\": \"O\", \"y\": \"Q\", \"xref\": \"x1\", \"yref\": \"y1\", \"font\": {\"color\": \"#000000\"}, \"showarrow\": false}, {\"text\": \"0.01\", \"x\": \"P\", \"y\": \"Q\", \"xref\": \"x1\", \"yref\": \"y1\", \"font\": {\"color\": \"#000000\"}, \"showarrow\": false}, {\"text\": \"0.87\", \"x\": \"Q\", \"y\": \"Q\", \"xref\": \"x1\", \"yref\": \"y1\", \"font\": {\"color\": \"#FFFFFF\"}, \"showarrow\": false}, {\"text\": \"\", \"x\": \"R\", \"y\": \"Q\", \"xref\": \"x1\", \"yref\": \"y1\", \"font\": {\"color\": \"#000000\"}, \"showarrow\": false}, {\"text\": \"\", \"x\": \"S\", \"y\": \"Q\", \"xref\": \"x1\", \"yref\": \"y1\", \"font\": {\"color\": \"#000000\"}, \"showarrow\": false}, {\"text\": \"0.01\", \"x\": \"T\", \"y\": \"Q\", \"xref\": \"x1\", \"yref\": \"y1\", \"font\": {\"color\": \"#000000\"}, \"showarrow\": false}, {\"text\": \"0.02\", \"x\": \"U\", \"y\": \"Q\", \"xref\": \"x1\", \"yref\": \"y1\", \"font\": {\"color\": \"#000000\"}, \"showarrow\": false}, {\"text\": \"\", \"x\": \"V\", \"y\": \"Q\", \"xref\": \"x1\", \"yref\": \"y1\", \"font\": {\"color\": \"#000000\"}, \"showarrow\": false}, {\"text\": \"\", \"x\": \"W\", \"y\": \"Q\", \"xref\": \"x1\", \"yref\": \"y1\", \"font\": {\"color\": \"#000000\"}, \"showarrow\": false}, {\"text\": \"\", \"x\": \"X\", \"y\": \"Q\", \"xref\": \"x1\", \"yref\": \"y1\", \"font\": {\"color\": \"#000000\"}, \"showarrow\": false}, {\"text\": \"\", \"x\": \"Y\", \"y\": \"Q\", \"xref\": \"x1\", \"yref\": \"y1\", \"font\": {\"color\": \"#000000\"}, \"showarrow\": false}, {\"text\": \"0.08\", \"x\": \"Z\", \"y\": \"Q\", \"xref\": \"x1\", \"yref\": \"y1\", \"font\": {\"color\": \"#000000\"}, \"showarrow\": false}, {\"text\": \"\", \"x\": \"N\", \"y\": \"R\", \"xref\": \"x1\", \"yref\": \"y1\", \"font\": {\"color\": \"#000000\"}, \"showarrow\": false}, {\"text\": \"\", \"x\": \"O\", \"y\": \"R\", \"xref\": \"x1\", \"yref\": \"y1\", \"font\": {\"color\": \"#000000\"}, \"showarrow\": false}, {\"text\": \"\", \"x\": \"P\", \"y\": \"R\", \"xref\": \"x1\", \"yref\": \"y1\", \"font\": {\"color\": \"#000000\"}, \"showarrow\": false}, {\"text\": \"0.01\", \"x\": \"Q\", \"y\": \"R\", \"xref\": \"x1\", \"yref\": \"y1\", \"font\": {\"color\": \"#000000\"}, \"showarrow\": false}, {\"text\": \"0.84\", \"x\": \"R\", \"y\": \"R\", \"xref\": \"x1\", \"yref\": \"y1\", \"font\": {\"color\": \"#FFFFFF\"}, \"showarrow\": false}, {\"text\": \"\", \"x\": \"S\", \"y\": \"R\", \"xref\": \"x1\", \"yref\": \"y1\", \"font\": {\"color\": \"#000000\"}, \"showarrow\": false}, {\"text\": \"\", \"x\": \"T\", \"y\": \"R\", \"xref\": \"x1\", \"yref\": \"y1\", \"font\": {\"color\": \"#000000\"}, \"showarrow\": false}, {\"text\": \"\", \"x\": \"U\", \"y\": \"R\", \"xref\": \"x1\", \"yref\": \"y1\", \"font\": {\"color\": \"#000000\"}, \"showarrow\": false}, {\"text\": \"\", \"x\": \"V\", \"y\": \"R\", \"xref\": \"x1\", \"yref\": \"y1\", \"font\": {\"color\": \"#000000\"}, \"showarrow\": false}, {\"text\": \"\", \"x\": \"W\", \"y\": \"R\", \"xref\": \"x1\", \"yref\": \"y1\", \"font\": {\"color\": \"#000000\"}, \"showarrow\": false}, {\"text\": \"0.01\", \"x\": \"X\", \"y\": \"R\", \"xref\": \"x1\", \"yref\": \"y1\", \"font\": {\"color\": \"#000000\"}, \"showarrow\": false}, {\"text\": \"\", \"x\": \"Y\", \"y\": \"R\", \"xref\": \"x1\", \"yref\": \"y1\", \"font\": {\"color\": \"#000000\"}, \"showarrow\": false}, {\"text\": \"\", \"x\": \"Z\", \"y\": \"R\", \"xref\": \"x1\", \"yref\": \"y1\", \"font\": {\"color\": \"#000000\"}, \"showarrow\": false}, {\"text\": \"\", \"x\": \"N\", \"y\": \"S\", \"xref\": \"x1\", \"yref\": \"y1\", \"font\": {\"color\": \"#000000\"}, \"showarrow\": false}, {\"text\": \"\", \"x\": \"O\", \"y\": \"S\", \"xref\": \"x1\", \"yref\": \"y1\", \"font\": {\"color\": \"#000000\"}, \"showarrow\": false}, {\"text\": \"\", \"x\": \"P\", \"y\": \"S\", \"xref\": \"x1\", \"yref\": \"y1\", \"font\": {\"color\": \"#000000\"}, \"showarrow\": false}, {\"text\": \"\", \"x\": \"Q\", \"y\": \"S\", \"xref\": \"x1\", \"yref\": \"y1\", \"font\": {\"color\": \"#000000\"}, \"showarrow\": false}, {\"text\": \"\", \"x\": \"R\", \"y\": \"S\", \"xref\": \"x1\", \"yref\": \"y1\", \"font\": {\"color\": \"#000000\"}, \"showarrow\": false}, {\"text\": \"0.81\", \"x\": \"S\", \"y\": \"S\", \"xref\": \"x1\", \"yref\": \"y1\", \"font\": {\"color\": \"#FFFFFF\"}, \"showarrow\": false}, {\"text\": \"\", \"x\": \"T\", \"y\": \"S\", \"xref\": \"x1\", \"yref\": \"y1\", \"font\": {\"color\": \"#000000\"}, \"showarrow\": false}, {\"text\": \"0.02\", \"x\": \"U\", \"y\": \"S\", \"xref\": \"x1\", \"yref\": \"y1\", \"font\": {\"color\": \"#000000\"}, \"showarrow\": false}, {\"text\": \"\", \"x\": \"V\", \"y\": \"S\", \"xref\": \"x1\", \"yref\": \"y1\", \"font\": {\"color\": \"#000000\"}, \"showarrow\": false}, {\"text\": \"\", \"x\": \"W\", \"y\": \"S\", \"xref\": \"x1\", \"yref\": \"y1\", \"font\": {\"color\": \"#000000\"}, \"showarrow\": false}, {\"text\": \"\", \"x\": \"X\", \"y\": \"S\", \"xref\": \"x1\", \"yref\": \"y1\", \"font\": {\"color\": \"#000000\"}, \"showarrow\": false}, {\"text\": \"0.01\", \"x\": \"Y\", \"y\": \"S\", \"xref\": \"x1\", \"yref\": \"y1\", \"font\": {\"color\": \"#000000\"}, \"showarrow\": false}, {\"text\": \"\", \"x\": \"Z\", \"y\": \"S\", \"xref\": \"x1\", \"yref\": \"y1\", \"font\": {\"color\": \"#000000\"}, \"showarrow\": false}, {\"text\": \"\", \"x\": \"N\", \"y\": \"T\", \"xref\": \"x1\", \"yref\": \"y1\", \"font\": {\"color\": \"#000000\"}, \"showarrow\": false}, {\"text\": \"\", \"x\": \"O\", \"y\": \"T\", \"xref\": \"x1\", \"yref\": \"y1\", \"font\": {\"color\": \"#000000\"}, \"showarrow\": false}, {\"text\": \"0.07\", \"x\": \"P\", \"y\": \"T\", \"xref\": \"x1\", \"yref\": \"y1\", \"font\": {\"color\": \"#000000\"}, \"showarrow\": false}, {\"text\": \"\", \"x\": \"Q\", \"y\": \"T\", \"xref\": \"x1\", \"yref\": \"y1\", \"font\": {\"color\": \"#000000\"}, \"showarrow\": false}, {\"text\": \"\", \"x\": \"R\", \"y\": \"T\", \"xref\": \"x1\", \"yref\": \"y1\", \"font\": {\"color\": \"#000000\"}, \"showarrow\": false}, {\"text\": \"\", \"x\": \"S\", \"y\": \"T\", \"xref\": \"x1\", \"yref\": \"y1\", \"font\": {\"color\": \"#000000\"}, \"showarrow\": false}, {\"text\": \"0.76\", \"x\": \"T\", \"y\": \"T\", \"xref\": \"x1\", \"yref\": \"y1\", \"font\": {\"color\": \"#FFFFFF\"}, \"showarrow\": false}, {\"text\": \"\", \"x\": \"U\", \"y\": \"T\", \"xref\": \"x1\", \"yref\": \"y1\", \"font\": {\"color\": \"#000000\"}, \"showarrow\": false}, {\"text\": \"\", \"x\": \"V\", \"y\": \"T\", \"xref\": \"x1\", \"yref\": \"y1\", \"font\": {\"color\": \"#000000\"}, \"showarrow\": false}, {\"text\": \"\", \"x\": \"W\", \"y\": \"T\", \"xref\": \"x1\", \"yref\": \"y1\", \"font\": {\"color\": \"#000000\"}, \"showarrow\": false}, {\"text\": \"\", \"x\": \"X\", \"y\": \"T\", \"xref\": \"x1\", \"yref\": \"y1\", \"font\": {\"color\": \"#000000\"}, \"showarrow\": false}, {\"text\": \"0.01\", \"x\": \"Y\", \"y\": \"T\", \"xref\": \"x1\", \"yref\": \"y1\", \"font\": {\"color\": \"#000000\"}, \"showarrow\": false}, {\"text\": \"\", \"x\": \"Z\", \"y\": \"T\", \"xref\": \"x1\", \"yref\": \"y1\", \"font\": {\"color\": \"#000000\"}, \"showarrow\": false}, {\"text\": \"\", \"x\": \"N\", \"y\": \"U\", \"xref\": \"x1\", \"yref\": \"y1\", \"font\": {\"color\": \"#000000\"}, \"showarrow\": false}, {\"text\": \"\", \"x\": \"O\", \"y\": \"U\", \"xref\": \"x1\", \"yref\": \"y1\", \"font\": {\"color\": \"#000000\"}, \"showarrow\": false}, {\"text\": \"\", \"x\": \"P\", \"y\": \"U\", \"xref\": \"x1\", \"yref\": \"y1\", \"font\": {\"color\": \"#000000\"}, \"showarrow\": false}, {\"text\": \"\", \"x\": \"Q\", \"y\": \"U\", \"xref\": \"x1\", \"yref\": \"y1\", \"font\": {\"color\": \"#000000\"}, \"showarrow\": false}, {\"text\": \"\", \"x\": \"R\", \"y\": \"U\", \"xref\": \"x1\", \"yref\": \"y1\", \"font\": {\"color\": \"#000000\"}, \"showarrow\": false}, {\"text\": \"\", \"x\": \"S\", \"y\": \"U\", \"xref\": \"x1\", \"yref\": \"y1\", \"font\": {\"color\": \"#000000\"}, \"showarrow\": false}, {\"text\": \"\", \"x\": \"T\", \"y\": \"U\", \"xref\": \"x1\", \"yref\": \"y1\", \"font\": {\"color\": \"#000000\"}, \"showarrow\": false}, {\"text\": \"0.67\", \"x\": \"U\", \"y\": \"U\", \"xref\": \"x1\", \"yref\": \"y1\", \"font\": {\"color\": \"#FFFFFF\"}, \"showarrow\": false}, {\"text\": \"\", \"x\": \"V\", \"y\": \"U\", \"xref\": \"x1\", \"yref\": \"y1\", \"font\": {\"color\": \"#000000\"}, \"showarrow\": false}, {\"text\": \"\", \"x\": \"W\", \"y\": \"U\", \"xref\": \"x1\", \"yref\": \"y1\", \"font\": {\"color\": \"#000000\"}, \"showarrow\": false}, {\"text\": \"0.01\", \"x\": \"X\", \"y\": \"U\", \"xref\": \"x1\", \"yref\": \"y1\", \"font\": {\"color\": \"#000000\"}, \"showarrow\": false}, {\"text\": \"0.03\", \"x\": \"Y\", \"y\": \"U\", \"xref\": \"x1\", \"yref\": \"y1\", \"font\": {\"color\": \"#000000\"}, \"showarrow\": false}, {\"text\": \"\", \"x\": \"Z\", \"y\": \"U\", \"xref\": \"x1\", \"yref\": \"y1\", \"font\": {\"color\": \"#000000\"}, \"showarrow\": false}, {\"text\": \"0.01\", \"x\": \"N\", \"y\": \"V\", \"xref\": \"x1\", \"yref\": \"y1\", \"font\": {\"color\": \"#000000\"}, \"showarrow\": false}, {\"text\": \"0.01\", \"x\": \"O\", \"y\": \"V\", \"xref\": \"x1\", \"yref\": \"y1\", \"font\": {\"color\": \"#000000\"}, \"showarrow\": false}, {\"text\": \"\", \"x\": \"P\", \"y\": \"V\", \"xref\": \"x1\", \"yref\": \"y1\", \"font\": {\"color\": \"#000000\"}, \"showarrow\": false}, {\"text\": \"0.01\", \"x\": \"Q\", \"y\": \"V\", \"xref\": \"x1\", \"yref\": \"y1\", \"font\": {\"color\": \"#000000\"}, \"showarrow\": false}, {\"text\": \"\", \"x\": \"R\", \"y\": \"V\", \"xref\": \"x1\", \"yref\": \"y1\", \"font\": {\"color\": \"#000000\"}, \"showarrow\": false}, {\"text\": \"\", \"x\": \"S\", \"y\": \"V\", \"xref\": \"x1\", \"yref\": \"y1\", \"font\": {\"color\": \"#000000\"}, \"showarrow\": false}, {\"text\": \"0.02\", \"x\": \"T\", \"y\": \"V\", \"xref\": \"x1\", \"yref\": \"y1\", \"font\": {\"color\": \"#000000\"}, \"showarrow\": false}, {\"text\": \"\", \"x\": \"U\", \"y\": \"V\", \"xref\": \"x1\", \"yref\": \"y1\", \"font\": {\"color\": \"#000000\"}, \"showarrow\": false}, {\"text\": \"0.84\", \"x\": \"V\", \"y\": \"V\", \"xref\": \"x1\", \"yref\": \"y1\", \"font\": {\"color\": \"#FFFFFF\"}, \"showarrow\": false}, {\"text\": \"0.01\", \"x\": \"W\", \"y\": \"V\", \"xref\": \"x1\", \"yref\": \"y1\", \"font\": {\"color\": \"#000000\"}, \"showarrow\": false}, {\"text\": \"0.01\", \"x\": \"X\", \"y\": \"V\", \"xref\": \"x1\", \"yref\": \"y1\", \"font\": {\"color\": \"#000000\"}, \"showarrow\": false}, {\"text\": \"0.03\", \"x\": \"Y\", \"y\": \"V\", \"xref\": \"x1\", \"yref\": \"y1\", \"font\": {\"color\": \"#000000\"}, \"showarrow\": false}, {\"text\": \"\", \"x\": \"Z\", \"y\": \"V\", \"xref\": \"x1\", \"yref\": \"y1\", \"font\": {\"color\": \"#000000\"}, \"showarrow\": false}, {\"text\": \"0.06\", \"x\": \"N\", \"y\": \"W\", \"xref\": \"x1\", \"yref\": \"y1\", \"font\": {\"color\": \"#000000\"}, \"showarrow\": false}, {\"text\": \"0.01\", \"x\": \"O\", \"y\": \"W\", \"xref\": \"x1\", \"yref\": \"y1\", \"font\": {\"color\": \"#000000\"}, \"showarrow\": false}, {\"text\": \"0.01\", \"x\": \"P\", \"y\": \"W\", \"xref\": \"x1\", \"yref\": \"y1\", \"font\": {\"color\": \"#000000\"}, \"showarrow\": false}, {\"text\": \"0.03\", \"x\": \"Q\", \"y\": \"W\", \"xref\": \"x1\", \"yref\": \"y1\", \"font\": {\"color\": \"#000000\"}, \"showarrow\": false}, {\"text\": \"0.03\", \"x\": \"R\", \"y\": \"W\", \"xref\": \"x1\", \"yref\": \"y1\", \"font\": {\"color\": \"#000000\"}, \"showarrow\": false}, {\"text\": \"\", \"x\": \"S\", \"y\": \"W\", \"xref\": \"x1\", \"yref\": \"y1\", \"font\": {\"color\": \"#000000\"}, \"showarrow\": false}, {\"text\": \"0.01\", \"x\": \"T\", \"y\": \"W\", \"xref\": \"x1\", \"yref\": \"y1\", \"font\": {\"color\": \"#000000\"}, \"showarrow\": false}, {\"text\": \"0.08\", \"x\": \"U\", \"y\": \"W\", \"xref\": \"x1\", \"yref\": \"y1\", \"font\": {\"color\": \"#000000\"}, \"showarrow\": false}, {\"text\": \"0.07\", \"x\": \"V\", \"y\": \"W\", \"xref\": \"x1\", \"yref\": \"y1\", \"font\": {\"color\": \"#000000\"}, \"showarrow\": false}, {\"text\": \"0.70\", \"x\": \"W\", \"y\": \"W\", \"xref\": \"x1\", \"yref\": \"y1\", \"font\": {\"color\": \"#FFFFFF\"}, \"showarrow\": false}, {\"text\": \"\", \"x\": \"X\", \"y\": \"W\", \"xref\": \"x1\", \"yref\": \"y1\", \"font\": {\"color\": \"#000000\"}, \"showarrow\": false}, {\"text\": \"0.04\", \"x\": \"Y\", \"y\": \"W\", \"xref\": \"x1\", \"yref\": \"y1\", \"font\": {\"color\": \"#000000\"}, \"showarrow\": false}, {\"text\": \"\", \"x\": \"Z\", \"y\": \"W\", \"xref\": \"x1\", \"yref\": \"y1\", \"font\": {\"color\": \"#000000\"}, \"showarrow\": false}, {\"text\": \"\", \"x\": \"N\", \"y\": \"X\", \"xref\": \"x1\", \"yref\": \"y1\", \"font\": {\"color\": \"#000000\"}, \"showarrow\": false}, {\"text\": \"\", \"x\": \"O\", \"y\": \"X\", \"xref\": \"x1\", \"yref\": \"y1\", \"font\": {\"color\": \"#000000\"}, \"showarrow\": false}, {\"text\": \"\", \"x\": \"P\", \"y\": \"X\", \"xref\": \"x1\", \"yref\": \"y1\", \"font\": {\"color\": \"#000000\"}, \"showarrow\": false}, {\"text\": \"\", \"x\": \"Q\", \"y\": \"X\", \"xref\": \"x1\", \"yref\": \"y1\", \"font\": {\"color\": \"#000000\"}, \"showarrow\": false}, {\"text\": \"\", \"x\": \"R\", \"y\": \"X\", \"xref\": \"x1\", \"yref\": \"y1\", \"font\": {\"color\": \"#000000\"}, \"showarrow\": false}, {\"text\": \"\", \"x\": \"S\", \"y\": \"X\", \"xref\": \"x1\", \"yref\": \"y1\", \"font\": {\"color\": \"#000000\"}, \"showarrow\": false}, {\"text\": \"\", \"x\": \"T\", \"y\": \"X\", \"xref\": \"x1\", \"yref\": \"y1\", \"font\": {\"color\": \"#000000\"}, \"showarrow\": false}, {\"text\": \"\", \"x\": \"U\", \"y\": \"X\", \"xref\": \"x1\", \"yref\": \"y1\", \"font\": {\"color\": \"#000000\"}, \"showarrow\": false}, {\"text\": \"\", \"x\": \"V\", \"y\": \"X\", \"xref\": \"x1\", \"yref\": \"y1\", \"font\": {\"color\": \"#000000\"}, \"showarrow\": false}, {\"text\": \"\", \"x\": \"W\", \"y\": \"X\", \"xref\": \"x1\", \"yref\": \"y1\", \"font\": {\"color\": \"#000000\"}, \"showarrow\": false}, {\"text\": \"0.73\", \"x\": \"X\", \"y\": \"X\", \"xref\": \"x1\", \"yref\": \"y1\", \"font\": {\"color\": \"#FFFFFF\"}, \"showarrow\": false}, {\"text\": \"0.01\", \"x\": \"Y\", \"y\": \"X\", \"xref\": \"x1\", \"yref\": \"y1\", \"font\": {\"color\": \"#000000\"}, \"showarrow\": false}, {\"text\": \"0.01\", \"x\": \"Z\", \"y\": \"X\", \"xref\": \"x1\", \"yref\": \"y1\", \"font\": {\"color\": \"#000000\"}, \"showarrow\": false}, {\"text\": \"0.02\", \"x\": \"N\", \"y\": \"Y\", \"xref\": \"x1\", \"yref\": \"y1\", \"font\": {\"color\": \"#000000\"}, \"showarrow\": false}, {\"text\": \"0.01\", \"x\": \"O\", \"y\": \"Y\", \"xref\": \"x1\", \"yref\": \"y1\", \"font\": {\"color\": \"#000000\"}, \"showarrow\": false}, {\"text\": \"\", \"x\": \"P\", \"y\": \"Y\", \"xref\": \"x1\", \"yref\": \"y1\", \"font\": {\"color\": \"#000000\"}, \"showarrow\": false}, {\"text\": \"0.01\", \"x\": \"Q\", \"y\": \"Y\", \"xref\": \"x1\", \"yref\": \"y1\", \"font\": {\"color\": \"#000000\"}, \"showarrow\": false}, {\"text\": \"0.01\", \"x\": \"R\", \"y\": \"Y\", \"xref\": \"x1\", \"yref\": \"y1\", \"font\": {\"color\": \"#000000\"}, \"showarrow\": false}, {\"text\": \"0.03\", \"x\": \"S\", \"y\": \"Y\", \"xref\": \"x1\", \"yref\": \"y1\", \"font\": {\"color\": \"#000000\"}, \"showarrow\": false}, {\"text\": \"\", \"x\": \"T\", \"y\": \"Y\", \"xref\": \"x1\", \"yref\": \"y1\", \"font\": {\"color\": \"#000000\"}, \"showarrow\": false}, {\"text\": \"\", \"x\": \"U\", \"y\": \"Y\", \"xref\": \"x1\", \"yref\": \"y1\", \"font\": {\"color\": \"#000000\"}, \"showarrow\": false}, {\"text\": \"0.01\", \"x\": \"V\", \"y\": \"Y\", \"xref\": \"x1\", \"yref\": \"y1\", \"font\": {\"color\": \"#000000\"}, \"showarrow\": false}, {\"text\": \"0.01\", \"x\": \"W\", \"y\": \"Y\", \"xref\": \"x1\", \"yref\": \"y1\", \"font\": {\"color\": \"#000000\"}, \"showarrow\": false}, {\"text\": \"\", \"x\": \"X\", \"y\": \"Y\", \"xref\": \"x1\", \"yref\": \"y1\", \"font\": {\"color\": \"#000000\"}, \"showarrow\": false}, {\"text\": \"0.70\", \"x\": \"Y\", \"y\": \"Y\", \"xref\": \"x1\", \"yref\": \"y1\", \"font\": {\"color\": \"#FFFFFF\"}, \"showarrow\": false}, {\"text\": \"0.03\", \"x\": \"Z\", \"y\": \"Y\", \"xref\": \"x1\", \"yref\": \"y1\", \"font\": {\"color\": \"#000000\"}, \"showarrow\": false}, {\"text\": \"\", \"x\": \"N\", \"y\": \"Z\", \"xref\": \"x1\", \"yref\": \"y1\", \"font\": {\"color\": \"#000000\"}, \"showarrow\": false}, {\"text\": \"\", \"x\": \"O\", \"y\": \"Z\", \"xref\": \"x1\", \"yref\": \"y1\", \"font\": {\"color\": \"#000000\"}, \"showarrow\": false}, {\"text\": \"\", \"x\": \"P\", \"y\": \"Z\", \"xref\": \"x1\", \"yref\": \"y1\", \"font\": {\"color\": \"#000000\"}, \"showarrow\": false}, {\"text\": \"\", \"x\": \"Q\", \"y\": \"Z\", \"xref\": \"x1\", \"yref\": \"y1\", \"font\": {\"color\": \"#000000\"}, \"showarrow\": false}, {\"text\": \"\", \"x\": \"R\", \"y\": \"Z\", \"xref\": \"x1\", \"yref\": \"y1\", \"font\": {\"color\": \"#000000\"}, \"showarrow\": false}, {\"text\": \"\", \"x\": \"S\", \"y\": \"Z\", \"xref\": \"x1\", \"yref\": \"y1\", \"font\": {\"color\": \"#000000\"}, \"showarrow\": false}, {\"text\": \"0.02\", \"x\": \"T\", \"y\": \"Z\", \"xref\": \"x1\", \"yref\": \"y1\", \"font\": {\"color\": \"#000000\"}, \"showarrow\": false}, {\"text\": \"\", \"x\": \"U\", \"y\": \"Z\", \"xref\": \"x1\", \"yref\": \"y1\", \"font\": {\"color\": \"#000000\"}, \"showarrow\": false}, {\"text\": \"\", \"x\": \"V\", \"y\": \"Z\", \"xref\": \"x1\", \"yref\": \"y1\", \"font\": {\"color\": \"#000000\"}, \"showarrow\": false}, {\"text\": \"\", \"x\": \"W\", \"y\": \"Z\", \"xref\": \"x1\", \"yref\": \"y1\", \"font\": {\"color\": \"#000000\"}, \"showarrow\": false}, {\"text\": \"0.01\", \"x\": \"X\", \"y\": \"Z\", \"xref\": \"x1\", \"yref\": \"y1\", \"font\": {\"color\": \"#000000\"}, \"showarrow\": false}, {\"text\": \"\", \"x\": \"Y\", \"y\": \"Z\", \"xref\": \"x1\", \"yref\": \"y1\", \"font\": {\"color\": \"#000000\"}, \"showarrow\": false}, {\"text\": \"0.77\", \"x\": \"Z\", \"y\": \"Z\", \"xref\": \"x1\", \"yref\": \"y1\", \"font\": {\"color\": \"#FFFFFF\"}, \"showarrow\": false}], \"xaxis\": {\"ticks\": \"\", \"dtick\": 1, \"side\": \"bottom\", \"gridcolor\": \"rgb(0, 0, 0)\", \"title\": \"Predicted values\"}, \"yaxis\": {\"ticks\": \"\", \"dtick\": 1, \"ticksuffix\": \"  \", \"anchor\": \"bottom\", \"title\": \"True values\"}, \"title\": \"Confusion Matrix of Uppercase NN\"}, {\"showLink\": false, \"linkText\": \"Export to plot.ly\"})});</script>"
      ],
      "text/vnd.plotly.v1+html": [
       "<div id=\"668a1c8a-9b7d-4f40-a889-b16c5ec7ffe1\" style=\"height: 525px; width: 100%;\" class=\"plotly-graph-div\"></div><script type=\"text/javascript\">require([\"plotly\"], function(Plotly) { window.PLOTLYENV=window.PLOTLYENV || {};window.PLOTLYENV.BASE_URL=\"https://plot.ly\";Plotly.newPlot(\"668a1c8a-9b7d-4f40-a889-b16c5ec7ffe1\", [{\"type\": \"heatmap\", \"z\": [[0.765625, 0.0, 0.013702392578125, 0.0, 0.0, 0.0, 0.0217437744140625, 0.03173828125, 0.011627197265625, 0.02984619140625, 0.013336181640625, 0.041107177734375, 0.0], [0.0123443603515625, 0.6630859375, 0.0, 0.01316070556640625, 0.0, 0.013336181640625, 0.0, 0.03173828125, 0.0, 0.0, 0.0, 0.013702392578125, 0.0], [0.0, 0.01087188720703125, 0.82177734375, 0.01316070556640625, 0.01470947265625, 0.013336181640625, 0.054351806640625, 0.0, 0.02325439453125, 0.0, 0.0, 0.0548095703125, 0.0], [0.024688720703125, 0.141357421875, 0.013702392578125, 0.86865234375, 0.0, 0.0, 0.01087188720703125, 0.015869140625, 0.0, 0.0, 0.0, 0.0, 0.08001708984375], [0.0, 0.0, 0.0, 0.01316070556640625, 0.83837890625, 0.0, 0.0, 0.0, 0.0, 0.0, 0.013336181640625, 0.0, 0.0], [0.0, 0.0, 0.0, 0.0, 0.0, 0.8134765625, 0.0, 0.015869140625, 0.0, 0.0, 0.0, 0.013702392578125, 0.0], [0.0, 0.0, 0.0684814453125, 0.0, 0.0, 0.0, 0.7607421875, 0.0, 0.0, 0.0, 0.0, 0.013702392578125, 0.0], [0.0, 0.0, 0.0, 0.0, 0.0, 0.0, 0.0, 0.66650390625, 0.0, 0.0, 0.013336181640625, 0.02740478515625, 0.0], [0.0123443603515625, 0.01087188720703125, 0.0, 0.01316070556640625, 0.0, 0.0, 0.0217437744140625, 0.0, 0.83740234375, 0.014923095703125, 0.013336181640625, 0.02740478515625, 0.0], [0.061737060546875, 0.01087188720703125, 0.013702392578125, 0.0263214111328125, 0.0294189453125, 0.0, 0.01087188720703125, 0.079345703125, 0.06976318359375, 0.70166015625, 0.0, 0.041107177734375, 0.0], [0.0, 0.0, 0.0, 0.0, 0.0, 0.0, 0.0, 0.0, 0.0, 0.0, 0.7333984375, 0.013702392578125, 0.013336181640625], [0.024688720703125, 0.01087188720703125, 0.0, 0.01316070556640625, 0.01470947265625, 0.02667236328125, 0.0, 0.0, 0.011627197265625, 0.014923095703125, 0.0, 0.69873046875, 0.02667236328125], [0.0, 0.0, 0.0, 0.0, 0.0, 0.0, 0.0217437744140625, 0.0, 0.0, 0.0, 0.013336181640625, 0.0, 0.7734375]], \"x\": [\"N\", \"O\", \"P\", \"Q\", \"R\", \"S\", \"T\", \"U\", \"V\", \"W\", \"X\", \"Y\", \"Z\"], \"y\": [\"N\", \"O\", \"P\", \"Q\", \"R\", \"S\", \"T\", \"U\", \"V\", \"W\", \"X\", \"Y\", \"Z\"], \"colorscale\": [[0.0, \"#e5e5ff\"], [0.05, \"#cacaf0\"], [0.1, \"#b0b0e1\"], [0.25, \"#9494d2\"], [0.5, \"#7a7ac3\"], [0.75, \"#5e5eb4\"], [0.9, \"#4444a5\"], [1.0, \"#282896\"]], \"showscale\": true, \"xgap\": 1.25, \"ygap\": 1.25, \"colorbar\": {\"tickmode\": \"array\"}}], {\"annotations\": [{\"text\": \"0.77\", \"x\": \"N\", \"y\": \"N\", \"xref\": \"x1\", \"yref\": \"y1\", \"font\": {\"color\": \"#FFFFFF\"}, \"showarrow\": false}, {\"text\": \"\", \"x\": \"O\", \"y\": \"N\", \"xref\": \"x1\", \"yref\": \"y1\", \"font\": {\"color\": \"#000000\"}, \"showarrow\": false}, {\"text\": \"0.01\", \"x\": \"P\", \"y\": \"N\", \"xref\": \"x1\", \"yref\": \"y1\", \"font\": {\"color\": \"#000000\"}, \"showarrow\": false}, {\"text\": \"\", \"x\": \"Q\", \"y\": \"N\", \"xref\": \"x1\", \"yref\": \"y1\", \"font\": {\"color\": \"#000000\"}, \"showarrow\": false}, {\"text\": \"\", \"x\": \"R\", \"y\": \"N\", \"xref\": \"x1\", \"yref\": \"y1\", \"font\": {\"color\": \"#000000\"}, \"showarrow\": false}, {\"text\": \"\", \"x\": \"S\", \"y\": \"N\", \"xref\": \"x1\", \"yref\": \"y1\", \"font\": {\"color\": \"#000000\"}, \"showarrow\": false}, {\"text\": \"0.02\", \"x\": \"T\", \"y\": \"N\", \"xref\": \"x1\", \"yref\": \"y1\", \"font\": {\"color\": \"#000000\"}, \"showarrow\": false}, {\"text\": \"0.03\", \"x\": \"U\", \"y\": \"N\", \"xref\": \"x1\", \"yref\": \"y1\", \"font\": {\"color\": \"#000000\"}, \"showarrow\": false}, {\"text\": \"0.01\", \"x\": \"V\", \"y\": \"N\", \"xref\": \"x1\", \"yref\": \"y1\", \"font\": {\"color\": \"#000000\"}, \"showarrow\": false}, {\"text\": \"0.03\", \"x\": \"W\", \"y\": \"N\", \"xref\": \"x1\", \"yref\": \"y1\", \"font\": {\"color\": \"#000000\"}, \"showarrow\": false}, {\"text\": \"0.01\", \"x\": \"X\", \"y\": \"N\", \"xref\": \"x1\", \"yref\": \"y1\", \"font\": {\"color\": \"#000000\"}, \"showarrow\": false}, {\"text\": \"0.04\", \"x\": \"Y\", \"y\": \"N\", \"xref\": \"x1\", \"yref\": \"y1\", \"font\": {\"color\": \"#000000\"}, \"showarrow\": false}, {\"text\": \"\", \"x\": \"Z\", \"y\": \"N\", \"xref\": \"x1\", \"yref\": \"y1\", \"font\": {\"color\": \"#000000\"}, \"showarrow\": false}, {\"text\": \"0.01\", \"x\": \"N\", \"y\": \"O\", \"xref\": \"x1\", \"yref\": \"y1\", \"font\": {\"color\": \"#000000\"}, \"showarrow\": false}, {\"text\": \"0.66\", \"x\": \"O\", \"y\": \"O\", \"xref\": \"x1\", \"yref\": \"y1\", \"font\": {\"color\": \"#FFFFFF\"}, \"showarrow\": false}, {\"text\": \"\", \"x\": \"P\", \"y\": \"O\", \"xref\": \"x1\", \"yref\": \"y1\", \"font\": {\"color\": \"#000000\"}, \"showarrow\": false}, {\"text\": \"0.01\", \"x\": \"Q\", \"y\": \"O\", \"xref\": \"x1\", \"yref\": \"y1\", \"font\": {\"color\": \"#000000\"}, \"showarrow\": false}, {\"text\": \"\", \"x\": \"R\", \"y\": \"O\", \"xref\": \"x1\", \"yref\": \"y1\", \"font\": {\"color\": \"#000000\"}, \"showarrow\": false}, {\"text\": \"0.01\", \"x\": \"S\", \"y\": \"O\", \"xref\": \"x1\", \"yref\": \"y1\", \"font\": {\"color\": \"#000000\"}, \"showarrow\": false}, {\"text\": \"\", \"x\": \"T\", \"y\": \"O\", \"xref\": \"x1\", \"yref\": \"y1\", \"font\": {\"color\": \"#000000\"}, \"showarrow\": false}, {\"text\": \"0.03\", \"x\": \"U\", \"y\": \"O\", \"xref\": \"x1\", \"yref\": \"y1\", \"font\": {\"color\": \"#000000\"}, \"showarrow\": false}, {\"text\": \"\", \"x\": \"V\", \"y\": \"O\", \"xref\": \"x1\", \"yref\": \"y1\", \"font\": {\"color\": \"#000000\"}, \"showarrow\": false}, {\"text\": \"\", \"x\": \"W\", \"y\": \"O\", \"xref\": \"x1\", \"yref\": \"y1\", \"font\": {\"color\": \"#000000\"}, \"showarrow\": false}, {\"text\": \"\", \"x\": \"X\", \"y\": \"O\", \"xref\": \"x1\", \"yref\": \"y1\", \"font\": {\"color\": \"#000000\"}, \"showarrow\": false}, {\"text\": \"0.01\", \"x\": \"Y\", \"y\": \"O\", \"xref\": \"x1\", \"yref\": \"y1\", \"font\": {\"color\": \"#000000\"}, \"showarrow\": false}, {\"text\": \"\", \"x\": \"Z\", \"y\": \"O\", \"xref\": \"x1\", \"yref\": \"y1\", \"font\": {\"color\": \"#000000\"}, \"showarrow\": false}, {\"text\": \"\", \"x\": \"N\", \"y\": \"P\", \"xref\": \"x1\", \"yref\": \"y1\", \"font\": {\"color\": \"#000000\"}, \"showarrow\": false}, {\"text\": \"0.01\", \"x\": \"O\", \"y\": \"P\", \"xref\": \"x1\", \"yref\": \"y1\", \"font\": {\"color\": \"#000000\"}, \"showarrow\": false}, {\"text\": \"0.82\", \"x\": \"P\", \"y\": \"P\", \"xref\": \"x1\", \"yref\": \"y1\", \"font\": {\"color\": \"#FFFFFF\"}, \"showarrow\": false}, {\"text\": \"0.01\", \"x\": \"Q\", \"y\": \"P\", \"xref\": \"x1\", \"yref\": \"y1\", \"font\": {\"color\": \"#000000\"}, \"showarrow\": false}, {\"text\": \"0.01\", \"x\": \"R\", \"y\": \"P\", \"xref\": \"x1\", \"yref\": \"y1\", \"font\": {\"color\": \"#000000\"}, \"showarrow\": false}, {\"text\": \"0.01\", \"x\": \"S\", \"y\": \"P\", \"xref\": \"x1\", \"yref\": \"y1\", \"font\": {\"color\": \"#000000\"}, \"showarrow\": false}, {\"text\": \"0.05\", \"x\": \"T\", \"y\": \"P\", \"xref\": \"x1\", \"yref\": \"y1\", \"font\": {\"color\": \"#000000\"}, \"showarrow\": false}, {\"text\": \"\", \"x\": \"U\", \"y\": \"P\", \"xref\": \"x1\", \"yref\": \"y1\", \"font\": {\"color\": \"#000000\"}, \"showarrow\": false}, {\"text\": \"0.02\", \"x\": \"V\", \"y\": \"P\", \"xref\": \"x1\", \"yref\": \"y1\", \"font\": {\"color\": \"#000000\"}, \"showarrow\": false}, {\"text\": \"\", \"x\": \"W\", \"y\": \"P\", \"xref\": \"x1\", \"yref\": \"y1\", \"font\": {\"color\": \"#000000\"}, \"showarrow\": false}, {\"text\": \"\", \"x\": \"X\", \"y\": \"P\", \"xref\": \"x1\", \"yref\": \"y1\", \"font\": {\"color\": \"#000000\"}, \"showarrow\": false}, {\"text\": \"0.05\", \"x\": \"Y\", \"y\": \"P\", \"xref\": \"x1\", \"yref\": \"y1\", \"font\": {\"color\": \"#000000\"}, \"showarrow\": false}, {\"text\": \"\", \"x\": \"Z\", \"y\": \"P\", \"xref\": \"x1\", \"yref\": \"y1\", \"font\": {\"color\": \"#000000\"}, \"showarrow\": false}, {\"text\": \"0.02\", \"x\": \"N\", \"y\": \"Q\", \"xref\": \"x1\", \"yref\": \"y1\", \"font\": {\"color\": \"#000000\"}, \"showarrow\": false}, {\"text\": \"0.14\", \"x\": \"O\", \"y\": \"Q\", \"xref\": \"x1\", \"yref\": \"y1\", \"font\": {\"color\": \"#000000\"}, \"showarrow\": false}, {\"text\": \"0.01\", \"x\": \"P\", \"y\": \"Q\", \"xref\": \"x1\", \"yref\": \"y1\", \"font\": {\"color\": \"#000000\"}, \"showarrow\": false}, {\"text\": \"0.87\", \"x\": \"Q\", \"y\": \"Q\", \"xref\": \"x1\", \"yref\": \"y1\", \"font\": {\"color\": \"#FFFFFF\"}, \"showarrow\": false}, {\"text\": \"\", \"x\": \"R\", \"y\": \"Q\", \"xref\": \"x1\", \"yref\": \"y1\", \"font\": {\"color\": \"#000000\"}, \"showarrow\": false}, {\"text\": \"\", \"x\": \"S\", \"y\": \"Q\", \"xref\": \"x1\", \"yref\": \"y1\", \"font\": {\"color\": \"#000000\"}, \"showarrow\": false}, {\"text\": \"0.01\", \"x\": \"T\", \"y\": \"Q\", \"xref\": \"x1\", \"yref\": \"y1\", \"font\": {\"color\": \"#000000\"}, \"showarrow\": false}, {\"text\": \"0.02\", \"x\": \"U\", \"y\": \"Q\", \"xref\": \"x1\", \"yref\": \"y1\", \"font\": {\"color\": \"#000000\"}, \"showarrow\": false}, {\"text\": \"\", \"x\": \"V\", \"y\": \"Q\", \"xref\": \"x1\", \"yref\": \"y1\", \"font\": {\"color\": \"#000000\"}, \"showarrow\": false}, {\"text\": \"\", \"x\": \"W\", \"y\": \"Q\", \"xref\": \"x1\", \"yref\": \"y1\", \"font\": {\"color\": \"#000000\"}, \"showarrow\": false}, {\"text\": \"\", \"x\": \"X\", \"y\": \"Q\", \"xref\": \"x1\", \"yref\": \"y1\", \"font\": {\"color\": \"#000000\"}, \"showarrow\": false}, {\"text\": \"\", \"x\": \"Y\", \"y\": \"Q\", \"xref\": \"x1\", \"yref\": \"y1\", \"font\": {\"color\": \"#000000\"}, \"showarrow\": false}, {\"text\": \"0.08\", \"x\": \"Z\", \"y\": \"Q\", \"xref\": \"x1\", \"yref\": \"y1\", \"font\": {\"color\": \"#000000\"}, \"showarrow\": false}, {\"text\": \"\", \"x\": \"N\", \"y\": \"R\", \"xref\": \"x1\", \"yref\": \"y1\", \"font\": {\"color\": \"#000000\"}, \"showarrow\": false}, {\"text\": \"\", \"x\": \"O\", \"y\": \"R\", \"xref\": \"x1\", \"yref\": \"y1\", \"font\": {\"color\": \"#000000\"}, \"showarrow\": false}, {\"text\": \"\", \"x\": \"P\", \"y\": \"R\", \"xref\": \"x1\", \"yref\": \"y1\", \"font\": {\"color\": \"#000000\"}, \"showarrow\": false}, {\"text\": \"0.01\", \"x\": \"Q\", \"y\": \"R\", \"xref\": \"x1\", \"yref\": \"y1\", \"font\": {\"color\": \"#000000\"}, \"showarrow\": false}, {\"text\": \"0.84\", \"x\": \"R\", \"y\": \"R\", \"xref\": \"x1\", \"yref\": \"y1\", \"font\": {\"color\": \"#FFFFFF\"}, \"showarrow\": false}, {\"text\": \"\", \"x\": \"S\", \"y\": \"R\", \"xref\": \"x1\", \"yref\": \"y1\", \"font\": {\"color\": \"#000000\"}, \"showarrow\": false}, {\"text\": \"\", \"x\": \"T\", \"y\": \"R\", \"xref\": \"x1\", \"yref\": \"y1\", \"font\": {\"color\": \"#000000\"}, \"showarrow\": false}, {\"text\": \"\", \"x\": \"U\", \"y\": \"R\", \"xref\": \"x1\", \"yref\": \"y1\", \"font\": {\"color\": \"#000000\"}, \"showarrow\": false}, {\"text\": \"\", \"x\": \"V\", \"y\": \"R\", \"xref\": \"x1\", \"yref\": \"y1\", \"font\": {\"color\": \"#000000\"}, \"showarrow\": false}, {\"text\": \"\", \"x\": \"W\", \"y\": \"R\", \"xref\": \"x1\", \"yref\": \"y1\", \"font\": {\"color\": \"#000000\"}, \"showarrow\": false}, {\"text\": \"0.01\", \"x\": \"X\", \"y\": \"R\", \"xref\": \"x1\", \"yref\": \"y1\", \"font\": {\"color\": \"#000000\"}, \"showarrow\": false}, {\"text\": \"\", \"x\": \"Y\", \"y\": \"R\", \"xref\": \"x1\", \"yref\": \"y1\", \"font\": {\"color\": \"#000000\"}, \"showarrow\": false}, {\"text\": \"\", \"x\": \"Z\", \"y\": \"R\", \"xref\": \"x1\", \"yref\": \"y1\", \"font\": {\"color\": \"#000000\"}, \"showarrow\": false}, {\"text\": \"\", \"x\": \"N\", \"y\": \"S\", \"xref\": \"x1\", \"yref\": \"y1\", \"font\": {\"color\": \"#000000\"}, \"showarrow\": false}, {\"text\": \"\", \"x\": \"O\", \"y\": \"S\", \"xref\": \"x1\", \"yref\": \"y1\", \"font\": {\"color\": \"#000000\"}, \"showarrow\": false}, {\"text\": \"\", \"x\": \"P\", \"y\": \"S\", \"xref\": \"x1\", \"yref\": \"y1\", \"font\": {\"color\": \"#000000\"}, \"showarrow\": false}, {\"text\": \"\", \"x\": \"Q\", \"y\": \"S\", \"xref\": \"x1\", \"yref\": \"y1\", \"font\": {\"color\": \"#000000\"}, \"showarrow\": false}, {\"text\": \"\", \"x\": \"R\", \"y\": \"S\", \"xref\": \"x1\", \"yref\": \"y1\", \"font\": {\"color\": \"#000000\"}, \"showarrow\": false}, {\"text\": \"0.81\", \"x\": \"S\", \"y\": \"S\", \"xref\": \"x1\", \"yref\": \"y1\", \"font\": {\"color\": \"#FFFFFF\"}, \"showarrow\": false}, {\"text\": \"\", \"x\": \"T\", \"y\": \"S\", \"xref\": \"x1\", \"yref\": \"y1\", \"font\": {\"color\": \"#000000\"}, \"showarrow\": false}, {\"text\": \"0.02\", \"x\": \"U\", \"y\": \"S\", \"xref\": \"x1\", \"yref\": \"y1\", \"font\": {\"color\": \"#000000\"}, \"showarrow\": false}, {\"text\": \"\", \"x\": \"V\", \"y\": \"S\", \"xref\": \"x1\", \"yref\": \"y1\", \"font\": {\"color\": \"#000000\"}, \"showarrow\": false}, {\"text\": \"\", \"x\": \"W\", \"y\": \"S\", \"xref\": \"x1\", \"yref\": \"y1\", \"font\": {\"color\": \"#000000\"}, \"showarrow\": false}, {\"text\": \"\", \"x\": \"X\", \"y\": \"S\", \"xref\": \"x1\", \"yref\": \"y1\", \"font\": {\"color\": \"#000000\"}, \"showarrow\": false}, {\"text\": \"0.01\", \"x\": \"Y\", \"y\": \"S\", \"xref\": \"x1\", \"yref\": \"y1\", \"font\": {\"color\": \"#000000\"}, \"showarrow\": false}, {\"text\": \"\", \"x\": \"Z\", \"y\": \"S\", \"xref\": \"x1\", \"yref\": \"y1\", \"font\": {\"color\": \"#000000\"}, \"showarrow\": false}, {\"text\": \"\", \"x\": \"N\", \"y\": \"T\", \"xref\": \"x1\", \"yref\": \"y1\", \"font\": {\"color\": \"#000000\"}, \"showarrow\": false}, {\"text\": \"\", \"x\": \"O\", \"y\": \"T\", \"xref\": \"x1\", \"yref\": \"y1\", \"font\": {\"color\": \"#000000\"}, \"showarrow\": false}, {\"text\": \"0.07\", \"x\": \"P\", \"y\": \"T\", \"xref\": \"x1\", \"yref\": \"y1\", \"font\": {\"color\": \"#000000\"}, \"showarrow\": false}, {\"text\": \"\", \"x\": \"Q\", \"y\": \"T\", \"xref\": \"x1\", \"yref\": \"y1\", \"font\": {\"color\": \"#000000\"}, \"showarrow\": false}, {\"text\": \"\", \"x\": \"R\", \"y\": \"T\", \"xref\": \"x1\", \"yref\": \"y1\", \"font\": {\"color\": \"#000000\"}, \"showarrow\": false}, {\"text\": \"\", \"x\": \"S\", \"y\": \"T\", \"xref\": \"x1\", \"yref\": \"y1\", \"font\": {\"color\": \"#000000\"}, \"showarrow\": false}, {\"text\": \"0.76\", \"x\": \"T\", \"y\": \"T\", \"xref\": \"x1\", \"yref\": \"y1\", \"font\": {\"color\": \"#FFFFFF\"}, \"showarrow\": false}, {\"text\": \"\", \"x\": \"U\", \"y\": \"T\", \"xref\": \"x1\", \"yref\": \"y1\", \"font\": {\"color\": \"#000000\"}, \"showarrow\": false}, {\"text\": \"\", \"x\": \"V\", \"y\": \"T\", \"xref\": \"x1\", \"yref\": \"y1\", \"font\": {\"color\": \"#000000\"}, \"showarrow\": false}, {\"text\": \"\", \"x\": \"W\", \"y\": \"T\", \"xref\": \"x1\", \"yref\": \"y1\", \"font\": {\"color\": \"#000000\"}, \"showarrow\": false}, {\"text\": \"\", \"x\": \"X\", \"y\": \"T\", \"xref\": \"x1\", \"yref\": \"y1\", \"font\": {\"color\": \"#000000\"}, \"showarrow\": false}, {\"text\": \"0.01\", \"x\": \"Y\", \"y\": \"T\", \"xref\": \"x1\", \"yref\": \"y1\", \"font\": {\"color\": \"#000000\"}, \"showarrow\": false}, {\"text\": \"\", \"x\": \"Z\", \"y\": \"T\", \"xref\": \"x1\", \"yref\": \"y1\", \"font\": {\"color\": \"#000000\"}, \"showarrow\": false}, {\"text\": \"\", \"x\": \"N\", \"y\": \"U\", \"xref\": \"x1\", \"yref\": \"y1\", \"font\": {\"color\": \"#000000\"}, \"showarrow\": false}, {\"text\": \"\", \"x\": \"O\", \"y\": \"U\", \"xref\": \"x1\", \"yref\": \"y1\", \"font\": {\"color\": \"#000000\"}, \"showarrow\": false}, {\"text\": \"\", \"x\": \"P\", \"y\": \"U\", \"xref\": \"x1\", \"yref\": \"y1\", \"font\": {\"color\": \"#000000\"}, \"showarrow\": false}, {\"text\": \"\", \"x\": \"Q\", \"y\": \"U\", \"xref\": \"x1\", \"yref\": \"y1\", \"font\": {\"color\": \"#000000\"}, \"showarrow\": false}, {\"text\": \"\", \"x\": \"R\", \"y\": \"U\", \"xref\": \"x1\", \"yref\": \"y1\", \"font\": {\"color\": \"#000000\"}, \"showarrow\": false}, {\"text\": \"\", \"x\": \"S\", \"y\": \"U\", \"xref\": \"x1\", \"yref\": \"y1\", \"font\": {\"color\": \"#000000\"}, \"showarrow\": false}, {\"text\": \"\", \"x\": \"T\", \"y\": \"U\", \"xref\": \"x1\", \"yref\": \"y1\", \"font\": {\"color\": \"#000000\"}, \"showarrow\": false}, {\"text\": \"0.67\", \"x\": \"U\", \"y\": \"U\", \"xref\": \"x1\", \"yref\": \"y1\", \"font\": {\"color\": \"#FFFFFF\"}, \"showarrow\": false}, {\"text\": \"\", \"x\": \"V\", \"y\": \"U\", \"xref\": \"x1\", \"yref\": \"y1\", \"font\": {\"color\": \"#000000\"}, \"showarrow\": false}, {\"text\": \"\", \"x\": \"W\", \"y\": \"U\", \"xref\": \"x1\", \"yref\": \"y1\", \"font\": {\"color\": \"#000000\"}, \"showarrow\": false}, {\"text\": \"0.01\", \"x\": \"X\", \"y\": \"U\", \"xref\": \"x1\", \"yref\": \"y1\", \"font\": {\"color\": \"#000000\"}, \"showarrow\": false}, {\"text\": \"0.03\", \"x\": \"Y\", \"y\": \"U\", \"xref\": \"x1\", \"yref\": \"y1\", \"font\": {\"color\": \"#000000\"}, \"showarrow\": false}, {\"text\": \"\", \"x\": \"Z\", \"y\": \"U\", \"xref\": \"x1\", \"yref\": \"y1\", \"font\": {\"color\": \"#000000\"}, \"showarrow\": false}, {\"text\": \"0.01\", \"x\": \"N\", \"y\": \"V\", \"xref\": \"x1\", \"yref\": \"y1\", \"font\": {\"color\": \"#000000\"}, \"showarrow\": false}, {\"text\": \"0.01\", \"x\": \"O\", \"y\": \"V\", \"xref\": \"x1\", \"yref\": \"y1\", \"font\": {\"color\": \"#000000\"}, \"showarrow\": false}, {\"text\": \"\", \"x\": \"P\", \"y\": \"V\", \"xref\": \"x1\", \"yref\": \"y1\", \"font\": {\"color\": \"#000000\"}, \"showarrow\": false}, {\"text\": \"0.01\", \"x\": \"Q\", \"y\": \"V\", \"xref\": \"x1\", \"yref\": \"y1\", \"font\": {\"color\": \"#000000\"}, \"showarrow\": false}, {\"text\": \"\", \"x\": \"R\", \"y\": \"V\", \"xref\": \"x1\", \"yref\": \"y1\", \"font\": {\"color\": \"#000000\"}, \"showarrow\": false}, {\"text\": \"\", \"x\": \"S\", \"y\": \"V\", \"xref\": \"x1\", \"yref\": \"y1\", \"font\": {\"color\": \"#000000\"}, \"showarrow\": false}, {\"text\": \"0.02\", \"x\": \"T\", \"y\": \"V\", \"xref\": \"x1\", \"yref\": \"y1\", \"font\": {\"color\": \"#000000\"}, \"showarrow\": false}, {\"text\": \"\", \"x\": \"U\", \"y\": \"V\", \"xref\": \"x1\", \"yref\": \"y1\", \"font\": {\"color\": \"#000000\"}, \"showarrow\": false}, {\"text\": \"0.84\", \"x\": \"V\", \"y\": \"V\", \"xref\": \"x1\", \"yref\": \"y1\", \"font\": {\"color\": \"#FFFFFF\"}, \"showarrow\": false}, {\"text\": \"0.01\", \"x\": \"W\", \"y\": \"V\", \"xref\": \"x1\", \"yref\": \"y1\", \"font\": {\"color\": \"#000000\"}, \"showarrow\": false}, {\"text\": \"0.01\", \"x\": \"X\", \"y\": \"V\", \"xref\": \"x1\", \"yref\": \"y1\", \"font\": {\"color\": \"#000000\"}, \"showarrow\": false}, {\"text\": \"0.03\", \"x\": \"Y\", \"y\": \"V\", \"xref\": \"x1\", \"yref\": \"y1\", \"font\": {\"color\": \"#000000\"}, \"showarrow\": false}, {\"text\": \"\", \"x\": \"Z\", \"y\": \"V\", \"xref\": \"x1\", \"yref\": \"y1\", \"font\": {\"color\": \"#000000\"}, \"showarrow\": false}, {\"text\": \"0.06\", \"x\": \"N\", \"y\": \"W\", \"xref\": \"x1\", \"yref\": \"y1\", \"font\": {\"color\": \"#000000\"}, \"showarrow\": false}, {\"text\": \"0.01\", \"x\": \"O\", \"y\": \"W\", \"xref\": \"x1\", \"yref\": \"y1\", \"font\": {\"color\": \"#000000\"}, \"showarrow\": false}, {\"text\": \"0.01\", \"x\": \"P\", \"y\": \"W\", \"xref\": \"x1\", \"yref\": \"y1\", \"font\": {\"color\": \"#000000\"}, \"showarrow\": false}, {\"text\": \"0.03\", \"x\": \"Q\", \"y\": \"W\", \"xref\": \"x1\", \"yref\": \"y1\", \"font\": {\"color\": \"#000000\"}, \"showarrow\": false}, {\"text\": \"0.03\", \"x\": \"R\", \"y\": \"W\", \"xref\": \"x1\", \"yref\": \"y1\", \"font\": {\"color\": \"#000000\"}, \"showarrow\": false}, {\"text\": \"\", \"x\": \"S\", \"y\": \"W\", \"xref\": \"x1\", \"yref\": \"y1\", \"font\": {\"color\": \"#000000\"}, \"showarrow\": false}, {\"text\": \"0.01\", \"x\": \"T\", \"y\": \"W\", \"xref\": \"x1\", \"yref\": \"y1\", \"font\": {\"color\": \"#000000\"}, \"showarrow\": false}, {\"text\": \"0.08\", \"x\": \"U\", \"y\": \"W\", \"xref\": \"x1\", \"yref\": \"y1\", \"font\": {\"color\": \"#000000\"}, \"showarrow\": false}, {\"text\": \"0.07\", \"x\": \"V\", \"y\": \"W\", \"xref\": \"x1\", \"yref\": \"y1\", \"font\": {\"color\": \"#000000\"}, \"showarrow\": false}, {\"text\": \"0.70\", \"x\": \"W\", \"y\": \"W\", \"xref\": \"x1\", \"yref\": \"y1\", \"font\": {\"color\": \"#FFFFFF\"}, \"showarrow\": false}, {\"text\": \"\", \"x\": \"X\", \"y\": \"W\", \"xref\": \"x1\", \"yref\": \"y1\", \"font\": {\"color\": \"#000000\"}, \"showarrow\": false}, {\"text\": \"0.04\", \"x\": \"Y\", \"y\": \"W\", \"xref\": \"x1\", \"yref\": \"y1\", \"font\": {\"color\": \"#000000\"}, \"showarrow\": false}, {\"text\": \"\", \"x\": \"Z\", \"y\": \"W\", \"xref\": \"x1\", \"yref\": \"y1\", \"font\": {\"color\": \"#000000\"}, \"showarrow\": false}, {\"text\": \"\", \"x\": \"N\", \"y\": \"X\", \"xref\": \"x1\", \"yref\": \"y1\", \"font\": {\"color\": \"#000000\"}, \"showarrow\": false}, {\"text\": \"\", \"x\": \"O\", \"y\": \"X\", \"xref\": \"x1\", \"yref\": \"y1\", \"font\": {\"color\": \"#000000\"}, \"showarrow\": false}, {\"text\": \"\", \"x\": \"P\", \"y\": \"X\", \"xref\": \"x1\", \"yref\": \"y1\", \"font\": {\"color\": \"#000000\"}, \"showarrow\": false}, {\"text\": \"\", \"x\": \"Q\", \"y\": \"X\", \"xref\": \"x1\", \"yref\": \"y1\", \"font\": {\"color\": \"#000000\"}, \"showarrow\": false}, {\"text\": \"\", \"x\": \"R\", \"y\": \"X\", \"xref\": \"x1\", \"yref\": \"y1\", \"font\": {\"color\": \"#000000\"}, \"showarrow\": false}, {\"text\": \"\", \"x\": \"S\", \"y\": \"X\", \"xref\": \"x1\", \"yref\": \"y1\", \"font\": {\"color\": \"#000000\"}, \"showarrow\": false}, {\"text\": \"\", \"x\": \"T\", \"y\": \"X\", \"xref\": \"x1\", \"yref\": \"y1\", \"font\": {\"color\": \"#000000\"}, \"showarrow\": false}, {\"text\": \"\", \"x\": \"U\", \"y\": \"X\", \"xref\": \"x1\", \"yref\": \"y1\", \"font\": {\"color\": \"#000000\"}, \"showarrow\": false}, {\"text\": \"\", \"x\": \"V\", \"y\": \"X\", \"xref\": \"x1\", \"yref\": \"y1\", \"font\": {\"color\": \"#000000\"}, \"showarrow\": false}, {\"text\": \"\", \"x\": \"W\", \"y\": \"X\", \"xref\": \"x1\", \"yref\": \"y1\", \"font\": {\"color\": \"#000000\"}, \"showarrow\": false}, {\"text\": \"0.73\", \"x\": \"X\", \"y\": \"X\", \"xref\": \"x1\", \"yref\": \"y1\", \"font\": {\"color\": \"#FFFFFF\"}, \"showarrow\": false}, {\"text\": \"0.01\", \"x\": \"Y\", \"y\": \"X\", \"xref\": \"x1\", \"yref\": \"y1\", \"font\": {\"color\": \"#000000\"}, \"showarrow\": false}, {\"text\": \"0.01\", \"x\": \"Z\", \"y\": \"X\", \"xref\": \"x1\", \"yref\": \"y1\", \"font\": {\"color\": \"#000000\"}, \"showarrow\": false}, {\"text\": \"0.02\", \"x\": \"N\", \"y\": \"Y\", \"xref\": \"x1\", \"yref\": \"y1\", \"font\": {\"color\": \"#000000\"}, \"showarrow\": false}, {\"text\": \"0.01\", \"x\": \"O\", \"y\": \"Y\", \"xref\": \"x1\", \"yref\": \"y1\", \"font\": {\"color\": \"#000000\"}, \"showarrow\": false}, {\"text\": \"\", \"x\": \"P\", \"y\": \"Y\", \"xref\": \"x1\", \"yref\": \"y1\", \"font\": {\"color\": \"#000000\"}, \"showarrow\": false}, {\"text\": \"0.01\", \"x\": \"Q\", \"y\": \"Y\", \"xref\": \"x1\", \"yref\": \"y1\", \"font\": {\"color\": \"#000000\"}, \"showarrow\": false}, {\"text\": \"0.01\", \"x\": \"R\", \"y\": \"Y\", \"xref\": \"x1\", \"yref\": \"y1\", \"font\": {\"color\": \"#000000\"}, \"showarrow\": false}, {\"text\": \"0.03\", \"x\": \"S\", \"y\": \"Y\", \"xref\": \"x1\", \"yref\": \"y1\", \"font\": {\"color\": \"#000000\"}, \"showarrow\": false}, {\"text\": \"\", \"x\": \"T\", \"y\": \"Y\", \"xref\": \"x1\", \"yref\": \"y1\", \"font\": {\"color\": \"#000000\"}, \"showarrow\": false}, {\"text\": \"\", \"x\": \"U\", \"y\": \"Y\", \"xref\": \"x1\", \"yref\": \"y1\", \"font\": {\"color\": \"#000000\"}, \"showarrow\": false}, {\"text\": \"0.01\", \"x\": \"V\", \"y\": \"Y\", \"xref\": \"x1\", \"yref\": \"y1\", \"font\": {\"color\": \"#000000\"}, \"showarrow\": false}, {\"text\": \"0.01\", \"x\": \"W\", \"y\": \"Y\", \"xref\": \"x1\", \"yref\": \"y1\", \"font\": {\"color\": \"#000000\"}, \"showarrow\": false}, {\"text\": \"\", \"x\": \"X\", \"y\": \"Y\", \"xref\": \"x1\", \"yref\": \"y1\", \"font\": {\"color\": \"#000000\"}, \"showarrow\": false}, {\"text\": \"0.70\", \"x\": \"Y\", \"y\": \"Y\", \"xref\": \"x1\", \"yref\": \"y1\", \"font\": {\"color\": \"#FFFFFF\"}, \"showarrow\": false}, {\"text\": \"0.03\", \"x\": \"Z\", \"y\": \"Y\", \"xref\": \"x1\", \"yref\": \"y1\", \"font\": {\"color\": \"#000000\"}, \"showarrow\": false}, {\"text\": \"\", \"x\": \"N\", \"y\": \"Z\", \"xref\": \"x1\", \"yref\": \"y1\", \"font\": {\"color\": \"#000000\"}, \"showarrow\": false}, {\"text\": \"\", \"x\": \"O\", \"y\": \"Z\", \"xref\": \"x1\", \"yref\": \"y1\", \"font\": {\"color\": \"#000000\"}, \"showarrow\": false}, {\"text\": \"\", \"x\": \"P\", \"y\": \"Z\", \"xref\": \"x1\", \"yref\": \"y1\", \"font\": {\"color\": \"#000000\"}, \"showarrow\": false}, {\"text\": \"\", \"x\": \"Q\", \"y\": \"Z\", \"xref\": \"x1\", \"yref\": \"y1\", \"font\": {\"color\": \"#000000\"}, \"showarrow\": false}, {\"text\": \"\", \"x\": \"R\", \"y\": \"Z\", \"xref\": \"x1\", \"yref\": \"y1\", \"font\": {\"color\": \"#000000\"}, \"showarrow\": false}, {\"text\": \"\", \"x\": \"S\", \"y\": \"Z\", \"xref\": \"x1\", \"yref\": \"y1\", \"font\": {\"color\": \"#000000\"}, \"showarrow\": false}, {\"text\": \"0.02\", \"x\": \"T\", \"y\": \"Z\", \"xref\": \"x1\", \"yref\": \"y1\", \"font\": {\"color\": \"#000000\"}, \"showarrow\": false}, {\"text\": \"\", \"x\": \"U\", \"y\": \"Z\", \"xref\": \"x1\", \"yref\": \"y1\", \"font\": {\"color\": \"#000000\"}, \"showarrow\": false}, {\"text\": \"\", \"x\": \"V\", \"y\": \"Z\", \"xref\": \"x1\", \"yref\": \"y1\", \"font\": {\"color\": \"#000000\"}, \"showarrow\": false}, {\"text\": \"\", \"x\": \"W\", \"y\": \"Z\", \"xref\": \"x1\", \"yref\": \"y1\", \"font\": {\"color\": \"#000000\"}, \"showarrow\": false}, {\"text\": \"0.01\", \"x\": \"X\", \"y\": \"Z\", \"xref\": \"x1\", \"yref\": \"y1\", \"font\": {\"color\": \"#000000\"}, \"showarrow\": false}, {\"text\": \"\", \"x\": \"Y\", \"y\": \"Z\", \"xref\": \"x1\", \"yref\": \"y1\", \"font\": {\"color\": \"#000000\"}, \"showarrow\": false}, {\"text\": \"0.77\", \"x\": \"Z\", \"y\": \"Z\", \"xref\": \"x1\", \"yref\": \"y1\", \"font\": {\"color\": \"#FFFFFF\"}, \"showarrow\": false}], \"xaxis\": {\"ticks\": \"\", \"dtick\": 1, \"side\": \"bottom\", \"gridcolor\": \"rgb(0, 0, 0)\", \"title\": \"Predicted values\"}, \"yaxis\": {\"ticks\": \"\", \"dtick\": 1, \"ticksuffix\": \"  \", \"anchor\": \"bottom\", \"title\": \"True values\"}, \"title\": \"Confusion Matrix of Uppercase NN\"}, {\"showLink\": false, \"linkText\": \"Export to plot.ly\"})});</script>"
      ]
     },
     "metadata": {},
     "output_type": "display_data"
    },
    {
     "data": {
      "application/vnd.plotly.v1+json": {
       "data": [
        {
         "colorbar": {
          "tickmode": "array"
         },
         "colorscale": [
          [
           0,
           "#e5e5ff"
          ],
          [
           0.05,
           "#cacaf0"
          ],
          [
           0.1,
           "#b0b0e1"
          ],
          [
           0.25,
           "#9494d2"
          ],
          [
           0.5,
           "#7a7ac3"
          ],
          [
           0.75,
           "#5e5eb4"
          ],
          [
           0.9,
           "#4444a5"
          ],
          [
           1,
           "#282896"
          ]
         ],
         "showscale": true,
         "type": "heatmap",
         "x": [
          "A",
          "B",
          "C",
          "D",
          "E",
          "F",
          "G",
          "H",
          "I",
          "J",
          "K",
          "L",
          "M"
         ],
         "xgap": 1.25,
         "y": [
          "A",
          "B",
          "C",
          "D",
          "E",
          "F",
          "G",
          "H",
          "I",
          "J",
          "K",
          "L",
          "M"
         ],
         "ygap": 1.25,
         "z": [
          [
           0.90380859375,
           0,
           0,
           0.014923095703125,
           0.0121917724609375,
           0.01204681396484375,
           0,
           0.0128173828125,
           0.029998779296875,
           0,
           0,
           0.050628662109375,
           0
          ],
          [
           0,
           0.8125,
           0,
           0.044769287109375,
           0,
           0.01204681396484375,
           0,
           0.0128173828125,
           0,
           0,
           0,
           0,
           0
          ],
          [
           0,
           0,
           0.88037109375,
           0,
           0.0121917724609375,
           0.01204681396484375,
           0.028167724609375,
           0,
           0.029998779296875,
           0.0151519775390625,
           0.07794189453125,
           0.01265716552734375,
           0
          ],
          [
           0,
           0,
           0,
           0.7314453125,
           0,
           0,
           0,
           0,
           0,
           0.030303955078125,
           0,
           0,
           0
          ],
          [
           0,
           0,
           0,
           0,
           0.7197265625,
           0.0361328125,
           0.0140838623046875,
           0,
           0,
           0,
           0,
           0.01265716552734375,
           0
          ],
          [
           0,
           0,
           0.014923095703125,
           0,
           0.07318115234375,
           0.84326171875,
           0,
           0,
           0.04998779296875,
           0,
           0.0129852294921875,
           0,
           0
          ],
          [
           0,
           0.0124969482421875,
           0.02984619140625,
           0,
           0.024383544921875,
           0,
           0.81689453125,
           0,
           0,
           0,
           0.0129852294921875,
           0,
           0.0140838623046875
          ],
          [
           0,
           0,
           0,
           0,
           0,
           0,
           0,
           0.74365234375,
           0.01000213623046875,
           0,
           0,
           0,
           0
          ],
          [
           0,
           0,
           0,
           0,
           0,
           0,
           0,
           0,
           0.68017578125,
           0.0151519775390625,
           0,
           0.050628662109375,
           0
          ],
          [
           0.0240936279296875,
           0.024993896484375,
           0,
           0.02984619140625,
           0.0121917724609375,
           0.0240936279296875,
           0,
           0.0128173828125,
           0.07000732421875,
           0.80322265625,
           0.0129852294921875,
           0.01265716552734375,
           0
          ],
          [
           0.01204681396484375,
           0,
           0.014923095703125,
           0,
           0,
           0.01204681396484375,
           0.028167724609375,
           0.025634765625,
           0.0200042724609375,
           0,
           0.75341796875,
           0,
           0.0140838623046875
          ],
          [
           0.01204681396484375,
           0.0124969482421875,
           0.014923095703125,
           0,
           0.036590576171875,
           0,
           0.0140838623046875,
           0,
           0,
           0,
           0,
           0.77197265625,
           0.0140838623046875
          ],
          [
           0,
           0,
           0,
           0.014923095703125,
           0,
           0,
           0,
           0.0640869140625,
           0.029998779296875,
           0,
           0.038970947265625,
           0,
           0.71826171875
          ]
         ]
        }
       ],
       "layout": {
        "annotations": [
         {
          "font": {
           "color": "#FFFFFF"
          },
          "showarrow": false,
          "text": "0.90",
          "x": "A",
          "xref": "x1",
          "y": "A",
          "yref": "y1"
         },
         {
          "font": {
           "color": "#000000"
          },
          "showarrow": false,
          "text": "",
          "x": "B",
          "xref": "x1",
          "y": "A",
          "yref": "y1"
         },
         {
          "font": {
           "color": "#000000"
          },
          "showarrow": false,
          "text": "",
          "x": "C",
          "xref": "x1",
          "y": "A",
          "yref": "y1"
         },
         {
          "font": {
           "color": "#000000"
          },
          "showarrow": false,
          "text": "0.01",
          "x": "D",
          "xref": "x1",
          "y": "A",
          "yref": "y1"
         },
         {
          "font": {
           "color": "#000000"
          },
          "showarrow": false,
          "text": "0.01",
          "x": "E",
          "xref": "x1",
          "y": "A",
          "yref": "y1"
         },
         {
          "font": {
           "color": "#000000"
          },
          "showarrow": false,
          "text": "0.01",
          "x": "F",
          "xref": "x1",
          "y": "A",
          "yref": "y1"
         },
         {
          "font": {
           "color": "#000000"
          },
          "showarrow": false,
          "text": "",
          "x": "G",
          "xref": "x1",
          "y": "A",
          "yref": "y1"
         },
         {
          "font": {
           "color": "#000000"
          },
          "showarrow": false,
          "text": "0.01",
          "x": "H",
          "xref": "x1",
          "y": "A",
          "yref": "y1"
         },
         {
          "font": {
           "color": "#000000"
          },
          "showarrow": false,
          "text": "0.03",
          "x": "I",
          "xref": "x1",
          "y": "A",
          "yref": "y1"
         },
         {
          "font": {
           "color": "#000000"
          },
          "showarrow": false,
          "text": "",
          "x": "J",
          "xref": "x1",
          "y": "A",
          "yref": "y1"
         },
         {
          "font": {
           "color": "#000000"
          },
          "showarrow": false,
          "text": "",
          "x": "K",
          "xref": "x1",
          "y": "A",
          "yref": "y1"
         },
         {
          "font": {
           "color": "#000000"
          },
          "showarrow": false,
          "text": "0.05",
          "x": "L",
          "xref": "x1",
          "y": "A",
          "yref": "y1"
         },
         {
          "font": {
           "color": "#000000"
          },
          "showarrow": false,
          "text": "",
          "x": "M",
          "xref": "x1",
          "y": "A",
          "yref": "y1"
         },
         {
          "font": {
           "color": "#000000"
          },
          "showarrow": false,
          "text": "",
          "x": "A",
          "xref": "x1",
          "y": "B",
          "yref": "y1"
         },
         {
          "font": {
           "color": "#FFFFFF"
          },
          "showarrow": false,
          "text": "0.81",
          "x": "B",
          "xref": "x1",
          "y": "B",
          "yref": "y1"
         },
         {
          "font": {
           "color": "#000000"
          },
          "showarrow": false,
          "text": "",
          "x": "C",
          "xref": "x1",
          "y": "B",
          "yref": "y1"
         },
         {
          "font": {
           "color": "#000000"
          },
          "showarrow": false,
          "text": "0.04",
          "x": "D",
          "xref": "x1",
          "y": "B",
          "yref": "y1"
         },
         {
          "font": {
           "color": "#000000"
          },
          "showarrow": false,
          "text": "",
          "x": "E",
          "xref": "x1",
          "y": "B",
          "yref": "y1"
         },
         {
          "font": {
           "color": "#000000"
          },
          "showarrow": false,
          "text": "0.01",
          "x": "F",
          "xref": "x1",
          "y": "B",
          "yref": "y1"
         },
         {
          "font": {
           "color": "#000000"
          },
          "showarrow": false,
          "text": "",
          "x": "G",
          "xref": "x1",
          "y": "B",
          "yref": "y1"
         },
         {
          "font": {
           "color": "#000000"
          },
          "showarrow": false,
          "text": "0.01",
          "x": "H",
          "xref": "x1",
          "y": "B",
          "yref": "y1"
         },
         {
          "font": {
           "color": "#000000"
          },
          "showarrow": false,
          "text": "",
          "x": "I",
          "xref": "x1",
          "y": "B",
          "yref": "y1"
         },
         {
          "font": {
           "color": "#000000"
          },
          "showarrow": false,
          "text": "",
          "x": "J",
          "xref": "x1",
          "y": "B",
          "yref": "y1"
         },
         {
          "font": {
           "color": "#000000"
          },
          "showarrow": false,
          "text": "",
          "x": "K",
          "xref": "x1",
          "y": "B",
          "yref": "y1"
         },
         {
          "font": {
           "color": "#000000"
          },
          "showarrow": false,
          "text": "",
          "x": "L",
          "xref": "x1",
          "y": "B",
          "yref": "y1"
         },
         {
          "font": {
           "color": "#000000"
          },
          "showarrow": false,
          "text": "",
          "x": "M",
          "xref": "x1",
          "y": "B",
          "yref": "y1"
         },
         {
          "font": {
           "color": "#000000"
          },
          "showarrow": false,
          "text": "",
          "x": "A",
          "xref": "x1",
          "y": "C",
          "yref": "y1"
         },
         {
          "font": {
           "color": "#000000"
          },
          "showarrow": false,
          "text": "",
          "x": "B",
          "xref": "x1",
          "y": "C",
          "yref": "y1"
         },
         {
          "font": {
           "color": "#FFFFFF"
          },
          "showarrow": false,
          "text": "0.88",
          "x": "C",
          "xref": "x1",
          "y": "C",
          "yref": "y1"
         },
         {
          "font": {
           "color": "#000000"
          },
          "showarrow": false,
          "text": "",
          "x": "D",
          "xref": "x1",
          "y": "C",
          "yref": "y1"
         },
         {
          "font": {
           "color": "#000000"
          },
          "showarrow": false,
          "text": "0.01",
          "x": "E",
          "xref": "x1",
          "y": "C",
          "yref": "y1"
         },
         {
          "font": {
           "color": "#000000"
          },
          "showarrow": false,
          "text": "0.01",
          "x": "F",
          "xref": "x1",
          "y": "C",
          "yref": "y1"
         },
         {
          "font": {
           "color": "#000000"
          },
          "showarrow": false,
          "text": "0.03",
          "x": "G",
          "xref": "x1",
          "y": "C",
          "yref": "y1"
         },
         {
          "font": {
           "color": "#000000"
          },
          "showarrow": false,
          "text": "",
          "x": "H",
          "xref": "x1",
          "y": "C",
          "yref": "y1"
         },
         {
          "font": {
           "color": "#000000"
          },
          "showarrow": false,
          "text": "0.03",
          "x": "I",
          "xref": "x1",
          "y": "C",
          "yref": "y1"
         },
         {
          "font": {
           "color": "#000000"
          },
          "showarrow": false,
          "text": "0.02",
          "x": "J",
          "xref": "x1",
          "y": "C",
          "yref": "y1"
         },
         {
          "font": {
           "color": "#000000"
          },
          "showarrow": false,
          "text": "0.08",
          "x": "K",
          "xref": "x1",
          "y": "C",
          "yref": "y1"
         },
         {
          "font": {
           "color": "#000000"
          },
          "showarrow": false,
          "text": "0.01",
          "x": "L",
          "xref": "x1",
          "y": "C",
          "yref": "y1"
         },
         {
          "font": {
           "color": "#000000"
          },
          "showarrow": false,
          "text": "",
          "x": "M",
          "xref": "x1",
          "y": "C",
          "yref": "y1"
         },
         {
          "font": {
           "color": "#000000"
          },
          "showarrow": false,
          "text": "",
          "x": "A",
          "xref": "x1",
          "y": "D",
          "yref": "y1"
         },
         {
          "font": {
           "color": "#000000"
          },
          "showarrow": false,
          "text": "",
          "x": "B",
          "xref": "x1",
          "y": "D",
          "yref": "y1"
         },
         {
          "font": {
           "color": "#000000"
          },
          "showarrow": false,
          "text": "",
          "x": "C",
          "xref": "x1",
          "y": "D",
          "yref": "y1"
         },
         {
          "font": {
           "color": "#FFFFFF"
          },
          "showarrow": false,
          "text": "0.73",
          "x": "D",
          "xref": "x1",
          "y": "D",
          "yref": "y1"
         },
         {
          "font": {
           "color": "#000000"
          },
          "showarrow": false,
          "text": "",
          "x": "E",
          "xref": "x1",
          "y": "D",
          "yref": "y1"
         },
         {
          "font": {
           "color": "#000000"
          },
          "showarrow": false,
          "text": "",
          "x": "F",
          "xref": "x1",
          "y": "D",
          "yref": "y1"
         },
         {
          "font": {
           "color": "#000000"
          },
          "showarrow": false,
          "text": "",
          "x": "G",
          "xref": "x1",
          "y": "D",
          "yref": "y1"
         },
         {
          "font": {
           "color": "#000000"
          },
          "showarrow": false,
          "text": "",
          "x": "H",
          "xref": "x1",
          "y": "D",
          "yref": "y1"
         },
         {
          "font": {
           "color": "#000000"
          },
          "showarrow": false,
          "text": "",
          "x": "I",
          "xref": "x1",
          "y": "D",
          "yref": "y1"
         },
         {
          "font": {
           "color": "#000000"
          },
          "showarrow": false,
          "text": "0.03",
          "x": "J",
          "xref": "x1",
          "y": "D",
          "yref": "y1"
         },
         {
          "font": {
           "color": "#000000"
          },
          "showarrow": false,
          "text": "",
          "x": "K",
          "xref": "x1",
          "y": "D",
          "yref": "y1"
         },
         {
          "font": {
           "color": "#000000"
          },
          "showarrow": false,
          "text": "",
          "x": "L",
          "xref": "x1",
          "y": "D",
          "yref": "y1"
         },
         {
          "font": {
           "color": "#000000"
          },
          "showarrow": false,
          "text": "",
          "x": "M",
          "xref": "x1",
          "y": "D",
          "yref": "y1"
         },
         {
          "font": {
           "color": "#000000"
          },
          "showarrow": false,
          "text": "",
          "x": "A",
          "xref": "x1",
          "y": "E",
          "yref": "y1"
         },
         {
          "font": {
           "color": "#000000"
          },
          "showarrow": false,
          "text": "",
          "x": "B",
          "xref": "x1",
          "y": "E",
          "yref": "y1"
         },
         {
          "font": {
           "color": "#000000"
          },
          "showarrow": false,
          "text": "",
          "x": "C",
          "xref": "x1",
          "y": "E",
          "yref": "y1"
         },
         {
          "font": {
           "color": "#000000"
          },
          "showarrow": false,
          "text": "",
          "x": "D",
          "xref": "x1",
          "y": "E",
          "yref": "y1"
         },
         {
          "font": {
           "color": "#FFFFFF"
          },
          "showarrow": false,
          "text": "0.72",
          "x": "E",
          "xref": "x1",
          "y": "E",
          "yref": "y1"
         },
         {
          "font": {
           "color": "#000000"
          },
          "showarrow": false,
          "text": "0.04",
          "x": "F",
          "xref": "x1",
          "y": "E",
          "yref": "y1"
         },
         {
          "font": {
           "color": "#000000"
          },
          "showarrow": false,
          "text": "0.01",
          "x": "G",
          "xref": "x1",
          "y": "E",
          "yref": "y1"
         },
         {
          "font": {
           "color": "#000000"
          },
          "showarrow": false,
          "text": "",
          "x": "H",
          "xref": "x1",
          "y": "E",
          "yref": "y1"
         },
         {
          "font": {
           "color": "#000000"
          },
          "showarrow": false,
          "text": "",
          "x": "I",
          "xref": "x1",
          "y": "E",
          "yref": "y1"
         },
         {
          "font": {
           "color": "#000000"
          },
          "showarrow": false,
          "text": "",
          "x": "J",
          "xref": "x1",
          "y": "E",
          "yref": "y1"
         },
         {
          "font": {
           "color": "#000000"
          },
          "showarrow": false,
          "text": "",
          "x": "K",
          "xref": "x1",
          "y": "E",
          "yref": "y1"
         },
         {
          "font": {
           "color": "#000000"
          },
          "showarrow": false,
          "text": "0.01",
          "x": "L",
          "xref": "x1",
          "y": "E",
          "yref": "y1"
         },
         {
          "font": {
           "color": "#000000"
          },
          "showarrow": false,
          "text": "",
          "x": "M",
          "xref": "x1",
          "y": "E",
          "yref": "y1"
         },
         {
          "font": {
           "color": "#000000"
          },
          "showarrow": false,
          "text": "",
          "x": "A",
          "xref": "x1",
          "y": "F",
          "yref": "y1"
         },
         {
          "font": {
           "color": "#000000"
          },
          "showarrow": false,
          "text": "",
          "x": "B",
          "xref": "x1",
          "y": "F",
          "yref": "y1"
         },
         {
          "font": {
           "color": "#000000"
          },
          "showarrow": false,
          "text": "0.01",
          "x": "C",
          "xref": "x1",
          "y": "F",
          "yref": "y1"
         },
         {
          "font": {
           "color": "#000000"
          },
          "showarrow": false,
          "text": "",
          "x": "D",
          "xref": "x1",
          "y": "F",
          "yref": "y1"
         },
         {
          "font": {
           "color": "#000000"
          },
          "showarrow": false,
          "text": "0.07",
          "x": "E",
          "xref": "x1",
          "y": "F",
          "yref": "y1"
         },
         {
          "font": {
           "color": "#FFFFFF"
          },
          "showarrow": false,
          "text": "0.84",
          "x": "F",
          "xref": "x1",
          "y": "F",
          "yref": "y1"
         },
         {
          "font": {
           "color": "#000000"
          },
          "showarrow": false,
          "text": "",
          "x": "G",
          "xref": "x1",
          "y": "F",
          "yref": "y1"
         },
         {
          "font": {
           "color": "#000000"
          },
          "showarrow": false,
          "text": "",
          "x": "H",
          "xref": "x1",
          "y": "F",
          "yref": "y1"
         },
         {
          "font": {
           "color": "#000000"
          },
          "showarrow": false,
          "text": "0.05",
          "x": "I",
          "xref": "x1",
          "y": "F",
          "yref": "y1"
         },
         {
          "font": {
           "color": "#000000"
          },
          "showarrow": false,
          "text": "",
          "x": "J",
          "xref": "x1",
          "y": "F",
          "yref": "y1"
         },
         {
          "font": {
           "color": "#000000"
          },
          "showarrow": false,
          "text": "0.01",
          "x": "K",
          "xref": "x1",
          "y": "F",
          "yref": "y1"
         },
         {
          "font": {
           "color": "#000000"
          },
          "showarrow": false,
          "text": "",
          "x": "L",
          "xref": "x1",
          "y": "F",
          "yref": "y1"
         },
         {
          "font": {
           "color": "#000000"
          },
          "showarrow": false,
          "text": "",
          "x": "M",
          "xref": "x1",
          "y": "F",
          "yref": "y1"
         },
         {
          "font": {
           "color": "#000000"
          },
          "showarrow": false,
          "text": "",
          "x": "A",
          "xref": "x1",
          "y": "G",
          "yref": "y1"
         },
         {
          "font": {
           "color": "#000000"
          },
          "showarrow": false,
          "text": "0.01",
          "x": "B",
          "xref": "x1",
          "y": "G",
          "yref": "y1"
         },
         {
          "font": {
           "color": "#000000"
          },
          "showarrow": false,
          "text": "0.03",
          "x": "C",
          "xref": "x1",
          "y": "G",
          "yref": "y1"
         },
         {
          "font": {
           "color": "#000000"
          },
          "showarrow": false,
          "text": "",
          "x": "D",
          "xref": "x1",
          "y": "G",
          "yref": "y1"
         },
         {
          "font": {
           "color": "#000000"
          },
          "showarrow": false,
          "text": "0.02",
          "x": "E",
          "xref": "x1",
          "y": "G",
          "yref": "y1"
         },
         {
          "font": {
           "color": "#000000"
          },
          "showarrow": false,
          "text": "",
          "x": "F",
          "xref": "x1",
          "y": "G",
          "yref": "y1"
         },
         {
          "font": {
           "color": "#FFFFFF"
          },
          "showarrow": false,
          "text": "0.82",
          "x": "G",
          "xref": "x1",
          "y": "G",
          "yref": "y1"
         },
         {
          "font": {
           "color": "#000000"
          },
          "showarrow": false,
          "text": "",
          "x": "H",
          "xref": "x1",
          "y": "G",
          "yref": "y1"
         },
         {
          "font": {
           "color": "#000000"
          },
          "showarrow": false,
          "text": "",
          "x": "I",
          "xref": "x1",
          "y": "G",
          "yref": "y1"
         },
         {
          "font": {
           "color": "#000000"
          },
          "showarrow": false,
          "text": "",
          "x": "J",
          "xref": "x1",
          "y": "G",
          "yref": "y1"
         },
         {
          "font": {
           "color": "#000000"
          },
          "showarrow": false,
          "text": "0.01",
          "x": "K",
          "xref": "x1",
          "y": "G",
          "yref": "y1"
         },
         {
          "font": {
           "color": "#000000"
          },
          "showarrow": false,
          "text": "",
          "x": "L",
          "xref": "x1",
          "y": "G",
          "yref": "y1"
         },
         {
          "font": {
           "color": "#000000"
          },
          "showarrow": false,
          "text": "0.01",
          "x": "M",
          "xref": "x1",
          "y": "G",
          "yref": "y1"
         },
         {
          "font": {
           "color": "#000000"
          },
          "showarrow": false,
          "text": "",
          "x": "A",
          "xref": "x1",
          "y": "H",
          "yref": "y1"
         },
         {
          "font": {
           "color": "#000000"
          },
          "showarrow": false,
          "text": "",
          "x": "B",
          "xref": "x1",
          "y": "H",
          "yref": "y1"
         },
         {
          "font": {
           "color": "#000000"
          },
          "showarrow": false,
          "text": "",
          "x": "C",
          "xref": "x1",
          "y": "H",
          "yref": "y1"
         },
         {
          "font": {
           "color": "#000000"
          },
          "showarrow": false,
          "text": "",
          "x": "D",
          "xref": "x1",
          "y": "H",
          "yref": "y1"
         },
         {
          "font": {
           "color": "#000000"
          },
          "showarrow": false,
          "text": "",
          "x": "E",
          "xref": "x1",
          "y": "H",
          "yref": "y1"
         },
         {
          "font": {
           "color": "#000000"
          },
          "showarrow": false,
          "text": "",
          "x": "F",
          "xref": "x1",
          "y": "H",
          "yref": "y1"
         },
         {
          "font": {
           "color": "#000000"
          },
          "showarrow": false,
          "text": "",
          "x": "G",
          "xref": "x1",
          "y": "H",
          "yref": "y1"
         },
         {
          "font": {
           "color": "#FFFFFF"
          },
          "showarrow": false,
          "text": "0.74",
          "x": "H",
          "xref": "x1",
          "y": "H",
          "yref": "y1"
         },
         {
          "font": {
           "color": "#000000"
          },
          "showarrow": false,
          "text": "0.01",
          "x": "I",
          "xref": "x1",
          "y": "H",
          "yref": "y1"
         },
         {
          "font": {
           "color": "#000000"
          },
          "showarrow": false,
          "text": "",
          "x": "J",
          "xref": "x1",
          "y": "H",
          "yref": "y1"
         },
         {
          "font": {
           "color": "#000000"
          },
          "showarrow": false,
          "text": "",
          "x": "K",
          "xref": "x1",
          "y": "H",
          "yref": "y1"
         },
         {
          "font": {
           "color": "#000000"
          },
          "showarrow": false,
          "text": "",
          "x": "L",
          "xref": "x1",
          "y": "H",
          "yref": "y1"
         },
         {
          "font": {
           "color": "#000000"
          },
          "showarrow": false,
          "text": "",
          "x": "M",
          "xref": "x1",
          "y": "H",
          "yref": "y1"
         },
         {
          "font": {
           "color": "#000000"
          },
          "showarrow": false,
          "text": "",
          "x": "A",
          "xref": "x1",
          "y": "I",
          "yref": "y1"
         },
         {
          "font": {
           "color": "#000000"
          },
          "showarrow": false,
          "text": "",
          "x": "B",
          "xref": "x1",
          "y": "I",
          "yref": "y1"
         },
         {
          "font": {
           "color": "#000000"
          },
          "showarrow": false,
          "text": "",
          "x": "C",
          "xref": "x1",
          "y": "I",
          "yref": "y1"
         },
         {
          "font": {
           "color": "#000000"
          },
          "showarrow": false,
          "text": "",
          "x": "D",
          "xref": "x1",
          "y": "I",
          "yref": "y1"
         },
         {
          "font": {
           "color": "#000000"
          },
          "showarrow": false,
          "text": "",
          "x": "E",
          "xref": "x1",
          "y": "I",
          "yref": "y1"
         },
         {
          "font": {
           "color": "#000000"
          },
          "showarrow": false,
          "text": "",
          "x": "F",
          "xref": "x1",
          "y": "I",
          "yref": "y1"
         },
         {
          "font": {
           "color": "#000000"
          },
          "showarrow": false,
          "text": "",
          "x": "G",
          "xref": "x1",
          "y": "I",
          "yref": "y1"
         },
         {
          "font": {
           "color": "#000000"
          },
          "showarrow": false,
          "text": "",
          "x": "H",
          "xref": "x1",
          "y": "I",
          "yref": "y1"
         },
         {
          "font": {
           "color": "#FFFFFF"
          },
          "showarrow": false,
          "text": "0.68",
          "x": "I",
          "xref": "x1",
          "y": "I",
          "yref": "y1"
         },
         {
          "font": {
           "color": "#000000"
          },
          "showarrow": false,
          "text": "0.02",
          "x": "J",
          "xref": "x1",
          "y": "I",
          "yref": "y1"
         },
         {
          "font": {
           "color": "#000000"
          },
          "showarrow": false,
          "text": "",
          "x": "K",
          "xref": "x1",
          "y": "I",
          "yref": "y1"
         },
         {
          "font": {
           "color": "#000000"
          },
          "showarrow": false,
          "text": "0.05",
          "x": "L",
          "xref": "x1",
          "y": "I",
          "yref": "y1"
         },
         {
          "font": {
           "color": "#000000"
          },
          "showarrow": false,
          "text": "",
          "x": "M",
          "xref": "x1",
          "y": "I",
          "yref": "y1"
         },
         {
          "font": {
           "color": "#000000"
          },
          "showarrow": false,
          "text": "0.02",
          "x": "A",
          "xref": "x1",
          "y": "J",
          "yref": "y1"
         },
         {
          "font": {
           "color": "#000000"
          },
          "showarrow": false,
          "text": "0.02",
          "x": "B",
          "xref": "x1",
          "y": "J",
          "yref": "y1"
         },
         {
          "font": {
           "color": "#000000"
          },
          "showarrow": false,
          "text": "",
          "x": "C",
          "xref": "x1",
          "y": "J",
          "yref": "y1"
         },
         {
          "font": {
           "color": "#000000"
          },
          "showarrow": false,
          "text": "0.03",
          "x": "D",
          "xref": "x1",
          "y": "J",
          "yref": "y1"
         },
         {
          "font": {
           "color": "#000000"
          },
          "showarrow": false,
          "text": "0.01",
          "x": "E",
          "xref": "x1",
          "y": "J",
          "yref": "y1"
         },
         {
          "font": {
           "color": "#000000"
          },
          "showarrow": false,
          "text": "0.02",
          "x": "F",
          "xref": "x1",
          "y": "J",
          "yref": "y1"
         },
         {
          "font": {
           "color": "#000000"
          },
          "showarrow": false,
          "text": "",
          "x": "G",
          "xref": "x1",
          "y": "J",
          "yref": "y1"
         },
         {
          "font": {
           "color": "#000000"
          },
          "showarrow": false,
          "text": "0.01",
          "x": "H",
          "xref": "x1",
          "y": "J",
          "yref": "y1"
         },
         {
          "font": {
           "color": "#000000"
          },
          "showarrow": false,
          "text": "0.07",
          "x": "I",
          "xref": "x1",
          "y": "J",
          "yref": "y1"
         },
         {
          "font": {
           "color": "#FFFFFF"
          },
          "showarrow": false,
          "text": "0.80",
          "x": "J",
          "xref": "x1",
          "y": "J",
          "yref": "y1"
         },
         {
          "font": {
           "color": "#000000"
          },
          "showarrow": false,
          "text": "0.01",
          "x": "K",
          "xref": "x1",
          "y": "J",
          "yref": "y1"
         },
         {
          "font": {
           "color": "#000000"
          },
          "showarrow": false,
          "text": "0.01",
          "x": "L",
          "xref": "x1",
          "y": "J",
          "yref": "y1"
         },
         {
          "font": {
           "color": "#000000"
          },
          "showarrow": false,
          "text": "",
          "x": "M",
          "xref": "x1",
          "y": "J",
          "yref": "y1"
         },
         {
          "font": {
           "color": "#000000"
          },
          "showarrow": false,
          "text": "0.01",
          "x": "A",
          "xref": "x1",
          "y": "K",
          "yref": "y1"
         },
         {
          "font": {
           "color": "#000000"
          },
          "showarrow": false,
          "text": "",
          "x": "B",
          "xref": "x1",
          "y": "K",
          "yref": "y1"
         },
         {
          "font": {
           "color": "#000000"
          },
          "showarrow": false,
          "text": "0.01",
          "x": "C",
          "xref": "x1",
          "y": "K",
          "yref": "y1"
         },
         {
          "font": {
           "color": "#000000"
          },
          "showarrow": false,
          "text": "",
          "x": "D",
          "xref": "x1",
          "y": "K",
          "yref": "y1"
         },
         {
          "font": {
           "color": "#000000"
          },
          "showarrow": false,
          "text": "",
          "x": "E",
          "xref": "x1",
          "y": "K",
          "yref": "y1"
         },
         {
          "font": {
           "color": "#000000"
          },
          "showarrow": false,
          "text": "0.01",
          "x": "F",
          "xref": "x1",
          "y": "K",
          "yref": "y1"
         },
         {
          "font": {
           "color": "#000000"
          },
          "showarrow": false,
          "text": "0.03",
          "x": "G",
          "xref": "x1",
          "y": "K",
          "yref": "y1"
         },
         {
          "font": {
           "color": "#000000"
          },
          "showarrow": false,
          "text": "0.03",
          "x": "H",
          "xref": "x1",
          "y": "K",
          "yref": "y1"
         },
         {
          "font": {
           "color": "#000000"
          },
          "showarrow": false,
          "text": "0.02",
          "x": "I",
          "xref": "x1",
          "y": "K",
          "yref": "y1"
         },
         {
          "font": {
           "color": "#000000"
          },
          "showarrow": false,
          "text": "",
          "x": "J",
          "xref": "x1",
          "y": "K",
          "yref": "y1"
         },
         {
          "font": {
           "color": "#FFFFFF"
          },
          "showarrow": false,
          "text": "0.75",
          "x": "K",
          "xref": "x1",
          "y": "K",
          "yref": "y1"
         },
         {
          "font": {
           "color": "#000000"
          },
          "showarrow": false,
          "text": "",
          "x": "L",
          "xref": "x1",
          "y": "K",
          "yref": "y1"
         },
         {
          "font": {
           "color": "#000000"
          },
          "showarrow": false,
          "text": "0.01",
          "x": "M",
          "xref": "x1",
          "y": "K",
          "yref": "y1"
         },
         {
          "font": {
           "color": "#000000"
          },
          "showarrow": false,
          "text": "0.01",
          "x": "A",
          "xref": "x1",
          "y": "L",
          "yref": "y1"
         },
         {
          "font": {
           "color": "#000000"
          },
          "showarrow": false,
          "text": "0.01",
          "x": "B",
          "xref": "x1",
          "y": "L",
          "yref": "y1"
         },
         {
          "font": {
           "color": "#000000"
          },
          "showarrow": false,
          "text": "0.01",
          "x": "C",
          "xref": "x1",
          "y": "L",
          "yref": "y1"
         },
         {
          "font": {
           "color": "#000000"
          },
          "showarrow": false,
          "text": "",
          "x": "D",
          "xref": "x1",
          "y": "L",
          "yref": "y1"
         },
         {
          "font": {
           "color": "#000000"
          },
          "showarrow": false,
          "text": "0.04",
          "x": "E",
          "xref": "x1",
          "y": "L",
          "yref": "y1"
         },
         {
          "font": {
           "color": "#000000"
          },
          "showarrow": false,
          "text": "",
          "x": "F",
          "xref": "x1",
          "y": "L",
          "yref": "y1"
         },
         {
          "font": {
           "color": "#000000"
          },
          "showarrow": false,
          "text": "0.01",
          "x": "G",
          "xref": "x1",
          "y": "L",
          "yref": "y1"
         },
         {
          "font": {
           "color": "#000000"
          },
          "showarrow": false,
          "text": "",
          "x": "H",
          "xref": "x1",
          "y": "L",
          "yref": "y1"
         },
         {
          "font": {
           "color": "#000000"
          },
          "showarrow": false,
          "text": "",
          "x": "I",
          "xref": "x1",
          "y": "L",
          "yref": "y1"
         },
         {
          "font": {
           "color": "#000000"
          },
          "showarrow": false,
          "text": "",
          "x": "J",
          "xref": "x1",
          "y": "L",
          "yref": "y1"
         },
         {
          "font": {
           "color": "#000000"
          },
          "showarrow": false,
          "text": "",
          "x": "K",
          "xref": "x1",
          "y": "L",
          "yref": "y1"
         },
         {
          "font": {
           "color": "#FFFFFF"
          },
          "showarrow": false,
          "text": "0.77",
          "x": "L",
          "xref": "x1",
          "y": "L",
          "yref": "y1"
         },
         {
          "font": {
           "color": "#000000"
          },
          "showarrow": false,
          "text": "0.01",
          "x": "M",
          "xref": "x1",
          "y": "L",
          "yref": "y1"
         },
         {
          "font": {
           "color": "#000000"
          },
          "showarrow": false,
          "text": "",
          "x": "A",
          "xref": "x1",
          "y": "M",
          "yref": "y1"
         },
         {
          "font": {
           "color": "#000000"
          },
          "showarrow": false,
          "text": "",
          "x": "B",
          "xref": "x1",
          "y": "M",
          "yref": "y1"
         },
         {
          "font": {
           "color": "#000000"
          },
          "showarrow": false,
          "text": "",
          "x": "C",
          "xref": "x1",
          "y": "M",
          "yref": "y1"
         },
         {
          "font": {
           "color": "#000000"
          },
          "showarrow": false,
          "text": "0.01",
          "x": "D",
          "xref": "x1",
          "y": "M",
          "yref": "y1"
         },
         {
          "font": {
           "color": "#000000"
          },
          "showarrow": false,
          "text": "",
          "x": "E",
          "xref": "x1",
          "y": "M",
          "yref": "y1"
         },
         {
          "font": {
           "color": "#000000"
          },
          "showarrow": false,
          "text": "",
          "x": "F",
          "xref": "x1",
          "y": "M",
          "yref": "y1"
         },
         {
          "font": {
           "color": "#000000"
          },
          "showarrow": false,
          "text": "",
          "x": "G",
          "xref": "x1",
          "y": "M",
          "yref": "y1"
         },
         {
          "font": {
           "color": "#000000"
          },
          "showarrow": false,
          "text": "0.06",
          "x": "H",
          "xref": "x1",
          "y": "M",
          "yref": "y1"
         },
         {
          "font": {
           "color": "#000000"
          },
          "showarrow": false,
          "text": "0.03",
          "x": "I",
          "xref": "x1",
          "y": "M",
          "yref": "y1"
         },
         {
          "font": {
           "color": "#000000"
          },
          "showarrow": false,
          "text": "",
          "x": "J",
          "xref": "x1",
          "y": "M",
          "yref": "y1"
         },
         {
          "font": {
           "color": "#000000"
          },
          "showarrow": false,
          "text": "0.04",
          "x": "K",
          "xref": "x1",
          "y": "M",
          "yref": "y1"
         },
         {
          "font": {
           "color": "#000000"
          },
          "showarrow": false,
          "text": "",
          "x": "L",
          "xref": "x1",
          "y": "M",
          "yref": "y1"
         },
         {
          "font": {
           "color": "#FFFFFF"
          },
          "showarrow": false,
          "text": "0.72",
          "x": "M",
          "xref": "x1",
          "y": "M",
          "yref": "y1"
         }
        ],
        "xaxis": {
         "dtick": 1,
         "gridcolor": "rgb(0, 0, 0)",
         "side": "bottom",
         "ticks": "",
         "title": "Predicted values"
        },
        "yaxis": {
         "anchor": "bottom",
         "dtick": 1,
         "ticks": "",
         "ticksuffix": "  ",
         "title": "True values"
        }
       }
      },
      "text/html": [
       "<div id=\"5bfc4643-0f0d-4436-b1df-4561dddfdc77\" style=\"height: 525px; width: 100%;\" class=\"plotly-graph-div\"></div><script type=\"text/javascript\">require([\"plotly\"], function(Plotly) { window.PLOTLYENV=window.PLOTLYENV || {};window.PLOTLYENV.BASE_URL=\"https://plot.ly\";Plotly.newPlot(\"5bfc4643-0f0d-4436-b1df-4561dddfdc77\", [{\"type\": \"heatmap\", \"z\": [[0.90380859375, 0.0, 0.0, 0.014923095703125, 0.0121917724609375, 0.01204681396484375, 0.0, 0.0128173828125, 0.029998779296875, 0.0, 0.0, 0.050628662109375, 0.0], [0.0, 0.8125, 0.0, 0.044769287109375, 0.0, 0.01204681396484375, 0.0, 0.0128173828125, 0.0, 0.0, 0.0, 0.0, 0.0], [0.0, 0.0, 0.88037109375, 0.0, 0.0121917724609375, 0.01204681396484375, 0.028167724609375, 0.0, 0.029998779296875, 0.0151519775390625, 0.07794189453125, 0.01265716552734375, 0.0], [0.0, 0.0, 0.0, 0.7314453125, 0.0, 0.0, 0.0, 0.0, 0.0, 0.030303955078125, 0.0, 0.0, 0.0], [0.0, 0.0, 0.0, 0.0, 0.7197265625, 0.0361328125, 0.0140838623046875, 0.0, 0.0, 0.0, 0.0, 0.01265716552734375, 0.0], [0.0, 0.0, 0.014923095703125, 0.0, 0.07318115234375, 0.84326171875, 0.0, 0.0, 0.04998779296875, 0.0, 0.0129852294921875, 0.0, 0.0], [0.0, 0.0124969482421875, 0.02984619140625, 0.0, 0.024383544921875, 0.0, 0.81689453125, 0.0, 0.0, 0.0, 0.0129852294921875, 0.0, 0.0140838623046875], [0.0, 0.0, 0.0, 0.0, 0.0, 0.0, 0.0, 0.74365234375, 0.01000213623046875, 0.0, 0.0, 0.0, 0.0], [0.0, 0.0, 0.0, 0.0, 0.0, 0.0, 0.0, 0.0, 0.68017578125, 0.0151519775390625, 0.0, 0.050628662109375, 0.0], [0.0240936279296875, 0.024993896484375, 0.0, 0.02984619140625, 0.0121917724609375, 0.0240936279296875, 0.0, 0.0128173828125, 0.07000732421875, 0.80322265625, 0.0129852294921875, 0.01265716552734375, 0.0], [0.01204681396484375, 0.0, 0.014923095703125, 0.0, 0.0, 0.01204681396484375, 0.028167724609375, 0.025634765625, 0.0200042724609375, 0.0, 0.75341796875, 0.0, 0.0140838623046875], [0.01204681396484375, 0.0124969482421875, 0.014923095703125, 0.0, 0.036590576171875, 0.0, 0.0140838623046875, 0.0, 0.0, 0.0, 0.0, 0.77197265625, 0.0140838623046875], [0.0, 0.0, 0.0, 0.014923095703125, 0.0, 0.0, 0.0, 0.0640869140625, 0.029998779296875, 0.0, 0.038970947265625, 0.0, 0.71826171875]], \"x\": [\"A\", \"B\", \"C\", \"D\", \"E\", \"F\", \"G\", \"H\", \"I\", \"J\", \"K\", \"L\", \"M\"], \"y\": [\"A\", \"B\", \"C\", \"D\", \"E\", \"F\", \"G\", \"H\", \"I\", \"J\", \"K\", \"L\", \"M\"], \"colorscale\": [[0.0, \"#e5e5ff\"], [0.05, \"#cacaf0\"], [0.1, \"#b0b0e1\"], [0.25, \"#9494d2\"], [0.5, \"#7a7ac3\"], [0.75, \"#5e5eb4\"], [0.9, \"#4444a5\"], [1.0, \"#282896\"]], \"showscale\": true, \"xgap\": 1.25, \"ygap\": 1.25, \"colorbar\": {\"tickmode\": \"array\"}}], {\"annotations\": [{\"text\": \"0.90\", \"x\": \"A\", \"y\": \"A\", \"xref\": \"x1\", \"yref\": \"y1\", \"font\": {\"color\": \"#FFFFFF\"}, \"showarrow\": false}, {\"text\": \"\", \"x\": \"B\", \"y\": \"A\", \"xref\": \"x1\", \"yref\": \"y1\", \"font\": {\"color\": \"#000000\"}, \"showarrow\": false}, {\"text\": \"\", \"x\": \"C\", \"y\": \"A\", \"xref\": \"x1\", \"yref\": \"y1\", \"font\": {\"color\": \"#000000\"}, \"showarrow\": false}, {\"text\": \"0.01\", \"x\": \"D\", \"y\": \"A\", \"xref\": \"x1\", \"yref\": \"y1\", \"font\": {\"color\": \"#000000\"}, \"showarrow\": false}, {\"text\": \"0.01\", \"x\": \"E\", \"y\": \"A\", \"xref\": \"x1\", \"yref\": \"y1\", \"font\": {\"color\": \"#000000\"}, \"showarrow\": false}, {\"text\": \"0.01\", \"x\": \"F\", \"y\": \"A\", \"xref\": \"x1\", \"yref\": \"y1\", \"font\": {\"color\": \"#000000\"}, \"showarrow\": false}, {\"text\": \"\", \"x\": \"G\", \"y\": \"A\", \"xref\": \"x1\", \"yref\": \"y1\", \"font\": {\"color\": \"#000000\"}, \"showarrow\": false}, {\"text\": \"0.01\", \"x\": \"H\", \"y\": \"A\", \"xref\": \"x1\", \"yref\": \"y1\", \"font\": {\"color\": \"#000000\"}, \"showarrow\": false}, {\"text\": \"0.03\", \"x\": \"I\", \"y\": \"A\", \"xref\": \"x1\", \"yref\": \"y1\", \"font\": {\"color\": \"#000000\"}, \"showarrow\": false}, {\"text\": \"\", \"x\": \"J\", \"y\": \"A\", \"xref\": \"x1\", \"yref\": \"y1\", \"font\": {\"color\": \"#000000\"}, \"showarrow\": false}, {\"text\": \"\", \"x\": \"K\", \"y\": \"A\", \"xref\": \"x1\", \"yref\": \"y1\", \"font\": {\"color\": \"#000000\"}, \"showarrow\": false}, {\"text\": \"0.05\", \"x\": \"L\", \"y\": \"A\", \"xref\": \"x1\", \"yref\": \"y1\", \"font\": {\"color\": \"#000000\"}, \"showarrow\": false}, {\"text\": \"\", \"x\": \"M\", \"y\": \"A\", \"xref\": \"x1\", \"yref\": \"y1\", \"font\": {\"color\": \"#000000\"}, \"showarrow\": false}, {\"text\": \"\", \"x\": \"A\", \"y\": \"B\", \"xref\": \"x1\", \"yref\": \"y1\", \"font\": {\"color\": \"#000000\"}, \"showarrow\": false}, {\"text\": \"0.81\", \"x\": \"B\", \"y\": \"B\", \"xref\": \"x1\", \"yref\": \"y1\", \"font\": {\"color\": \"#FFFFFF\"}, \"showarrow\": false}, {\"text\": \"\", \"x\": \"C\", \"y\": \"B\", \"xref\": \"x1\", \"yref\": \"y1\", \"font\": {\"color\": \"#000000\"}, \"showarrow\": false}, {\"text\": \"0.04\", \"x\": \"D\", \"y\": \"B\", \"xref\": \"x1\", \"yref\": \"y1\", \"font\": {\"color\": \"#000000\"}, \"showarrow\": false}, {\"text\": \"\", \"x\": \"E\", \"y\": \"B\", \"xref\": \"x1\", \"yref\": \"y1\", \"font\": {\"color\": \"#000000\"}, \"showarrow\": false}, {\"text\": \"0.01\", \"x\": \"F\", \"y\": \"B\", \"xref\": \"x1\", \"yref\": \"y1\", \"font\": {\"color\": \"#000000\"}, \"showarrow\": false}, {\"text\": \"\", \"x\": \"G\", \"y\": \"B\", \"xref\": \"x1\", \"yref\": \"y1\", \"font\": {\"color\": \"#000000\"}, \"showarrow\": false}, {\"text\": \"0.01\", \"x\": \"H\", \"y\": \"B\", \"xref\": \"x1\", \"yref\": \"y1\", \"font\": {\"color\": \"#000000\"}, \"showarrow\": false}, {\"text\": \"\", \"x\": \"I\", \"y\": \"B\", \"xref\": \"x1\", \"yref\": \"y1\", \"font\": {\"color\": \"#000000\"}, \"showarrow\": false}, {\"text\": \"\", \"x\": \"J\", \"y\": \"B\", \"xref\": \"x1\", \"yref\": \"y1\", \"font\": {\"color\": \"#000000\"}, \"showarrow\": false}, {\"text\": \"\", \"x\": \"K\", \"y\": \"B\", \"xref\": \"x1\", \"yref\": \"y1\", \"font\": {\"color\": \"#000000\"}, \"showarrow\": false}, {\"text\": \"\", \"x\": \"L\", \"y\": \"B\", \"xref\": \"x1\", \"yref\": \"y1\", \"font\": {\"color\": \"#000000\"}, \"showarrow\": false}, {\"text\": \"\", \"x\": \"M\", \"y\": \"B\", \"xref\": \"x1\", \"yref\": \"y1\", \"font\": {\"color\": \"#000000\"}, \"showarrow\": false}, {\"text\": \"\", \"x\": \"A\", \"y\": \"C\", \"xref\": \"x1\", \"yref\": \"y1\", \"font\": {\"color\": \"#000000\"}, \"showarrow\": false}, {\"text\": \"\", \"x\": \"B\", \"y\": \"C\", \"xref\": \"x1\", \"yref\": \"y1\", \"font\": {\"color\": \"#000000\"}, \"showarrow\": false}, {\"text\": \"0.88\", \"x\": \"C\", \"y\": \"C\", \"xref\": \"x1\", \"yref\": \"y1\", \"font\": {\"color\": \"#FFFFFF\"}, \"showarrow\": false}, {\"text\": \"\", \"x\": \"D\", \"y\": \"C\", \"xref\": \"x1\", \"yref\": \"y1\", \"font\": {\"color\": \"#000000\"}, \"showarrow\": false}, {\"text\": \"0.01\", \"x\": \"E\", \"y\": \"C\", \"xref\": \"x1\", \"yref\": \"y1\", \"font\": {\"color\": \"#000000\"}, \"showarrow\": false}, {\"text\": \"0.01\", \"x\": \"F\", \"y\": \"C\", \"xref\": \"x1\", \"yref\": \"y1\", \"font\": {\"color\": \"#000000\"}, \"showarrow\": false}, {\"text\": \"0.03\", \"x\": \"G\", \"y\": \"C\", \"xref\": \"x1\", \"yref\": \"y1\", \"font\": {\"color\": \"#000000\"}, \"showarrow\": false}, {\"text\": \"\", \"x\": \"H\", \"y\": \"C\", \"xref\": \"x1\", \"yref\": \"y1\", \"font\": {\"color\": \"#000000\"}, \"showarrow\": false}, {\"text\": \"0.03\", \"x\": \"I\", \"y\": \"C\", \"xref\": \"x1\", \"yref\": \"y1\", \"font\": {\"color\": \"#000000\"}, \"showarrow\": false}, {\"text\": \"0.02\", \"x\": \"J\", \"y\": \"C\", \"xref\": \"x1\", \"yref\": \"y1\", \"font\": {\"color\": \"#000000\"}, \"showarrow\": false}, {\"text\": \"0.08\", \"x\": \"K\", \"y\": \"C\", \"xref\": \"x1\", \"yref\": \"y1\", \"font\": {\"color\": \"#000000\"}, \"showarrow\": false}, {\"text\": \"0.01\", \"x\": \"L\", \"y\": \"C\", \"xref\": \"x1\", \"yref\": \"y1\", \"font\": {\"color\": \"#000000\"}, \"showarrow\": false}, {\"text\": \"\", \"x\": \"M\", \"y\": \"C\", \"xref\": \"x1\", \"yref\": \"y1\", \"font\": {\"color\": \"#000000\"}, \"showarrow\": false}, {\"text\": \"\", \"x\": \"A\", \"y\": \"D\", \"xref\": \"x1\", \"yref\": \"y1\", \"font\": {\"color\": \"#000000\"}, \"showarrow\": false}, {\"text\": \"\", \"x\": \"B\", \"y\": \"D\", \"xref\": \"x1\", \"yref\": \"y1\", \"font\": {\"color\": \"#000000\"}, \"showarrow\": false}, {\"text\": \"\", \"x\": \"C\", \"y\": \"D\", \"xref\": \"x1\", \"yref\": \"y1\", \"font\": {\"color\": \"#000000\"}, \"showarrow\": false}, {\"text\": \"0.73\", \"x\": \"D\", \"y\": \"D\", \"xref\": \"x1\", \"yref\": \"y1\", \"font\": {\"color\": \"#FFFFFF\"}, \"showarrow\": false}, {\"text\": \"\", \"x\": \"E\", \"y\": \"D\", \"xref\": \"x1\", \"yref\": \"y1\", \"font\": {\"color\": \"#000000\"}, \"showarrow\": false}, {\"text\": \"\", \"x\": \"F\", \"y\": \"D\", \"xref\": \"x1\", \"yref\": \"y1\", \"font\": {\"color\": \"#000000\"}, \"showarrow\": false}, {\"text\": \"\", \"x\": \"G\", \"y\": \"D\", \"xref\": \"x1\", \"yref\": \"y1\", \"font\": {\"color\": \"#000000\"}, \"showarrow\": false}, {\"text\": \"\", \"x\": \"H\", \"y\": \"D\", \"xref\": \"x1\", \"yref\": \"y1\", \"font\": {\"color\": \"#000000\"}, \"showarrow\": false}, {\"text\": \"\", \"x\": \"I\", \"y\": \"D\", \"xref\": \"x1\", \"yref\": \"y1\", \"font\": {\"color\": \"#000000\"}, \"showarrow\": false}, {\"text\": \"0.03\", \"x\": \"J\", \"y\": \"D\", \"xref\": \"x1\", \"yref\": \"y1\", \"font\": {\"color\": \"#000000\"}, \"showarrow\": false}, {\"text\": \"\", \"x\": \"K\", \"y\": \"D\", \"xref\": \"x1\", \"yref\": \"y1\", \"font\": {\"color\": \"#000000\"}, \"showarrow\": false}, {\"text\": \"\", \"x\": \"L\", \"y\": \"D\", \"xref\": \"x1\", \"yref\": \"y1\", \"font\": {\"color\": \"#000000\"}, \"showarrow\": false}, {\"text\": \"\", \"x\": \"M\", \"y\": \"D\", \"xref\": \"x1\", \"yref\": \"y1\", \"font\": {\"color\": \"#000000\"}, \"showarrow\": false}, {\"text\": \"\", \"x\": \"A\", \"y\": \"E\", \"xref\": \"x1\", \"yref\": \"y1\", \"font\": {\"color\": \"#000000\"}, \"showarrow\": false}, {\"text\": \"\", \"x\": \"B\", \"y\": \"E\", \"xref\": \"x1\", \"yref\": \"y1\", \"font\": {\"color\": \"#000000\"}, \"showarrow\": false}, {\"text\": \"\", \"x\": \"C\", \"y\": \"E\", \"xref\": \"x1\", \"yref\": \"y1\", \"font\": {\"color\": \"#000000\"}, \"showarrow\": false}, {\"text\": \"\", \"x\": \"D\", \"y\": \"E\", \"xref\": \"x1\", \"yref\": \"y1\", \"font\": {\"color\": \"#000000\"}, \"showarrow\": false}, {\"text\": \"0.72\", \"x\": \"E\", \"y\": \"E\", \"xref\": \"x1\", \"yref\": \"y1\", \"font\": {\"color\": \"#FFFFFF\"}, \"showarrow\": false}, {\"text\": \"0.04\", \"x\": \"F\", \"y\": \"E\", \"xref\": \"x1\", \"yref\": \"y1\", \"font\": {\"color\": \"#000000\"}, \"showarrow\": false}, {\"text\": \"0.01\", \"x\": \"G\", \"y\": \"E\", \"xref\": \"x1\", \"yref\": \"y1\", \"font\": {\"color\": \"#000000\"}, \"showarrow\": false}, {\"text\": \"\", \"x\": \"H\", \"y\": \"E\", \"xref\": \"x1\", \"yref\": \"y1\", \"font\": {\"color\": \"#000000\"}, \"showarrow\": false}, {\"text\": \"\", \"x\": \"I\", \"y\": \"E\", \"xref\": \"x1\", \"yref\": \"y1\", \"font\": {\"color\": \"#000000\"}, \"showarrow\": false}, {\"text\": \"\", \"x\": \"J\", \"y\": \"E\", \"xref\": \"x1\", \"yref\": \"y1\", \"font\": {\"color\": \"#000000\"}, \"showarrow\": false}, {\"text\": \"\", \"x\": \"K\", \"y\": \"E\", \"xref\": \"x1\", \"yref\": \"y1\", \"font\": {\"color\": \"#000000\"}, \"showarrow\": false}, {\"text\": \"0.01\", \"x\": \"L\", \"y\": \"E\", \"xref\": \"x1\", \"yref\": \"y1\", \"font\": {\"color\": \"#000000\"}, \"showarrow\": false}, {\"text\": \"\", \"x\": \"M\", \"y\": \"E\", \"xref\": \"x1\", \"yref\": \"y1\", \"font\": {\"color\": \"#000000\"}, \"showarrow\": false}, {\"text\": \"\", \"x\": \"A\", \"y\": \"F\", \"xref\": \"x1\", \"yref\": \"y1\", \"font\": {\"color\": \"#000000\"}, \"showarrow\": false}, {\"text\": \"\", \"x\": \"B\", \"y\": \"F\", \"xref\": \"x1\", \"yref\": \"y1\", \"font\": {\"color\": \"#000000\"}, \"showarrow\": false}, {\"text\": \"0.01\", \"x\": \"C\", \"y\": \"F\", \"xref\": \"x1\", \"yref\": \"y1\", \"font\": {\"color\": \"#000000\"}, \"showarrow\": false}, {\"text\": \"\", \"x\": \"D\", \"y\": \"F\", \"xref\": \"x1\", \"yref\": \"y1\", \"font\": {\"color\": \"#000000\"}, \"showarrow\": false}, {\"text\": \"0.07\", \"x\": \"E\", \"y\": \"F\", \"xref\": \"x1\", \"yref\": \"y1\", \"font\": {\"color\": \"#000000\"}, \"showarrow\": false}, {\"text\": \"0.84\", \"x\": \"F\", \"y\": \"F\", \"xref\": \"x1\", \"yref\": \"y1\", \"font\": {\"color\": \"#FFFFFF\"}, \"showarrow\": false}, {\"text\": \"\", \"x\": \"G\", \"y\": \"F\", \"xref\": \"x1\", \"yref\": \"y1\", \"font\": {\"color\": \"#000000\"}, \"showarrow\": false}, {\"text\": \"\", \"x\": \"H\", \"y\": \"F\", \"xref\": \"x1\", \"yref\": \"y1\", \"font\": {\"color\": \"#000000\"}, \"showarrow\": false}, {\"text\": \"0.05\", \"x\": \"I\", \"y\": \"F\", \"xref\": \"x1\", \"yref\": \"y1\", \"font\": {\"color\": \"#000000\"}, \"showarrow\": false}, {\"text\": \"\", \"x\": \"J\", \"y\": \"F\", \"xref\": \"x1\", \"yref\": \"y1\", \"font\": {\"color\": \"#000000\"}, \"showarrow\": false}, {\"text\": \"0.01\", \"x\": \"K\", \"y\": \"F\", \"xref\": \"x1\", \"yref\": \"y1\", \"font\": {\"color\": \"#000000\"}, \"showarrow\": false}, {\"text\": \"\", \"x\": \"L\", \"y\": \"F\", \"xref\": \"x1\", \"yref\": \"y1\", \"font\": {\"color\": \"#000000\"}, \"showarrow\": false}, {\"text\": \"\", \"x\": \"M\", \"y\": \"F\", \"xref\": \"x1\", \"yref\": \"y1\", \"font\": {\"color\": \"#000000\"}, \"showarrow\": false}, {\"text\": \"\", \"x\": \"A\", \"y\": \"G\", \"xref\": \"x1\", \"yref\": \"y1\", \"font\": {\"color\": \"#000000\"}, \"showarrow\": false}, {\"text\": \"0.01\", \"x\": \"B\", \"y\": \"G\", \"xref\": \"x1\", \"yref\": \"y1\", \"font\": {\"color\": \"#000000\"}, \"showarrow\": false}, {\"text\": \"0.03\", \"x\": \"C\", \"y\": \"G\", \"xref\": \"x1\", \"yref\": \"y1\", \"font\": {\"color\": \"#000000\"}, \"showarrow\": false}, {\"text\": \"\", \"x\": \"D\", \"y\": \"G\", \"xref\": \"x1\", \"yref\": \"y1\", \"font\": {\"color\": \"#000000\"}, \"showarrow\": false}, {\"text\": \"0.02\", \"x\": \"E\", \"y\": \"G\", \"xref\": \"x1\", \"yref\": \"y1\", \"font\": {\"color\": \"#000000\"}, \"showarrow\": false}, {\"text\": \"\", \"x\": \"F\", \"y\": \"G\", \"xref\": \"x1\", \"yref\": \"y1\", \"font\": {\"color\": \"#000000\"}, \"showarrow\": false}, {\"text\": \"0.82\", \"x\": \"G\", \"y\": \"G\", \"xref\": \"x1\", \"yref\": \"y1\", \"font\": {\"color\": \"#FFFFFF\"}, \"showarrow\": false}, {\"text\": \"\", \"x\": \"H\", \"y\": \"G\", \"xref\": \"x1\", \"yref\": \"y1\", \"font\": {\"color\": \"#000000\"}, \"showarrow\": false}, {\"text\": \"\", \"x\": \"I\", \"y\": \"G\", \"xref\": \"x1\", \"yref\": \"y1\", \"font\": {\"color\": \"#000000\"}, \"showarrow\": false}, {\"text\": \"\", \"x\": \"J\", \"y\": \"G\", \"xref\": \"x1\", \"yref\": \"y1\", \"font\": {\"color\": \"#000000\"}, \"showarrow\": false}, {\"text\": \"0.01\", \"x\": \"K\", \"y\": \"G\", \"xref\": \"x1\", \"yref\": \"y1\", \"font\": {\"color\": \"#000000\"}, \"showarrow\": false}, {\"text\": \"\", \"x\": \"L\", \"y\": \"G\", \"xref\": \"x1\", \"yref\": \"y1\", \"font\": {\"color\": \"#000000\"}, \"showarrow\": false}, {\"text\": \"0.01\", \"x\": \"M\", \"y\": \"G\", \"xref\": \"x1\", \"yref\": \"y1\", \"font\": {\"color\": \"#000000\"}, \"showarrow\": false}, {\"text\": \"\", \"x\": \"A\", \"y\": \"H\", \"xref\": \"x1\", \"yref\": \"y1\", \"font\": {\"color\": \"#000000\"}, \"showarrow\": false}, {\"text\": \"\", \"x\": \"B\", \"y\": \"H\", \"xref\": \"x1\", \"yref\": \"y1\", \"font\": {\"color\": \"#000000\"}, \"showarrow\": false}, {\"text\": \"\", \"x\": \"C\", \"y\": \"H\", \"xref\": \"x1\", \"yref\": \"y1\", \"font\": {\"color\": \"#000000\"}, \"showarrow\": false}, {\"text\": \"\", \"x\": \"D\", \"y\": \"H\", \"xref\": \"x1\", \"yref\": \"y1\", \"font\": {\"color\": \"#000000\"}, \"showarrow\": false}, {\"text\": \"\", \"x\": \"E\", \"y\": \"H\", \"xref\": \"x1\", \"yref\": \"y1\", \"font\": {\"color\": \"#000000\"}, \"showarrow\": false}, {\"text\": \"\", \"x\": \"F\", \"y\": \"H\", \"xref\": \"x1\", \"yref\": \"y1\", \"font\": {\"color\": \"#000000\"}, \"showarrow\": false}, {\"text\": \"\", \"x\": \"G\", \"y\": \"H\", \"xref\": \"x1\", \"yref\": \"y1\", \"font\": {\"color\": \"#000000\"}, \"showarrow\": false}, {\"text\": \"0.74\", \"x\": \"H\", \"y\": \"H\", \"xref\": \"x1\", \"yref\": \"y1\", \"font\": {\"color\": \"#FFFFFF\"}, \"showarrow\": false}, {\"text\": \"0.01\", \"x\": \"I\", \"y\": \"H\", \"xref\": \"x1\", \"yref\": \"y1\", \"font\": {\"color\": \"#000000\"}, \"showarrow\": false}, {\"text\": \"\", \"x\": \"J\", \"y\": \"H\", \"xref\": \"x1\", \"yref\": \"y1\", \"font\": {\"color\": \"#000000\"}, \"showarrow\": false}, {\"text\": \"\", \"x\": \"K\", \"y\": \"H\", \"xref\": \"x1\", \"yref\": \"y1\", \"font\": {\"color\": \"#000000\"}, \"showarrow\": false}, {\"text\": \"\", \"x\": \"L\", \"y\": \"H\", \"xref\": \"x1\", \"yref\": \"y1\", \"font\": {\"color\": \"#000000\"}, \"showarrow\": false}, {\"text\": \"\", \"x\": \"M\", \"y\": \"H\", \"xref\": \"x1\", \"yref\": \"y1\", \"font\": {\"color\": \"#000000\"}, \"showarrow\": false}, {\"text\": \"\", \"x\": \"A\", \"y\": \"I\", \"xref\": \"x1\", \"yref\": \"y1\", \"font\": {\"color\": \"#000000\"}, \"showarrow\": false}, {\"text\": \"\", \"x\": \"B\", \"y\": \"I\", \"xref\": \"x1\", \"yref\": \"y1\", \"font\": {\"color\": \"#000000\"}, \"showarrow\": false}, {\"text\": \"\", \"x\": \"C\", \"y\": \"I\", \"xref\": \"x1\", \"yref\": \"y1\", \"font\": {\"color\": \"#000000\"}, \"showarrow\": false}, {\"text\": \"\", \"x\": \"D\", \"y\": \"I\", \"xref\": \"x1\", \"yref\": \"y1\", \"font\": {\"color\": \"#000000\"}, \"showarrow\": false}, {\"text\": \"\", \"x\": \"E\", \"y\": \"I\", \"xref\": \"x1\", \"yref\": \"y1\", \"font\": {\"color\": \"#000000\"}, \"showarrow\": false}, {\"text\": \"\", \"x\": \"F\", \"y\": \"I\", \"xref\": \"x1\", \"yref\": \"y1\", \"font\": {\"color\": \"#000000\"}, \"showarrow\": false}, {\"text\": \"\", \"x\": \"G\", \"y\": \"I\", \"xref\": \"x1\", \"yref\": \"y1\", \"font\": {\"color\": \"#000000\"}, \"showarrow\": false}, {\"text\": \"\", \"x\": \"H\", \"y\": \"I\", \"xref\": \"x1\", \"yref\": \"y1\", \"font\": {\"color\": \"#000000\"}, \"showarrow\": false}, {\"text\": \"0.68\", \"x\": \"I\", \"y\": \"I\", \"xref\": \"x1\", \"yref\": \"y1\", \"font\": {\"color\": \"#FFFFFF\"}, \"showarrow\": false}, {\"text\": \"0.02\", \"x\": \"J\", \"y\": \"I\", \"xref\": \"x1\", \"yref\": \"y1\", \"font\": {\"color\": \"#000000\"}, \"showarrow\": false}, {\"text\": \"\", \"x\": \"K\", \"y\": \"I\", \"xref\": \"x1\", \"yref\": \"y1\", \"font\": {\"color\": \"#000000\"}, \"showarrow\": false}, {\"text\": \"0.05\", \"x\": \"L\", \"y\": \"I\", \"xref\": \"x1\", \"yref\": \"y1\", \"font\": {\"color\": \"#000000\"}, \"showarrow\": false}, {\"text\": \"\", \"x\": \"M\", \"y\": \"I\", \"xref\": \"x1\", \"yref\": \"y1\", \"font\": {\"color\": \"#000000\"}, \"showarrow\": false}, {\"text\": \"0.02\", \"x\": \"A\", \"y\": \"J\", \"xref\": \"x1\", \"yref\": \"y1\", \"font\": {\"color\": \"#000000\"}, \"showarrow\": false}, {\"text\": \"0.02\", \"x\": \"B\", \"y\": \"J\", \"xref\": \"x1\", \"yref\": \"y1\", \"font\": {\"color\": \"#000000\"}, \"showarrow\": false}, {\"text\": \"\", \"x\": \"C\", \"y\": \"J\", \"xref\": \"x1\", \"yref\": \"y1\", \"font\": {\"color\": \"#000000\"}, \"showarrow\": false}, {\"text\": \"0.03\", \"x\": \"D\", \"y\": \"J\", \"xref\": \"x1\", \"yref\": \"y1\", \"font\": {\"color\": \"#000000\"}, \"showarrow\": false}, {\"text\": \"0.01\", \"x\": \"E\", \"y\": \"J\", \"xref\": \"x1\", \"yref\": \"y1\", \"font\": {\"color\": \"#000000\"}, \"showarrow\": false}, {\"text\": \"0.02\", \"x\": \"F\", \"y\": \"J\", \"xref\": \"x1\", \"yref\": \"y1\", \"font\": {\"color\": \"#000000\"}, \"showarrow\": false}, {\"text\": \"\", \"x\": \"G\", \"y\": \"J\", \"xref\": \"x1\", \"yref\": \"y1\", \"font\": {\"color\": \"#000000\"}, \"showarrow\": false}, {\"text\": \"0.01\", \"x\": \"H\", \"y\": \"J\", \"xref\": \"x1\", \"yref\": \"y1\", \"font\": {\"color\": \"#000000\"}, \"showarrow\": false}, {\"text\": \"0.07\", \"x\": \"I\", \"y\": \"J\", \"xref\": \"x1\", \"yref\": \"y1\", \"font\": {\"color\": \"#000000\"}, \"showarrow\": false}, {\"text\": \"0.80\", \"x\": \"J\", \"y\": \"J\", \"xref\": \"x1\", \"yref\": \"y1\", \"font\": {\"color\": \"#FFFFFF\"}, \"showarrow\": false}, {\"text\": \"0.01\", \"x\": \"K\", \"y\": \"J\", \"xref\": \"x1\", \"yref\": \"y1\", \"font\": {\"color\": \"#000000\"}, \"showarrow\": false}, {\"text\": \"0.01\", \"x\": \"L\", \"y\": \"J\", \"xref\": \"x1\", \"yref\": \"y1\", \"font\": {\"color\": \"#000000\"}, \"showarrow\": false}, {\"text\": \"\", \"x\": \"M\", \"y\": \"J\", \"xref\": \"x1\", \"yref\": \"y1\", \"font\": {\"color\": \"#000000\"}, \"showarrow\": false}, {\"text\": \"0.01\", \"x\": \"A\", \"y\": \"K\", \"xref\": \"x1\", \"yref\": \"y1\", \"font\": {\"color\": \"#000000\"}, \"showarrow\": false}, {\"text\": \"\", \"x\": \"B\", \"y\": \"K\", \"xref\": \"x1\", \"yref\": \"y1\", \"font\": {\"color\": \"#000000\"}, \"showarrow\": false}, {\"text\": \"0.01\", \"x\": \"C\", \"y\": \"K\", \"xref\": \"x1\", \"yref\": \"y1\", \"font\": {\"color\": \"#000000\"}, \"showarrow\": false}, {\"text\": \"\", \"x\": \"D\", \"y\": \"K\", \"xref\": \"x1\", \"yref\": \"y1\", \"font\": {\"color\": \"#000000\"}, \"showarrow\": false}, {\"text\": \"\", \"x\": \"E\", \"y\": \"K\", \"xref\": \"x1\", \"yref\": \"y1\", \"font\": {\"color\": \"#000000\"}, \"showarrow\": false}, {\"text\": \"0.01\", \"x\": \"F\", \"y\": \"K\", \"xref\": \"x1\", \"yref\": \"y1\", \"font\": {\"color\": \"#000000\"}, \"showarrow\": false}, {\"text\": \"0.03\", \"x\": \"G\", \"y\": \"K\", \"xref\": \"x1\", \"yref\": \"y1\", \"font\": {\"color\": \"#000000\"}, \"showarrow\": false}, {\"text\": \"0.03\", \"x\": \"H\", \"y\": \"K\", \"xref\": \"x1\", \"yref\": \"y1\", \"font\": {\"color\": \"#000000\"}, \"showarrow\": false}, {\"text\": \"0.02\", \"x\": \"I\", \"y\": \"K\", \"xref\": \"x1\", \"yref\": \"y1\", \"font\": {\"color\": \"#000000\"}, \"showarrow\": false}, {\"text\": \"\", \"x\": \"J\", \"y\": \"K\", \"xref\": \"x1\", \"yref\": \"y1\", \"font\": {\"color\": \"#000000\"}, \"showarrow\": false}, {\"text\": \"0.75\", \"x\": \"K\", \"y\": \"K\", \"xref\": \"x1\", \"yref\": \"y1\", \"font\": {\"color\": \"#FFFFFF\"}, \"showarrow\": false}, {\"text\": \"\", \"x\": \"L\", \"y\": \"K\", \"xref\": \"x1\", \"yref\": \"y1\", \"font\": {\"color\": \"#000000\"}, \"showarrow\": false}, {\"text\": \"0.01\", \"x\": \"M\", \"y\": \"K\", \"xref\": \"x1\", \"yref\": \"y1\", \"font\": {\"color\": \"#000000\"}, \"showarrow\": false}, {\"text\": \"0.01\", \"x\": \"A\", \"y\": \"L\", \"xref\": \"x1\", \"yref\": \"y1\", \"font\": {\"color\": \"#000000\"}, \"showarrow\": false}, {\"text\": \"0.01\", \"x\": \"B\", \"y\": \"L\", \"xref\": \"x1\", \"yref\": \"y1\", \"font\": {\"color\": \"#000000\"}, \"showarrow\": false}, {\"text\": \"0.01\", \"x\": \"C\", \"y\": \"L\", \"xref\": \"x1\", \"yref\": \"y1\", \"font\": {\"color\": \"#000000\"}, \"showarrow\": false}, {\"text\": \"\", \"x\": \"D\", \"y\": \"L\", \"xref\": \"x1\", \"yref\": \"y1\", \"font\": {\"color\": \"#000000\"}, \"showarrow\": false}, {\"text\": \"0.04\", \"x\": \"E\", \"y\": \"L\", \"xref\": \"x1\", \"yref\": \"y1\", \"font\": {\"color\": \"#000000\"}, \"showarrow\": false}, {\"text\": \"\", \"x\": \"F\", \"y\": \"L\", \"xref\": \"x1\", \"yref\": \"y1\", \"font\": {\"color\": \"#000000\"}, \"showarrow\": false}, {\"text\": \"0.01\", \"x\": \"G\", \"y\": \"L\", \"xref\": \"x1\", \"yref\": \"y1\", \"font\": {\"color\": \"#000000\"}, \"showarrow\": false}, {\"text\": \"\", \"x\": \"H\", \"y\": \"L\", \"xref\": \"x1\", \"yref\": \"y1\", \"font\": {\"color\": \"#000000\"}, \"showarrow\": false}, {\"text\": \"\", \"x\": \"I\", \"y\": \"L\", \"xref\": \"x1\", \"yref\": \"y1\", \"font\": {\"color\": \"#000000\"}, \"showarrow\": false}, {\"text\": \"\", \"x\": \"J\", \"y\": \"L\", \"xref\": \"x1\", \"yref\": \"y1\", \"font\": {\"color\": \"#000000\"}, \"showarrow\": false}, {\"text\": \"\", \"x\": \"K\", \"y\": \"L\", \"xref\": \"x1\", \"yref\": \"y1\", \"font\": {\"color\": \"#000000\"}, \"showarrow\": false}, {\"text\": \"0.77\", \"x\": \"L\", \"y\": \"L\", \"xref\": \"x1\", \"yref\": \"y1\", \"font\": {\"color\": \"#FFFFFF\"}, \"showarrow\": false}, {\"text\": \"0.01\", \"x\": \"M\", \"y\": \"L\", \"xref\": \"x1\", \"yref\": \"y1\", \"font\": {\"color\": \"#000000\"}, \"showarrow\": false}, {\"text\": \"\", \"x\": \"A\", \"y\": \"M\", \"xref\": \"x1\", \"yref\": \"y1\", \"font\": {\"color\": \"#000000\"}, \"showarrow\": false}, {\"text\": \"\", \"x\": \"B\", \"y\": \"M\", \"xref\": \"x1\", \"yref\": \"y1\", \"font\": {\"color\": \"#000000\"}, \"showarrow\": false}, {\"text\": \"\", \"x\": \"C\", \"y\": \"M\", \"xref\": \"x1\", \"yref\": \"y1\", \"font\": {\"color\": \"#000000\"}, \"showarrow\": false}, {\"text\": \"0.01\", \"x\": \"D\", \"y\": \"M\", \"xref\": \"x1\", \"yref\": \"y1\", \"font\": {\"color\": \"#000000\"}, \"showarrow\": false}, {\"text\": \"\", \"x\": \"E\", \"y\": \"M\", \"xref\": \"x1\", \"yref\": \"y1\", \"font\": {\"color\": \"#000000\"}, \"showarrow\": false}, {\"text\": \"\", \"x\": \"F\", \"y\": \"M\", \"xref\": \"x1\", \"yref\": \"y1\", \"font\": {\"color\": \"#000000\"}, \"showarrow\": false}, {\"text\": \"\", \"x\": \"G\", \"y\": \"M\", \"xref\": \"x1\", \"yref\": \"y1\", \"font\": {\"color\": \"#000000\"}, \"showarrow\": false}, {\"text\": \"0.06\", \"x\": \"H\", \"y\": \"M\", \"xref\": \"x1\", \"yref\": \"y1\", \"font\": {\"color\": \"#000000\"}, \"showarrow\": false}, {\"text\": \"0.03\", \"x\": \"I\", \"y\": \"M\", \"xref\": \"x1\", \"yref\": \"y1\", \"font\": {\"color\": \"#000000\"}, \"showarrow\": false}, {\"text\": \"\", \"x\": \"J\", \"y\": \"M\", \"xref\": \"x1\", \"yref\": \"y1\", \"font\": {\"color\": \"#000000\"}, \"showarrow\": false}, {\"text\": \"0.04\", \"x\": \"K\", \"y\": \"M\", \"xref\": \"x1\", \"yref\": \"y1\", \"font\": {\"color\": \"#000000\"}, \"showarrow\": false}, {\"text\": \"\", \"x\": \"L\", \"y\": \"M\", \"xref\": \"x1\", \"yref\": \"y1\", \"font\": {\"color\": \"#000000\"}, \"showarrow\": false}, {\"text\": \"0.72\", \"x\": \"M\", \"y\": \"M\", \"xref\": \"x1\", \"yref\": \"y1\", \"font\": {\"color\": \"#FFFFFF\"}, \"showarrow\": false}], \"xaxis\": {\"ticks\": \"\", \"dtick\": 1, \"side\": \"bottom\", \"gridcolor\": \"rgb(0, 0, 0)\", \"title\": \"Predicted values\"}, \"yaxis\": {\"ticks\": \"\", \"dtick\": 1, \"ticksuffix\": \"  \", \"anchor\": \"bottom\", \"title\": \"True values\"}}, {\"showLink\": false, \"linkText\": \"Export to plot.ly\"})});</script>"
      ],
      "text/vnd.plotly.v1+html": [
       "<div id=\"5bfc4643-0f0d-4436-b1df-4561dddfdc77\" style=\"height: 525px; width: 100%;\" class=\"plotly-graph-div\"></div><script type=\"text/javascript\">require([\"plotly\"], function(Plotly) { window.PLOTLYENV=window.PLOTLYENV || {};window.PLOTLYENV.BASE_URL=\"https://plot.ly\";Plotly.newPlot(\"5bfc4643-0f0d-4436-b1df-4561dddfdc77\", [{\"type\": \"heatmap\", \"z\": [[0.90380859375, 0.0, 0.0, 0.014923095703125, 0.0121917724609375, 0.01204681396484375, 0.0, 0.0128173828125, 0.029998779296875, 0.0, 0.0, 0.050628662109375, 0.0], [0.0, 0.8125, 0.0, 0.044769287109375, 0.0, 0.01204681396484375, 0.0, 0.0128173828125, 0.0, 0.0, 0.0, 0.0, 0.0], [0.0, 0.0, 0.88037109375, 0.0, 0.0121917724609375, 0.01204681396484375, 0.028167724609375, 0.0, 0.029998779296875, 0.0151519775390625, 0.07794189453125, 0.01265716552734375, 0.0], [0.0, 0.0, 0.0, 0.7314453125, 0.0, 0.0, 0.0, 0.0, 0.0, 0.030303955078125, 0.0, 0.0, 0.0], [0.0, 0.0, 0.0, 0.0, 0.7197265625, 0.0361328125, 0.0140838623046875, 0.0, 0.0, 0.0, 0.0, 0.01265716552734375, 0.0], [0.0, 0.0, 0.014923095703125, 0.0, 0.07318115234375, 0.84326171875, 0.0, 0.0, 0.04998779296875, 0.0, 0.0129852294921875, 0.0, 0.0], [0.0, 0.0124969482421875, 0.02984619140625, 0.0, 0.024383544921875, 0.0, 0.81689453125, 0.0, 0.0, 0.0, 0.0129852294921875, 0.0, 0.0140838623046875], [0.0, 0.0, 0.0, 0.0, 0.0, 0.0, 0.0, 0.74365234375, 0.01000213623046875, 0.0, 0.0, 0.0, 0.0], [0.0, 0.0, 0.0, 0.0, 0.0, 0.0, 0.0, 0.0, 0.68017578125, 0.0151519775390625, 0.0, 0.050628662109375, 0.0], [0.0240936279296875, 0.024993896484375, 0.0, 0.02984619140625, 0.0121917724609375, 0.0240936279296875, 0.0, 0.0128173828125, 0.07000732421875, 0.80322265625, 0.0129852294921875, 0.01265716552734375, 0.0], [0.01204681396484375, 0.0, 0.014923095703125, 0.0, 0.0, 0.01204681396484375, 0.028167724609375, 0.025634765625, 0.0200042724609375, 0.0, 0.75341796875, 0.0, 0.0140838623046875], [0.01204681396484375, 0.0124969482421875, 0.014923095703125, 0.0, 0.036590576171875, 0.0, 0.0140838623046875, 0.0, 0.0, 0.0, 0.0, 0.77197265625, 0.0140838623046875], [0.0, 0.0, 0.0, 0.014923095703125, 0.0, 0.0, 0.0, 0.0640869140625, 0.029998779296875, 0.0, 0.038970947265625, 0.0, 0.71826171875]], \"x\": [\"A\", \"B\", \"C\", \"D\", \"E\", \"F\", \"G\", \"H\", \"I\", \"J\", \"K\", \"L\", \"M\"], \"y\": [\"A\", \"B\", \"C\", \"D\", \"E\", \"F\", \"G\", \"H\", \"I\", \"J\", \"K\", \"L\", \"M\"], \"colorscale\": [[0.0, \"#e5e5ff\"], [0.05, \"#cacaf0\"], [0.1, \"#b0b0e1\"], [0.25, \"#9494d2\"], [0.5, \"#7a7ac3\"], [0.75, \"#5e5eb4\"], [0.9, \"#4444a5\"], [1.0, \"#282896\"]], \"showscale\": true, \"xgap\": 1.25, \"ygap\": 1.25, \"colorbar\": {\"tickmode\": \"array\"}}], {\"annotations\": [{\"text\": \"0.90\", \"x\": \"A\", \"y\": \"A\", \"xref\": \"x1\", \"yref\": \"y1\", \"font\": {\"color\": \"#FFFFFF\"}, \"showarrow\": false}, {\"text\": \"\", \"x\": \"B\", \"y\": \"A\", \"xref\": \"x1\", \"yref\": \"y1\", \"font\": {\"color\": \"#000000\"}, \"showarrow\": false}, {\"text\": \"\", \"x\": \"C\", \"y\": \"A\", \"xref\": \"x1\", \"yref\": \"y1\", \"font\": {\"color\": \"#000000\"}, \"showarrow\": false}, {\"text\": \"0.01\", \"x\": \"D\", \"y\": \"A\", \"xref\": \"x1\", \"yref\": \"y1\", \"font\": {\"color\": \"#000000\"}, \"showarrow\": false}, {\"text\": \"0.01\", \"x\": \"E\", \"y\": \"A\", \"xref\": \"x1\", \"yref\": \"y1\", \"font\": {\"color\": \"#000000\"}, \"showarrow\": false}, {\"text\": \"0.01\", \"x\": \"F\", \"y\": \"A\", \"xref\": \"x1\", \"yref\": \"y1\", \"font\": {\"color\": \"#000000\"}, \"showarrow\": false}, {\"text\": \"\", \"x\": \"G\", \"y\": \"A\", \"xref\": \"x1\", \"yref\": \"y1\", \"font\": {\"color\": \"#000000\"}, \"showarrow\": false}, {\"text\": \"0.01\", \"x\": \"H\", \"y\": \"A\", \"xref\": \"x1\", \"yref\": \"y1\", \"font\": {\"color\": \"#000000\"}, \"showarrow\": false}, {\"text\": \"0.03\", \"x\": \"I\", \"y\": \"A\", \"xref\": \"x1\", \"yref\": \"y1\", \"font\": {\"color\": \"#000000\"}, \"showarrow\": false}, {\"text\": \"\", \"x\": \"J\", \"y\": \"A\", \"xref\": \"x1\", \"yref\": \"y1\", \"font\": {\"color\": \"#000000\"}, \"showarrow\": false}, {\"text\": \"\", \"x\": \"K\", \"y\": \"A\", \"xref\": \"x1\", \"yref\": \"y1\", \"font\": {\"color\": \"#000000\"}, \"showarrow\": false}, {\"text\": \"0.05\", \"x\": \"L\", \"y\": \"A\", \"xref\": \"x1\", \"yref\": \"y1\", \"font\": {\"color\": \"#000000\"}, \"showarrow\": false}, {\"text\": \"\", \"x\": \"M\", \"y\": \"A\", \"xref\": \"x1\", \"yref\": \"y1\", \"font\": {\"color\": \"#000000\"}, \"showarrow\": false}, {\"text\": \"\", \"x\": \"A\", \"y\": \"B\", \"xref\": \"x1\", \"yref\": \"y1\", \"font\": {\"color\": \"#000000\"}, \"showarrow\": false}, {\"text\": \"0.81\", \"x\": \"B\", \"y\": \"B\", \"xref\": \"x1\", \"yref\": \"y1\", \"font\": {\"color\": \"#FFFFFF\"}, \"showarrow\": false}, {\"text\": \"\", \"x\": \"C\", \"y\": \"B\", \"xref\": \"x1\", \"yref\": \"y1\", \"font\": {\"color\": \"#000000\"}, \"showarrow\": false}, {\"text\": \"0.04\", \"x\": \"D\", \"y\": \"B\", \"xref\": \"x1\", \"yref\": \"y1\", \"font\": {\"color\": \"#000000\"}, \"showarrow\": false}, {\"text\": \"\", \"x\": \"E\", \"y\": \"B\", \"xref\": \"x1\", \"yref\": \"y1\", \"font\": {\"color\": \"#000000\"}, \"showarrow\": false}, {\"text\": \"0.01\", \"x\": \"F\", \"y\": \"B\", \"xref\": \"x1\", \"yref\": \"y1\", \"font\": {\"color\": \"#000000\"}, \"showarrow\": false}, {\"text\": \"\", \"x\": \"G\", \"y\": \"B\", \"xref\": \"x1\", \"yref\": \"y1\", \"font\": {\"color\": \"#000000\"}, \"showarrow\": false}, {\"text\": \"0.01\", \"x\": \"H\", \"y\": \"B\", \"xref\": \"x1\", \"yref\": \"y1\", \"font\": {\"color\": \"#000000\"}, \"showarrow\": false}, {\"text\": \"\", \"x\": \"I\", \"y\": \"B\", \"xref\": \"x1\", \"yref\": \"y1\", \"font\": {\"color\": \"#000000\"}, \"showarrow\": false}, {\"text\": \"\", \"x\": \"J\", \"y\": \"B\", \"xref\": \"x1\", \"yref\": \"y1\", \"font\": {\"color\": \"#000000\"}, \"showarrow\": false}, {\"text\": \"\", \"x\": \"K\", \"y\": \"B\", \"xref\": \"x1\", \"yref\": \"y1\", \"font\": {\"color\": \"#000000\"}, \"showarrow\": false}, {\"text\": \"\", \"x\": \"L\", \"y\": \"B\", \"xref\": \"x1\", \"yref\": \"y1\", \"font\": {\"color\": \"#000000\"}, \"showarrow\": false}, {\"text\": \"\", \"x\": \"M\", \"y\": \"B\", \"xref\": \"x1\", \"yref\": \"y1\", \"font\": {\"color\": \"#000000\"}, \"showarrow\": false}, {\"text\": \"\", \"x\": \"A\", \"y\": \"C\", \"xref\": \"x1\", \"yref\": \"y1\", \"font\": {\"color\": \"#000000\"}, \"showarrow\": false}, {\"text\": \"\", \"x\": \"B\", \"y\": \"C\", \"xref\": \"x1\", \"yref\": \"y1\", \"font\": {\"color\": \"#000000\"}, \"showarrow\": false}, {\"text\": \"0.88\", \"x\": \"C\", \"y\": \"C\", \"xref\": \"x1\", \"yref\": \"y1\", \"font\": {\"color\": \"#FFFFFF\"}, \"showarrow\": false}, {\"text\": \"\", \"x\": \"D\", \"y\": \"C\", \"xref\": \"x1\", \"yref\": \"y1\", \"font\": {\"color\": \"#000000\"}, \"showarrow\": false}, {\"text\": \"0.01\", \"x\": \"E\", \"y\": \"C\", \"xref\": \"x1\", \"yref\": \"y1\", \"font\": {\"color\": \"#000000\"}, \"showarrow\": false}, {\"text\": \"0.01\", \"x\": \"F\", \"y\": \"C\", \"xref\": \"x1\", \"yref\": \"y1\", \"font\": {\"color\": \"#000000\"}, \"showarrow\": false}, {\"text\": \"0.03\", \"x\": \"G\", \"y\": \"C\", \"xref\": \"x1\", \"yref\": \"y1\", \"font\": {\"color\": \"#000000\"}, \"showarrow\": false}, {\"text\": \"\", \"x\": \"H\", \"y\": \"C\", \"xref\": \"x1\", \"yref\": \"y1\", \"font\": {\"color\": \"#000000\"}, \"showarrow\": false}, {\"text\": \"0.03\", \"x\": \"I\", \"y\": \"C\", \"xref\": \"x1\", \"yref\": \"y1\", \"font\": {\"color\": \"#000000\"}, \"showarrow\": false}, {\"text\": \"0.02\", \"x\": \"J\", \"y\": \"C\", \"xref\": \"x1\", \"yref\": \"y1\", \"font\": {\"color\": \"#000000\"}, \"showarrow\": false}, {\"text\": \"0.08\", \"x\": \"K\", \"y\": \"C\", \"xref\": \"x1\", \"yref\": \"y1\", \"font\": {\"color\": \"#000000\"}, \"showarrow\": false}, {\"text\": \"0.01\", \"x\": \"L\", \"y\": \"C\", \"xref\": \"x1\", \"yref\": \"y1\", \"font\": {\"color\": \"#000000\"}, \"showarrow\": false}, {\"text\": \"\", \"x\": \"M\", \"y\": \"C\", \"xref\": \"x1\", \"yref\": \"y1\", \"font\": {\"color\": \"#000000\"}, \"showarrow\": false}, {\"text\": \"\", \"x\": \"A\", \"y\": \"D\", \"xref\": \"x1\", \"yref\": \"y1\", \"font\": {\"color\": \"#000000\"}, \"showarrow\": false}, {\"text\": \"\", \"x\": \"B\", \"y\": \"D\", \"xref\": \"x1\", \"yref\": \"y1\", \"font\": {\"color\": \"#000000\"}, \"showarrow\": false}, {\"text\": \"\", \"x\": \"C\", \"y\": \"D\", \"xref\": \"x1\", \"yref\": \"y1\", \"font\": {\"color\": \"#000000\"}, \"showarrow\": false}, {\"text\": \"0.73\", \"x\": \"D\", \"y\": \"D\", \"xref\": \"x1\", \"yref\": \"y1\", \"font\": {\"color\": \"#FFFFFF\"}, \"showarrow\": false}, {\"text\": \"\", \"x\": \"E\", \"y\": \"D\", \"xref\": \"x1\", \"yref\": \"y1\", \"font\": {\"color\": \"#000000\"}, \"showarrow\": false}, {\"text\": \"\", \"x\": \"F\", \"y\": \"D\", \"xref\": \"x1\", \"yref\": \"y1\", \"font\": {\"color\": \"#000000\"}, \"showarrow\": false}, {\"text\": \"\", \"x\": \"G\", \"y\": \"D\", \"xref\": \"x1\", \"yref\": \"y1\", \"font\": {\"color\": \"#000000\"}, \"showarrow\": false}, {\"text\": \"\", \"x\": \"H\", \"y\": \"D\", \"xref\": \"x1\", \"yref\": \"y1\", \"font\": {\"color\": \"#000000\"}, \"showarrow\": false}, {\"text\": \"\", \"x\": \"I\", \"y\": \"D\", \"xref\": \"x1\", \"yref\": \"y1\", \"font\": {\"color\": \"#000000\"}, \"showarrow\": false}, {\"text\": \"0.03\", \"x\": \"J\", \"y\": \"D\", \"xref\": \"x1\", \"yref\": \"y1\", \"font\": {\"color\": \"#000000\"}, \"showarrow\": false}, {\"text\": \"\", \"x\": \"K\", \"y\": \"D\", \"xref\": \"x1\", \"yref\": \"y1\", \"font\": {\"color\": \"#000000\"}, \"showarrow\": false}, {\"text\": \"\", \"x\": \"L\", \"y\": \"D\", \"xref\": \"x1\", \"yref\": \"y1\", \"font\": {\"color\": \"#000000\"}, \"showarrow\": false}, {\"text\": \"\", \"x\": \"M\", \"y\": \"D\", \"xref\": \"x1\", \"yref\": \"y1\", \"font\": {\"color\": \"#000000\"}, \"showarrow\": false}, {\"text\": \"\", \"x\": \"A\", \"y\": \"E\", \"xref\": \"x1\", \"yref\": \"y1\", \"font\": {\"color\": \"#000000\"}, \"showarrow\": false}, {\"text\": \"\", \"x\": \"B\", \"y\": \"E\", \"xref\": \"x1\", \"yref\": \"y1\", \"font\": {\"color\": \"#000000\"}, \"showarrow\": false}, {\"text\": \"\", \"x\": \"C\", \"y\": \"E\", \"xref\": \"x1\", \"yref\": \"y1\", \"font\": {\"color\": \"#000000\"}, \"showarrow\": false}, {\"text\": \"\", \"x\": \"D\", \"y\": \"E\", \"xref\": \"x1\", \"yref\": \"y1\", \"font\": {\"color\": \"#000000\"}, \"showarrow\": false}, {\"text\": \"0.72\", \"x\": \"E\", \"y\": \"E\", \"xref\": \"x1\", \"yref\": \"y1\", \"font\": {\"color\": \"#FFFFFF\"}, \"showarrow\": false}, {\"text\": \"0.04\", \"x\": \"F\", \"y\": \"E\", \"xref\": \"x1\", \"yref\": \"y1\", \"font\": {\"color\": \"#000000\"}, \"showarrow\": false}, {\"text\": \"0.01\", \"x\": \"G\", \"y\": \"E\", \"xref\": \"x1\", \"yref\": \"y1\", \"font\": {\"color\": \"#000000\"}, \"showarrow\": false}, {\"text\": \"\", \"x\": \"H\", \"y\": \"E\", \"xref\": \"x1\", \"yref\": \"y1\", \"font\": {\"color\": \"#000000\"}, \"showarrow\": false}, {\"text\": \"\", \"x\": \"I\", \"y\": \"E\", \"xref\": \"x1\", \"yref\": \"y1\", \"font\": {\"color\": \"#000000\"}, \"showarrow\": false}, {\"text\": \"\", \"x\": \"J\", \"y\": \"E\", \"xref\": \"x1\", \"yref\": \"y1\", \"font\": {\"color\": \"#000000\"}, \"showarrow\": false}, {\"text\": \"\", \"x\": \"K\", \"y\": \"E\", \"xref\": \"x1\", \"yref\": \"y1\", \"font\": {\"color\": \"#000000\"}, \"showarrow\": false}, {\"text\": \"0.01\", \"x\": \"L\", \"y\": \"E\", \"xref\": \"x1\", \"yref\": \"y1\", \"font\": {\"color\": \"#000000\"}, \"showarrow\": false}, {\"text\": \"\", \"x\": \"M\", \"y\": \"E\", \"xref\": \"x1\", \"yref\": \"y1\", \"font\": {\"color\": \"#000000\"}, \"showarrow\": false}, {\"text\": \"\", \"x\": \"A\", \"y\": \"F\", \"xref\": \"x1\", \"yref\": \"y1\", \"font\": {\"color\": \"#000000\"}, \"showarrow\": false}, {\"text\": \"\", \"x\": \"B\", \"y\": \"F\", \"xref\": \"x1\", \"yref\": \"y1\", \"font\": {\"color\": \"#000000\"}, \"showarrow\": false}, {\"text\": \"0.01\", \"x\": \"C\", \"y\": \"F\", \"xref\": \"x1\", \"yref\": \"y1\", \"font\": {\"color\": \"#000000\"}, \"showarrow\": false}, {\"text\": \"\", \"x\": \"D\", \"y\": \"F\", \"xref\": \"x1\", \"yref\": \"y1\", \"font\": {\"color\": \"#000000\"}, \"showarrow\": false}, {\"text\": \"0.07\", \"x\": \"E\", \"y\": \"F\", \"xref\": \"x1\", \"yref\": \"y1\", \"font\": {\"color\": \"#000000\"}, \"showarrow\": false}, {\"text\": \"0.84\", \"x\": \"F\", \"y\": \"F\", \"xref\": \"x1\", \"yref\": \"y1\", \"font\": {\"color\": \"#FFFFFF\"}, \"showarrow\": false}, {\"text\": \"\", \"x\": \"G\", \"y\": \"F\", \"xref\": \"x1\", \"yref\": \"y1\", \"font\": {\"color\": \"#000000\"}, \"showarrow\": false}, {\"text\": \"\", \"x\": \"H\", \"y\": \"F\", \"xref\": \"x1\", \"yref\": \"y1\", \"font\": {\"color\": \"#000000\"}, \"showarrow\": false}, {\"text\": \"0.05\", \"x\": \"I\", \"y\": \"F\", \"xref\": \"x1\", \"yref\": \"y1\", \"font\": {\"color\": \"#000000\"}, \"showarrow\": false}, {\"text\": \"\", \"x\": \"J\", \"y\": \"F\", \"xref\": \"x1\", \"yref\": \"y1\", \"font\": {\"color\": \"#000000\"}, \"showarrow\": false}, {\"text\": \"0.01\", \"x\": \"K\", \"y\": \"F\", \"xref\": \"x1\", \"yref\": \"y1\", \"font\": {\"color\": \"#000000\"}, \"showarrow\": false}, {\"text\": \"\", \"x\": \"L\", \"y\": \"F\", \"xref\": \"x1\", \"yref\": \"y1\", \"font\": {\"color\": \"#000000\"}, \"showarrow\": false}, {\"text\": \"\", \"x\": \"M\", \"y\": \"F\", \"xref\": \"x1\", \"yref\": \"y1\", \"font\": {\"color\": \"#000000\"}, \"showarrow\": false}, {\"text\": \"\", \"x\": \"A\", \"y\": \"G\", \"xref\": \"x1\", \"yref\": \"y1\", \"font\": {\"color\": \"#000000\"}, \"showarrow\": false}, {\"text\": \"0.01\", \"x\": \"B\", \"y\": \"G\", \"xref\": \"x1\", \"yref\": \"y1\", \"font\": {\"color\": \"#000000\"}, \"showarrow\": false}, {\"text\": \"0.03\", \"x\": \"C\", \"y\": \"G\", \"xref\": \"x1\", \"yref\": \"y1\", \"font\": {\"color\": \"#000000\"}, \"showarrow\": false}, {\"text\": \"\", \"x\": \"D\", \"y\": \"G\", \"xref\": \"x1\", \"yref\": \"y1\", \"font\": {\"color\": \"#000000\"}, \"showarrow\": false}, {\"text\": \"0.02\", \"x\": \"E\", \"y\": \"G\", \"xref\": \"x1\", \"yref\": \"y1\", \"font\": {\"color\": \"#000000\"}, \"showarrow\": false}, {\"text\": \"\", \"x\": \"F\", \"y\": \"G\", \"xref\": \"x1\", \"yref\": \"y1\", \"font\": {\"color\": \"#000000\"}, \"showarrow\": false}, {\"text\": \"0.82\", \"x\": \"G\", \"y\": \"G\", \"xref\": \"x1\", \"yref\": \"y1\", \"font\": {\"color\": \"#FFFFFF\"}, \"showarrow\": false}, {\"text\": \"\", \"x\": \"H\", \"y\": \"G\", \"xref\": \"x1\", \"yref\": \"y1\", \"font\": {\"color\": \"#000000\"}, \"showarrow\": false}, {\"text\": \"\", \"x\": \"I\", \"y\": \"G\", \"xref\": \"x1\", \"yref\": \"y1\", \"font\": {\"color\": \"#000000\"}, \"showarrow\": false}, {\"text\": \"\", \"x\": \"J\", \"y\": \"G\", \"xref\": \"x1\", \"yref\": \"y1\", \"font\": {\"color\": \"#000000\"}, \"showarrow\": false}, {\"text\": \"0.01\", \"x\": \"K\", \"y\": \"G\", \"xref\": \"x1\", \"yref\": \"y1\", \"font\": {\"color\": \"#000000\"}, \"showarrow\": false}, {\"text\": \"\", \"x\": \"L\", \"y\": \"G\", \"xref\": \"x1\", \"yref\": \"y1\", \"font\": {\"color\": \"#000000\"}, \"showarrow\": false}, {\"text\": \"0.01\", \"x\": \"M\", \"y\": \"G\", \"xref\": \"x1\", \"yref\": \"y1\", \"font\": {\"color\": \"#000000\"}, \"showarrow\": false}, {\"text\": \"\", \"x\": \"A\", \"y\": \"H\", \"xref\": \"x1\", \"yref\": \"y1\", \"font\": {\"color\": \"#000000\"}, \"showarrow\": false}, {\"text\": \"\", \"x\": \"B\", \"y\": \"H\", \"xref\": \"x1\", \"yref\": \"y1\", \"font\": {\"color\": \"#000000\"}, \"showarrow\": false}, {\"text\": \"\", \"x\": \"C\", \"y\": \"H\", \"xref\": \"x1\", \"yref\": \"y1\", \"font\": {\"color\": \"#000000\"}, \"showarrow\": false}, {\"text\": \"\", \"x\": \"D\", \"y\": \"H\", \"xref\": \"x1\", \"yref\": \"y1\", \"font\": {\"color\": \"#000000\"}, \"showarrow\": false}, {\"text\": \"\", \"x\": \"E\", \"y\": \"H\", \"xref\": \"x1\", \"yref\": \"y1\", \"font\": {\"color\": \"#000000\"}, \"showarrow\": false}, {\"text\": \"\", \"x\": \"F\", \"y\": \"H\", \"xref\": \"x1\", \"yref\": \"y1\", \"font\": {\"color\": \"#000000\"}, \"showarrow\": false}, {\"text\": \"\", \"x\": \"G\", \"y\": \"H\", \"xref\": \"x1\", \"yref\": \"y1\", \"font\": {\"color\": \"#000000\"}, \"showarrow\": false}, {\"text\": \"0.74\", \"x\": \"H\", \"y\": \"H\", \"xref\": \"x1\", \"yref\": \"y1\", \"font\": {\"color\": \"#FFFFFF\"}, \"showarrow\": false}, {\"text\": \"0.01\", \"x\": \"I\", \"y\": \"H\", \"xref\": \"x1\", \"yref\": \"y1\", \"font\": {\"color\": \"#000000\"}, \"showarrow\": false}, {\"text\": \"\", \"x\": \"J\", \"y\": \"H\", \"xref\": \"x1\", \"yref\": \"y1\", \"font\": {\"color\": \"#000000\"}, \"showarrow\": false}, {\"text\": \"\", \"x\": \"K\", \"y\": \"H\", \"xref\": \"x1\", \"yref\": \"y1\", \"font\": {\"color\": \"#000000\"}, \"showarrow\": false}, {\"text\": \"\", \"x\": \"L\", \"y\": \"H\", \"xref\": \"x1\", \"yref\": \"y1\", \"font\": {\"color\": \"#000000\"}, \"showarrow\": false}, {\"text\": \"\", \"x\": \"M\", \"y\": \"H\", \"xref\": \"x1\", \"yref\": \"y1\", \"font\": {\"color\": \"#000000\"}, \"showarrow\": false}, {\"text\": \"\", \"x\": \"A\", \"y\": \"I\", \"xref\": \"x1\", \"yref\": \"y1\", \"font\": {\"color\": \"#000000\"}, \"showarrow\": false}, {\"text\": \"\", \"x\": \"B\", \"y\": \"I\", \"xref\": \"x1\", \"yref\": \"y1\", \"font\": {\"color\": \"#000000\"}, \"showarrow\": false}, {\"text\": \"\", \"x\": \"C\", \"y\": \"I\", \"xref\": \"x1\", \"yref\": \"y1\", \"font\": {\"color\": \"#000000\"}, \"showarrow\": false}, {\"text\": \"\", \"x\": \"D\", \"y\": \"I\", \"xref\": \"x1\", \"yref\": \"y1\", \"font\": {\"color\": \"#000000\"}, \"showarrow\": false}, {\"text\": \"\", \"x\": \"E\", \"y\": \"I\", \"xref\": \"x1\", \"yref\": \"y1\", \"font\": {\"color\": \"#000000\"}, \"showarrow\": false}, {\"text\": \"\", \"x\": \"F\", \"y\": \"I\", \"xref\": \"x1\", \"yref\": \"y1\", \"font\": {\"color\": \"#000000\"}, \"showarrow\": false}, {\"text\": \"\", \"x\": \"G\", \"y\": \"I\", \"xref\": \"x1\", \"yref\": \"y1\", \"font\": {\"color\": \"#000000\"}, \"showarrow\": false}, {\"text\": \"\", \"x\": \"H\", \"y\": \"I\", \"xref\": \"x1\", \"yref\": \"y1\", \"font\": {\"color\": \"#000000\"}, \"showarrow\": false}, {\"text\": \"0.68\", \"x\": \"I\", \"y\": \"I\", \"xref\": \"x1\", \"yref\": \"y1\", \"font\": {\"color\": \"#FFFFFF\"}, \"showarrow\": false}, {\"text\": \"0.02\", \"x\": \"J\", \"y\": \"I\", \"xref\": \"x1\", \"yref\": \"y1\", \"font\": {\"color\": \"#000000\"}, \"showarrow\": false}, {\"text\": \"\", \"x\": \"K\", \"y\": \"I\", \"xref\": \"x1\", \"yref\": \"y1\", \"font\": {\"color\": \"#000000\"}, \"showarrow\": false}, {\"text\": \"0.05\", \"x\": \"L\", \"y\": \"I\", \"xref\": \"x1\", \"yref\": \"y1\", \"font\": {\"color\": \"#000000\"}, \"showarrow\": false}, {\"text\": \"\", \"x\": \"M\", \"y\": \"I\", \"xref\": \"x1\", \"yref\": \"y1\", \"font\": {\"color\": \"#000000\"}, \"showarrow\": false}, {\"text\": \"0.02\", \"x\": \"A\", \"y\": \"J\", \"xref\": \"x1\", \"yref\": \"y1\", \"font\": {\"color\": \"#000000\"}, \"showarrow\": false}, {\"text\": \"0.02\", \"x\": \"B\", \"y\": \"J\", \"xref\": \"x1\", \"yref\": \"y1\", \"font\": {\"color\": \"#000000\"}, \"showarrow\": false}, {\"text\": \"\", \"x\": \"C\", \"y\": \"J\", \"xref\": \"x1\", \"yref\": \"y1\", \"font\": {\"color\": \"#000000\"}, \"showarrow\": false}, {\"text\": \"0.03\", \"x\": \"D\", \"y\": \"J\", \"xref\": \"x1\", \"yref\": \"y1\", \"font\": {\"color\": \"#000000\"}, \"showarrow\": false}, {\"text\": \"0.01\", \"x\": \"E\", \"y\": \"J\", \"xref\": \"x1\", \"yref\": \"y1\", \"font\": {\"color\": \"#000000\"}, \"showarrow\": false}, {\"text\": \"0.02\", \"x\": \"F\", \"y\": \"J\", \"xref\": \"x1\", \"yref\": \"y1\", \"font\": {\"color\": \"#000000\"}, \"showarrow\": false}, {\"text\": \"\", \"x\": \"G\", \"y\": \"J\", \"xref\": \"x1\", \"yref\": \"y1\", \"font\": {\"color\": \"#000000\"}, \"showarrow\": false}, {\"text\": \"0.01\", \"x\": \"H\", \"y\": \"J\", \"xref\": \"x1\", \"yref\": \"y1\", \"font\": {\"color\": \"#000000\"}, \"showarrow\": false}, {\"text\": \"0.07\", \"x\": \"I\", \"y\": \"J\", \"xref\": \"x1\", \"yref\": \"y1\", \"font\": {\"color\": \"#000000\"}, \"showarrow\": false}, {\"text\": \"0.80\", \"x\": \"J\", \"y\": \"J\", \"xref\": \"x1\", \"yref\": \"y1\", \"font\": {\"color\": \"#FFFFFF\"}, \"showarrow\": false}, {\"text\": \"0.01\", \"x\": \"K\", \"y\": \"J\", \"xref\": \"x1\", \"yref\": \"y1\", \"font\": {\"color\": \"#000000\"}, \"showarrow\": false}, {\"text\": \"0.01\", \"x\": \"L\", \"y\": \"J\", \"xref\": \"x1\", \"yref\": \"y1\", \"font\": {\"color\": \"#000000\"}, \"showarrow\": false}, {\"text\": \"\", \"x\": \"M\", \"y\": \"J\", \"xref\": \"x1\", \"yref\": \"y1\", \"font\": {\"color\": \"#000000\"}, \"showarrow\": false}, {\"text\": \"0.01\", \"x\": \"A\", \"y\": \"K\", \"xref\": \"x1\", \"yref\": \"y1\", \"font\": {\"color\": \"#000000\"}, \"showarrow\": false}, {\"text\": \"\", \"x\": \"B\", \"y\": \"K\", \"xref\": \"x1\", \"yref\": \"y1\", \"font\": {\"color\": \"#000000\"}, \"showarrow\": false}, {\"text\": \"0.01\", \"x\": \"C\", \"y\": \"K\", \"xref\": \"x1\", \"yref\": \"y1\", \"font\": {\"color\": \"#000000\"}, \"showarrow\": false}, {\"text\": \"\", \"x\": \"D\", \"y\": \"K\", \"xref\": \"x1\", \"yref\": \"y1\", \"font\": {\"color\": \"#000000\"}, \"showarrow\": false}, {\"text\": \"\", \"x\": \"E\", \"y\": \"K\", \"xref\": \"x1\", \"yref\": \"y1\", \"font\": {\"color\": \"#000000\"}, \"showarrow\": false}, {\"text\": \"0.01\", \"x\": \"F\", \"y\": \"K\", \"xref\": \"x1\", \"yref\": \"y1\", \"font\": {\"color\": \"#000000\"}, \"showarrow\": false}, {\"text\": \"0.03\", \"x\": \"G\", \"y\": \"K\", \"xref\": \"x1\", \"yref\": \"y1\", \"font\": {\"color\": \"#000000\"}, \"showarrow\": false}, {\"text\": \"0.03\", \"x\": \"H\", \"y\": \"K\", \"xref\": \"x1\", \"yref\": \"y1\", \"font\": {\"color\": \"#000000\"}, \"showarrow\": false}, {\"text\": \"0.02\", \"x\": \"I\", \"y\": \"K\", \"xref\": \"x1\", \"yref\": \"y1\", \"font\": {\"color\": \"#000000\"}, \"showarrow\": false}, {\"text\": \"\", \"x\": \"J\", \"y\": \"K\", \"xref\": \"x1\", \"yref\": \"y1\", \"font\": {\"color\": \"#000000\"}, \"showarrow\": false}, {\"text\": \"0.75\", \"x\": \"K\", \"y\": \"K\", \"xref\": \"x1\", \"yref\": \"y1\", \"font\": {\"color\": \"#FFFFFF\"}, \"showarrow\": false}, {\"text\": \"\", \"x\": \"L\", \"y\": \"K\", \"xref\": \"x1\", \"yref\": \"y1\", \"font\": {\"color\": \"#000000\"}, \"showarrow\": false}, {\"text\": \"0.01\", \"x\": \"M\", \"y\": \"K\", \"xref\": \"x1\", \"yref\": \"y1\", \"font\": {\"color\": \"#000000\"}, \"showarrow\": false}, {\"text\": \"0.01\", \"x\": \"A\", \"y\": \"L\", \"xref\": \"x1\", \"yref\": \"y1\", \"font\": {\"color\": \"#000000\"}, \"showarrow\": false}, {\"text\": \"0.01\", \"x\": \"B\", \"y\": \"L\", \"xref\": \"x1\", \"yref\": \"y1\", \"font\": {\"color\": \"#000000\"}, \"showarrow\": false}, {\"text\": \"0.01\", \"x\": \"C\", \"y\": \"L\", \"xref\": \"x1\", \"yref\": \"y1\", \"font\": {\"color\": \"#000000\"}, \"showarrow\": false}, {\"text\": \"\", \"x\": \"D\", \"y\": \"L\", \"xref\": \"x1\", \"yref\": \"y1\", \"font\": {\"color\": \"#000000\"}, \"showarrow\": false}, {\"text\": \"0.04\", \"x\": \"E\", \"y\": \"L\", \"xref\": \"x1\", \"yref\": \"y1\", \"font\": {\"color\": \"#000000\"}, \"showarrow\": false}, {\"text\": \"\", \"x\": \"F\", \"y\": \"L\", \"xref\": \"x1\", \"yref\": \"y1\", \"font\": {\"color\": \"#000000\"}, \"showarrow\": false}, {\"text\": \"0.01\", \"x\": \"G\", \"y\": \"L\", \"xref\": \"x1\", \"yref\": \"y1\", \"font\": {\"color\": \"#000000\"}, \"showarrow\": false}, {\"text\": \"\", \"x\": \"H\", \"y\": \"L\", \"xref\": \"x1\", \"yref\": \"y1\", \"font\": {\"color\": \"#000000\"}, \"showarrow\": false}, {\"text\": \"\", \"x\": \"I\", \"y\": \"L\", \"xref\": \"x1\", \"yref\": \"y1\", \"font\": {\"color\": \"#000000\"}, \"showarrow\": false}, {\"text\": \"\", \"x\": \"J\", \"y\": \"L\", \"xref\": \"x1\", \"yref\": \"y1\", \"font\": {\"color\": \"#000000\"}, \"showarrow\": false}, {\"text\": \"\", \"x\": \"K\", \"y\": \"L\", \"xref\": \"x1\", \"yref\": \"y1\", \"font\": {\"color\": \"#000000\"}, \"showarrow\": false}, {\"text\": \"0.77\", \"x\": \"L\", \"y\": \"L\", \"xref\": \"x1\", \"yref\": \"y1\", \"font\": {\"color\": \"#FFFFFF\"}, \"showarrow\": false}, {\"text\": \"0.01\", \"x\": \"M\", \"y\": \"L\", \"xref\": \"x1\", \"yref\": \"y1\", \"font\": {\"color\": \"#000000\"}, \"showarrow\": false}, {\"text\": \"\", \"x\": \"A\", \"y\": \"M\", \"xref\": \"x1\", \"yref\": \"y1\", \"font\": {\"color\": \"#000000\"}, \"showarrow\": false}, {\"text\": \"\", \"x\": \"B\", \"y\": \"M\", \"xref\": \"x1\", \"yref\": \"y1\", \"font\": {\"color\": \"#000000\"}, \"showarrow\": false}, {\"text\": \"\", \"x\": \"C\", \"y\": \"M\", \"xref\": \"x1\", \"yref\": \"y1\", \"font\": {\"color\": \"#000000\"}, \"showarrow\": false}, {\"text\": \"0.01\", \"x\": \"D\", \"y\": \"M\", \"xref\": \"x1\", \"yref\": \"y1\", \"font\": {\"color\": \"#000000\"}, \"showarrow\": false}, {\"text\": \"\", \"x\": \"E\", \"y\": \"M\", \"xref\": \"x1\", \"yref\": \"y1\", \"font\": {\"color\": \"#000000\"}, \"showarrow\": false}, {\"text\": \"\", \"x\": \"F\", \"y\": \"M\", \"xref\": \"x1\", \"yref\": \"y1\", \"font\": {\"color\": \"#000000\"}, \"showarrow\": false}, {\"text\": \"\", \"x\": \"G\", \"y\": \"M\", \"xref\": \"x1\", \"yref\": \"y1\", \"font\": {\"color\": \"#000000\"}, \"showarrow\": false}, {\"text\": \"0.06\", \"x\": \"H\", \"y\": \"M\", \"xref\": \"x1\", \"yref\": \"y1\", \"font\": {\"color\": \"#000000\"}, \"showarrow\": false}, {\"text\": \"0.03\", \"x\": \"I\", \"y\": \"M\", \"xref\": \"x1\", \"yref\": \"y1\", \"font\": {\"color\": \"#000000\"}, \"showarrow\": false}, {\"text\": \"\", \"x\": \"J\", \"y\": \"M\", \"xref\": \"x1\", \"yref\": \"y1\", \"font\": {\"color\": \"#000000\"}, \"showarrow\": false}, {\"text\": \"0.04\", \"x\": \"K\", \"y\": \"M\", \"xref\": \"x1\", \"yref\": \"y1\", \"font\": {\"color\": \"#000000\"}, \"showarrow\": false}, {\"text\": \"\", \"x\": \"L\", \"y\": \"M\", \"xref\": \"x1\", \"yref\": \"y1\", \"font\": {\"color\": \"#000000\"}, \"showarrow\": false}, {\"text\": \"0.72\", \"x\": \"M\", \"y\": \"M\", \"xref\": \"x1\", \"yref\": \"y1\", \"font\": {\"color\": \"#FFFFFF\"}, \"showarrow\": false}], \"xaxis\": {\"ticks\": \"\", \"dtick\": 1, \"side\": \"bottom\", \"gridcolor\": \"rgb(0, 0, 0)\", \"title\": \"Predicted values\"}, \"yaxis\": {\"ticks\": \"\", \"dtick\": 1, \"ticksuffix\": \"  \", \"anchor\": \"bottom\", \"title\": \"True values\"}}, {\"showLink\": false, \"linkText\": \"Export to plot.ly\"})});</script>"
      ]
     },
     "metadata": {},
     "output_type": "display_data"
    }
   ],
   "source": [
    "plot_confusion_matrix(uc_confusion_matrix[13:, 13:], uc_labels[13:], title='Confusion Matrix of Uppercase NN')\n",
    "plot_confusion_matrix(uc_confusion_matrix[:13, :13], uc_labels[:13])"
   ]
  }
 ],
 "metadata": {
  "kernelspec": {
   "display_name": "env",
   "language": "python",
   "name": "env"
  },
  "language_info": {
   "codemirror_mode": {
    "name": "ipython",
    "version": 3
   },
   "file_extension": ".py",
   "mimetype": "text/x-python",
   "name": "python",
   "nbconvert_exporter": "python",
   "pygments_lexer": "ipython3",
   "version": "3.6.5"
  }
 },
 "nbformat": 4,
 "nbformat_minor": 2
}
